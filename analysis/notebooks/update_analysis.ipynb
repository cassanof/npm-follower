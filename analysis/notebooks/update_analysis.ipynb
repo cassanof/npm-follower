{
 "cells": [
  {
   "cell_type": "code",
   "execution_count": 2,
   "metadata": {
    "vscode": {
     "languageId": "r"
    }
   },
   "outputs": [
    {
     "name": "stderr",
     "output_type": "stream",
     "text": [
      "Updating HTML index of packages in '.Library'\n",
      "\n",
      "Making 'packages.html' ...\n",
      " done\n",
      "\n",
      "also installing the dependencies ‘colorspace’, ‘sys’, ‘ps’, ‘sass’, ‘cachem’, ‘memoise’, ‘farver’, ‘labeling’, ‘munsell’, ‘RColorBrewer’, ‘viridisLite’, ‘rappdirs’, ‘rematch’, ‘askpass’, ‘prettyunits’, ‘processx’, ‘highr’, ‘yaml’, ‘xfun’, ‘bslib’, ‘jquerylib’, ‘tinytex’, ‘backports’, ‘assertthat’, ‘R6’, ‘tidyselect’, ‘data.table’, ‘gtable’, ‘isoband’, ‘scales’, ‘gargle’, ‘cellranger’, ‘curl’, ‘ids’, ‘rematch2’, ‘mime’, ‘openssl’, ‘clipr’, ‘vroom’, ‘tzdb’, ‘progress’, ‘callr’, ‘fs’, ‘knitr’, ‘rmarkdown’, ‘selectr’, ‘stringi’, ‘broom’, ‘dbplyr’, ‘dplyr’, ‘dtplyr’, ‘forcats’, ‘ggplot2’, ‘googledrive’, ‘googlesheets4’, ‘haven’, ‘httr’, ‘magrittr’, ‘modelr’, ‘purrr’, ‘readr’, ‘readxl’, ‘reprex’, ‘rstudioapi’, ‘rvest’, ‘stringr’, ‘tibble’, ‘tidyr’, ‘xml2’\n",
      "\n",
      "\n",
      "Updating HTML index of packages in '.Library'\n",
      "\n",
      "Making 'packages.html' ...\n",
      " done\n",
      "\n"
     ]
    }
   ],
   "source": [
    "# Install RPostgres if needed:\n",
    "#install.packages(\"RPostgres\")\n",
    "#install.packages(\"tidyverse\")"
   ]
  },
  {
   "cell_type": "code",
   "execution_count": 1,
   "metadata": {
    "vscode": {
     "languageId": "r"
    }
   },
   "outputs": [
    {
     "ename": "ERROR",
     "evalue": "Error in library(ggplot): there is no package called ‘ggplot’\n",
     "output_type": "error",
     "traceback": [
      "Error in library(ggplot): there is no package called ‘ggplot’\nTraceback:\n",
      "1. library(ggplot)"
     ]
    }
   ],
   "source": [
    "library(DBI)\n",
    "library(ggplot)\n",
    "library(dplyr)"
   ]
  },
  {
   "cell_type": "code",
   "execution_count": 2,
   "metadata": {
    "vscode": {
     "languageId": "r"
    }
   },
   "outputs": [],
   "source": [
    "con <- dbConnect(\n",
    "    RPostgres::Postgres(),\n",
    "    dbname = 'npm_data', \n",
    "    host = 'pinckney2.vpc.ripley.cloud', # i.e. 'ec2-54-83-201-96.compute-1.amazonaws.com'\n",
    "    port = 5432, # or any other port specified by your DBA\n",
    "    user = 'data_analyzer',\n",
    "    password = 'redbull64!'\n",
    ")"
   ]
  },
  {
   "cell_type": "code",
   "execution_count": 6,
   "metadata": {
    "vscode": {
     "languageId": "r"
    }
   },
   "outputs": [],
   "source": [
    "all_updates <- dbGetQuery(con, \"SELECT * FROM analysis.all_updates\")"
   ]
  },
  {
   "cell_type": "code",
   "execution_count": 5,
   "metadata": {
    "vscode": {
     "languageId": "r"
    }
   },
   "outputs": [
    {
     "data": {
      "text/html": [
       "<table class=\"dataframe\">\n",
       "<caption>A data.frame: 6 × 10</caption>\n",
       "<thead>\n",
       "\t<tr><th scope=col>package_id</th><th scope=col>from_group_base_semver</th><th scope=col>to_group_base_semver</th><th scope=col>from_id</th><th scope=col>to_id</th><th scope=col>from_semver</th><th scope=col>to_semver</th><th scope=col>from_created</th><th scope=col>to_created</th><th scope=col>ty</th></tr>\n",
       "\t<tr><th scope=col>&lt;int64&gt;</th><th scope=col>&lt;pq_smvr_&gt;</th><th scope=col>&lt;pq_smvr_&gt;</th><th scope=col>&lt;int64&gt;</th><th scope=col>&lt;int64&gt;</th><th scope=col>&lt;pq_smvr_&gt;</th><th scope=col>&lt;pq_smvr_&gt;</th><th scope=col>&lt;dttm&gt;</th><th scope=col>&lt;dttm&gt;</th><th scope=col>&lt;pq_pdt_t&gt;</th></tr>\n",
       "</thead>\n",
       "<tbody>\n",
       "\t<tr><td>341</td><td>(4,0,0,,)</td><td>(4,0,0,,)</td><td>12045</td><td>12055</td><td>(4,40,3,,)</td><td>(4,41,0,,)</td><td>2018-12-07 15:18:41</td><td>2018-12-11 10:18:02</td><td>minor</td></tr>\n",
       "\t<tr><td>341</td><td>(4,0,0,,)</td><td>(4,0,0,,)</td><td>12055</td><td>12061</td><td>(4,41,0,,)</td><td>(4,41,1,,)</td><td>2018-12-11 10:18:02</td><td>2018-12-12 17:35:58</td><td>bug  </td></tr>\n",
       "\t<tr><td>341</td><td>(4,0,0,,)</td><td>(4,0,0,,)</td><td>12061</td><td>12064</td><td>(4,41,1,,)</td><td>(4,41,2,,)</td><td>2018-12-12 17:35:58</td><td>2018-12-14 19:06:26</td><td>bug  </td></tr>\n",
       "\t<tr><td>341</td><td>(4,0,0,,)</td><td>(4,0,0,,)</td><td>12064</td><td>12066</td><td>(4,41,2,,)</td><td>(4,41,3,,)</td><td>2018-12-14 19:06:26</td><td>2018-12-21 11:24:04</td><td>bug  </td></tr>\n",
       "\t<tr><td>341</td><td>(4,0,0,,)</td><td>(4,0,0,,)</td><td>12066</td><td>12069</td><td>(4,41,3,,)</td><td>(4,41,4,,)</td><td>2018-12-21 11:24:04</td><td>2019-01-07 11:25:03</td><td>bug  </td></tr>\n",
       "\t<tr><td>341</td><td>(4,0,0,,)</td><td>(4,0,0,,)</td><td>12069</td><td>12074</td><td>(4,41,4,,)</td><td>(4,41,5,,)</td><td>2019-01-07 11:25:03</td><td>2019-01-09 09:01:31</td><td>bug  </td></tr>\n",
       "</tbody>\n",
       "</table>\n"
      ],
      "text/latex": [
       "A data.frame: 6 × 10\n",
       "\\begin{tabular}{llllllllll}\n",
       " package\\_id & from\\_group\\_base\\_semver & to\\_group\\_base\\_semver & from\\_id & to\\_id & from\\_semver & to\\_semver & from\\_created & to\\_created & ty\\\\\n",
       " <int64> & <pq\\_smvr\\_> & <pq\\_smvr\\_> & <int64> & <int64> & <pq\\_smvr\\_> & <pq\\_smvr\\_> & <dttm> & <dttm> & <pq\\_pdt\\_t>\\\\\n",
       "\\hline\n",
       "\t 341 & (4,0,0,,) & (4,0,0,,) & 12045 & 12055 & (4,40,3,,) & (4,41,0,,) & 2018-12-07 15:18:41 & 2018-12-11 10:18:02 & minor\\\\\n",
       "\t 341 & (4,0,0,,) & (4,0,0,,) & 12055 & 12061 & (4,41,0,,) & (4,41,1,,) & 2018-12-11 10:18:02 & 2018-12-12 17:35:58 & bug  \\\\\n",
       "\t 341 & (4,0,0,,) & (4,0,0,,) & 12061 & 12064 & (4,41,1,,) & (4,41,2,,) & 2018-12-12 17:35:58 & 2018-12-14 19:06:26 & bug  \\\\\n",
       "\t 341 & (4,0,0,,) & (4,0,0,,) & 12064 & 12066 & (4,41,2,,) & (4,41,3,,) & 2018-12-14 19:06:26 & 2018-12-21 11:24:04 & bug  \\\\\n",
       "\t 341 & (4,0,0,,) & (4,0,0,,) & 12066 & 12069 & (4,41,3,,) & (4,41,4,,) & 2018-12-21 11:24:04 & 2019-01-07 11:25:03 & bug  \\\\\n",
       "\t 341 & (4,0,0,,) & (4,0,0,,) & 12069 & 12074 & (4,41,4,,) & (4,41,5,,) & 2019-01-07 11:25:03 & 2019-01-09 09:01:31 & bug  \\\\\n",
       "\\end{tabular}\n"
      ],
      "text/markdown": [
       "\n",
       "A data.frame: 6 × 10\n",
       "\n",
       "| package_id &lt;int64&gt; | from_group_base_semver &lt;pq_smvr_&gt; | to_group_base_semver &lt;pq_smvr_&gt; | from_id &lt;int64&gt; | to_id &lt;int64&gt; | from_semver &lt;pq_smvr_&gt; | to_semver &lt;pq_smvr_&gt; | from_created &lt;dttm&gt; | to_created &lt;dttm&gt; | ty &lt;pq_pdt_t&gt; |\n",
       "|---|---|---|---|---|---|---|---|---|---|\n",
       "| 341 | (4,0,0,,) | (4,0,0,,) | 12045 | 12055 | (4,40,3,,) | (4,41,0,,) | 2018-12-07 15:18:41 | 2018-12-11 10:18:02 | minor |\n",
       "| 341 | (4,0,0,,) | (4,0,0,,) | 12055 | 12061 | (4,41,0,,) | (4,41,1,,) | 2018-12-11 10:18:02 | 2018-12-12 17:35:58 | bug   |\n",
       "| 341 | (4,0,0,,) | (4,0,0,,) | 12061 | 12064 | (4,41,1,,) | (4,41,2,,) | 2018-12-12 17:35:58 | 2018-12-14 19:06:26 | bug   |\n",
       "| 341 | (4,0,0,,) | (4,0,0,,) | 12064 | 12066 | (4,41,2,,) | (4,41,3,,) | 2018-12-14 19:06:26 | 2018-12-21 11:24:04 | bug   |\n",
       "| 341 | (4,0,0,,) | (4,0,0,,) | 12066 | 12069 | (4,41,3,,) | (4,41,4,,) | 2018-12-21 11:24:04 | 2019-01-07 11:25:03 | bug   |\n",
       "| 341 | (4,0,0,,) | (4,0,0,,) | 12069 | 12074 | (4,41,4,,) | (4,41,5,,) | 2019-01-07 11:25:03 | 2019-01-09 09:01:31 | bug   |\n",
       "\n"
      ],
      "text/plain": [
       "  package_id from_group_base_semver to_group_base_semver from_id to_id\n",
       "1 341        (4,0,0,,)              (4,0,0,,)            12045   12055\n",
       "2 341        (4,0,0,,)              (4,0,0,,)            12055   12061\n",
       "3 341        (4,0,0,,)              (4,0,0,,)            12061   12064\n",
       "4 341        (4,0,0,,)              (4,0,0,,)            12064   12066\n",
       "5 341        (4,0,0,,)              (4,0,0,,)            12066   12069\n",
       "6 341        (4,0,0,,)              (4,0,0,,)            12069   12074\n",
       "  from_semver to_semver  from_created        to_created          ty   \n",
       "1 (4,40,3,,)  (4,41,0,,) 2018-12-07 15:18:41 2018-12-11 10:18:02 minor\n",
       "2 (4,41,0,,)  (4,41,1,,) 2018-12-11 10:18:02 2018-12-12 17:35:58 bug  \n",
       "3 (4,41,1,,)  (4,41,2,,) 2018-12-12 17:35:58 2018-12-14 19:06:26 bug  \n",
       "4 (4,41,2,,)  (4,41,3,,) 2018-12-14 19:06:26 2018-12-21 11:24:04 bug  \n",
       "5 (4,41,3,,)  (4,41,4,,) 2018-12-21 11:24:04 2019-01-07 11:25:03 bug  \n",
       "6 (4,41,4,,)  (4,41,5,,) 2019-01-07 11:25:03 2019-01-09 09:01:31 bug  "
      ]
     },
     "metadata": {},
     "output_type": "display_data"
    }
   ],
   "source": [
    "all_updates"
   ]
  },
  {
   "cell_type": "code",
   "execution_count": null,
   "metadata": {
    "vscode": {
     "languageId": "r"
    }
   },
   "outputs": [],
   "source": []
  }
 ],
 "metadata": {
  "kernelspec": {
   "display_name": "R",
   "language": "R",
   "name": "ir"
  },
  "language_info": {
   "codemirror_mode": "r",
   "file_extension": ".r",
   "mimetype": "text/x-r-source",
   "name": "R",
   "pygments_lexer": "r",
   "version": "4.2.1"
  },
  "orig_nbformat": 4
 },
 "nbformat": 4,
 "nbformat_minor": 2
}
