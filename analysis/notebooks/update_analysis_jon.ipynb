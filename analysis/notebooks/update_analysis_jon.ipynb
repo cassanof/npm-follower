{
 "cells": [
  {
   "attachments": {},
   "cell_type": "markdown",
   "metadata": {},
   "source": [
    "# Load Libraries"
   ]
  },
  {
   "cell_type": "code",
   "execution_count": 26,
   "metadata": {
    "vscode": {
     "languageId": "r"
    }
   },
   "outputs": [],
   "source": [
    "# Install RPostgres if needed:\n",
    "#install.packages(\"RPostgres\")\n",
    "#install.packages(\"tidyverse\")"
   ]
  },
  {
   "cell_type": "code",
   "execution_count": 34,
   "metadata": {
    "vscode": {
     "languageId": "r"
    }
   },
   "outputs": [
    {
     "name": "stderr",
     "output_type": "stream",
     "text": [
      "── \u001b[1mAttaching packages\u001b[22m ─────────────────────────────────────── tidyverse 1.3.2 ──\n",
      "\u001b[32m✔\u001b[39m \u001b[34mtibble \u001b[39m 3.1.8     \u001b[32m✔\u001b[39m \u001b[34mpurrr  \u001b[39m 1.0.0\n",
      "\u001b[32m✔\u001b[39m \u001b[34mtidyr  \u001b[39m 1.2.1     \u001b[32m✔\u001b[39m \u001b[34mstringr\u001b[39m 1.5.0\n",
      "\u001b[32m✔\u001b[39m \u001b[34mreadr  \u001b[39m 2.1.3     \u001b[32m✔\u001b[39m \u001b[34mforcats\u001b[39m 0.5.2\n",
      "── \u001b[1mConflicts\u001b[22m ────────────────────────────────────────── tidyverse_conflicts() ──\n",
      "\u001b[31m✖\u001b[39m \u001b[34mdplyr\u001b[39m::\u001b[32mfilter()\u001b[39m masks \u001b[34mstats\u001b[39m::filter()\n",
      "\u001b[31m✖\u001b[39m \u001b[34mdplyr\u001b[39m::\u001b[32mlag()\u001b[39m    masks \u001b[34mstats\u001b[39m::lag()\n"
     ]
    }
   ],
   "source": [
    "library(DBI)\n",
    "library(ggplot2)\n",
    "library(tidyverse)"
   ]
  },
  {
   "attachments": {},
   "cell_type": "markdown",
   "metadata": {},
   "source": [
    "# Connect to DB, load data, clean data"
   ]
  },
  {
   "cell_type": "code",
   "execution_count": 28,
   "metadata": {
    "vscode": {
     "languageId": "r"
    }
   },
   "outputs": [],
   "source": [
    "con <- dbConnect(\n",
    "    RPostgres::Postgres(),\n",
    "    dbname = 'npm_data', \n",
    "    user = 'data_analyzer',\n",
    ")"
   ]
  },
  {
   "cell_type": "code",
   "execution_count": 29,
   "metadata": {
    "vscode": {
     "languageId": "r"
    }
   },
   "outputs": [],
   "source": [
    "# This takes about 40 seconds to load (when running on the VM!), and takes about 4GB of memory\n",
    "all_updates <- dbGetQuery(con, \"\n",
    "    SELECT \n",
    "        package_id, \n",
    "        from_id, \n",
    "        to_id, \n",
    "        (from_semver).major AS from_semver_major, \n",
    "        (from_semver).minor AS from_semver_minor, \n",
    "        (from_semver).bug AS from_semver_bug,\n",
    "        (to_semver).major AS to_semver_major, \n",
    "        (to_semver).minor AS to_semver_minor, \n",
    "        (to_semver).bug AS to_semver_bug,\n",
    "        from_created,\n",
    "        to_created,\n",
    "        ty\n",
    "    FROM analysis.all_updates\n",
    "\")"
   ]
  },
  {
   "cell_type": "code",
   "execution_count": 30,
   "metadata": {
    "vscode": {
     "languageId": "r"
    }
   },
   "outputs": [],
   "source": [
    "all_updates$ty <- sapply(all_updates$ty, as.character)\n",
    "all_updates$tyFact <- as.factor(all_updates$ty)"
   ]
  },
  {
   "cell_type": "code",
   "execution_count": 31,
   "metadata": {
    "vscode": {
     "languageId": "r"
    }
   },
   "outputs": [
    {
     "data": {
      "text/html": [
       "<table class=\"dataframe\">\n",
       "<caption>A data.frame: 6 × 13</caption>\n",
       "<thead>\n",
       "\t<tr><th></th><th scope=col>package_id</th><th scope=col>from_id</th><th scope=col>to_id</th><th scope=col>from_semver_major</th><th scope=col>from_semver_minor</th><th scope=col>from_semver_bug</th><th scope=col>to_semver_major</th><th scope=col>to_semver_minor</th><th scope=col>to_semver_bug</th><th scope=col>from_created</th><th scope=col>to_created</th><th scope=col>ty</th><th scope=col>tyFact</th></tr>\n",
       "\t<tr><th></th><th scope=col>&lt;int64&gt;</th><th scope=col>&lt;int64&gt;</th><th scope=col>&lt;int64&gt;</th><th scope=col>&lt;int64&gt;</th><th scope=col>&lt;int64&gt;</th><th scope=col>&lt;int64&gt;</th><th scope=col>&lt;int64&gt;</th><th scope=col>&lt;int64&gt;</th><th scope=col>&lt;int64&gt;</th><th scope=col>&lt;dttm&gt;</th><th scope=col>&lt;dttm&gt;</th><th scope=col>&lt;chr&gt;</th><th scope=col>&lt;fct&gt;</th></tr>\n",
       "</thead>\n",
       "<tbody>\n",
       "\t<tr><th scope=row>1</th><td>1412915</td><td>9018365</td><td>9018366</td><td>1</td><td>0</td><td>1</td><td>1</td><td>0</td><td>2</td><td>2019-10-15 09:33:48</td><td>2019-10-15 09:41:41</td><td>bug  </td><td>bug  </td></tr>\n",
       "\t<tr><th scope=row>2</th><td>1412915</td><td>9018366</td><td>9018367</td><td>1</td><td>0</td><td>2</td><td>1</td><td>1</td><td>0</td><td>2019-10-15 09:41:41</td><td>2019-10-15 09:45:24</td><td>minor</td><td>minor</td></tr>\n",
       "\t<tr><th scope=row>3</th><td>1412915</td><td>9018367</td><td>9018368</td><td>1</td><td>1</td><td>0</td><td>1</td><td>1</td><td>1</td><td>2019-10-15 09:45:24</td><td>2019-10-15 10:10:43</td><td>bug  </td><td>bug  </td></tr>\n",
       "\t<tr><th scope=row>4</th><td>1412917</td><td>9018370</td><td>9018371</td><td>1</td><td>0</td><td>0</td><td>1</td><td>0</td><td>1</td><td>2021-04-03 19:33:36</td><td>2021-04-04 20:59:03</td><td>bug  </td><td>bug  </td></tr>\n",
       "\t<tr><th scope=row>5</th><td>1412917</td><td>9018371</td><td>9018372</td><td>1</td><td>0</td><td>1</td><td>1</td><td>0</td><td>2</td><td>2021-04-04 20:59:03</td><td>2021-04-04 21:04:16</td><td>bug  </td><td>bug  </td></tr>\n",
       "\t<tr><th scope=row>6</th><td>1412917</td><td>9018372</td><td>9018373</td><td>1</td><td>0</td><td>2</td><td>1</td><td>0</td><td>3</td><td>2021-04-04 21:04:16</td><td>2021-04-04 21:09:14</td><td>bug  </td><td>bug  </td></tr>\n",
       "</tbody>\n",
       "</table>\n"
      ],
      "text/latex": [
       "A data.frame: 6 × 13\n",
       "\\begin{tabular}{r|lllllllllllll}\n",
       "  & package\\_id & from\\_id & to\\_id & from\\_semver\\_major & from\\_semver\\_minor & from\\_semver\\_bug & to\\_semver\\_major & to\\_semver\\_minor & to\\_semver\\_bug & from\\_created & to\\_created & ty & tyFact\\\\\n",
       "  & <int64> & <int64> & <int64> & <int64> & <int64> & <int64> & <int64> & <int64> & <int64> & <dttm> & <dttm> & <chr> & <fct>\\\\\n",
       "\\hline\n",
       "\t1 & 1412915 & 9018365 & 9018366 & 1 & 0 & 1 & 1 & 0 & 2 & 2019-10-15 09:33:48 & 2019-10-15 09:41:41 & bug   & bug  \\\\\n",
       "\t2 & 1412915 & 9018366 & 9018367 & 1 & 0 & 2 & 1 & 1 & 0 & 2019-10-15 09:41:41 & 2019-10-15 09:45:24 & minor & minor\\\\\n",
       "\t3 & 1412915 & 9018367 & 9018368 & 1 & 1 & 0 & 1 & 1 & 1 & 2019-10-15 09:45:24 & 2019-10-15 10:10:43 & bug   & bug  \\\\\n",
       "\t4 & 1412917 & 9018370 & 9018371 & 1 & 0 & 0 & 1 & 0 & 1 & 2021-04-03 19:33:36 & 2021-04-04 20:59:03 & bug   & bug  \\\\\n",
       "\t5 & 1412917 & 9018371 & 9018372 & 1 & 0 & 1 & 1 & 0 & 2 & 2021-04-04 20:59:03 & 2021-04-04 21:04:16 & bug   & bug  \\\\\n",
       "\t6 & 1412917 & 9018372 & 9018373 & 1 & 0 & 2 & 1 & 0 & 3 & 2021-04-04 21:04:16 & 2021-04-04 21:09:14 & bug   & bug  \\\\\n",
       "\\end{tabular}\n"
      ],
      "text/markdown": [
       "\n",
       "A data.frame: 6 × 13\n",
       "\n",
       "| <!--/--> | package_id &lt;int64&gt; | from_id &lt;int64&gt; | to_id &lt;int64&gt; | from_semver_major &lt;int64&gt; | from_semver_minor &lt;int64&gt; | from_semver_bug &lt;int64&gt; | to_semver_major &lt;int64&gt; | to_semver_minor &lt;int64&gt; | to_semver_bug &lt;int64&gt; | from_created &lt;dttm&gt; | to_created &lt;dttm&gt; | ty &lt;chr&gt; | tyFact &lt;fct&gt; |\n",
       "|---|---|---|---|---|---|---|---|---|---|---|---|---|---|\n",
       "| 1 | 1412915 | 9018365 | 9018366 | 1 | 0 | 1 | 1 | 0 | 2 | 2019-10-15 09:33:48 | 2019-10-15 09:41:41 | bug   | bug   |\n",
       "| 2 | 1412915 | 9018366 | 9018367 | 1 | 0 | 2 | 1 | 1 | 0 | 2019-10-15 09:41:41 | 2019-10-15 09:45:24 | minor | minor |\n",
       "| 3 | 1412915 | 9018367 | 9018368 | 1 | 1 | 0 | 1 | 1 | 1 | 2019-10-15 09:45:24 | 2019-10-15 10:10:43 | bug   | bug   |\n",
       "| 4 | 1412917 | 9018370 | 9018371 | 1 | 0 | 0 | 1 | 0 | 1 | 2021-04-03 19:33:36 | 2021-04-04 20:59:03 | bug   | bug   |\n",
       "| 5 | 1412917 | 9018371 | 9018372 | 1 | 0 | 1 | 1 | 0 | 2 | 2021-04-04 20:59:03 | 2021-04-04 21:04:16 | bug   | bug   |\n",
       "| 6 | 1412917 | 9018372 | 9018373 | 1 | 0 | 2 | 1 | 0 | 3 | 2021-04-04 21:04:16 | 2021-04-04 21:09:14 | bug   | bug   |\n",
       "\n"
      ],
      "text/plain": [
       "  package_id from_id to_id   from_semver_major from_semver_minor\n",
       "1 1412915    9018365 9018366 1                 0                \n",
       "2 1412915    9018366 9018367 1                 0                \n",
       "3 1412915    9018367 9018368 1                 1                \n",
       "4 1412917    9018370 9018371 1                 0                \n",
       "5 1412917    9018371 9018372 1                 0                \n",
       "6 1412917    9018372 9018373 1                 0                \n",
       "  from_semver_bug to_semver_major to_semver_minor to_semver_bug\n",
       "1 1               1               0               2            \n",
       "2 2               1               1               0            \n",
       "3 0               1               1               1            \n",
       "4 0               1               0               1            \n",
       "5 1               1               0               2            \n",
       "6 2               1               0               3            \n",
       "  from_created        to_created          ty    tyFact\n",
       "1 2019-10-15 09:33:48 2019-10-15 09:41:41 bug   bug   \n",
       "2 2019-10-15 09:41:41 2019-10-15 09:45:24 minor minor \n",
       "3 2019-10-15 09:45:24 2019-10-15 10:10:43 bug   bug   \n",
       "4 2021-04-03 19:33:36 2021-04-04 20:59:03 bug   bug   \n",
       "5 2021-04-04 20:59:03 2021-04-04 21:04:16 bug   bug   \n",
       "6 2021-04-04 21:04:16 2021-04-04 21:09:14 bug   bug   "
      ]
     },
     "metadata": {},
     "output_type": "display_data"
    }
   ],
   "source": [
    "head(all_updates)"
   ]
  },
  {
   "attachments": {},
   "cell_type": "markdown",
   "metadata": {},
   "source": [
    "# Make plots!"
   ]
  },
  {
   "cell_type": "code",
   "execution_count": 32,
   "metadata": {
    "vscode": {
     "languageId": "r"
    }
   },
   "outputs": [
    {
     "data": {
      "image/png": "[encoded data removed]",
      "text/plain": [
       "plot without title"
      ]
     },
     "metadata": {
      "image/png": {
       "height": 420,
       "width": 420
      }
     },
     "output_type": "display_data"
    }
   ],
   "source": [
    "# Takes about 20 seconds\n",
    "ggplot(data = all_updates, aes(x = ty)) +\n",
    "    geom_bar()"
   ]
  },
  {
   "attachments": {},
   "cell_type": "markdown",
   "metadata": {},
   "source": [
    "### What proportion of each package's update are each type?"
   ]
  },
  {
   "cell_type": "code",
   "execution_count": 43,
   "metadata": {
    "vscode": {
     "languageId": "r"
    }
   },
   "outputs": [
    {
     "name": "stderr",
     "output_type": "stream",
     "text": [
      "\u001b[1m\u001b[22m`summarise()` has grouped output by 'package_id'. You can override using the\n",
      "`.groups` argument.\n"
     ]
    }
   ],
   "source": [
    "# creates a data frame with one row per package, and columns for count of each update type\n",
    "updateCountsByPackage <- all_updates %>%\n",
    "    group_by(package_id,tyFact) %>%\n",
    "    summarise(\n",
    "        count = n()\n",
    "    ) %>% \n",
    "    pivot_wider(names_from = tyFact, values_from = count, values_fill=0) %>%\n",
    "    mutate(total = bug + major + minor + zero_to_something,\n",
    "           bugPct = bug / total,\n",
    "           majorPct = major / total,\n",
    "           minorPct = minor / total,\n",
    "           zeroPct = zero_to_something / total\n",
    "    )"
   ]
  },
  {
   "cell_type": "code",
   "execution_count": 52,
   "metadata": {
    "vscode": {
     "languageId": "r"
    }
   },
   "outputs": [],
   "source": [
    "# make a long version of it for ggplot\n",
    "updateCountsByPackageLong <- updateCountsByPackage %>%\n",
    "    pivot_longer(cols=ends_with(\"Pct\"), names_to=\"ty\", values_to=\"pct\")"
   ]
  },
  {
   "cell_type": "code",
   "execution_count": 53,
   "metadata": {
    "vscode": {
     "languageId": "r"
    }
   },
   "outputs": [
    {
     "data": {
      "text/html": [
       "<table class=\"dataframe\">\n",
       "<caption>A grouped_df: 6 × 8</caption>\n",
       "<thead>\n",
       "\t<tr><th scope=col>package_id</th><th scope=col>bug</th><th scope=col>major</th><th scope=col>minor</th><th scope=col>zero_to_something</th><th scope=col>total</th><th scope=col>ty</th><th scope=col>pct</th></tr>\n",
       "\t<tr><th scope=col>&lt;int64&gt;</th><th scope=col>&lt;int&gt;</th><th scope=col>&lt;int&gt;</th><th scope=col>&lt;int&gt;</th><th scope=col>&lt;int&gt;</th><th scope=col>&lt;int&gt;</th><th scope=col>&lt;chr&gt;</th><th scope=col>&lt;dbl&gt;</th></tr>\n",
       "</thead>\n",
       "<tbody>\n",
       "\t<tr><td>335</td><td>150</td><td>12</td><td>182</td><td>0</td><td>344</td><td>bugPct  </td><td>0.43604651</td></tr>\n",
       "\t<tr><td>335</td><td>150</td><td>12</td><td>182</td><td>0</td><td>344</td><td>majorPct</td><td>0.03488372</td></tr>\n",
       "\t<tr><td>335</td><td>150</td><td>12</td><td>182</td><td>0</td><td>344</td><td>minorPct</td><td>0.52906977</td></tr>\n",
       "\t<tr><td>335</td><td>150</td><td>12</td><td>182</td><td>0</td><td>344</td><td>zeroPct </td><td>0.00000000</td></tr>\n",
       "\t<tr><td>336</td><td>  2</td><td> 0</td><td>  0</td><td>1</td><td>  3</td><td>bugPct  </td><td>0.66666667</td></tr>\n",
       "\t<tr><td>336</td><td>  2</td><td> 0</td><td>  0</td><td>1</td><td>  3</td><td>majorPct</td><td>0.00000000</td></tr>\n",
       "</tbody>\n",
       "</table>\n"
      ],
      "text/latex": [
       "A grouped\\_df: 6 × 8\n",
       "\\begin{tabular}{llllllll}\n",
       " package\\_id & bug & major & minor & zero\\_to\\_something & total & ty & pct\\\\\n",
       " <int64> & <int> & <int> & <int> & <int> & <int> & <chr> & <dbl>\\\\\n",
       "\\hline\n",
       "\t 335 & 150 & 12 & 182 & 0 & 344 & bugPct   & 0.43604651\\\\\n",
       "\t 335 & 150 & 12 & 182 & 0 & 344 & majorPct & 0.03488372\\\\\n",
       "\t 335 & 150 & 12 & 182 & 0 & 344 & minorPct & 0.52906977\\\\\n",
       "\t 335 & 150 & 12 & 182 & 0 & 344 & zeroPct  & 0.00000000\\\\\n",
       "\t 336 &   2 &  0 &   0 & 1 &   3 & bugPct   & 0.66666667\\\\\n",
       "\t 336 &   2 &  0 &   0 & 1 &   3 & majorPct & 0.00000000\\\\\n",
       "\\end{tabular}\n"
      ],
      "text/markdown": [
       "\n",
       "A grouped_df: 6 × 8\n",
       "\n",
       "| package_id &lt;int64&gt; | bug &lt;int&gt; | major &lt;int&gt; | minor &lt;int&gt; | zero_to_something &lt;int&gt; | total &lt;int&gt; | ty &lt;chr&gt; | pct &lt;dbl&gt; |\n",
       "|---|---|---|---|---|---|---|---|\n",
       "| 335 | 150 | 12 | 182 | 0 | 344 | bugPct   | 0.43604651 |\n",
       "| 335 | 150 | 12 | 182 | 0 | 344 | majorPct | 0.03488372 |\n",
       "| 335 | 150 | 12 | 182 | 0 | 344 | minorPct | 0.52906977 |\n",
       "| 335 | 150 | 12 | 182 | 0 | 344 | zeroPct  | 0.00000000 |\n",
       "| 336 |   2 |  0 |   0 | 1 |   3 | bugPct   | 0.66666667 |\n",
       "| 336 |   2 |  0 |   0 | 1 |   3 | majorPct | 0.00000000 |\n",
       "\n"
      ],
      "text/plain": [
       "  package_id bug major minor zero_to_something total ty       pct       \n",
       "1 335        150 12    182   0                 344   bugPct   0.43604651\n",
       "2 335        150 12    182   0                 344   majorPct 0.03488372\n",
       "3 335        150 12    182   0                 344   minorPct 0.52906977\n",
       "4 335        150 12    182   0                 344   zeroPct  0.00000000\n",
       "5 336          2  0      0   1                   3   bugPct   0.66666667\n",
       "6 336          2  0      0   1                   3   majorPct 0.00000000"
      ]
     },
     "metadata": {},
     "output_type": "display_data"
    }
   ],
   "source": [
    "head(updateCountsByPackageLong)"
   ]
  },
  {
   "cell_type": "code",
   "execution_count": 59,
   "metadata": {
    "vscode": {
     "languageId": "r"
    }
   },
   "outputs": [
    {
     "data": {
      "image/png": "[encoded data removed]",
      "text/plain": [
       "plot without title"
      ]
     },
     "metadata": {
      "image/png": {
       "height": 420,
       "width": 420
      }
     },
     "output_type": "display_data"
    }
   ],
   "source": [
    "# box plots of the percentage of updates that are each type\n",
    "ggplot(data = updateCountsByPackageLong, aes(x = ty, y = pct)) +\n",
    "    geom_boxplot() +\n",
    "    #sets the labels for the x-axis:\n",
    "    scale_x_discrete(labels=c(\"bug\", \"major\", \"minor\", \"zero\")) +\n",
    "    scale_y_continuous(labels = scales::percent) + \n",
    "    #sets the title of the plot\n",
    "    labs(title = \"Percentage of updates that are each type\")"
   ]
  },
  {
   "cell_type": "code",
   "execution_count": null,
   "metadata": {
    "vscode": {
     "languageId": "r"
    }
   },
   "outputs": [
    {
     "data": {
      "text/html": [
       "<table class=\"dataframe\">\n",
       "<caption>A tibble: 6 × 10</caption>\n",
       "<thead>\n",
       "\t<tr><th scope=col>package_id</th><th scope=col>major</th><th scope=col>minor</th><th scope=col>bug</th><th scope=col>none</th><th scope=col>total</th><th scope=col>majorPct</th><th scope=col>minorPct</th><th scope=col>bugPct</th><th scope=col>nonePct</th></tr>\n",
       "\t<tr><th scope=col>&lt;int64&gt;</th><th scope=col>&lt;int&gt;</th><th scope=col>&lt;int&gt;</th><th scope=col>&lt;int&gt;</th><th scope=col>&lt;int&gt;</th><th scope=col>&lt;int&gt;</th><th scope=col>&lt;dbl&gt;</th><th scope=col>&lt;dbl&gt;</th><th scope=col>&lt;dbl&gt;</th><th scope=col>&lt;dbl&gt;</th></tr>\n",
       "</thead>\n",
       "<tbody>\n",
       "\t<tr><td> 335</td><td>12</td><td>182</td><td>150</td><td>0</td><td>344</td><td>0.03488372</td><td>0.5290698</td><td>0.4360465</td><td>0</td></tr>\n",
       "\t<tr><td> 336</td><td> 0</td><td>  0</td><td>  2</td><td>0</td><td>  3</td><td>0.00000000</td><td>0.0000000</td><td>0.6666667</td><td>0</td></tr>\n",
       "\t<tr><td> 337</td><td> 0</td><td>  0</td><td>  1</td><td>0</td><td>  1</td><td>0.00000000</td><td>0.0000000</td><td>1.0000000</td><td>0</td></tr>\n",
       "\t<tr><td> 341</td><td>18</td><td>233</td><td>384</td><td>0</td><td>635</td><td>0.02834646</td><td>0.3669291</td><td>0.6047244</td><td>0</td></tr>\n",
       "\t<tr><td> 488</td><td> 1</td><td>  0</td><td>  1</td><td>0</td><td>  2</td><td>0.50000000</td><td>0.0000000</td><td>0.5000000</td><td>0</td></tr>\n",
       "\t<tr><td>2580</td><td> 0</td><td>  1</td><td>  2</td><td>0</td><td>  3</td><td>0.00000000</td><td>0.3333333</td><td>0.6666667</td><td>0</td></tr>\n",
       "</tbody>\n",
       "</table>\n"
      ],
      "text/latex": [
       "A tibble: 6 × 10\n",
       "\\begin{tabular}{llllllllll}\n",
       " package\\_id & major & minor & bug & none & total & majorPct & minorPct & bugPct & nonePct\\\\\n",
       " <int64> & <int> & <int> & <int> & <int> & <int> & <dbl> & <dbl> & <dbl> & <dbl>\\\\\n",
       "\\hline\n",
       "\t  335 & 12 & 182 & 150 & 0 & 344 & 0.03488372 & 0.5290698 & 0.4360465 & 0\\\\\n",
       "\t  336 &  0 &   0 &   2 & 0 &   3 & 0.00000000 & 0.0000000 & 0.6666667 & 0\\\\\n",
       "\t  337 &  0 &   0 &   1 & 0 &   1 & 0.00000000 & 0.0000000 & 1.0000000 & 0\\\\\n",
       "\t  341 & 18 & 233 & 384 & 0 & 635 & 0.02834646 & 0.3669291 & 0.6047244 & 0\\\\\n",
       "\t  488 &  1 &   0 &   1 & 0 &   2 & 0.50000000 & 0.0000000 & 0.5000000 & 0\\\\\n",
       "\t 2580 &  0 &   1 &   2 & 0 &   3 & 0.00000000 & 0.3333333 & 0.6666667 & 0\\\\\n",
       "\\end{tabular}\n"
      ],
      "text/markdown": [
       "\n",
       "A tibble: 6 × 10\n",
       "\n",
       "| package_id &lt;int64&gt; | major &lt;int&gt; | minor &lt;int&gt; | bug &lt;int&gt; | none &lt;int&gt; | total &lt;int&gt; | majorPct &lt;dbl&gt; | minorPct &lt;dbl&gt; | bugPct &lt;dbl&gt; | nonePct &lt;dbl&gt; |\n",
       "|---|---|---|---|---|---|---|---|---|---|\n",
       "|  335 | 12 | 182 | 150 | 0 | 344 | 0.03488372 | 0.5290698 | 0.4360465 | 0 |\n",
       "|  336 |  0 |   0 |   2 | 0 |   3 | 0.00000000 | 0.0000000 | 0.6666667 | 0 |\n",
       "|  337 |  0 |   0 |   1 | 0 |   1 | 0.00000000 | 0.0000000 | 1.0000000 | 0 |\n",
       "|  341 | 18 | 233 | 384 | 0 | 635 | 0.02834646 | 0.3669291 | 0.6047244 | 0 |\n",
       "|  488 |  1 |   0 |   1 | 0 |   2 | 0.50000000 | 0.0000000 | 0.5000000 | 0 |\n",
       "| 2580 |  0 |   1 |   2 | 0 |   3 | 0.00000000 | 0.3333333 | 0.6666667 | 0 |\n",
       "\n"
      ],
      "text/plain": [
       "  package_id major minor bug none total majorPct   minorPct  bugPct    nonePct\n",
       "1  335       12    182   150 0    344   0.03488372 0.5290698 0.4360465 0      \n",
       "2  336        0      0     2 0      3   0.00000000 0.0000000 0.6666667 0      \n",
       "3  337        0      0     1 0      1   0.00000000 0.0000000 1.0000000 0      \n",
       "4  341       18    233   384 0    635   0.02834646 0.3669291 0.6047244 0      \n",
       "5  488        1      0     1 0      2   0.50000000 0.0000000 0.5000000 0      \n",
       "6 2580        0      1     2 0      3   0.00000000 0.3333333 0.6666667 0      "
      ]
     },
     "metadata": {},
     "output_type": "display_data"
    }
   ],
   "source": []
  },
  {
   "cell_type": "code",
   "execution_count": null,
   "metadata": {
    "vscode": {
     "languageId": "r"
    }
   },
   "outputs": [],
   "source": []
  }
 ],
 "metadata": {
  "kernelspec": {
   "display_name": "R",
   "language": "R",
   "name": "ir"
  },
  "language_info": {
   "codemirror_mode": "r",
   "file_extension": ".r",
   "mimetype": "text/x-r-source",
   "name": "R",
   "pygments_lexer": "r",
   "version": "3.6.3"
  },
  "orig_nbformat": 4
 },
 "nbformat": 4,
 "nbformat_minor": 2
}
