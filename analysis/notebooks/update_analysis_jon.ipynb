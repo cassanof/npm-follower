{
 "cells": [
  {
   "attachments": {},
   "cell_type": "markdown",
   "metadata": {},
   "source": [
    "# Load Libraries"
   ]
  },
  {
   "cell_type": "code",
   "execution_count": 26,
   "metadata": {
    "vscode": {
     "languageId": "r"
    }
   },
   "outputs": [],
   "source": [
    "# Install RPostgres if needed:\n",
    "#install.packages(\"RPostgres\")\n",
    "#install.packages(\"tidyverse\")"
   ]
  },
  {
   "cell_type": "code",
   "execution_count": 3,
   "metadata": {
    "vscode": {
     "languageId": "r"
    }
   },
   "outputs": [
    {
     "name": "stderr",
     "output_type": "stream",
     "text": [
      "── \u001b[1mAttaching packages\u001b[22m ─────────────────────────────────────── tidyverse 1.3.2 ──\n",
      "\u001b[32m✔\u001b[39m \u001b[34mtibble \u001b[39m 3.1.8      \u001b[32m✔\u001b[39m \u001b[34mdplyr  \u001b[39m 1.0.10\n",
      "\u001b[32m✔\u001b[39m \u001b[34mtidyr  \u001b[39m 1.2.1      \u001b[32m✔\u001b[39m \u001b[34mstringr\u001b[39m 1.5.0 \n",
      "\u001b[32m✔\u001b[39m \u001b[34mreadr  \u001b[39m 2.1.3      \u001b[32m✔\u001b[39m \u001b[34mforcats\u001b[39m 0.5.2 \n",
      "\u001b[32m✔\u001b[39m \u001b[34mpurrr  \u001b[39m 1.0.0      \n",
      "── \u001b[1mConflicts\u001b[22m ────────────────────────────────────────── tidyverse_conflicts() ──\n",
      "\u001b[31m✖\u001b[39m \u001b[34mdplyr\u001b[39m::\u001b[32mfilter()\u001b[39m masks \u001b[34mstats\u001b[39m::filter()\n",
      "\u001b[31m✖\u001b[39m \u001b[34mdplyr\u001b[39m::\u001b[32mlag()\u001b[39m    masks \u001b[34mstats\u001b[39m::lag()\n"
     ]
    }
   ],
   "source": [
    "library(DBI)\n",
    "library(ggplot2)\n",
    "library(tidyverse)"
   ]
  },
  {
   "attachments": {},
   "cell_type": "markdown",
   "metadata": {},
   "source": [
    "# Connect to DB, load data, clean data"
   ]
  },
  {
   "cell_type": "code",
   "execution_count": 4,
   "metadata": {
    "vscode": {
     "languageId": "r"
    }
   },
   "outputs": [],
   "source": [
    "con <- dbConnect(\n",
    "    RPostgres::Postgres(),\n",
    "    dbname = 'npm_data', \n",
    "    user = 'data_analyzer',\n",
    ")"
   ]
  },
  {
   "cell_type": "code",
   "execution_count": 5,
   "metadata": {
    "vscode": {
     "languageId": "r"
    }
   },
   "outputs": [],
   "source": [
    "# This takes about 40 seconds to load (when running on the VM!), and takes about 4GB of memory\n",
    "all_updates <- dbGetQuery(con, \"\n",
    "    SELECT \n",
    "        package_id, \n",
    "        from_id, \n",
    "        to_id, \n",
    "        (from_semver).major AS from_semver_major, \n",
    "        (from_semver).minor AS from_semver_minor, \n",
    "        (from_semver).bug AS from_semver_bug,\n",
    "        (to_semver).major AS to_semver_major, \n",
    "        (to_semver).minor AS to_semver_minor, \n",
    "        (to_semver).bug AS to_semver_bug,\n",
    "        from_created,\n",
    "        to_created,\n",
    "        ty,\n",
    "        ROW(from_id, to_id) IN (SELECT from_id, to_id FROM analysis.vuln_intro_updates) as did_intro_vuln,\n",
    "        ROW(from_id, to_id) IN (SELECT from_id, to_id FROM analysis.vuln_patch_updates) as did_patch_vuln\n",
    "    FROM analysis.all_updates\n",
    "\")"
   ]
  },
  {
   "cell_type": "code",
   "execution_count": 6,
   "metadata": {
    "vscode": {
     "languageId": "r"
    }
   },
   "outputs": [],
   "source": [
    "all_updates_sub <- all_updates[sample(nrow(all_updates), 100000),] "
   ]
  },
  {
   "cell_type": "code",
   "execution_count": 7,
   "metadata": {
    "vscode": {
     "languageId": "r"
    }
   },
   "outputs": [],
   "source": [
    "all_updates <- all_updates %>% filter(ty != \"zero_to_something\")"
   ]
  },
  {
   "cell_type": "code",
   "execution_count": 8,
   "metadata": {
    "vscode": {
     "languageId": "r"
    }
   },
   "outputs": [],
   "source": [
    "all_updates$ty <- sapply(all_updates$ty, as.character)\n",
    "all_updates$tyFact <- factor(all_updates$ty, levels=c(\"bug\", \"minor\", \"major\"))"
   ]
  },
  {
   "cell_type": "code",
   "execution_count": 9,
   "metadata": {
    "vscode": {
     "languageId": "r"
    }
   },
   "outputs": [
    {
     "data": {
      "text/html": [
       "<table class=\"dataframe\">\n",
       "<caption>A data.frame: 6 × 15</caption>\n",
       "<thead>\n",
       "\t<tr><th></th><th scope=col>package_id</th><th scope=col>from_id</th><th scope=col>to_id</th><th scope=col>from_semver_major</th><th scope=col>from_semver_minor</th><th scope=col>from_semver_bug</th><th scope=col>to_semver_major</th><th scope=col>to_semver_minor</th><th scope=col>to_semver_bug</th><th scope=col>from_created</th><th scope=col>to_created</th><th scope=col>ty</th><th scope=col>did_intro_vuln</th><th scope=col>did_patch_vuln</th><th scope=col>tyFact</th></tr>\n",
       "\t<tr><th></th><th scope=col>&lt;int64&gt;</th><th scope=col>&lt;int64&gt;</th><th scope=col>&lt;int64&gt;</th><th scope=col>&lt;int64&gt;</th><th scope=col>&lt;int64&gt;</th><th scope=col>&lt;int64&gt;</th><th scope=col>&lt;int64&gt;</th><th scope=col>&lt;int64&gt;</th><th scope=col>&lt;int64&gt;</th><th scope=col>&lt;dttm&gt;</th><th scope=col>&lt;dttm&gt;</th><th scope=col>&lt;chr&gt;</th><th scope=col>&lt;lgl&gt;</th><th scope=col>&lt;lgl&gt;</th><th scope=col>&lt;fct&gt;</th></tr>\n",
       "</thead>\n",
       "<tbody>\n",
       "\t<tr><th scope=row>1</th><td>871385</td><td>4555319</td><td>4555320</td><td>0</td><td>7</td><td>3</td><td>1</td><td>0</td><td>0</td><td>2019-08-10 15:37:04</td><td>2020-07-06 20:52:19</td><td>major</td><td>FALSE</td><td>FALSE</td><td>major</td></tr>\n",
       "\t<tr><th scope=row>2</th><td>871385</td><td>4555345</td><td>4555346</td><td>1</td><td>1</td><td>1</td><td>2</td><td>0</td><td>0</td><td>2020-10-31 21:40:19</td><td>2021-06-06 21:52:47</td><td>major</td><td>FALSE</td><td>FALSE</td><td>major</td></tr>\n",
       "\t<tr><th scope=row>3</th><td>871386</td><td>4555378</td><td>4555380</td><td>0</td><td>6</td><td>8</td><td>0</td><td>7</td><td>1</td><td>2019-05-04 15:58:09</td><td>2019-07-17 05:47:03</td><td>minor</td><td>FALSE</td><td>FALSE</td><td>minor</td></tr>\n",
       "\t<tr><th scope=row>4</th><td>871386</td><td>4555385</td><td>4555386</td><td>0</td><td>7</td><td>2</td><td>1</td><td>0</td><td>0</td><td>2019-07-20 22:34:04</td><td>2020-07-06 20:52:16</td><td>major</td><td>FALSE</td><td>FALSE</td><td>major</td></tr>\n",
       "\t<tr><th scope=row>5</th><td>871387</td><td>4555438</td><td>4555439</td><td>0</td><td>0</td><td>1</td><td>0</td><td>0</td><td>2</td><td>2017-10-01 02:44:21</td><td>2017-10-01 02:46:27</td><td>bug  </td><td>FALSE</td><td>FALSE</td><td>bug  </td></tr>\n",
       "\t<tr><th scope=row>6</th><td>871387</td><td>4555440</td><td>4555441</td><td>0</td><td>0</td><td>3</td><td>0</td><td>0</td><td>4</td><td>2017-10-01 20:51:49</td><td>2017-10-01 21:31:14</td><td>bug  </td><td>FALSE</td><td>FALSE</td><td>bug  </td></tr>\n",
       "</tbody>\n",
       "</table>\n"
      ],
      "text/latex": [
       "A data.frame: 6 × 15\n",
       "\\begin{tabular}{r|lllllllllllllll}\n",
       "  & package\\_id & from\\_id & to\\_id & from\\_semver\\_major & from\\_semver\\_minor & from\\_semver\\_bug & to\\_semver\\_major & to\\_semver\\_minor & to\\_semver\\_bug & from\\_created & to\\_created & ty & did\\_intro\\_vuln & did\\_patch\\_vuln & tyFact\\\\\n",
       "  & <int64> & <int64> & <int64> & <int64> & <int64> & <int64> & <int64> & <int64> & <int64> & <dttm> & <dttm> & <chr> & <lgl> & <lgl> & <fct>\\\\\n",
       "\\hline\n",
       "\t1 & 871385 & 4555319 & 4555320 & 0 & 7 & 3 & 1 & 0 & 0 & 2019-08-10 15:37:04 & 2020-07-06 20:52:19 & major & FALSE & FALSE & major\\\\\n",
       "\t2 & 871385 & 4555345 & 4555346 & 1 & 1 & 1 & 2 & 0 & 0 & 2020-10-31 21:40:19 & 2021-06-06 21:52:47 & major & FALSE & FALSE & major\\\\\n",
       "\t3 & 871386 & 4555378 & 4555380 & 0 & 6 & 8 & 0 & 7 & 1 & 2019-05-04 15:58:09 & 2019-07-17 05:47:03 & minor & FALSE & FALSE & minor\\\\\n",
       "\t4 & 871386 & 4555385 & 4555386 & 0 & 7 & 2 & 1 & 0 & 0 & 2019-07-20 22:34:04 & 2020-07-06 20:52:16 & major & FALSE & FALSE & major\\\\\n",
       "\t5 & 871387 & 4555438 & 4555439 & 0 & 0 & 1 & 0 & 0 & 2 & 2017-10-01 02:44:21 & 2017-10-01 02:46:27 & bug   & FALSE & FALSE & bug  \\\\\n",
       "\t6 & 871387 & 4555440 & 4555441 & 0 & 0 & 3 & 0 & 0 & 4 & 2017-10-01 20:51:49 & 2017-10-01 21:31:14 & bug   & FALSE & FALSE & bug  \\\\\n",
       "\\end{tabular}\n"
      ],
      "text/markdown": [
       "\n",
       "A data.frame: 6 × 15\n",
       "\n",
       "| <!--/--> | package_id &lt;int64&gt; | from_id &lt;int64&gt; | to_id &lt;int64&gt; | from_semver_major &lt;int64&gt; | from_semver_minor &lt;int64&gt; | from_semver_bug &lt;int64&gt; | to_semver_major &lt;int64&gt; | to_semver_minor &lt;int64&gt; | to_semver_bug &lt;int64&gt; | from_created &lt;dttm&gt; | to_created &lt;dttm&gt; | ty &lt;chr&gt; | did_intro_vuln &lt;lgl&gt; | did_patch_vuln &lt;lgl&gt; | tyFact &lt;fct&gt; |\n",
       "|---|---|---|---|---|---|---|---|---|---|---|---|---|---|---|---|\n",
       "| 1 | 871385 | 4555319 | 4555320 | 0 | 7 | 3 | 1 | 0 | 0 | 2019-08-10 15:37:04 | 2020-07-06 20:52:19 | major | FALSE | FALSE | major |\n",
       "| 2 | 871385 | 4555345 | 4555346 | 1 | 1 | 1 | 2 | 0 | 0 | 2020-10-31 21:40:19 | 2021-06-06 21:52:47 | major | FALSE | FALSE | major |\n",
       "| 3 | 871386 | 4555378 | 4555380 | 0 | 6 | 8 | 0 | 7 | 1 | 2019-05-04 15:58:09 | 2019-07-17 05:47:03 | minor | FALSE | FALSE | minor |\n",
       "| 4 | 871386 | 4555385 | 4555386 | 0 | 7 | 2 | 1 | 0 | 0 | 2019-07-20 22:34:04 | 2020-07-06 20:52:16 | major | FALSE | FALSE | major |\n",
       "| 5 | 871387 | 4555438 | 4555439 | 0 | 0 | 1 | 0 | 0 | 2 | 2017-10-01 02:44:21 | 2017-10-01 02:46:27 | bug   | FALSE | FALSE | bug   |\n",
       "| 6 | 871387 | 4555440 | 4555441 | 0 | 0 | 3 | 0 | 0 | 4 | 2017-10-01 20:51:49 | 2017-10-01 21:31:14 | bug   | FALSE | FALSE | bug   |\n",
       "\n"
      ],
      "text/plain": [
       "  package_id from_id to_id   from_semver_major from_semver_minor\n",
       "1 871385     4555319 4555320 0                 7                \n",
       "2 871385     4555345 4555346 1                 1                \n",
       "3 871386     4555378 4555380 0                 6                \n",
       "4 871386     4555385 4555386 0                 7                \n",
       "5 871387     4555438 4555439 0                 0                \n",
       "6 871387     4555440 4555441 0                 0                \n",
       "  from_semver_bug to_semver_major to_semver_minor to_semver_bug\n",
       "1 3               1               0               0            \n",
       "2 1               2               0               0            \n",
       "3 8               0               7               1            \n",
       "4 2               1               0               0            \n",
       "5 1               0               0               2            \n",
       "6 3               0               0               4            \n",
       "  from_created        to_created          ty    did_intro_vuln did_patch_vuln\n",
       "1 2019-08-10 15:37:04 2020-07-06 20:52:19 major FALSE          FALSE         \n",
       "2 2020-10-31 21:40:19 2021-06-06 21:52:47 major FALSE          FALSE         \n",
       "3 2019-05-04 15:58:09 2019-07-17 05:47:03 minor FALSE          FALSE         \n",
       "4 2019-07-20 22:34:04 2020-07-06 20:52:16 major FALSE          FALSE         \n",
       "5 2017-10-01 02:44:21 2017-10-01 02:46:27 bug   FALSE          FALSE         \n",
       "6 2017-10-01 20:51:49 2017-10-01 21:31:14 bug   FALSE          FALSE         \n",
       "  tyFact\n",
       "1 major \n",
       "2 major \n",
       "3 minor \n",
       "4 major \n",
       "5 bug   \n",
       "6 bug   "
      ]
     },
     "metadata": {},
     "output_type": "display_data"
    }
   ],
   "source": [
    "head(all_updates)"
   ]
  },
  {
   "cell_type": "code",
   "execution_count": 10,
   "metadata": {
    "vscode": {
     "languageId": "r"
    }
   },
   "outputs": [],
   "source": [
    "patches_only <- all_updates %>% filter(did_patch_vuln == TRUE & did_intro_vuln == FALSE)\n",
    "others <- all_updates %>% filter(did_patch_vuln == FALSE | did_intro_vuln == TRUE)\n",
    "\n",
    "# select the row with ty ordered bug,minor,major for each from_id\n",
    "patches_lowest_type <- patches_only %>% group_by(from_id) %>% top_n(-1, tyFact)\n",
    "patches_first_created <- patches_only %>% group_by(from_id) %>% top_n(-1, to_created)"
   ]
  },
  {
   "cell_type": "code",
   "execution_count": 11,
   "metadata": {
    "vscode": {
     "languageId": "r"
    }
   },
   "outputs": [
    {
     "data": {
      "text/html": [
       "<table class=\"dataframe\">\n",
       "<caption>A data.frame: 1391 × 15</caption>\n",
       "<thead>\n",
       "\t<tr><th scope=col>package_id</th><th scope=col>from_id</th><th scope=col>to_id</th><th scope=col>from_semver_major</th><th scope=col>from_semver_minor</th><th scope=col>from_semver_bug</th><th scope=col>to_semver_major</th><th scope=col>to_semver_minor</th><th scope=col>to_semver_bug</th><th scope=col>from_created</th><th scope=col>to_created</th><th scope=col>ty</th><th scope=col>did_intro_vuln</th><th scope=col>did_patch_vuln</th><th scope=col>tyFact</th></tr>\n",
       "\t<tr><th scope=col>&lt;int64&gt;</th><th scope=col>&lt;int64&gt;</th><th scope=col>&lt;int64&gt;</th><th scope=col>&lt;int64&gt;</th><th scope=col>&lt;int64&gt;</th><th scope=col>&lt;int64&gt;</th><th scope=col>&lt;int64&gt;</th><th scope=col>&lt;int64&gt;</th><th scope=col>&lt;int64&gt;</th><th scope=col>&lt;dttm&gt;</th><th scope=col>&lt;dttm&gt;</th><th scope=col>&lt;chr&gt;</th><th scope=col>&lt;lgl&gt;</th><th scope=col>&lt;lgl&gt;</th><th scope=col>&lt;fct&gt;</th></tr>\n",
       "</thead>\n",
       "<tbody>\n",
       "\t<tr><td>1007773</td><td> 5765032</td><td> 5765033</td><td> 0</td><td> 1</td><td> 0</td><td> 1</td><td> 0</td><td>0</td><td>2018-07-22 13:59:13</td><td>2019-01-31 08:06:00</td><td>major</td><td>FALSE</td><td>TRUE</td><td>major</td></tr>\n",
       "\t<tr><td>1043252</td><td> 6133139</td><td> 6133140</td><td> 0</td><td> 5</td><td> 0</td><td> 0</td><td> 6</td><td>0</td><td>2017-03-04 19:32:51</td><td>2017-03-05 00:30:01</td><td>minor</td><td>FALSE</td><td>TRUE</td><td>minor</td></tr>\n",
       "\t<tr><td>1067473</td><td> 6377114</td><td> 6377115</td><td> 0</td><td> 3</td><td> 0</td><td> 0</td><td> 4</td><td>0</td><td>2019-09-20 13:52:46</td><td>2020-03-01 10:01:50</td><td>minor</td><td>FALSE</td><td>TRUE</td><td>minor</td></tr>\n",
       "\t<tr><td>1118882</td><td> 6759219</td><td> 6759220</td><td> 0</td><td> 2</td><td> 0</td><td> 0</td><td> 3</td><td>0</td><td>2018-11-30 22:40:49</td><td>2019-06-21 12:03:39</td><td>minor</td><td>FALSE</td><td>TRUE</td><td>minor</td></tr>\n",
       "\t<tr><td>1204278</td><td> 7447118</td><td> 7447119</td><td> 0</td><td>25</td><td> 1</td><td> 0</td><td>26</td><td>0</td><td>2021-07-04 04:50:38</td><td>2022-02-07 06:18:29</td><td>minor</td><td>FALSE</td><td>TRUE</td><td>minor</td></tr>\n",
       "\t<tr><td>1222574</td><td> 7601720</td><td> 7601721</td><td> 3</td><td> 0</td><td> 0</td><td> 4</td><td> 0</td><td>0</td><td>2020-10-11 20:48:29</td><td>2021-02-10 23:10:11</td><td>major</td><td>FALSE</td><td>TRUE</td><td>major</td></tr>\n",
       "\t<tr><td>1253403</td><td> 7853032</td><td> 7853033</td><td> 0</td><td> 9</td><td> 0</td><td> 0</td><td>10</td><td>0</td><td>2021-09-02 07:34:04</td><td>2021-11-14 00:33:42</td><td>minor</td><td>FALSE</td><td>TRUE</td><td>minor</td></tr>\n",
       "\t<tr><td>1444122</td><td> 9282043</td><td> 9282044</td><td> 0</td><td> 2</td><td> 0</td><td> 0</td><td> 3</td><td>0</td><td>2021-01-30 20:43:36</td><td>2021-03-31 19:07:06</td><td>minor</td><td>FALSE</td><td>TRUE</td><td>minor</td></tr>\n",
       "\t<tr><td>1470637</td><td> 9525328</td><td> 9525329</td><td> 0</td><td>32</td><td> 0</td><td> 0</td><td>33</td><td>0</td><td>2019-06-13 10:28:40</td><td>2020-11-07 09:11:40</td><td>minor</td><td>FALSE</td><td>TRUE</td><td>minor</td></tr>\n",
       "\t<tr><td>1491271</td><td> 9774258</td><td> 9774259</td><td> 5</td><td> 0</td><td> 2</td><td> 6</td><td> 0</td><td>0</td><td>2021-06-01 19:28:15</td><td>2022-03-01 19:47:19</td><td>major</td><td>FALSE</td><td>TRUE</td><td>major</td></tr>\n",
       "\t<tr><td>1553900</td><td>10573004</td><td>10573005</td><td> 1</td><td> 0</td><td>14</td><td> 2</td><td> 0</td><td>0</td><td>2019-05-15 13:17:26</td><td>2019-08-03 17:27:37</td><td>major</td><td>FALSE</td><td>TRUE</td><td>major</td></tr>\n",
       "\t<tr><td>1648817</td><td>11567990</td><td>11567991</td><td> 0</td><td> 3</td><td> 8</td><td> 0</td><td> 4</td><td>0</td><td>2014-01-24 10:44:07</td><td>2016-02-23 10:53:39</td><td>minor</td><td>FALSE</td><td>TRUE</td><td>minor</td></tr>\n",
       "\t<tr><td>1659990</td><td>11660821</td><td>11660822</td><td> 0</td><td> 0</td><td> 7</td><td> 0</td><td> 0</td><td>8</td><td>2017-01-02 04:15:30</td><td>2022-02-28 14:30:19</td><td>bug  </td><td>FALSE</td><td>TRUE</td><td>bug  </td></tr>\n",
       "\t<tr><td>1681525</td><td>11872465</td><td>11872466</td><td> 2</td><td>53</td><td> 0</td><td> 3</td><td> 0</td><td>1</td><td>2016-04-03 23:16:01</td><td>2016-11-04 08:40:03</td><td>major</td><td>FALSE</td><td>TRUE</td><td>major</td></tr>\n",
       "\t<tr><td>1681918</td><td>11875651</td><td>11875656</td><td> 2</td><td> 0</td><td> 0</td><td> 3</td><td> 0</td><td>0</td><td>2016-07-14 03:33:27</td><td>2018-05-15 18:15:21</td><td>major</td><td>FALSE</td><td>TRUE</td><td>major</td></tr>\n",
       "\t<tr><td>1714787</td><td>12179773</td><td>12179774</td><td> 0</td><td>11</td><td> 3</td><td> 1</td><td> 0</td><td>0</td><td>2016-08-06 23:19:09</td><td>2016-08-16 20:37:39</td><td>major</td><td>FALSE</td><td>TRUE</td><td>major</td></tr>\n",
       "\t<tr><td>1794588</td><td>13030703</td><td>13030704</td><td> 0</td><td> 0</td><td> 1</td><td> 0</td><td> 0</td><td>2</td><td>2022-05-12 23:58:27</td><td>2022-05-18 21:19:27</td><td>bug  </td><td>FALSE</td><td>TRUE</td><td>bug  </td></tr>\n",
       "\t<tr><td>1813881</td><td>13221420</td><td>13221421</td><td> 1</td><td> 0</td><td> 3</td><td> 2</td><td> 0</td><td>0</td><td>2014-11-28 01:50:25</td><td>2015-03-27 01:45:53</td><td>major</td><td>FALSE</td><td>TRUE</td><td>major</td></tr>\n",
       "\t<tr><td>1820907</td><td>13326888</td><td>13326889</td><td> 0</td><td> 3</td><td> 2</td><td> 0</td><td> 4</td><td>0</td><td>2021-08-04 01:29:31</td><td>2021-10-26 15:15:37</td><td>minor</td><td>FALSE</td><td>TRUE</td><td>minor</td></tr>\n",
       "\t<tr><td>1849054</td><td>13634886</td><td>13634887</td><td> 6</td><td> 2</td><td> 0</td><td> 7</td><td> 0</td><td>0</td><td>2018-02-07 19:02:34</td><td>2018-02-15 01:30:51</td><td>major</td><td>FALSE</td><td>TRUE</td><td>major</td></tr>\n",
       "\t<tr><td>1875061</td><td>13914603</td><td>13914604</td><td> 0</td><td> 8</td><td> 1</td><td> 1</td><td> 0</td><td>1</td><td>2021-10-22 16:23:53</td><td>2021-10-22 16:26:19</td><td>major</td><td>FALSE</td><td>TRUE</td><td>major</td></tr>\n",
       "\t<tr><td>1880165</td><td>13975172</td><td>13975173</td><td> 0</td><td> 8</td><td> 4</td><td> 0</td><td> 9</td><td>0</td><td>2014-11-24 04:22:56</td><td>2015-04-04 18:47:51</td><td>minor</td><td>FALSE</td><td>TRUE</td><td>minor</td></tr>\n",
       "\t<tr><td>1880667</td><td>13978266</td><td>13978267</td><td> 1</td><td> 0</td><td> 3</td><td> 2</td><td> 0</td><td>0</td><td>2017-06-11 21:01:45</td><td>2017-10-05 02:09:38</td><td>major</td><td>FALSE</td><td>TRUE</td><td>major</td></tr>\n",
       "\t<tr><td>1884739</td><td>14017658</td><td>14017659</td><td> 2</td><td> 1</td><td> 1</td><td> 3</td><td> 0</td><td>0</td><td>2015-07-08 21:15:27</td><td>2017-03-24 14:45:54</td><td>major</td><td>FALSE</td><td>TRUE</td><td>major</td></tr>\n",
       "\t<tr><td>1969916</td><td>14994056</td><td>14994057</td><td> 0</td><td>16</td><td> 9</td><td> 0</td><td>17</td><td>0</td><td>2020-11-20 07:22:22</td><td>2021-05-13 19:13:41</td><td>minor</td><td>FALSE</td><td>TRUE</td><td>minor</td></tr>\n",
       "\t<tr><td>1981155</td><td>15105927</td><td>15105928</td><td>26</td><td> 0</td><td> 0</td><td>27</td><td> 0</td><td>0</td><td>2021-03-03 08:29:27</td><td>2021-03-24 08:06:52</td><td>major</td><td>FALSE</td><td>TRUE</td><td>major</td></tr>\n",
       "\t<tr><td>1981168</td><td>15106996</td><td>15106997</td><td>26</td><td> 0</td><td> 0</td><td>27</td><td> 0</td><td>0</td><td>2021-03-03 08:30:04</td><td>2021-03-24 08:07:32</td><td>major</td><td>FALSE</td><td>TRUE</td><td>major</td></tr>\n",
       "\t<tr><td>1981186</td><td>15107581</td><td>15107582</td><td>26</td><td> 0</td><td> 0</td><td>27</td><td> 0</td><td>0</td><td>2021-03-03 08:30:27</td><td>2021-03-24 08:07:56</td><td>major</td><td>FALSE</td><td>TRUE</td><td>major</td></tr>\n",
       "\t<tr><td>1981187</td><td>15107617</td><td>15107618</td><td>26</td><td> 0</td><td> 0</td><td>27</td><td> 0</td><td>0</td><td>2021-03-03 08:30:32</td><td>2021-03-24 08:08:03</td><td>major</td><td>FALSE</td><td>TRUE</td><td>major</td></tr>\n",
       "\t<tr><td>2005454</td><td>15462781</td><td>15462782</td><td> 0</td><td> 4</td><td> 4</td><td> 0</td><td> 5</td><td>0</td><td>2013-01-28 14:01:13</td><td>2013-07-02 12:46:13</td><td>minor</td><td>FALSE</td><td>TRUE</td><td>minor</td></tr>\n",
       "\t<tr><td>⋮</td><td>⋮</td><td>⋮</td><td>⋮</td><td>⋮</td><td>⋮</td><td>⋮</td><td>⋮</td><td>⋮</td><td>⋮</td><td>⋮</td><td>⋮</td><td>⋮</td><td>⋮</td><td>⋮</td></tr>\n",
       "\t<tr><td>2291733</td><td>18485664</td><td>18485665</td><td>1</td><td>13</td><td> 0</td><td>2</td><td> 0</td><td> 0</td><td>2019-02-08 18:25:35</td><td>2020-06-15 16:31:07</td><td>major</td><td>FALSE</td><td>TRUE</td><td>major</td></tr>\n",
       "\t<tr><td>2312482</td><td>18798008</td><td>18798009</td><td>0</td><td>10</td><td> 0</td><td>1</td><td> 0</td><td> 0</td><td>2020-09-02 02:06:56</td><td>2022-01-05 03:00:55</td><td>major</td><td>FALSE</td><td>TRUE</td><td>major</td></tr>\n",
       "\t<tr><td>2317404</td><td>18848305</td><td>18848306</td><td>4</td><td> 0</td><td> 2</td><td>5</td><td> 0</td><td> 0</td><td>2018-05-26 20:11:23</td><td>2020-03-16 13:55:47</td><td>major</td><td>FALSE</td><td>TRUE</td><td>major</td></tr>\n",
       "\t<tr><td>2320035</td><td>18881505</td><td>18881506</td><td>0</td><td> 7</td><td> 0</td><td>0</td><td> 8</td><td> 2</td><td>2015-05-24 02:04:37</td><td>2015-09-25 13:55:21</td><td>minor</td><td>FALSE</td><td>TRUE</td><td>minor</td></tr>\n",
       "\t<tr><td>2320082</td><td>18882050</td><td>18882051</td><td>0</td><td> 6</td><td> 3</td><td>0</td><td> 7</td><td> 0</td><td>2019-05-13 16:51:12</td><td>2020-08-21 17:37:52</td><td>minor</td><td>FALSE</td><td>TRUE</td><td>minor</td></tr>\n",
       "\t<tr><td>2337482</td><td>19155949</td><td>19155950</td><td>7</td><td> 8</td><td> 6</td><td>8</td><td> 0</td><td> 0</td><td>2021-02-26 23:53:44</td><td>2021-03-23 12:51:31</td><td>major</td><td>FALSE</td><td>TRUE</td><td>major</td></tr>\n",
       "\t<tr><td>2342834</td><td>19226041</td><td>19226042</td><td>2</td><td> 0</td><td> 1</td><td>3</td><td> 0</td><td> 0</td><td>2021-06-07 13:54:07</td><td>2021-10-17 08:58:05</td><td>major</td><td>FALSE</td><td>TRUE</td><td>major</td></tr>\n",
       "\t<tr><td>2344191</td><td>19246625</td><td>19246626</td><td>4</td><td> 2</td><td> 0</td><td>5</td><td> 0</td><td> 0</td><td>2021-03-31 19:14:42</td><td>2021-07-12 21:45:39</td><td>major</td><td>FALSE</td><td>TRUE</td><td>major</td></tr>\n",
       "\t<tr><td>2347084</td><td>19276135</td><td>19276136</td><td>1</td><td> 0</td><td> 1</td><td>2</td><td> 0</td><td> 0</td><td>2017-06-05 20:27:16</td><td>2021-12-16 15:35:03</td><td>major</td><td>FALSE</td><td>TRUE</td><td>major</td></tr>\n",
       "\t<tr><td>2347963</td><td>19286424</td><td>19286425</td><td>0</td><td> 5</td><td> 3</td><td>0</td><td> 6</td><td> 0</td><td>2022-05-16 14:58:20</td><td>2022-05-20 13:32:46</td><td>minor</td><td>FALSE</td><td>TRUE</td><td>minor</td></tr>\n",
       "\t<tr><td>2360148</td><td>19612241</td><td>19612242</td><td>1</td><td> 1</td><td> 0</td><td>2</td><td> 0</td><td> 0</td><td>2019-06-14 15:23:00</td><td>2019-11-26 11:42:42</td><td>major</td><td>FALSE</td><td>TRUE</td><td>major</td></tr>\n",
       "\t<tr><td>2364656</td><td>19664121</td><td>19664122</td><td>0</td><td> 0</td><td>18</td><td>0</td><td> 0</td><td>19</td><td>2017-04-24 16:33:13</td><td>2017-04-26 20:07:19</td><td>bug  </td><td>FALSE</td><td>TRUE</td><td>bug  </td></tr>\n",
       "\t<tr><td>2369594</td><td>19739677</td><td>19739678</td><td>0</td><td> 0</td><td> 1</td><td>0</td><td> 0</td><td> 2</td><td>2012-06-30 00:34:38</td><td>2014-08-13 06:58:29</td><td>bug  </td><td>FALSE</td><td>TRUE</td><td>bug  </td></tr>\n",
       "\t<tr><td>2373567</td><td>19778377</td><td>19778378</td><td>0</td><td> 0</td><td> 2</td><td>1</td><td> 0</td><td> 0</td><td>2014-06-03 18:31:33</td><td>2018-09-03 21:00:55</td><td>major</td><td>FALSE</td><td>TRUE</td><td>major</td></tr>\n",
       "\t<tr><td>2377760</td><td>19826720</td><td>19826721</td><td>1</td><td> 5</td><td>14</td><td>2</td><td> 0</td><td>25</td><td>2019-07-21 08:48:08</td><td>2019-10-11 06:06:33</td><td>major</td><td>FALSE</td><td>TRUE</td><td>major</td></tr>\n",
       "\t<tr><td>2382031</td><td>19873682</td><td>19873683</td><td>2</td><td> 0</td><td> 0</td><td>3</td><td> 0</td><td> 0</td><td>2017-10-19 12:07:55</td><td>2017-12-28 22:58:29</td><td>major</td><td>FALSE</td><td>TRUE</td><td>major</td></tr>\n",
       "\t<tr><td>2400707</td><td>20666211</td><td>20666301</td><td>5</td><td> 2</td><td> 2</td><td>6</td><td> 0</td><td> 0</td><td>2016-08-22 18:15:21</td><td>2016-10-24 19:22:23</td><td>major</td><td>FALSE</td><td>TRUE</td><td>major</td></tr>\n",
       "\t<tr><td>2434644</td><td>21506961</td><td>21506962</td><td>2</td><td> 0</td><td> 1</td><td>3</td><td> 0</td><td> 0</td><td>2018-09-18 18:50:00</td><td>2020-07-02 15:40:06</td><td>major</td><td>FALSE</td><td>TRUE</td><td>major</td></tr>\n",
       "\t<tr><td>2436113</td><td>21532650</td><td>21532651</td><td>6</td><td> 0</td><td> 0</td><td>7</td><td> 0</td><td> 0</td><td>2021-08-24 07:49:19</td><td>2022-02-21 17:12:06</td><td>major</td><td>FALSE</td><td>TRUE</td><td>major</td></tr>\n",
       "\t<tr><td>2442682</td><td>21783870</td><td>21783871</td><td>4</td><td> 0</td><td> 2</td><td>5</td><td> 0</td><td> 0</td><td>2021-03-13 01:08:51</td><td>2021-12-16 04:18:27</td><td>major</td><td>FALSE</td><td>TRUE</td><td>major</td></tr>\n",
       "\t<tr><td>2457132</td><td>22334038</td><td>22334039</td><td>0</td><td>14</td><td> 0</td><td>0</td><td>15</td><td> 0</td><td>2020-04-02 07:07:13</td><td>2021-03-29 10:05:08</td><td>minor</td><td>FALSE</td><td>TRUE</td><td>minor</td></tr>\n",
       "\t<tr><td>2466936</td><td>23389245</td><td>23389246</td><td>6</td><td> 5</td><td> 8</td><td>7</td><td> 0</td><td> 0</td><td>2018-05-22 14:25:14</td><td>2018-05-28 17:10:07</td><td>major</td><td>FALSE</td><td>TRUE</td><td>major</td></tr>\n",
       "\t<tr><td>2467311</td><td>23417894</td><td>23417895</td><td>2</td><td> 2</td><td> 0</td><td>3</td><td> 1</td><td> 0</td><td>2018-03-23 20:19:11</td><td>2018-05-22 16:10:25</td><td>major</td><td>FALSE</td><td>TRUE</td><td>major</td></tr>\n",
       "\t<tr><td>2467431</td><td>28909903</td><td>29470755</td><td>0</td><td>15</td><td>23</td><td>0</td><td>16</td><td> 0</td><td>2022-09-27 00:02:07</td><td>2022-10-19 23:06:02</td><td>minor</td><td>FALSE</td><td>TRUE</td><td>minor</td></tr>\n",
       "\t<tr><td>2471434</td><td>23908779</td><td>23908852</td><td>0</td><td>35</td><td> 0</td><td>0</td><td>36</td><td> 0</td><td>2022-05-04 01:08:21</td><td>2022-05-11 17:16:45</td><td>minor</td><td>FALSE</td><td>TRUE</td><td>minor</td></tr>\n",
       "\t<tr><td>2481425</td><td>26459601</td><td>26459656</td><td>0</td><td>16</td><td> 1</td><td>1</td><td> 0</td><td> 0</td><td>2020-03-04 18:57:45</td><td>2020-03-26 14:37:49</td><td>major</td><td>FALSE</td><td>TRUE</td><td>major</td></tr>\n",
       "\t<tr><td> 126517</td><td>  113480</td><td>  113481</td><td>0</td><td> 9</td><td> 0</td><td>3</td><td> 0</td><td> 1</td><td>2014-12-13 10:43:57</td><td>2015-03-30 22:10:32</td><td>major</td><td>FALSE</td><td>TRUE</td><td>major</td></tr>\n",
       "\t<tr><td> 131189</td><td>  137913</td><td>  137914</td><td>0</td><td>49</td><td> 3</td><td>0</td><td>50</td><td> 0</td><td>2015-01-11 23:00:03</td><td>2015-01-22 17:54:02</td><td>minor</td><td>FALSE</td><td>TRUE</td><td>minor</td></tr>\n",
       "\t<tr><td> 555680</td><td>  916078</td><td>  916079</td><td>0</td><td> 0</td><td> 1</td><td>0</td><td> 0</td><td> 2</td><td>2021-05-12 14:44:08</td><td>2022-04-04 17:48:54</td><td>bug  </td><td>FALSE</td><td>TRUE</td><td>bug  </td></tr>\n",
       "\t<tr><td> 588758</td><td> 1366767</td><td> 1366768</td><td>0</td><td> 0</td><td> 6</td><td>0</td><td> 0</td><td> 7</td><td>2021-07-27 22:39:30</td><td>2021-09-13 18:03:25</td><td>bug  </td><td>FALSE</td><td>TRUE</td><td>bug  </td></tr>\n",
       "</tbody>\n",
       "</table>\n"
      ],
      "text/latex": [
       "A data.frame: 1391 × 15\n",
       "\\begin{tabular}{lllllllllllllll}\n",
       " package\\_id & from\\_id & to\\_id & from\\_semver\\_major & from\\_semver\\_minor & from\\_semver\\_bug & to\\_semver\\_major & to\\_semver\\_minor & to\\_semver\\_bug & from\\_created & to\\_created & ty & did\\_intro\\_vuln & did\\_patch\\_vuln & tyFact\\\\\n",
       " <int64> & <int64> & <int64> & <int64> & <int64> & <int64> & <int64> & <int64> & <int64> & <dttm> & <dttm> & <chr> & <lgl> & <lgl> & <fct>\\\\\n",
       "\\hline\n",
       "\t 1007773 &  5765032 &  5765033 &  0 &  1 &  0 &  1 &  0 & 0 & 2018-07-22 13:59:13 & 2019-01-31 08:06:00 & major & FALSE & TRUE & major\\\\\n",
       "\t 1043252 &  6133139 &  6133140 &  0 &  5 &  0 &  0 &  6 & 0 & 2017-03-04 19:32:51 & 2017-03-05 00:30:01 & minor & FALSE & TRUE & minor\\\\\n",
       "\t 1067473 &  6377114 &  6377115 &  0 &  3 &  0 &  0 &  4 & 0 & 2019-09-20 13:52:46 & 2020-03-01 10:01:50 & minor & FALSE & TRUE & minor\\\\\n",
       "\t 1118882 &  6759219 &  6759220 &  0 &  2 &  0 &  0 &  3 & 0 & 2018-11-30 22:40:49 & 2019-06-21 12:03:39 & minor & FALSE & TRUE & minor\\\\\n",
       "\t 1204278 &  7447118 &  7447119 &  0 & 25 &  1 &  0 & 26 & 0 & 2021-07-04 04:50:38 & 2022-02-07 06:18:29 & minor & FALSE & TRUE & minor\\\\\n",
       "\t 1222574 &  7601720 &  7601721 &  3 &  0 &  0 &  4 &  0 & 0 & 2020-10-11 20:48:29 & 2021-02-10 23:10:11 & major & FALSE & TRUE & major\\\\\n",
       "\t 1253403 &  7853032 &  7853033 &  0 &  9 &  0 &  0 & 10 & 0 & 2021-09-02 07:34:04 & 2021-11-14 00:33:42 & minor & FALSE & TRUE & minor\\\\\n",
       "\t 1444122 &  9282043 &  9282044 &  0 &  2 &  0 &  0 &  3 & 0 & 2021-01-30 20:43:36 & 2021-03-31 19:07:06 & minor & FALSE & TRUE & minor\\\\\n",
       "\t 1470637 &  9525328 &  9525329 &  0 & 32 &  0 &  0 & 33 & 0 & 2019-06-13 10:28:40 & 2020-11-07 09:11:40 & minor & FALSE & TRUE & minor\\\\\n",
       "\t 1491271 &  9774258 &  9774259 &  5 &  0 &  2 &  6 &  0 & 0 & 2021-06-01 19:28:15 & 2022-03-01 19:47:19 & major & FALSE & TRUE & major\\\\\n",
       "\t 1553900 & 10573004 & 10573005 &  1 &  0 & 14 &  2 &  0 & 0 & 2019-05-15 13:17:26 & 2019-08-03 17:27:37 & major & FALSE & TRUE & major\\\\\n",
       "\t 1648817 & 11567990 & 11567991 &  0 &  3 &  8 &  0 &  4 & 0 & 2014-01-24 10:44:07 & 2016-02-23 10:53:39 & minor & FALSE & TRUE & minor\\\\\n",
       "\t 1659990 & 11660821 & 11660822 &  0 &  0 &  7 &  0 &  0 & 8 & 2017-01-02 04:15:30 & 2022-02-28 14:30:19 & bug   & FALSE & TRUE & bug  \\\\\n",
       "\t 1681525 & 11872465 & 11872466 &  2 & 53 &  0 &  3 &  0 & 1 & 2016-04-03 23:16:01 & 2016-11-04 08:40:03 & major & FALSE & TRUE & major\\\\\n",
       "\t 1681918 & 11875651 & 11875656 &  2 &  0 &  0 &  3 &  0 & 0 & 2016-07-14 03:33:27 & 2018-05-15 18:15:21 & major & FALSE & TRUE & major\\\\\n",
       "\t 1714787 & 12179773 & 12179774 &  0 & 11 &  3 &  1 &  0 & 0 & 2016-08-06 23:19:09 & 2016-08-16 20:37:39 & major & FALSE & TRUE & major\\\\\n",
       "\t 1794588 & 13030703 & 13030704 &  0 &  0 &  1 &  0 &  0 & 2 & 2022-05-12 23:58:27 & 2022-05-18 21:19:27 & bug   & FALSE & TRUE & bug  \\\\\n",
       "\t 1813881 & 13221420 & 13221421 &  1 &  0 &  3 &  2 &  0 & 0 & 2014-11-28 01:50:25 & 2015-03-27 01:45:53 & major & FALSE & TRUE & major\\\\\n",
       "\t 1820907 & 13326888 & 13326889 &  0 &  3 &  2 &  0 &  4 & 0 & 2021-08-04 01:29:31 & 2021-10-26 15:15:37 & minor & FALSE & TRUE & minor\\\\\n",
       "\t 1849054 & 13634886 & 13634887 &  6 &  2 &  0 &  7 &  0 & 0 & 2018-02-07 19:02:34 & 2018-02-15 01:30:51 & major & FALSE & TRUE & major\\\\\n",
       "\t 1875061 & 13914603 & 13914604 &  0 &  8 &  1 &  1 &  0 & 1 & 2021-10-22 16:23:53 & 2021-10-22 16:26:19 & major & FALSE & TRUE & major\\\\\n",
       "\t 1880165 & 13975172 & 13975173 &  0 &  8 &  4 &  0 &  9 & 0 & 2014-11-24 04:22:56 & 2015-04-04 18:47:51 & minor & FALSE & TRUE & minor\\\\\n",
       "\t 1880667 & 13978266 & 13978267 &  1 &  0 &  3 &  2 &  0 & 0 & 2017-06-11 21:01:45 & 2017-10-05 02:09:38 & major & FALSE & TRUE & major\\\\\n",
       "\t 1884739 & 14017658 & 14017659 &  2 &  1 &  1 &  3 &  0 & 0 & 2015-07-08 21:15:27 & 2017-03-24 14:45:54 & major & FALSE & TRUE & major\\\\\n",
       "\t 1969916 & 14994056 & 14994057 &  0 & 16 &  9 &  0 & 17 & 0 & 2020-11-20 07:22:22 & 2021-05-13 19:13:41 & minor & FALSE & TRUE & minor\\\\\n",
       "\t 1981155 & 15105927 & 15105928 & 26 &  0 &  0 & 27 &  0 & 0 & 2021-03-03 08:29:27 & 2021-03-24 08:06:52 & major & FALSE & TRUE & major\\\\\n",
       "\t 1981168 & 15106996 & 15106997 & 26 &  0 &  0 & 27 &  0 & 0 & 2021-03-03 08:30:04 & 2021-03-24 08:07:32 & major & FALSE & TRUE & major\\\\\n",
       "\t 1981186 & 15107581 & 15107582 & 26 &  0 &  0 & 27 &  0 & 0 & 2021-03-03 08:30:27 & 2021-03-24 08:07:56 & major & FALSE & TRUE & major\\\\\n",
       "\t 1981187 & 15107617 & 15107618 & 26 &  0 &  0 & 27 &  0 & 0 & 2021-03-03 08:30:32 & 2021-03-24 08:08:03 & major & FALSE & TRUE & major\\\\\n",
       "\t 2005454 & 15462781 & 15462782 &  0 &  4 &  4 &  0 &  5 & 0 & 2013-01-28 14:01:13 & 2013-07-02 12:46:13 & minor & FALSE & TRUE & minor\\\\\n",
       "\t ⋮ & ⋮ & ⋮ & ⋮ & ⋮ & ⋮ & ⋮ & ⋮ & ⋮ & ⋮ & ⋮ & ⋮ & ⋮ & ⋮ & ⋮\\\\\n",
       "\t 2291733 & 18485664 & 18485665 & 1 & 13 &  0 & 2 &  0 &  0 & 2019-02-08 18:25:35 & 2020-06-15 16:31:07 & major & FALSE & TRUE & major\\\\\n",
       "\t 2312482 & 18798008 & 18798009 & 0 & 10 &  0 & 1 &  0 &  0 & 2020-09-02 02:06:56 & 2022-01-05 03:00:55 & major & FALSE & TRUE & major\\\\\n",
       "\t 2317404 & 18848305 & 18848306 & 4 &  0 &  2 & 5 &  0 &  0 & 2018-05-26 20:11:23 & 2020-03-16 13:55:47 & major & FALSE & TRUE & major\\\\\n",
       "\t 2320035 & 18881505 & 18881506 & 0 &  7 &  0 & 0 &  8 &  2 & 2015-05-24 02:04:37 & 2015-09-25 13:55:21 & minor & FALSE & TRUE & minor\\\\\n",
       "\t 2320082 & 18882050 & 18882051 & 0 &  6 &  3 & 0 &  7 &  0 & 2019-05-13 16:51:12 & 2020-08-21 17:37:52 & minor & FALSE & TRUE & minor\\\\\n",
       "\t 2337482 & 19155949 & 19155950 & 7 &  8 &  6 & 8 &  0 &  0 & 2021-02-26 23:53:44 & 2021-03-23 12:51:31 & major & FALSE & TRUE & major\\\\\n",
       "\t 2342834 & 19226041 & 19226042 & 2 &  0 &  1 & 3 &  0 &  0 & 2021-06-07 13:54:07 & 2021-10-17 08:58:05 & major & FALSE & TRUE & major\\\\\n",
       "\t 2344191 & 19246625 & 19246626 & 4 &  2 &  0 & 5 &  0 &  0 & 2021-03-31 19:14:42 & 2021-07-12 21:45:39 & major & FALSE & TRUE & major\\\\\n",
       "\t 2347084 & 19276135 & 19276136 & 1 &  0 &  1 & 2 &  0 &  0 & 2017-06-05 20:27:16 & 2021-12-16 15:35:03 & major & FALSE & TRUE & major\\\\\n",
       "\t 2347963 & 19286424 & 19286425 & 0 &  5 &  3 & 0 &  6 &  0 & 2022-05-16 14:58:20 & 2022-05-20 13:32:46 & minor & FALSE & TRUE & minor\\\\\n",
       "\t 2360148 & 19612241 & 19612242 & 1 &  1 &  0 & 2 &  0 &  0 & 2019-06-14 15:23:00 & 2019-11-26 11:42:42 & major & FALSE & TRUE & major\\\\\n",
       "\t 2364656 & 19664121 & 19664122 & 0 &  0 & 18 & 0 &  0 & 19 & 2017-04-24 16:33:13 & 2017-04-26 20:07:19 & bug   & FALSE & TRUE & bug  \\\\\n",
       "\t 2369594 & 19739677 & 19739678 & 0 &  0 &  1 & 0 &  0 &  2 & 2012-06-30 00:34:38 & 2014-08-13 06:58:29 & bug   & FALSE & TRUE & bug  \\\\\n",
       "\t 2373567 & 19778377 & 19778378 & 0 &  0 &  2 & 1 &  0 &  0 & 2014-06-03 18:31:33 & 2018-09-03 21:00:55 & major & FALSE & TRUE & major\\\\\n",
       "\t 2377760 & 19826720 & 19826721 & 1 &  5 & 14 & 2 &  0 & 25 & 2019-07-21 08:48:08 & 2019-10-11 06:06:33 & major & FALSE & TRUE & major\\\\\n",
       "\t 2382031 & 19873682 & 19873683 & 2 &  0 &  0 & 3 &  0 &  0 & 2017-10-19 12:07:55 & 2017-12-28 22:58:29 & major & FALSE & TRUE & major\\\\\n",
       "\t 2400707 & 20666211 & 20666301 & 5 &  2 &  2 & 6 &  0 &  0 & 2016-08-22 18:15:21 & 2016-10-24 19:22:23 & major & FALSE & TRUE & major\\\\\n",
       "\t 2434644 & 21506961 & 21506962 & 2 &  0 &  1 & 3 &  0 &  0 & 2018-09-18 18:50:00 & 2020-07-02 15:40:06 & major & FALSE & TRUE & major\\\\\n",
       "\t 2436113 & 21532650 & 21532651 & 6 &  0 &  0 & 7 &  0 &  0 & 2021-08-24 07:49:19 & 2022-02-21 17:12:06 & major & FALSE & TRUE & major\\\\\n",
       "\t 2442682 & 21783870 & 21783871 & 4 &  0 &  2 & 5 &  0 &  0 & 2021-03-13 01:08:51 & 2021-12-16 04:18:27 & major & FALSE & TRUE & major\\\\\n",
       "\t 2457132 & 22334038 & 22334039 & 0 & 14 &  0 & 0 & 15 &  0 & 2020-04-02 07:07:13 & 2021-03-29 10:05:08 & minor & FALSE & TRUE & minor\\\\\n",
       "\t 2466936 & 23389245 & 23389246 & 6 &  5 &  8 & 7 &  0 &  0 & 2018-05-22 14:25:14 & 2018-05-28 17:10:07 & major & FALSE & TRUE & major\\\\\n",
       "\t 2467311 & 23417894 & 23417895 & 2 &  2 &  0 & 3 &  1 &  0 & 2018-03-23 20:19:11 & 2018-05-22 16:10:25 & major & FALSE & TRUE & major\\\\\n",
       "\t 2467431 & 28909903 & 29470755 & 0 & 15 & 23 & 0 & 16 &  0 & 2022-09-27 00:02:07 & 2022-10-19 23:06:02 & minor & FALSE & TRUE & minor\\\\\n",
       "\t 2471434 & 23908779 & 23908852 & 0 & 35 &  0 & 0 & 36 &  0 & 2022-05-04 01:08:21 & 2022-05-11 17:16:45 & minor & FALSE & TRUE & minor\\\\\n",
       "\t 2481425 & 26459601 & 26459656 & 0 & 16 &  1 & 1 &  0 &  0 & 2020-03-04 18:57:45 & 2020-03-26 14:37:49 & major & FALSE & TRUE & major\\\\\n",
       "\t  126517 &   113480 &   113481 & 0 &  9 &  0 & 3 &  0 &  1 & 2014-12-13 10:43:57 & 2015-03-30 22:10:32 & major & FALSE & TRUE & major\\\\\n",
       "\t  131189 &   137913 &   137914 & 0 & 49 &  3 & 0 & 50 &  0 & 2015-01-11 23:00:03 & 2015-01-22 17:54:02 & minor & FALSE & TRUE & minor\\\\\n",
       "\t  555680 &   916078 &   916079 & 0 &  0 &  1 & 0 &  0 &  2 & 2021-05-12 14:44:08 & 2022-04-04 17:48:54 & bug   & FALSE & TRUE & bug  \\\\\n",
       "\t  588758 &  1366767 &  1366768 & 0 &  0 &  6 & 0 &  0 &  7 & 2021-07-27 22:39:30 & 2021-09-13 18:03:25 & bug   & FALSE & TRUE & bug  \\\\\n",
       "\\end{tabular}\n"
      ],
      "text/markdown": [
       "\n",
       "A data.frame: 1391 × 15\n",
       "\n",
       "| package_id &lt;int64&gt; | from_id &lt;int64&gt; | to_id &lt;int64&gt; | from_semver_major &lt;int64&gt; | from_semver_minor &lt;int64&gt; | from_semver_bug &lt;int64&gt; | to_semver_major &lt;int64&gt; | to_semver_minor &lt;int64&gt; | to_semver_bug &lt;int64&gt; | from_created &lt;dttm&gt; | to_created &lt;dttm&gt; | ty &lt;chr&gt; | did_intro_vuln &lt;lgl&gt; | did_patch_vuln &lt;lgl&gt; | tyFact &lt;fct&gt; |\n",
       "|---|---|---|---|---|---|---|---|---|---|---|---|---|---|---|\n",
       "| 1007773 |  5765032 |  5765033 |  0 |  1 |  0 |  1 |  0 | 0 | 2018-07-22 13:59:13 | 2019-01-31 08:06:00 | major | FALSE | TRUE | major |\n",
       "| 1043252 |  6133139 |  6133140 |  0 |  5 |  0 |  0 |  6 | 0 | 2017-03-04 19:32:51 | 2017-03-05 00:30:01 | minor | FALSE | TRUE | minor |\n",
       "| 1067473 |  6377114 |  6377115 |  0 |  3 |  0 |  0 |  4 | 0 | 2019-09-20 13:52:46 | 2020-03-01 10:01:50 | minor | FALSE | TRUE | minor |\n",
       "| 1118882 |  6759219 |  6759220 |  0 |  2 |  0 |  0 |  3 | 0 | 2018-11-30 22:40:49 | 2019-06-21 12:03:39 | minor | FALSE | TRUE | minor |\n",
       "| 1204278 |  7447118 |  7447119 |  0 | 25 |  1 |  0 | 26 | 0 | 2021-07-04 04:50:38 | 2022-02-07 06:18:29 | minor | FALSE | TRUE | minor |\n",
       "| 1222574 |  7601720 |  7601721 |  3 |  0 |  0 |  4 |  0 | 0 | 2020-10-11 20:48:29 | 2021-02-10 23:10:11 | major | FALSE | TRUE | major |\n",
       "| 1253403 |  7853032 |  7853033 |  0 |  9 |  0 |  0 | 10 | 0 | 2021-09-02 07:34:04 | 2021-11-14 00:33:42 | minor | FALSE | TRUE | minor |\n",
       "| 1444122 |  9282043 |  9282044 |  0 |  2 |  0 |  0 |  3 | 0 | 2021-01-30 20:43:36 | 2021-03-31 19:07:06 | minor | FALSE | TRUE | minor |\n",
       "| 1470637 |  9525328 |  9525329 |  0 | 32 |  0 |  0 | 33 | 0 | 2019-06-13 10:28:40 | 2020-11-07 09:11:40 | minor | FALSE | TRUE | minor |\n",
       "| 1491271 |  9774258 |  9774259 |  5 |  0 |  2 |  6 |  0 | 0 | 2021-06-01 19:28:15 | 2022-03-01 19:47:19 | major | FALSE | TRUE | major |\n",
       "| 1553900 | 10573004 | 10573005 |  1 |  0 | 14 |  2 |  0 | 0 | 2019-05-15 13:17:26 | 2019-08-03 17:27:37 | major | FALSE | TRUE | major |\n",
       "| 1648817 | 11567990 | 11567991 |  0 |  3 |  8 |  0 |  4 | 0 | 2014-01-24 10:44:07 | 2016-02-23 10:53:39 | minor | FALSE | TRUE | minor |\n",
       "| 1659990 | 11660821 | 11660822 |  0 |  0 |  7 |  0 |  0 | 8 | 2017-01-02 04:15:30 | 2022-02-28 14:30:19 | bug   | FALSE | TRUE | bug   |\n",
       "| 1681525 | 11872465 | 11872466 |  2 | 53 |  0 |  3 |  0 | 1 | 2016-04-03 23:16:01 | 2016-11-04 08:40:03 | major | FALSE | TRUE | major |\n",
       "| 1681918 | 11875651 | 11875656 |  2 |  0 |  0 |  3 |  0 | 0 | 2016-07-14 03:33:27 | 2018-05-15 18:15:21 | major | FALSE | TRUE | major |\n",
       "| 1714787 | 12179773 | 12179774 |  0 | 11 |  3 |  1 |  0 | 0 | 2016-08-06 23:19:09 | 2016-08-16 20:37:39 | major | FALSE | TRUE | major |\n",
       "| 1794588 | 13030703 | 13030704 |  0 |  0 |  1 |  0 |  0 | 2 | 2022-05-12 23:58:27 | 2022-05-18 21:19:27 | bug   | FALSE | TRUE | bug   |\n",
       "| 1813881 | 13221420 | 13221421 |  1 |  0 |  3 |  2 |  0 | 0 | 2014-11-28 01:50:25 | 2015-03-27 01:45:53 | major | FALSE | TRUE | major |\n",
       "| 1820907 | 13326888 | 13326889 |  0 |  3 |  2 |  0 |  4 | 0 | 2021-08-04 01:29:31 | 2021-10-26 15:15:37 | minor | FALSE | TRUE | minor |\n",
       "| 1849054 | 13634886 | 13634887 |  6 |  2 |  0 |  7 |  0 | 0 | 2018-02-07 19:02:34 | 2018-02-15 01:30:51 | major | FALSE | TRUE | major |\n",
       "| 1875061 | 13914603 | 13914604 |  0 |  8 |  1 |  1 |  0 | 1 | 2021-10-22 16:23:53 | 2021-10-22 16:26:19 | major | FALSE | TRUE | major |\n",
       "| 1880165 | 13975172 | 13975173 |  0 |  8 |  4 |  0 |  9 | 0 | 2014-11-24 04:22:56 | 2015-04-04 18:47:51 | minor | FALSE | TRUE | minor |\n",
       "| 1880667 | 13978266 | 13978267 |  1 |  0 |  3 |  2 |  0 | 0 | 2017-06-11 21:01:45 | 2017-10-05 02:09:38 | major | FALSE | TRUE | major |\n",
       "| 1884739 | 14017658 | 14017659 |  2 |  1 |  1 |  3 |  0 | 0 | 2015-07-08 21:15:27 | 2017-03-24 14:45:54 | major | FALSE | TRUE | major |\n",
       "| 1969916 | 14994056 | 14994057 |  0 | 16 |  9 |  0 | 17 | 0 | 2020-11-20 07:22:22 | 2021-05-13 19:13:41 | minor | FALSE | TRUE | minor |\n",
       "| 1981155 | 15105927 | 15105928 | 26 |  0 |  0 | 27 |  0 | 0 | 2021-03-03 08:29:27 | 2021-03-24 08:06:52 | major | FALSE | TRUE | major |\n",
       "| 1981168 | 15106996 | 15106997 | 26 |  0 |  0 | 27 |  0 | 0 | 2021-03-03 08:30:04 | 2021-03-24 08:07:32 | major | FALSE | TRUE | major |\n",
       "| 1981186 | 15107581 | 15107582 | 26 |  0 |  0 | 27 |  0 | 0 | 2021-03-03 08:30:27 | 2021-03-24 08:07:56 | major | FALSE | TRUE | major |\n",
       "| 1981187 | 15107617 | 15107618 | 26 |  0 |  0 | 27 |  0 | 0 | 2021-03-03 08:30:32 | 2021-03-24 08:08:03 | major | FALSE | TRUE | major |\n",
       "| 2005454 | 15462781 | 15462782 |  0 |  4 |  4 |  0 |  5 | 0 | 2013-01-28 14:01:13 | 2013-07-02 12:46:13 | minor | FALSE | TRUE | minor |\n",
       "| ⋮ | ⋮ | ⋮ | ⋮ | ⋮ | ⋮ | ⋮ | ⋮ | ⋮ | ⋮ | ⋮ | ⋮ | ⋮ | ⋮ | ⋮ |\n",
       "| 2291733 | 18485664 | 18485665 | 1 | 13 |  0 | 2 |  0 |  0 | 2019-02-08 18:25:35 | 2020-06-15 16:31:07 | major | FALSE | TRUE | major |\n",
       "| 2312482 | 18798008 | 18798009 | 0 | 10 |  0 | 1 |  0 |  0 | 2020-09-02 02:06:56 | 2022-01-05 03:00:55 | major | FALSE | TRUE | major |\n",
       "| 2317404 | 18848305 | 18848306 | 4 |  0 |  2 | 5 |  0 |  0 | 2018-05-26 20:11:23 | 2020-03-16 13:55:47 | major | FALSE | TRUE | major |\n",
       "| 2320035 | 18881505 | 18881506 | 0 |  7 |  0 | 0 |  8 |  2 | 2015-05-24 02:04:37 | 2015-09-25 13:55:21 | minor | FALSE | TRUE | minor |\n",
       "| 2320082 | 18882050 | 18882051 | 0 |  6 |  3 | 0 |  7 |  0 | 2019-05-13 16:51:12 | 2020-08-21 17:37:52 | minor | FALSE | TRUE | minor |\n",
       "| 2337482 | 19155949 | 19155950 | 7 |  8 |  6 | 8 |  0 |  0 | 2021-02-26 23:53:44 | 2021-03-23 12:51:31 | major | FALSE | TRUE | major |\n",
       "| 2342834 | 19226041 | 19226042 | 2 |  0 |  1 | 3 |  0 |  0 | 2021-06-07 13:54:07 | 2021-10-17 08:58:05 | major | FALSE | TRUE | major |\n",
       "| 2344191 | 19246625 | 19246626 | 4 |  2 |  0 | 5 |  0 |  0 | 2021-03-31 19:14:42 | 2021-07-12 21:45:39 | major | FALSE | TRUE | major |\n",
       "| 2347084 | 19276135 | 19276136 | 1 |  0 |  1 | 2 |  0 |  0 | 2017-06-05 20:27:16 | 2021-12-16 15:35:03 | major | FALSE | TRUE | major |\n",
       "| 2347963 | 19286424 | 19286425 | 0 |  5 |  3 | 0 |  6 |  0 | 2022-05-16 14:58:20 | 2022-05-20 13:32:46 | minor | FALSE | TRUE | minor |\n",
       "| 2360148 | 19612241 | 19612242 | 1 |  1 |  0 | 2 |  0 |  0 | 2019-06-14 15:23:00 | 2019-11-26 11:42:42 | major | FALSE | TRUE | major |\n",
       "| 2364656 | 19664121 | 19664122 | 0 |  0 | 18 | 0 |  0 | 19 | 2017-04-24 16:33:13 | 2017-04-26 20:07:19 | bug   | FALSE | TRUE | bug   |\n",
       "| 2369594 | 19739677 | 19739678 | 0 |  0 |  1 | 0 |  0 |  2 | 2012-06-30 00:34:38 | 2014-08-13 06:58:29 | bug   | FALSE | TRUE | bug   |\n",
       "| 2373567 | 19778377 | 19778378 | 0 |  0 |  2 | 1 |  0 |  0 | 2014-06-03 18:31:33 | 2018-09-03 21:00:55 | major | FALSE | TRUE | major |\n",
       "| 2377760 | 19826720 | 19826721 | 1 |  5 | 14 | 2 |  0 | 25 | 2019-07-21 08:48:08 | 2019-10-11 06:06:33 | major | FALSE | TRUE | major |\n",
       "| 2382031 | 19873682 | 19873683 | 2 |  0 |  0 | 3 |  0 |  0 | 2017-10-19 12:07:55 | 2017-12-28 22:58:29 | major | FALSE | TRUE | major |\n",
       "| 2400707 | 20666211 | 20666301 | 5 |  2 |  2 | 6 |  0 |  0 | 2016-08-22 18:15:21 | 2016-10-24 19:22:23 | major | FALSE | TRUE | major |\n",
       "| 2434644 | 21506961 | 21506962 | 2 |  0 |  1 | 3 |  0 |  0 | 2018-09-18 18:50:00 | 2020-07-02 15:40:06 | major | FALSE | TRUE | major |\n",
       "| 2436113 | 21532650 | 21532651 | 6 |  0 |  0 | 7 |  0 |  0 | 2021-08-24 07:49:19 | 2022-02-21 17:12:06 | major | FALSE | TRUE | major |\n",
       "| 2442682 | 21783870 | 21783871 | 4 |  0 |  2 | 5 |  0 |  0 | 2021-03-13 01:08:51 | 2021-12-16 04:18:27 | major | FALSE | TRUE | major |\n",
       "| 2457132 | 22334038 | 22334039 | 0 | 14 |  0 | 0 | 15 |  0 | 2020-04-02 07:07:13 | 2021-03-29 10:05:08 | minor | FALSE | TRUE | minor |\n",
       "| 2466936 | 23389245 | 23389246 | 6 |  5 |  8 | 7 |  0 |  0 | 2018-05-22 14:25:14 | 2018-05-28 17:10:07 | major | FALSE | TRUE | major |\n",
       "| 2467311 | 23417894 | 23417895 | 2 |  2 |  0 | 3 |  1 |  0 | 2018-03-23 20:19:11 | 2018-05-22 16:10:25 | major | FALSE | TRUE | major |\n",
       "| 2467431 | 28909903 | 29470755 | 0 | 15 | 23 | 0 | 16 |  0 | 2022-09-27 00:02:07 | 2022-10-19 23:06:02 | minor | FALSE | TRUE | minor |\n",
       "| 2471434 | 23908779 | 23908852 | 0 | 35 |  0 | 0 | 36 |  0 | 2022-05-04 01:08:21 | 2022-05-11 17:16:45 | minor | FALSE | TRUE | minor |\n",
       "| 2481425 | 26459601 | 26459656 | 0 | 16 |  1 | 1 |  0 |  0 | 2020-03-04 18:57:45 | 2020-03-26 14:37:49 | major | FALSE | TRUE | major |\n",
       "|  126517 |   113480 |   113481 | 0 |  9 |  0 | 3 |  0 |  1 | 2014-12-13 10:43:57 | 2015-03-30 22:10:32 | major | FALSE | TRUE | major |\n",
       "|  131189 |   137913 |   137914 | 0 | 49 |  3 | 0 | 50 |  0 | 2015-01-11 23:00:03 | 2015-01-22 17:54:02 | minor | FALSE | TRUE | minor |\n",
       "|  555680 |   916078 |   916079 | 0 |  0 |  1 | 0 |  0 |  2 | 2021-05-12 14:44:08 | 2022-04-04 17:48:54 | bug   | FALSE | TRUE | bug   |\n",
       "|  588758 |  1366767 |  1366768 | 0 |  0 |  6 | 0 |  0 |  7 | 2021-07-27 22:39:30 | 2021-09-13 18:03:25 | bug   | FALSE | TRUE | bug   |\n",
       "\n"
      ],
      "text/plain": [
       "     package_id from_id  to_id    from_semver_major from_semver_minor\n",
       "1    1007773     5765032  5765033  0                 1               \n",
       "2    1043252     6133139  6133140  0                 5               \n",
       "3    1067473     6377114  6377115  0                 3               \n",
       "4    1118882     6759219  6759220  0                 2               \n",
       "5    1204278     7447118  7447119  0                25               \n",
       "6    1222574     7601720  7601721  3                 0               \n",
       "7    1253403     7853032  7853033  0                 9               \n",
       "8    1444122     9282043  9282044  0                 2               \n",
       "9    1470637     9525328  9525329  0                32               \n",
       "10   1491271     9774258  9774259  5                 0               \n",
       "11   1553900    10573004 10573005  1                 0               \n",
       "12   1648817    11567990 11567991  0                 3               \n",
       "13   1659990    11660821 11660822  0                 0               \n",
       "14   1681525    11872465 11872466  2                53               \n",
       "15   1681918    11875651 11875656  2                 0               \n",
       "16   1714787    12179773 12179774  0                11               \n",
       "17   1794588    13030703 13030704  0                 0               \n",
       "18   1813881    13221420 13221421  1                 0               \n",
       "19   1820907    13326888 13326889  0                 3               \n",
       "20   1849054    13634886 13634887  6                 2               \n",
       "21   1875061    13914603 13914604  0                 8               \n",
       "22   1880165    13975172 13975173  0                 8               \n",
       "23   1880667    13978266 13978267  1                 0               \n",
       "24   1884739    14017658 14017659  2                 1               \n",
       "25   1969916    14994056 14994057  0                16               \n",
       "26   1981155    15105927 15105928 26                 0               \n",
       "27   1981168    15106996 15106997 26                 0               \n",
       "28   1981186    15107581 15107582 26                 0               \n",
       "29   1981187    15107617 15107618 26                 0               \n",
       "30   2005454    15462781 15462782  0                 4               \n",
       "⋮    ⋮          ⋮        ⋮        ⋮                 ⋮                \n",
       "1362 2291733    18485664 18485665 1                 13               \n",
       "1363 2312482    18798008 18798009 0                 10               \n",
       "1364 2317404    18848305 18848306 4                  0               \n",
       "1365 2320035    18881505 18881506 0                  7               \n",
       "1366 2320082    18882050 18882051 0                  6               \n",
       "1367 2337482    19155949 19155950 7                  8               \n",
       "1368 2342834    19226041 19226042 2                  0               \n",
       "1369 2344191    19246625 19246626 4                  2               \n",
       "1370 2347084    19276135 19276136 1                  0               \n",
       "1371 2347963    19286424 19286425 0                  5               \n",
       "1372 2360148    19612241 19612242 1                  1               \n",
       "1373 2364656    19664121 19664122 0                  0               \n",
       "1374 2369594    19739677 19739678 0                  0               \n",
       "1375 2373567    19778377 19778378 0                  0               \n",
       "1376 2377760    19826720 19826721 1                  5               \n",
       "1377 2382031    19873682 19873683 2                  0               \n",
       "1378 2400707    20666211 20666301 5                  2               \n",
       "1379 2434644    21506961 21506962 2                  0               \n",
       "1380 2436113    21532650 21532651 6                  0               \n",
       "1381 2442682    21783870 21783871 4                  0               \n",
       "1382 2457132    22334038 22334039 0                 14               \n",
       "1383 2466936    23389245 23389246 6                  5               \n",
       "1384 2467311    23417894 23417895 2                  2               \n",
       "1385 2467431    28909903 29470755 0                 15               \n",
       "1386 2471434    23908779 23908852 0                 35               \n",
       "1387 2481425    26459601 26459656 0                 16               \n",
       "1388  126517      113480   113481 0                  9               \n",
       "1389  131189      137913   137914 0                 49               \n",
       "1390  555680      916078   916079 0                  0               \n",
       "1391  588758     1366767  1366768 0                  0               \n",
       "     from_semver_bug to_semver_major to_semver_minor to_semver_bug\n",
       "1     0               1               0              0            \n",
       "2     0               0               6              0            \n",
       "3     0               0               4              0            \n",
       "4     0               0               3              0            \n",
       "5     1               0              26              0            \n",
       "6     0               4               0              0            \n",
       "7     0               0              10              0            \n",
       "8     0               0               3              0            \n",
       "9     0               0              33              0            \n",
       "10    2               6               0              0            \n",
       "11   14               2               0              0            \n",
       "12    8               0               4              0            \n",
       "13    7               0               0              8            \n",
       "14    0               3               0              1            \n",
       "15    0               3               0              0            \n",
       "16    3               1               0              0            \n",
       "17    1               0               0              2            \n",
       "18    3               2               0              0            \n",
       "19    2               0               4              0            \n",
       "20    0               7               0              0            \n",
       "21    1               1               0              1            \n",
       "22    4               0               9              0            \n",
       "23    3               2               0              0            \n",
       "24    1               3               0              0            \n",
       "25    9               0              17              0            \n",
       "26    0              27               0              0            \n",
       "27    0              27               0              0            \n",
       "28    0              27               0              0            \n",
       "29    0              27               0              0            \n",
       "30    4               0               5              0            \n",
       "⋮    ⋮               ⋮               ⋮               ⋮            \n",
       "1362  0              2                0               0           \n",
       "1363  0              1                0               0           \n",
       "1364  2              5                0               0           \n",
       "1365  0              0                8               2           \n",
       "1366  3              0                7               0           \n",
       "1367  6              8                0               0           \n",
       "1368  1              3                0               0           \n",
       "1369  0              5                0               0           \n",
       "1370  1              2                0               0           \n",
       "1371  3              0                6               0           \n",
       "1372  0              2                0               0           \n",
       "1373 18              0                0              19           \n",
       "1374  1              0                0               2           \n",
       "1375  2              1                0               0           \n",
       "1376 14              2                0              25           \n",
       "1377  0              3                0               0           \n",
       "1378  2              6                0               0           \n",
       "1379  1              3                0               0           \n",
       "1380  0              7                0               0           \n",
       "1381  2              5                0               0           \n",
       "1382  0              0               15               0           \n",
       "1383  8              7                0               0           \n",
       "1384  0              3                1               0           \n",
       "1385 23              0               16               0           \n",
       "1386  0              0               36               0           \n",
       "1387  1              1                0               0           \n",
       "1388  0              3                0               1           \n",
       "1389  3              0               50               0           \n",
       "1390  1              0                0               2           \n",
       "1391  6              0                0               7           \n",
       "     from_created        to_created          ty    did_intro_vuln\n",
       "1    2018-07-22 13:59:13 2019-01-31 08:06:00 major FALSE         \n",
       "2    2017-03-04 19:32:51 2017-03-05 00:30:01 minor FALSE         \n",
       "3    2019-09-20 13:52:46 2020-03-01 10:01:50 minor FALSE         \n",
       "4    2018-11-30 22:40:49 2019-06-21 12:03:39 minor FALSE         \n",
       "5    2021-07-04 04:50:38 2022-02-07 06:18:29 minor FALSE         \n",
       "6    2020-10-11 20:48:29 2021-02-10 23:10:11 major FALSE         \n",
       "7    2021-09-02 07:34:04 2021-11-14 00:33:42 minor FALSE         \n",
       "8    2021-01-30 20:43:36 2021-03-31 19:07:06 minor FALSE         \n",
       "9    2019-06-13 10:28:40 2020-11-07 09:11:40 minor FALSE         \n",
       "10   2021-06-01 19:28:15 2022-03-01 19:47:19 major FALSE         \n",
       "11   2019-05-15 13:17:26 2019-08-03 17:27:37 major FALSE         \n",
       "12   2014-01-24 10:44:07 2016-02-23 10:53:39 minor FALSE         \n",
       "13   2017-01-02 04:15:30 2022-02-28 14:30:19 bug   FALSE         \n",
       "14   2016-04-03 23:16:01 2016-11-04 08:40:03 major FALSE         \n",
       "15   2016-07-14 03:33:27 2018-05-15 18:15:21 major FALSE         \n",
       "16   2016-08-06 23:19:09 2016-08-16 20:37:39 major FALSE         \n",
       "17   2022-05-12 23:58:27 2022-05-18 21:19:27 bug   FALSE         \n",
       "18   2014-11-28 01:50:25 2015-03-27 01:45:53 major FALSE         \n",
       "19   2021-08-04 01:29:31 2021-10-26 15:15:37 minor FALSE         \n",
       "20   2018-02-07 19:02:34 2018-02-15 01:30:51 major FALSE         \n",
       "21   2021-10-22 16:23:53 2021-10-22 16:26:19 major FALSE         \n",
       "22   2014-11-24 04:22:56 2015-04-04 18:47:51 minor FALSE         \n",
       "23   2017-06-11 21:01:45 2017-10-05 02:09:38 major FALSE         \n",
       "24   2015-07-08 21:15:27 2017-03-24 14:45:54 major FALSE         \n",
       "25   2020-11-20 07:22:22 2021-05-13 19:13:41 minor FALSE         \n",
       "26   2021-03-03 08:29:27 2021-03-24 08:06:52 major FALSE         \n",
       "27   2021-03-03 08:30:04 2021-03-24 08:07:32 major FALSE         \n",
       "28   2021-03-03 08:30:27 2021-03-24 08:07:56 major FALSE         \n",
       "29   2021-03-03 08:30:32 2021-03-24 08:08:03 major FALSE         \n",
       "30   2013-01-28 14:01:13 2013-07-02 12:46:13 minor FALSE         \n",
       "⋮    ⋮                   ⋮                   ⋮     ⋮             \n",
       "1362 2019-02-08 18:25:35 2020-06-15 16:31:07 major FALSE         \n",
       "1363 2020-09-02 02:06:56 2022-01-05 03:00:55 major FALSE         \n",
       "1364 2018-05-26 20:11:23 2020-03-16 13:55:47 major FALSE         \n",
       "1365 2015-05-24 02:04:37 2015-09-25 13:55:21 minor FALSE         \n",
       "1366 2019-05-13 16:51:12 2020-08-21 17:37:52 minor FALSE         \n",
       "1367 2021-02-26 23:53:44 2021-03-23 12:51:31 major FALSE         \n",
       "1368 2021-06-07 13:54:07 2021-10-17 08:58:05 major FALSE         \n",
       "1369 2021-03-31 19:14:42 2021-07-12 21:45:39 major FALSE         \n",
       "1370 2017-06-05 20:27:16 2021-12-16 15:35:03 major FALSE         \n",
       "1371 2022-05-16 14:58:20 2022-05-20 13:32:46 minor FALSE         \n",
       "1372 2019-06-14 15:23:00 2019-11-26 11:42:42 major FALSE         \n",
       "1373 2017-04-24 16:33:13 2017-04-26 20:07:19 bug   FALSE         \n",
       "1374 2012-06-30 00:34:38 2014-08-13 06:58:29 bug   FALSE         \n",
       "1375 2014-06-03 18:31:33 2018-09-03 21:00:55 major FALSE         \n",
       "1376 2019-07-21 08:48:08 2019-10-11 06:06:33 major FALSE         \n",
       "1377 2017-10-19 12:07:55 2017-12-28 22:58:29 major FALSE         \n",
       "1378 2016-08-22 18:15:21 2016-10-24 19:22:23 major FALSE         \n",
       "1379 2018-09-18 18:50:00 2020-07-02 15:40:06 major FALSE         \n",
       "1380 2021-08-24 07:49:19 2022-02-21 17:12:06 major FALSE         \n",
       "1381 2021-03-13 01:08:51 2021-12-16 04:18:27 major FALSE         \n",
       "1382 2020-04-02 07:07:13 2021-03-29 10:05:08 minor FALSE         \n",
       "1383 2018-05-22 14:25:14 2018-05-28 17:10:07 major FALSE         \n",
       "1384 2018-03-23 20:19:11 2018-05-22 16:10:25 major FALSE         \n",
       "1385 2022-09-27 00:02:07 2022-10-19 23:06:02 minor FALSE         \n",
       "1386 2022-05-04 01:08:21 2022-05-11 17:16:45 minor FALSE         \n",
       "1387 2020-03-04 18:57:45 2020-03-26 14:37:49 major FALSE         \n",
       "1388 2014-12-13 10:43:57 2015-03-30 22:10:32 major FALSE         \n",
       "1389 2015-01-11 23:00:03 2015-01-22 17:54:02 minor FALSE         \n",
       "1390 2021-05-12 14:44:08 2022-04-04 17:48:54 bug   FALSE         \n",
       "1391 2021-07-27 22:39:30 2021-09-13 18:03:25 bug   FALSE         \n",
       "     did_patch_vuln tyFact\n",
       "1    TRUE           major \n",
       "2    TRUE           minor \n",
       "3    TRUE           minor \n",
       "4    TRUE           minor \n",
       "5    TRUE           minor \n",
       "6    TRUE           major \n",
       "7    TRUE           minor \n",
       "8    TRUE           minor \n",
       "9    TRUE           minor \n",
       "10   TRUE           major \n",
       "11   TRUE           major \n",
       "12   TRUE           minor \n",
       "13   TRUE           bug   \n",
       "14   TRUE           major \n",
       "15   TRUE           major \n",
       "16   TRUE           major \n",
       "17   TRUE           bug   \n",
       "18   TRUE           major \n",
       "19   TRUE           minor \n",
       "20   TRUE           major \n",
       "21   TRUE           major \n",
       "22   TRUE           minor \n",
       "23   TRUE           major \n",
       "24   TRUE           major \n",
       "25   TRUE           minor \n",
       "26   TRUE           major \n",
       "27   TRUE           major \n",
       "28   TRUE           major \n",
       "29   TRUE           major \n",
       "30   TRUE           minor \n",
       "⋮    ⋮              ⋮     \n",
       "1362 TRUE           major \n",
       "1363 TRUE           major \n",
       "1364 TRUE           major \n",
       "1365 TRUE           minor \n",
       "1366 TRUE           minor \n",
       "1367 TRUE           major \n",
       "1368 TRUE           major \n",
       "1369 TRUE           major \n",
       "1370 TRUE           major \n",
       "1371 TRUE           minor \n",
       "1372 TRUE           major \n",
       "1373 TRUE           bug   \n",
       "1374 TRUE           bug   \n",
       "1375 TRUE           major \n",
       "1376 TRUE           major \n",
       "1377 TRUE           major \n",
       "1378 TRUE           major \n",
       "1379 TRUE           major \n",
       "1380 TRUE           major \n",
       "1381 TRUE           major \n",
       "1382 TRUE           minor \n",
       "1383 TRUE           major \n",
       "1384 TRUE           major \n",
       "1385 TRUE           minor \n",
       "1386 TRUE           minor \n",
       "1387 TRUE           major \n",
       "1388 TRUE           major \n",
       "1389 TRUE           minor \n",
       "1390 TRUE           bug   \n",
       "1391 TRUE           bug   "
      ]
     },
     "metadata": {},
     "output_type": "display_data"
    }
   ],
   "source": [
    "patches_only"
   ]
  },
  {
   "attachments": {},
   "cell_type": "markdown",
   "metadata": {},
   "source": [
    "# Make plots!"
   ]
  },
  {
   "cell_type": "code",
   "execution_count": 12,
   "metadata": {
    "vscode": {
     "languageId": "r"
    }
   },
   "outputs": [
    {
     "data": {
      "image/png": "[encoded data removed]",
      "text/plain": [
       "plot without title"
      ]
     },
     "metadata": {
      "image/png": {
       "height": 420,
       "width": 420
      }
     },
     "output_type": "display_data"
    }
   ],
   "source": [
    "# Takes about 20 seconds\n",
    "ggplot(data = all_updates, aes(x = ty)) +\n",
    "    geom_bar()"
   ]
  },
  {
   "attachments": {},
   "cell_type": "markdown",
   "metadata": {},
   "source": [
    "### What proportion of each package's update are each type?"
   ]
  },
  {
   "cell_type": "code",
   "execution_count": 13,
   "metadata": {
    "vscode": {
     "languageId": "r"
    }
   },
   "outputs": [
    {
     "name": "stderr",
     "output_type": "stream",
     "text": [
      "\u001b[1m\u001b[22m`summarise()` has grouped output by 'package_id', 'did_intro_vuln',\n",
      "'did_patch_vuln'. You can override using the `.groups` argument.\n"
     ]
    }
   ],
   "source": [
    "# creates a data frame with one row per package, and columns for count of each update type\n",
    "updateCountsByPackage <- all_updates %>%\n",
    "    group_by(package_id,did_intro_vuln,did_patch_vuln,tyFact) %>%\n",
    "    summarise(\n",
    "        count = n()\n",
    "    ) %>% \n",
    "    pivot_wider(names_from = tyFact, values_from = count, values_fill=0) %>%\n",
    "    mutate(total = bug + minor + major,\n",
    "           bugPct = bug / total,\n",
    "           majorPct = major / total,\n",
    "           minorPct = minor / total,\n",
    "    ) %>%\n",
    "    mutate(update_action = ifelse(did_intro_vuln, 'Intro vuln', ifelse(did_patch_vuln, 'Patch vuln', 'No security effect')))"
   ]
  },
  {
   "cell_type": "code",
   "execution_count": 14,
   "metadata": {
    "vscode": {
     "languageId": "r"
    }
   },
   "outputs": [
    {
     "data": {
      "text/html": [
       "<table class=\"dataframe\">\n",
       "<caption>A grouped_df: 6 × 11</caption>\n",
       "<thead>\n",
       "\t<tr><th scope=col>package_id</th><th scope=col>did_intro_vuln</th><th scope=col>did_patch_vuln</th><th scope=col>bug</th><th scope=col>minor</th><th scope=col>major</th><th scope=col>total</th><th scope=col>bugPct</th><th scope=col>majorPct</th><th scope=col>minorPct</th><th scope=col>update_action</th></tr>\n",
       "\t<tr><th scope=col>&lt;int64&gt;</th><th scope=col>&lt;lgl&gt;</th><th scope=col>&lt;lgl&gt;</th><th scope=col>&lt;int&gt;</th><th scope=col>&lt;int&gt;</th><th scope=col>&lt;int&gt;</th><th scope=col>&lt;int&gt;</th><th scope=col>&lt;dbl&gt;</th><th scope=col>&lt;dbl&gt;</th><th scope=col>&lt;dbl&gt;</th><th scope=col>&lt;chr&gt;</th></tr>\n",
       "</thead>\n",
       "<tbody>\n",
       "\t<tr><td> 335</td><td>FALSE</td><td>FALSE</td><td>150</td><td>182</td><td>12</td><td>344</td><td>0.4360465</td><td>0.03488372</td><td>0.5290698</td><td>No security effect</td></tr>\n",
       "\t<tr><td> 336</td><td>FALSE</td><td>FALSE</td><td>  2</td><td>  0</td><td> 0</td><td>  2</td><td>1.0000000</td><td>0.00000000</td><td>0.0000000</td><td>No security effect</td></tr>\n",
       "\t<tr><td> 337</td><td>FALSE</td><td>FALSE</td><td>  1</td><td>  0</td><td> 0</td><td>  1</td><td>1.0000000</td><td>0.00000000</td><td>0.0000000</td><td>No security effect</td></tr>\n",
       "\t<tr><td> 341</td><td>FALSE</td><td>FALSE</td><td>384</td><td>233</td><td>18</td><td>635</td><td>0.6047244</td><td>0.02834646</td><td>0.3669291</td><td>No security effect</td></tr>\n",
       "\t<tr><td> 488</td><td>FALSE</td><td>FALSE</td><td>  1</td><td>  0</td><td> 1</td><td>  2</td><td>0.5000000</td><td>0.50000000</td><td>0.0000000</td><td>No security effect</td></tr>\n",
       "\t<tr><td>2580</td><td>FALSE</td><td>FALSE</td><td>  2</td><td>  1</td><td> 0</td><td>  3</td><td>0.6666667</td><td>0.00000000</td><td>0.3333333</td><td>No security effect</td></tr>\n",
       "</tbody>\n",
       "</table>\n"
      ],
      "text/latex": [
       "A grouped\\_df: 6 × 11\n",
       "\\begin{tabular}{lllllllllll}\n",
       " package\\_id & did\\_intro\\_vuln & did\\_patch\\_vuln & bug & minor & major & total & bugPct & majorPct & minorPct & update\\_action\\\\\n",
       " <int64> & <lgl> & <lgl> & <int> & <int> & <int> & <int> & <dbl> & <dbl> & <dbl> & <chr>\\\\\n",
       "\\hline\n",
       "\t  335 & FALSE & FALSE & 150 & 182 & 12 & 344 & 0.4360465 & 0.03488372 & 0.5290698 & No security effect\\\\\n",
       "\t  336 & FALSE & FALSE &   2 &   0 &  0 &   2 & 1.0000000 & 0.00000000 & 0.0000000 & No security effect\\\\\n",
       "\t  337 & FALSE & FALSE &   1 &   0 &  0 &   1 & 1.0000000 & 0.00000000 & 0.0000000 & No security effect\\\\\n",
       "\t  341 & FALSE & FALSE & 384 & 233 & 18 & 635 & 0.6047244 & 0.02834646 & 0.3669291 & No security effect\\\\\n",
       "\t  488 & FALSE & FALSE &   1 &   0 &  1 &   2 & 0.5000000 & 0.50000000 & 0.0000000 & No security effect\\\\\n",
       "\t 2580 & FALSE & FALSE &   2 &   1 &  0 &   3 & 0.6666667 & 0.00000000 & 0.3333333 & No security effect\\\\\n",
       "\\end{tabular}\n"
      ],
      "text/markdown": [
       "\n",
       "A grouped_df: 6 × 11\n",
       "\n",
       "| package_id &lt;int64&gt; | did_intro_vuln &lt;lgl&gt; | did_patch_vuln &lt;lgl&gt; | bug &lt;int&gt; | minor &lt;int&gt; | major &lt;int&gt; | total &lt;int&gt; | bugPct &lt;dbl&gt; | majorPct &lt;dbl&gt; | minorPct &lt;dbl&gt; | update_action &lt;chr&gt; |\n",
       "|---|---|---|---|---|---|---|---|---|---|---|\n",
       "|  335 | FALSE | FALSE | 150 | 182 | 12 | 344 | 0.4360465 | 0.03488372 | 0.5290698 | No security effect |\n",
       "|  336 | FALSE | FALSE |   2 |   0 |  0 |   2 | 1.0000000 | 0.00000000 | 0.0000000 | No security effect |\n",
       "|  337 | FALSE | FALSE |   1 |   0 |  0 |   1 | 1.0000000 | 0.00000000 | 0.0000000 | No security effect |\n",
       "|  341 | FALSE | FALSE | 384 | 233 | 18 | 635 | 0.6047244 | 0.02834646 | 0.3669291 | No security effect |\n",
       "|  488 | FALSE | FALSE |   1 |   0 |  1 |   2 | 0.5000000 | 0.50000000 | 0.0000000 | No security effect |\n",
       "| 2580 | FALSE | FALSE |   2 |   1 |  0 |   3 | 0.6666667 | 0.00000000 | 0.3333333 | No security effect |\n",
       "\n"
      ],
      "text/plain": [
       "  package_id did_intro_vuln did_patch_vuln bug minor major total bugPct   \n",
       "1  335       FALSE          FALSE          150 182   12    344   0.4360465\n",
       "2  336       FALSE          FALSE            2   0    0      2   1.0000000\n",
       "3  337       FALSE          FALSE            1   0    0      1   1.0000000\n",
       "4  341       FALSE          FALSE          384 233   18    635   0.6047244\n",
       "5  488       FALSE          FALSE            1   0    1      2   0.5000000\n",
       "6 2580       FALSE          FALSE            2   1    0      3   0.6666667\n",
       "  majorPct   minorPct  update_action     \n",
       "1 0.03488372 0.5290698 No security effect\n",
       "2 0.00000000 0.0000000 No security effect\n",
       "3 0.00000000 0.0000000 No security effect\n",
       "4 0.02834646 0.3669291 No security effect\n",
       "5 0.50000000 0.0000000 No security effect\n",
       "6 0.00000000 0.3333333 No security effect"
      ]
     },
     "metadata": {},
     "output_type": "display_data"
    }
   ],
   "source": [
    "head(updateCountsByPackage)"
   ]
  },
  {
   "cell_type": "code",
   "execution_count": 15,
   "metadata": {
    "vscode": {
     "languageId": "r"
    }
   },
   "outputs": [],
   "source": [
    "# make a long version of it for ggplot\n",
    "updateCountsByPackageLong <- updateCountsByPackage %>%\n",
    "    pivot_longer(cols=ends_with(\"Pct\"), names_to=\"ty\", values_to=\"pct\")"
   ]
  },
  {
   "cell_type": "code",
   "execution_count": 16,
   "metadata": {
    "vscode": {
     "languageId": "r"
    }
   },
   "outputs": [],
   "source": [
    "updateCountsByPackageLong$update_action <- factor(updateCountsByPackageLong$update_action, levels=c('No security effect', 'Intro vuln', 'Patch vuln'))\n",
    "updateCountsByPackageLong$ty <- recode(updateCountsByPackageLong$ty, bugPct='Bug', minorPct='Minor', majorPct='Major')\n",
    "updateCountsByPackageLong$ty <- factor(updateCountsByPackageLong$ty, levels=c('Bug', 'Minor', 'Major'))"
   ]
  },
  {
   "cell_type": "code",
   "execution_count": 17,
   "metadata": {
    "vscode": {
     "languageId": "r"
    }
   },
   "outputs": [
    {
     "data": {
      "text/html": [
       "<table class=\"dataframe\">\n",
       "<caption>A grouped_df: 6 × 10</caption>\n",
       "<thead>\n",
       "\t<tr><th scope=col>package_id</th><th scope=col>did_intro_vuln</th><th scope=col>did_patch_vuln</th><th scope=col>bug</th><th scope=col>minor</th><th scope=col>major</th><th scope=col>total</th><th scope=col>update_action</th><th scope=col>ty</th><th scope=col>pct</th></tr>\n",
       "\t<tr><th scope=col>&lt;int64&gt;</th><th scope=col>&lt;lgl&gt;</th><th scope=col>&lt;lgl&gt;</th><th scope=col>&lt;int&gt;</th><th scope=col>&lt;int&gt;</th><th scope=col>&lt;int&gt;</th><th scope=col>&lt;int&gt;</th><th scope=col>&lt;fct&gt;</th><th scope=col>&lt;fct&gt;</th><th scope=col>&lt;dbl&gt;</th></tr>\n",
       "</thead>\n",
       "<tbody>\n",
       "\t<tr><td>335</td><td>FALSE</td><td>FALSE</td><td>150</td><td>182</td><td>12</td><td>344</td><td>No security effect</td><td>Bug  </td><td>0.43604651</td></tr>\n",
       "\t<tr><td>335</td><td>FALSE</td><td>FALSE</td><td>150</td><td>182</td><td>12</td><td>344</td><td>No security effect</td><td>Major</td><td>0.03488372</td></tr>\n",
       "\t<tr><td>335</td><td>FALSE</td><td>FALSE</td><td>150</td><td>182</td><td>12</td><td>344</td><td>No security effect</td><td>Minor</td><td>0.52906977</td></tr>\n",
       "\t<tr><td>336</td><td>FALSE</td><td>FALSE</td><td>  2</td><td>  0</td><td> 0</td><td>  2</td><td>No security effect</td><td>Bug  </td><td>1.00000000</td></tr>\n",
       "\t<tr><td>336</td><td>FALSE</td><td>FALSE</td><td>  2</td><td>  0</td><td> 0</td><td>  2</td><td>No security effect</td><td>Major</td><td>0.00000000</td></tr>\n",
       "\t<tr><td>336</td><td>FALSE</td><td>FALSE</td><td>  2</td><td>  0</td><td> 0</td><td>  2</td><td>No security effect</td><td>Minor</td><td>0.00000000</td></tr>\n",
       "</tbody>\n",
       "</table>\n"
      ],
      "text/latex": [
       "A grouped\\_df: 6 × 10\n",
       "\\begin{tabular}{llllllllll}\n",
       " package\\_id & did\\_intro\\_vuln & did\\_patch\\_vuln & bug & minor & major & total & update\\_action & ty & pct\\\\\n",
       " <int64> & <lgl> & <lgl> & <int> & <int> & <int> & <int> & <fct> & <fct> & <dbl>\\\\\n",
       "\\hline\n",
       "\t 335 & FALSE & FALSE & 150 & 182 & 12 & 344 & No security effect & Bug   & 0.43604651\\\\\n",
       "\t 335 & FALSE & FALSE & 150 & 182 & 12 & 344 & No security effect & Major & 0.03488372\\\\\n",
       "\t 335 & FALSE & FALSE & 150 & 182 & 12 & 344 & No security effect & Minor & 0.52906977\\\\\n",
       "\t 336 & FALSE & FALSE &   2 &   0 &  0 &   2 & No security effect & Bug   & 1.00000000\\\\\n",
       "\t 336 & FALSE & FALSE &   2 &   0 &  0 &   2 & No security effect & Major & 0.00000000\\\\\n",
       "\t 336 & FALSE & FALSE &   2 &   0 &  0 &   2 & No security effect & Minor & 0.00000000\\\\\n",
       "\\end{tabular}\n"
      ],
      "text/markdown": [
       "\n",
       "A grouped_df: 6 × 10\n",
       "\n",
       "| package_id &lt;int64&gt; | did_intro_vuln &lt;lgl&gt; | did_patch_vuln &lt;lgl&gt; | bug &lt;int&gt; | minor &lt;int&gt; | major &lt;int&gt; | total &lt;int&gt; | update_action &lt;fct&gt; | ty &lt;fct&gt; | pct &lt;dbl&gt; |\n",
       "|---|---|---|---|---|---|---|---|---|---|\n",
       "| 335 | FALSE | FALSE | 150 | 182 | 12 | 344 | No security effect | Bug   | 0.43604651 |\n",
       "| 335 | FALSE | FALSE | 150 | 182 | 12 | 344 | No security effect | Major | 0.03488372 |\n",
       "| 335 | FALSE | FALSE | 150 | 182 | 12 | 344 | No security effect | Minor | 0.52906977 |\n",
       "| 336 | FALSE | FALSE |   2 |   0 |  0 |   2 | No security effect | Bug   | 1.00000000 |\n",
       "| 336 | FALSE | FALSE |   2 |   0 |  0 |   2 | No security effect | Major | 0.00000000 |\n",
       "| 336 | FALSE | FALSE |   2 |   0 |  0 |   2 | No security effect | Minor | 0.00000000 |\n",
       "\n"
      ],
      "text/plain": [
       "  package_id did_intro_vuln did_patch_vuln bug minor major total\n",
       "1 335        FALSE          FALSE          150 182   12    344  \n",
       "2 335        FALSE          FALSE          150 182   12    344  \n",
       "3 335        FALSE          FALSE          150 182   12    344  \n",
       "4 336        FALSE          FALSE            2   0    0      2  \n",
       "5 336        FALSE          FALSE            2   0    0      2  \n",
       "6 336        FALSE          FALSE            2   0    0      2  \n",
       "  update_action      ty    pct       \n",
       "1 No security effect Bug   0.43604651\n",
       "2 No security effect Major 0.03488372\n",
       "3 No security effect Minor 0.52906977\n",
       "4 No security effect Bug   1.00000000\n",
       "5 No security effect Major 0.00000000\n",
       "6 No security effect Minor 0.00000000"
      ]
     },
     "metadata": {},
     "output_type": "display_data"
    }
   ],
   "source": [
    "head(updateCountsByPackageLong)"
   ]
  },
  {
   "cell_type": "code",
   "execution_count": 18,
   "metadata": {
    "vscode": {
     "languageId": "r"
    }
   },
   "outputs": [
    {
     "data": {
      "image/png": "[encoded data removed]",
      "text/plain": [
       "plot without title"
      ]
     },
     "metadata": {
      "image/png": {
       "height": 420,
       "width": 420
      }
     },
     "output_type": "display_data"
    }
   ],
   "source": [
    "# box plots of the percentage of updates that are each type\n",
    "ggplot(data = updateCountsByPackageLong, aes(x = update_action, y = pct, fill=ty)) +\n",
    "    geom_boxplot() +\n",
    "    #sets the labels for the x-axis:\n",
    "    # scale_x_discrete(limits=c(\"normal\", \"introduce vuln\", \"patch vuln\")) +\n",
    "    scale_y_continuous(labels = scales::percent) + \n",
    "    #sets the title of the plot\n",
    "    labs(title = \"Percentage of each semver increment type across security effects\", fill='Semver Increment Type', x='Update Security Effect', y = 'Percentage of each package\\'s updates')"
   ]
  },
  {
   "cell_type": "code",
   "execution_count": null,
   "metadata": {
    "vscode": {
     "languageId": "r"
    }
   },
   "outputs": [],
   "source": []
  },
  {
   "cell_type": "code",
   "execution_count": null,
   "metadata": {
    "vscode": {
     "languageId": "r"
    }
   },
   "outputs": [],
   "source": []
  }
 ],
 "metadata": {
  "kernelspec": {
   "display_name": "R",
   "language": "R",
   "name": "ir"
  },
  "language_info": {
   "codemirror_mode": "r",
   "file_extension": ".r",
   "mimetype": "text/x-r-source",
   "name": "R",
   "pygments_lexer": "r",
   "version": "3.6.3"
  },
  "orig_nbformat": 4
 },
 "nbformat": 4,
 "nbformat_minor": 2
}
