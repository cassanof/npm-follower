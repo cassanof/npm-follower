{
 "cells": [
  {
   "cell_type": "code",
   "execution_count": 87,
   "metadata": {
    "vscode": {
     "languageId": "r"
    }
   },
   "outputs": [],
   "source": [
    "library(DBI)\n",
    "library(ggplot2)\n",
    "library(tidyverse)\n",
    "library(caret)\n",
    "library(scales)\n",
    "library(ggsankey)\n",
    "library(ggalluvial)"
   ]
  },
  {
   "cell_type": "code",
   "execution_count": 2,
   "metadata": {
    "vscode": {
     "languageId": "r"
    }
   },
   "outputs": [],
   "source": [
    "con <- dbConnect(\n",
    "    RPostgres::Postgres(),\n",
    "    dbname = 'npm_data', \n",
    "    user = 'data_analyzer',\n",
    ")"
   ]
  },
  {
   "cell_type": "code",
   "execution_count": 16,
   "metadata": {
    "vscode": {
     "languageId": "r"
    }
   },
   "outputs": [],
   "source": [
    "# This takes about 40 seconds to load (when running on the VM!), and takes about 4GB of memory\n",
    "df <- dbGetQuery(con, \"\n",
    "    select \n",
    "        instant_update, \n",
    "        update_days, \n",
    "        downstream_updated_req, \n",
    "        is_intro, \n",
    "        is_patch, \n",
    "        is_neutral, \n",
    "        downstream_package_id, \n",
    "        result_category,\n",
    "        ty as update_type \n",
    "    from analysis.old_historic_solver_job_flow_info f\n",
    "    inner join analysis.all_updates u on u.from_id = f.update_from_id and u.to_id = f.update_to_id\n",
    "\")"
   ]
  },
  {
   "cell_type": "code",
   "execution_count": 18,
   "metadata": {
    "vscode": {
     "languageId": "r"
    }
   },
   "outputs": [
    {
     "data": {
      "text/html": [
       "<table class=\"dataframe\">\n",
       "<caption>A data.frame: 6 × 9</caption>\n",
       "<thead>\n",
       "\t<tr><th></th><th scope=col>instant_update</th><th scope=col>update_days</th><th scope=col>downstream_updated_req</th><th scope=col>is_intro</th><th scope=col>is_patch</th><th scope=col>is_neutral</th><th scope=col>downstream_package_id</th><th scope=col>result_category</th><th scope=col>update_type</th></tr>\n",
       "\t<tr><th></th><th scope=col>&lt;lgl&gt;</th><th scope=col>&lt;int&gt;</th><th scope=col>&lt;lgl&gt;</th><th scope=col>&lt;lgl&gt;</th><th scope=col>&lt;lgl&gt;</th><th scope=col>&lt;lgl&gt;</th><th scope=col>&lt;int64&gt;</th><th scope=col>&lt;chr&gt;</th><th scope=col>&lt;chr&gt;</th></tr>\n",
       "</thead>\n",
       "<tbody>\n",
       "\t<tr><th scope=row>1</th><td>TRUE</td><td>0</td><td>FALSE</td><td>FALSE</td><td>FALSE</td><td>TRUE</td><td>2146078</td><td>Ok</td><td>bug  </td></tr>\n",
       "\t<tr><th scope=row>2</th><td>TRUE</td><td>0</td><td>FALSE</td><td>FALSE</td><td>FALSE</td><td>TRUE</td><td>2267449</td><td>Ok</td><td>bug  </td></tr>\n",
       "\t<tr><th scope=row>3</th><td>TRUE</td><td>0</td><td>FALSE</td><td>FALSE</td><td>FALSE</td><td>TRUE</td><td>2267468</td><td>Ok</td><td>bug  </td></tr>\n",
       "\t<tr><th scope=row>4</th><td>TRUE</td><td>0</td><td>FALSE</td><td>FALSE</td><td>FALSE</td><td>TRUE</td><td>2267466</td><td>Ok</td><td>bug  </td></tr>\n",
       "\t<tr><th scope=row>5</th><td>TRUE</td><td>0</td><td>FALSE</td><td>FALSE</td><td>FALSE</td><td>TRUE</td><td>2267475</td><td>Ok</td><td>bug  </td></tr>\n",
       "\t<tr><th scope=row>6</th><td>TRUE</td><td>0</td><td>FALSE</td><td>FALSE</td><td>FALSE</td><td>TRUE</td><td>2267468</td><td>Ok</td><td>minor</td></tr>\n",
       "</tbody>\n",
       "</table>\n"
      ],
      "text/latex": [
       "A data.frame: 6 × 9\n",
       "\\begin{tabular}{r|lllllllll}\n",
       "  & instant\\_update & update\\_days & downstream\\_updated\\_req & is\\_intro & is\\_patch & is\\_neutral & downstream\\_package\\_id & result\\_category & update\\_type\\\\\n",
       "  & <lgl> & <int> & <lgl> & <lgl> & <lgl> & <lgl> & <int64> & <chr> & <chr>\\\\\n",
       "\\hline\n",
       "\t1 & TRUE & 0 & FALSE & FALSE & FALSE & TRUE & 2146078 & Ok & bug  \\\\\n",
       "\t2 & TRUE & 0 & FALSE & FALSE & FALSE & TRUE & 2267449 & Ok & bug  \\\\\n",
       "\t3 & TRUE & 0 & FALSE & FALSE & FALSE & TRUE & 2267468 & Ok & bug  \\\\\n",
       "\t4 & TRUE & 0 & FALSE & FALSE & FALSE & TRUE & 2267466 & Ok & bug  \\\\\n",
       "\t5 & TRUE & 0 & FALSE & FALSE & FALSE & TRUE & 2267475 & Ok & bug  \\\\\n",
       "\t6 & TRUE & 0 & FALSE & FALSE & FALSE & TRUE & 2267468 & Ok & minor\\\\\n",
       "\\end{tabular}\n"
      ],
      "text/markdown": [
       "\n",
       "A data.frame: 6 × 9\n",
       "\n",
       "| <!--/--> | instant_update &lt;lgl&gt; | update_days &lt;int&gt; | downstream_updated_req &lt;lgl&gt; | is_intro &lt;lgl&gt; | is_patch &lt;lgl&gt; | is_neutral &lt;lgl&gt; | downstream_package_id &lt;int64&gt; | result_category &lt;chr&gt; | update_type &lt;chr&gt; |\n",
       "|---|---|---|---|---|---|---|---|---|---|\n",
       "| 1 | TRUE | 0 | FALSE | FALSE | FALSE | TRUE | 2146078 | Ok | bug   |\n",
       "| 2 | TRUE | 0 | FALSE | FALSE | FALSE | TRUE | 2267449 | Ok | bug   |\n",
       "| 3 | TRUE | 0 | FALSE | FALSE | FALSE | TRUE | 2267468 | Ok | bug   |\n",
       "| 4 | TRUE | 0 | FALSE | FALSE | FALSE | TRUE | 2267466 | Ok | bug   |\n",
       "| 5 | TRUE | 0 | FALSE | FALSE | FALSE | TRUE | 2267475 | Ok | bug   |\n",
       "| 6 | TRUE | 0 | FALSE | FALSE | FALSE | TRUE | 2267468 | Ok | minor |\n",
       "\n"
      ],
      "text/plain": [
       "  instant_update update_days downstream_updated_req is_intro is_patch\n",
       "1 TRUE           0           FALSE                  FALSE    FALSE   \n",
       "2 TRUE           0           FALSE                  FALSE    FALSE   \n",
       "3 TRUE           0           FALSE                  FALSE    FALSE   \n",
       "4 TRUE           0           FALSE                  FALSE    FALSE   \n",
       "5 TRUE           0           FALSE                  FALSE    FALSE   \n",
       "6 TRUE           0           FALSE                  FALSE    FALSE   \n",
       "  is_neutral downstream_package_id result_category update_type\n",
       "1 TRUE       2146078               Ok              bug        \n",
       "2 TRUE       2267449               Ok              bug        \n",
       "3 TRUE       2267468               Ok              bug        \n",
       "4 TRUE       2267466               Ok              bug        \n",
       "5 TRUE       2267475               Ok              bug        \n",
       "6 TRUE       2267468               Ok              minor      "
      ]
     },
     "metadata": {},
     "output_type": "display_data"
    }
   ],
   "source": [
    "head(df)"
   ]
  },
  {
   "cell_type": "code",
   "execution_count": 50,
   "metadata": {
    "vscode": {
     "languageId": "r"
    }
   },
   "outputs": [],
   "source": [
    "clean_df <- df %>% mutate(\n",
    "    security_effect = ifelse(is_intro, 'introduces', ifelse(is_patch, 'patches', 'neutral')),\n",
    "    developer_intervention = ifelse(downstream_updated_req, 'intervention', 'no intervention'),\n",
    "    resolution = ifelse(result_category == 'Ok' & instant_update, 'instant update', ifelse(result_category == 'Ok', 'delayed update', ifelse(instant_update, 'WEIRD', 'deleted dependency')))\n",
    ") %>% \n",
    "filter(resolution != \"WEIRD\") %>% # A small number of updates instantly have deleted dependencies. These are anomalies caused by circular dependencies. We ignore them.\n",
    "filter(!(resolution == \"instant update\" & developer_intervention == \"intervention\")) %>% # A small number of updates are themselves the updates, due to circular dependencies. We ignore them.\n",
    "select(security_effect, update_type, developer_intervention, resolution, update_days)\n",
    "\n",
    "clean_df$update_type <- factor(as.character(clean_df$update_type), levels=c(\"bug\", \"minor\", \"major\"))\n",
    "clean_df$security_effect <- factor(clean_df$security_effect, levels=c(\"neutral\", \"patches\", \"introduces\"))\n",
    "clean_df$developer_intervention <- factor(clean_df$developer_intervention, levels=c(\"no intervention\", \"intervention\"))\n",
    "clean_df$resolution <- factor(clean_df$resolution, levels=c(\"instant update\", \"delayed update\", \"deleted dependency\"))"
   ]
  },
  {
   "cell_type": "code",
   "execution_count": 51,
   "metadata": {
    "vscode": {
     "languageId": "r"
    }
   },
   "outputs": [
    {
     "name": "stderr",
     "output_type": "stream",
     "text": [
      "\u001b[1m\u001b[22m`summarise()` has grouped output by 'developer_intervention'. You can override\n",
      "using the `.groups` argument.\n"
     ]
    },
    {
     "data": {
      "text/html": [
       "<table class=\"dataframe\">\n",
       "<caption>A grouped_df: 5 × 3</caption>\n",
       "<thead>\n",
       "\t<tr><th scope=col>developer_intervention</th><th scope=col>resolution</th><th scope=col>count</th></tr>\n",
       "\t<tr><th scope=col>&lt;fct&gt;</th><th scope=col>&lt;fct&gt;</th><th scope=col>&lt;int&gt;</th></tr>\n",
       "</thead>\n",
       "<tbody>\n",
       "\t<tr><td>no intervention</td><td>instant update    </td><td>90262</td></tr>\n",
       "\t<tr><td>no intervention</td><td>delayed update    </td><td>  606</td></tr>\n",
       "\t<tr><td>no intervention</td><td>deleted dependency</td><td>   59</td></tr>\n",
       "\t<tr><td>intervention   </td><td>delayed update    </td><td> 9030</td></tr>\n",
       "\t<tr><td>intervention   </td><td>deleted dependency</td><td>  232</td></tr>\n",
       "</tbody>\n",
       "</table>\n"
      ],
      "text/latex": [
       "A grouped\\_df: 5 × 3\n",
       "\\begin{tabular}{lll}\n",
       " developer\\_intervention & resolution & count\\\\\n",
       " <fct> & <fct> & <int>\\\\\n",
       "\\hline\n",
       "\t no intervention & instant update     & 90262\\\\\n",
       "\t no intervention & delayed update     &   606\\\\\n",
       "\t no intervention & deleted dependency &    59\\\\\n",
       "\t intervention    & delayed update     &  9030\\\\\n",
       "\t intervention    & deleted dependency &   232\\\\\n",
       "\\end{tabular}\n"
      ],
      "text/markdown": [
       "\n",
       "A grouped_df: 5 × 3\n",
       "\n",
       "| developer_intervention &lt;fct&gt; | resolution &lt;fct&gt; | count &lt;int&gt; |\n",
       "|---|---|---|\n",
       "| no intervention | instant update     | 90262 |\n",
       "| no intervention | delayed update     |   606 |\n",
       "| no intervention | deleted dependency |    59 |\n",
       "| intervention    | delayed update     |  9030 |\n",
       "| intervention    | deleted dependency |   232 |\n",
       "\n"
      ],
      "text/plain": [
       "  developer_intervention resolution         count\n",
       "1 no intervention        instant update     90262\n",
       "2 no intervention        delayed update       606\n",
       "3 no intervention        deleted dependency    59\n",
       "4 intervention           delayed update      9030\n",
       "5 intervention           deleted dependency   232"
      ]
     },
     "metadata": {},
     "output_type": "display_data"
    }
   ],
   "source": [
    "clean_df %>% group_by(developer_intervention, resolution) %>% summarise(count = n())"
   ]
  },
  {
   "cell_type": "code",
   "execution_count": 138,
   "metadata": {
    "vscode": {
     "languageId": "r"
    }
   },
   "outputs": [],
   "source": [
    "sec_percs <- clean_df %>% group_by(security_effect) %>% \n",
    "    summarise(count = n()) %>%\n",
    "    mutate(per=paste0(round(count/sum(count)*100, 2), \"%\")) %>% \n",
    "    ungroup()\n",
    "    \n",
    "introduces_perc <- sec_percs %>% filter(security_effect == \"introduces\") %>% pull(per)\n",
    "patches_perc <- sec_percs %>% filter(security_effect == \"patches\") %>% pull(per)\n",
    "neutral_perc <- sec_percs %>% filter(security_effect == \"neutral\") %>% pull(per)\n"
   ]
  },
  {
   "cell_type": "code",
   "execution_count": 115,
   "metadata": {
    "vscode": {
     "languageId": "r"
    }
   },
   "outputs": [
    {
     "name": "stderr",
     "output_type": "stream",
     "text": [
      "Warning message:\n",
      "“attributes are not identical across measure variables;\n",
      "they will be dropped”\n"
     ]
    }
   ],
   "source": [
    "long_df <- clean_df %>% mutate(sec_effect2 = security_effect) %>% make_long(security_effect, update_type, developer_intervention, resolution, value=sec_effect2)"
   ]
  },
  {
   "cell_type": "code",
   "execution_count": 116,
   "metadata": {
    "vscode": {
     "languageId": "r"
    }
   },
   "outputs": [],
   "source": [
    "long_df <- long_df %>% mutate(\n",
    "    weight=ifelse(value == \"introduces\", 200, ifelse(value == \"patches\", 10, 1)),\n",
    "    sec_effect2 = value\n",
    ") %>% select(-value)"
   ]
  },
  {
   "cell_type": "code",
   "execution_count": 117,
   "metadata": {
    "vscode": {
     "languageId": "r"
    }
   },
   "outputs": [],
   "source": [
    "node_order <- c(\"neutral\", \"patches\", \"introduces\", \"bug\", \"minor\", \"major\", \"no intervention\", \"intervention\", \"instant update\", \"delayed update\", \"deleted dependency\")\n",
    "long_df$node <- factor(long_df$node, levels=node_order)\n",
    "long_df$next_node <- factor(long_df$next_node, levels=node_order)\n",
    "long_df$sec_effect2 <- factor(long_df$sec_effect2, levels=c(\"neutral\", \"patches\", \"introduces\"))\n"
   ]
  },
  {
   "cell_type": "code",
   "execution_count": 152,
   "metadata": {
    "vscode": {
     "languageId": "r"
    }
   },
   "outputs": [],
   "source": [
    "long_df$x <- recode_factor(long_df$x, security_effect = \"Security Effect\", update_type = \"Update Type\", developer_intervention = \"Developer Intervention\", resolution = \"Resolution\")\n",
    "long_df$next_x <- recode_factor(long_df$next_x, security_effect = \"Security Effect\", update_type = \"Update Type\", developer_intervention = \"Developer Intervention\", resolution = \"Resolution\")"
   ]
  },
  {
   "cell_type": "code",
   "execution_count": 153,
   "metadata": {
    "vscode": {
     "languageId": "r"
    }
   },
   "outputs": [
    {
     "data": {
      "text/html": [
       "<style>\n",
       ".list-inline {list-style: none; margin:0; padding: 0}\n",
       ".list-inline>li {display: inline-block}\n",
       ".list-inline>li:not(:last-child)::after {content: \"\\00b7\"; padding: 0 .5ex}\n",
       "</style>\n",
       "<ol class=list-inline><li>'Security Effect'</li><li>'Update Type'</li><li>'Developer Intervention'</li><li>'Resolution'</li></ol>\n"
      ],
      "text/latex": [
       "\\begin{enumerate*}\n",
       "\\item 'Security Effect'\n",
       "\\item 'Update Type'\n",
       "\\item 'Developer Intervention'\n",
       "\\item 'Resolution'\n",
       "\\end{enumerate*}\n"
      ],
      "text/markdown": [
       "1. 'Security Effect'\n",
       "2. 'Update Type'\n",
       "3. 'Developer Intervention'\n",
       "4. 'Resolution'\n",
       "\n",
       "\n"
      ],
      "text/plain": [
       "[1] \"Security Effect\"        \"Update Type\"            \"Developer Intervention\"\n",
       "[4] \"Resolution\"            "
      ]
     },
     "metadata": {},
     "output_type": "display_data"
    }
   ],
   "source": [
    "levels(long_df$x)"
   ]
  },
  {
   "cell_type": "code",
   "execution_count": 154,
   "metadata": {
    "vscode": {
     "languageId": "r"
    }
   },
   "outputs": [
    {
     "data": {
      "text/html": [
       "<table class=\"dataframe\">\n",
       "<caption>A tibble: 6 × 6</caption>\n",
       "<thead>\n",
       "\t<tr><th scope=col>x</th><th scope=col>node</th><th scope=col>next_x</th><th scope=col>next_node</th><th scope=col>weight</th><th scope=col>sec_effect2</th></tr>\n",
       "\t<tr><th scope=col>&lt;fct&gt;</th><th scope=col>&lt;fct&gt;</th><th scope=col>&lt;fct&gt;</th><th scope=col>&lt;fct&gt;</th><th scope=col>&lt;dbl&gt;</th><th scope=col>&lt;fct&gt;</th></tr>\n",
       "</thead>\n",
       "<tbody>\n",
       "\t<tr><td>Security Effect       </td><td>neutral        </td><td>Update Type           </td><td>bug            </td><td>1</td><td>neutral</td></tr>\n",
       "\t<tr><td>Update Type           </td><td>bug            </td><td>Developer Intervention</td><td>no intervention</td><td>1</td><td>neutral</td></tr>\n",
       "\t<tr><td>Developer Intervention</td><td>no intervention</td><td>Resolution            </td><td>instant update </td><td>1</td><td>neutral</td></tr>\n",
       "\t<tr><td>Resolution            </td><td>instant update </td><td>NA                    </td><td>NA             </td><td>1</td><td>neutral</td></tr>\n",
       "\t<tr><td>Security Effect       </td><td>neutral        </td><td>Update Type           </td><td>bug            </td><td>1</td><td>neutral</td></tr>\n",
       "\t<tr><td>Update Type           </td><td>bug            </td><td>Developer Intervention</td><td>no intervention</td><td>1</td><td>neutral</td></tr>\n",
       "</tbody>\n",
       "</table>\n"
      ],
      "text/latex": [
       "A tibble: 6 × 6\n",
       "\\begin{tabular}{llllll}\n",
       " x & node & next\\_x & next\\_node & weight & sec\\_effect2\\\\\n",
       " <fct> & <fct> & <fct> & <fct> & <dbl> & <fct>\\\\\n",
       "\\hline\n",
       "\t Security Effect        & neutral         & Update Type            & bug             & 1 & neutral\\\\\n",
       "\t Update Type            & bug             & Developer Intervention & no intervention & 1 & neutral\\\\\n",
       "\t Developer Intervention & no intervention & Resolution             & instant update  & 1 & neutral\\\\\n",
       "\t Resolution             & instant update  & NA                     & NA              & 1 & neutral\\\\\n",
       "\t Security Effect        & neutral         & Update Type            & bug             & 1 & neutral\\\\\n",
       "\t Update Type            & bug             & Developer Intervention & no intervention & 1 & neutral\\\\\n",
       "\\end{tabular}\n"
      ],
      "text/markdown": [
       "\n",
       "A tibble: 6 × 6\n",
       "\n",
       "| x &lt;fct&gt; | node &lt;fct&gt; | next_x &lt;fct&gt; | next_node &lt;fct&gt; | weight &lt;dbl&gt; | sec_effect2 &lt;fct&gt; |\n",
       "|---|---|---|---|---|---|\n",
       "| Security Effect        | neutral         | Update Type            | bug             | 1 | neutral |\n",
       "| Update Type            | bug             | Developer Intervention | no intervention | 1 | neutral |\n",
       "| Developer Intervention | no intervention | Resolution             | instant update  | 1 | neutral |\n",
       "| Resolution             | instant update  | NA                     | NA              | 1 | neutral |\n",
       "| Security Effect        | neutral         | Update Type            | bug             | 1 | neutral |\n",
       "| Update Type            | bug             | Developer Intervention | no intervention | 1 | neutral |\n",
       "\n"
      ],
      "text/plain": [
       "  x                      node            next_x                 next_node      \n",
       "1 Security Effect        neutral         Update Type            bug            \n",
       "2 Update Type            bug             Developer Intervention no intervention\n",
       "3 Developer Intervention no intervention Resolution             instant update \n",
       "4 Resolution             instant update  NA                     NA             \n",
       "5 Security Effect        neutral         Update Type            bug            \n",
       "6 Update Type            bug             Developer Intervention no intervention\n",
       "  weight sec_effect2\n",
       "1 1      neutral    \n",
       "2 1      neutral    \n",
       "3 1      neutral    \n",
       "4 1      neutral    \n",
       "5 1      neutral    \n",
       "6 1      neutral    "
      ]
     },
     "metadata": {},
     "output_type": "display_data"
    }
   ],
   "source": [
    "head(long_df)"
   ]
  },
  {
   "cell_type": "code",
   "execution_count": 160,
   "metadata": {
    "vscode": {
     "languageId": "r"
    }
   },
   "outputs": [
    {
     "name": "stderr",
     "output_type": "stream",
     "text": [
      "\u001b[1m\u001b[22mSaving 6.67 x 6.67 in image\n"
     ]
    },
    {
     "data": {
      "image/png": "[encoded data removed]",
      "text/plain": [
       "plot without title"
      ]
     },
     "metadata": {
      "image/png": {
       "height": 420,
       "width": 420
      }
     },
     "output_type": "display_data"
    }
   ],
   "source": [
    "long_df %>% mutate(\n",
    "    extra_lab = ifelse(node == \"introduces\", paste0(\"\\n(\", introduces_perc, \")\"), ifelse(node == \"patches\", paste0(\"\\n(\", patches_perc, \")\"), ifelse(node == \"neutral\", paste0(\"\\n(\", neutral_perc, \")\"), \"\")))\n",
    ") %>% ggplot( \n",
    "    aes(x = x, \n",
    "        next_x = next_x, \n",
    "        node = node, \n",
    "        next_node = next_node,\n",
    "        fill = factor(node),\n",
    "        value = weight,\n",
    "        label = paste0(node, extra_lab))) +\n",
    "    geom_sankey(flow.alpha = 0.8, node.color = 1) +\n",
    "    geom_sankey_label(size = 3.5, color = 1, fill = \"white\") +\n",
    "    # geom_text()\n",
    "    scale_fill_viridis_d() +\n",
    "    theme_sankey(base_size = 16) +\n",
    "    labs(x = NULL) + \n",
    "    theme(legend.position = \"none\")\n",
    "\n",
    "ggsave(\"plots/rq3/flow_analysis.pdf\")\n"
   ]
  },
  {
   "cell_type": "code",
   "execution_count": 86,
   "metadata": {
    "vscode": {
     "languageId": "r"
    }
   },
   "outputs": [
    {
     "name": "stderr",
     "output_type": "stream",
     "text": [
      "\u001b[1m\u001b[22m`summarise()` has grouped output by 'security_effect', 'update_type',\n",
      "'developer_intervention'. You can override using the `.groups` argument.\n"
     ]
    }
   ],
   "source": [
    "alluvial_df <- clean_df %>% group_by(security_effect, update_type, developer_intervention, resolution) %>% summarise(count = n())"
   ]
  },
  {
   "cell_type": "code",
   "execution_count": 88,
   "metadata": {
    "vscode": {
     "languageId": "r"
    }
   },
   "outputs": [
    {
     "data": {
      "text/html": [
       "<table class=\"dataframe\">\n",
       "<caption>A grouped_df: 6 × 5</caption>\n",
       "<thead>\n",
       "\t<tr><th scope=col>security_effect</th><th scope=col>update_type</th><th scope=col>developer_intervention</th><th scope=col>resolution</th><th scope=col>count</th></tr>\n",
       "\t<tr><th scope=col>&lt;fct&gt;</th><th scope=col>&lt;fct&gt;</th><th scope=col>&lt;fct&gt;</th><th scope=col>&lt;fct&gt;</th><th scope=col>&lt;int&gt;</th></tr>\n",
       "</thead>\n",
       "<tbody>\n",
       "\t<tr><td>neutral</td><td>bug  </td><td>no intervention</td><td>instant update    </td><td>62742</td></tr>\n",
       "\t<tr><td>neutral</td><td>bug  </td><td>no intervention</td><td>delayed update    </td><td>  112</td></tr>\n",
       "\t<tr><td>neutral</td><td>bug  </td><td>no intervention</td><td>deleted dependency</td><td>    9</td></tr>\n",
       "\t<tr><td>neutral</td><td>bug  </td><td>intervention   </td><td>delayed update    </td><td> 2855</td></tr>\n",
       "\t<tr><td>neutral</td><td>bug  </td><td>intervention   </td><td>deleted dependency</td><td>   50</td></tr>\n",
       "\t<tr><td>neutral</td><td>minor</td><td>no intervention</td><td>instant update    </td><td>25399</td></tr>\n",
       "</tbody>\n",
       "</table>\n"
      ],
      "text/latex": [
       "A grouped\\_df: 6 × 5\n",
       "\\begin{tabular}{lllll}\n",
       " security\\_effect & update\\_type & developer\\_intervention & resolution & count\\\\\n",
       " <fct> & <fct> & <fct> & <fct> & <int>\\\\\n",
       "\\hline\n",
       "\t neutral & bug   & no intervention & instant update     & 62742\\\\\n",
       "\t neutral & bug   & no intervention & delayed update     &   112\\\\\n",
       "\t neutral & bug   & no intervention & deleted dependency &     9\\\\\n",
       "\t neutral & bug   & intervention    & delayed update     &  2855\\\\\n",
       "\t neutral & bug   & intervention    & deleted dependency &    50\\\\\n",
       "\t neutral & minor & no intervention & instant update     & 25399\\\\\n",
       "\\end{tabular}\n"
      ],
      "text/markdown": [
       "\n",
       "A grouped_df: 6 × 5\n",
       "\n",
       "| security_effect &lt;fct&gt; | update_type &lt;fct&gt; | developer_intervention &lt;fct&gt; | resolution &lt;fct&gt; | count &lt;int&gt; |\n",
       "|---|---|---|---|---|\n",
       "| neutral | bug   | no intervention | instant update     | 62742 |\n",
       "| neutral | bug   | no intervention | delayed update     |   112 |\n",
       "| neutral | bug   | no intervention | deleted dependency |     9 |\n",
       "| neutral | bug   | intervention    | delayed update     |  2855 |\n",
       "| neutral | bug   | intervention    | deleted dependency |    50 |\n",
       "| neutral | minor | no intervention | instant update     | 25399 |\n",
       "\n"
      ],
      "text/plain": [
       "  security_effect update_type developer_intervention resolution         count\n",
       "1 neutral         bug         no intervention        instant update     62742\n",
       "2 neutral         bug         no intervention        delayed update       112\n",
       "3 neutral         bug         no intervention        deleted dependency     9\n",
       "4 neutral         bug         intervention           delayed update      2855\n",
       "5 neutral         bug         intervention           deleted dependency    50\n",
       "6 neutral         minor       no intervention        instant update     25399"
      ]
     },
     "metadata": {},
     "output_type": "display_data"
    }
   ],
   "source": [
    "head(alluvial_df)"
   ]
  },
  {
   "cell_type": "code",
   "execution_count": 89,
   "metadata": {
    "vscode": {
     "languageId": "r"
    }
   },
   "outputs": [
    {
     "name": "stderr",
     "output_type": "stream",
     "text": [
      "Warning message:\n",
      "“\u001b[1m\u001b[22mUsing the `size` aesthetic in this geom was deprecated in ggplot2 3.4.0.\n",
      "\u001b[36mℹ\u001b[39m Please use `linewidth` in the `default_aes` field and elsewhere instead.”\n"
     ]
    },
    {
     "data": {
      "image/png": "[encoded data removed]",
      "text/plain": [
       "plot without title"
      ]
     },
     "metadata": {
      "image/png": {
       "height": 420,
       "width": 420
      }
     },
     "output_type": "display_data"
    }
   ],
   "source": [
    "ggplot(alluvial_df,\n",
    "       aes(y = count, axis1 = security_effect, axis2 = update_type, axis3 = developer_intervention, axis4 = resolution)) +\n",
    "  geom_alluvium(aes(fill = security_effect), width = 1/12) +\n",
    "  geom_stratum(width = 1/12, fill = \"black\", color = \"grey\") +\n",
    "  geom_label(stat = \"stratum\", aes(label = after_stat(stratum))) +\n",
    "#   scale_x_discrete(limits = c(\"Gender\", \"Dept\"), expand = c(.05, .05)) +\n",
    "  scale_fill_brewer(type = \"qual\", palette = \"Set1\")"
   ]
  },
  {
   "cell_type": "code",
   "execution_count": 15,
   "metadata": {
    "vscode": {
     "languageId": "r"
    }
   },
   "outputs": [
    {
     "data": {
      "text/html": [
       "<table class=\"dataframe\">\n",
       "<caption>A data.frame: 32 × 11</caption>\n",
       "<thead>\n",
       "\t<tr><th></th><th scope=col>mpg</th><th scope=col>cyl</th><th scope=col>disp</th><th scope=col>hp</th><th scope=col>drat</th><th scope=col>wt</th><th scope=col>qsec</th><th scope=col>vs</th><th scope=col>am</th><th scope=col>gear</th><th scope=col>carb</th></tr>\n",
       "\t<tr><th></th><th scope=col>&lt;dbl&gt;</th><th scope=col>&lt;dbl&gt;</th><th scope=col>&lt;dbl&gt;</th><th scope=col>&lt;dbl&gt;</th><th scope=col>&lt;dbl&gt;</th><th scope=col>&lt;dbl&gt;</th><th scope=col>&lt;dbl&gt;</th><th scope=col>&lt;dbl&gt;</th><th scope=col>&lt;dbl&gt;</th><th scope=col>&lt;dbl&gt;</th><th scope=col>&lt;dbl&gt;</th></tr>\n",
       "</thead>\n",
       "<tbody>\n",
       "\t<tr><th scope=row>Mazda RX4</th><td>21.0</td><td>6</td><td>160.0</td><td>110</td><td>3.90</td><td>2.620</td><td>16.46</td><td>0</td><td>1</td><td>4</td><td>4</td></tr>\n",
       "\t<tr><th scope=row>Mazda RX4 Wag</th><td>21.0</td><td>6</td><td>160.0</td><td>110</td><td>3.90</td><td>2.875</td><td>17.02</td><td>0</td><td>1</td><td>4</td><td>4</td></tr>\n",
       "\t<tr><th scope=row>Datsun 710</th><td>22.8</td><td>4</td><td>108.0</td><td> 93</td><td>3.85</td><td>2.320</td><td>18.61</td><td>1</td><td>1</td><td>4</td><td>1</td></tr>\n",
       "\t<tr><th scope=row>Hornet 4 Drive</th><td>21.4</td><td>6</td><td>258.0</td><td>110</td><td>3.08</td><td>3.215</td><td>19.44</td><td>1</td><td>0</td><td>3</td><td>1</td></tr>\n",
       "\t<tr><th scope=row>Hornet Sportabout</th><td>18.7</td><td>8</td><td>360.0</td><td>175</td><td>3.15</td><td>3.440</td><td>17.02</td><td>0</td><td>0</td><td>3</td><td>2</td></tr>\n",
       "\t<tr><th scope=row>Valiant</th><td>18.1</td><td>6</td><td>225.0</td><td>105</td><td>2.76</td><td>3.460</td><td>20.22</td><td>1</td><td>0</td><td>3</td><td>1</td></tr>\n",
       "\t<tr><th scope=row>Duster 360</th><td>14.3</td><td>8</td><td>360.0</td><td>245</td><td>3.21</td><td>3.570</td><td>15.84</td><td>0</td><td>0</td><td>3</td><td>4</td></tr>\n",
       "\t<tr><th scope=row>Merc 240D</th><td>24.4</td><td>4</td><td>146.7</td><td> 62</td><td>3.69</td><td>3.190</td><td>20.00</td><td>1</td><td>0</td><td>4</td><td>2</td></tr>\n",
       "\t<tr><th scope=row>Merc 230</th><td>22.8</td><td>4</td><td>140.8</td><td> 95</td><td>3.92</td><td>3.150</td><td>22.90</td><td>1</td><td>0</td><td>4</td><td>2</td></tr>\n",
       "\t<tr><th scope=row>Merc 280</th><td>19.2</td><td>6</td><td>167.6</td><td>123</td><td>3.92</td><td>3.440</td><td>18.30</td><td>1</td><td>0</td><td>4</td><td>4</td></tr>\n",
       "\t<tr><th scope=row>Merc 280C</th><td>17.8</td><td>6</td><td>167.6</td><td>123</td><td>3.92</td><td>3.440</td><td>18.90</td><td>1</td><td>0</td><td>4</td><td>4</td></tr>\n",
       "\t<tr><th scope=row>Merc 450SE</th><td>16.4</td><td>8</td><td>275.8</td><td>180</td><td>3.07</td><td>4.070</td><td>17.40</td><td>0</td><td>0</td><td>3</td><td>3</td></tr>\n",
       "\t<tr><th scope=row>Merc 450SL</th><td>17.3</td><td>8</td><td>275.8</td><td>180</td><td>3.07</td><td>3.730</td><td>17.60</td><td>0</td><td>0</td><td>3</td><td>3</td></tr>\n",
       "\t<tr><th scope=row>Merc 450SLC</th><td>15.2</td><td>8</td><td>275.8</td><td>180</td><td>3.07</td><td>3.780</td><td>18.00</td><td>0</td><td>0</td><td>3</td><td>3</td></tr>\n",
       "\t<tr><th scope=row>Cadillac Fleetwood</th><td>10.4</td><td>8</td><td>472.0</td><td>205</td><td>2.93</td><td>5.250</td><td>17.98</td><td>0</td><td>0</td><td>3</td><td>4</td></tr>\n",
       "\t<tr><th scope=row>Lincoln Continental</th><td>10.4</td><td>8</td><td>460.0</td><td>215</td><td>3.00</td><td>5.424</td><td>17.82</td><td>0</td><td>0</td><td>3</td><td>4</td></tr>\n",
       "\t<tr><th scope=row>Chrysler Imperial</th><td>14.7</td><td>8</td><td>440.0</td><td>230</td><td>3.23</td><td>5.345</td><td>17.42</td><td>0</td><td>0</td><td>3</td><td>4</td></tr>\n",
       "\t<tr><th scope=row>Fiat 128</th><td>32.4</td><td>4</td><td> 78.7</td><td> 66</td><td>4.08</td><td>2.200</td><td>19.47</td><td>1</td><td>1</td><td>4</td><td>1</td></tr>\n",
       "\t<tr><th scope=row>Honda Civic</th><td>30.4</td><td>4</td><td> 75.7</td><td> 52</td><td>4.93</td><td>1.615</td><td>18.52</td><td>1</td><td>1</td><td>4</td><td>2</td></tr>\n",
       "\t<tr><th scope=row>Toyota Corolla</th><td>33.9</td><td>4</td><td> 71.1</td><td> 65</td><td>4.22</td><td>1.835</td><td>19.90</td><td>1</td><td>1</td><td>4</td><td>1</td></tr>\n",
       "\t<tr><th scope=row>Toyota Corona</th><td>21.5</td><td>4</td><td>120.1</td><td> 97</td><td>3.70</td><td>2.465</td><td>20.01</td><td>1</td><td>0</td><td>3</td><td>1</td></tr>\n",
       "\t<tr><th scope=row>Dodge Challenger</th><td>15.5</td><td>8</td><td>318.0</td><td>150</td><td>2.76</td><td>3.520</td><td>16.87</td><td>0</td><td>0</td><td>3</td><td>2</td></tr>\n",
       "\t<tr><th scope=row>AMC Javelin</th><td>15.2</td><td>8</td><td>304.0</td><td>150</td><td>3.15</td><td>3.435</td><td>17.30</td><td>0</td><td>0</td><td>3</td><td>2</td></tr>\n",
       "\t<tr><th scope=row>Camaro Z28</th><td>13.3</td><td>8</td><td>350.0</td><td>245</td><td>3.73</td><td>3.840</td><td>15.41</td><td>0</td><td>0</td><td>3</td><td>4</td></tr>\n",
       "\t<tr><th scope=row>Pontiac Firebird</th><td>19.2</td><td>8</td><td>400.0</td><td>175</td><td>3.08</td><td>3.845</td><td>17.05</td><td>0</td><td>0</td><td>3</td><td>2</td></tr>\n",
       "\t<tr><th scope=row>Fiat X1-9</th><td>27.3</td><td>4</td><td> 79.0</td><td> 66</td><td>4.08</td><td>1.935</td><td>18.90</td><td>1</td><td>1</td><td>4</td><td>1</td></tr>\n",
       "\t<tr><th scope=row>Porsche 914-2</th><td>26.0</td><td>4</td><td>120.3</td><td> 91</td><td>4.43</td><td>2.140</td><td>16.70</td><td>0</td><td>1</td><td>5</td><td>2</td></tr>\n",
       "\t<tr><th scope=row>Lotus Europa</th><td>30.4</td><td>4</td><td> 95.1</td><td>113</td><td>3.77</td><td>1.513</td><td>16.90</td><td>1</td><td>1</td><td>5</td><td>2</td></tr>\n",
       "\t<tr><th scope=row>Ford Pantera L</th><td>15.8</td><td>8</td><td>351.0</td><td>264</td><td>4.22</td><td>3.170</td><td>14.50</td><td>0</td><td>1</td><td>5</td><td>4</td></tr>\n",
       "\t<tr><th scope=row>Ferrari Dino</th><td>19.7</td><td>6</td><td>145.0</td><td>175</td><td>3.62</td><td>2.770</td><td>15.50</td><td>0</td><td>1</td><td>5</td><td>6</td></tr>\n",
       "\t<tr><th scope=row>Maserati Bora</th><td>15.0</td><td>8</td><td>301.0</td><td>335</td><td>3.54</td><td>3.570</td><td>14.60</td><td>0</td><td>1</td><td>5</td><td>8</td></tr>\n",
       "\t<tr><th scope=row>Volvo 142E</th><td>21.4</td><td>4</td><td>121.0</td><td>109</td><td>4.11</td><td>2.780</td><td>18.60</td><td>1</td><td>1</td><td>4</td><td>2</td></tr>\n",
       "</tbody>\n",
       "</table>\n"
      ],
      "text/latex": [
       "A data.frame: 32 × 11\n",
       "\\begin{tabular}{r|lllllllllll}\n",
       "  & mpg & cyl & disp & hp & drat & wt & qsec & vs & am & gear & carb\\\\\n",
       "  & <dbl> & <dbl> & <dbl> & <dbl> & <dbl> & <dbl> & <dbl> & <dbl> & <dbl> & <dbl> & <dbl>\\\\\n",
       "\\hline\n",
       "\tMazda RX4 & 21.0 & 6 & 160.0 & 110 & 3.90 & 2.620 & 16.46 & 0 & 1 & 4 & 4\\\\\n",
       "\tMazda RX4 Wag & 21.0 & 6 & 160.0 & 110 & 3.90 & 2.875 & 17.02 & 0 & 1 & 4 & 4\\\\\n",
       "\tDatsun 710 & 22.8 & 4 & 108.0 &  93 & 3.85 & 2.320 & 18.61 & 1 & 1 & 4 & 1\\\\\n",
       "\tHornet 4 Drive & 21.4 & 6 & 258.0 & 110 & 3.08 & 3.215 & 19.44 & 1 & 0 & 3 & 1\\\\\n",
       "\tHornet Sportabout & 18.7 & 8 & 360.0 & 175 & 3.15 & 3.440 & 17.02 & 0 & 0 & 3 & 2\\\\\n",
       "\tValiant & 18.1 & 6 & 225.0 & 105 & 2.76 & 3.460 & 20.22 & 1 & 0 & 3 & 1\\\\\n",
       "\tDuster 360 & 14.3 & 8 & 360.0 & 245 & 3.21 & 3.570 & 15.84 & 0 & 0 & 3 & 4\\\\\n",
       "\tMerc 240D & 24.4 & 4 & 146.7 &  62 & 3.69 & 3.190 & 20.00 & 1 & 0 & 4 & 2\\\\\n",
       "\tMerc 230 & 22.8 & 4 & 140.8 &  95 & 3.92 & 3.150 & 22.90 & 1 & 0 & 4 & 2\\\\\n",
       "\tMerc 280 & 19.2 & 6 & 167.6 & 123 & 3.92 & 3.440 & 18.30 & 1 & 0 & 4 & 4\\\\\n",
       "\tMerc 280C & 17.8 & 6 & 167.6 & 123 & 3.92 & 3.440 & 18.90 & 1 & 0 & 4 & 4\\\\\n",
       "\tMerc 450SE & 16.4 & 8 & 275.8 & 180 & 3.07 & 4.070 & 17.40 & 0 & 0 & 3 & 3\\\\\n",
       "\tMerc 450SL & 17.3 & 8 & 275.8 & 180 & 3.07 & 3.730 & 17.60 & 0 & 0 & 3 & 3\\\\\n",
       "\tMerc 450SLC & 15.2 & 8 & 275.8 & 180 & 3.07 & 3.780 & 18.00 & 0 & 0 & 3 & 3\\\\\n",
       "\tCadillac Fleetwood & 10.4 & 8 & 472.0 & 205 & 2.93 & 5.250 & 17.98 & 0 & 0 & 3 & 4\\\\\n",
       "\tLincoln Continental & 10.4 & 8 & 460.0 & 215 & 3.00 & 5.424 & 17.82 & 0 & 0 & 3 & 4\\\\\n",
       "\tChrysler Imperial & 14.7 & 8 & 440.0 & 230 & 3.23 & 5.345 & 17.42 & 0 & 0 & 3 & 4\\\\\n",
       "\tFiat 128 & 32.4 & 4 &  78.7 &  66 & 4.08 & 2.200 & 19.47 & 1 & 1 & 4 & 1\\\\\n",
       "\tHonda Civic & 30.4 & 4 &  75.7 &  52 & 4.93 & 1.615 & 18.52 & 1 & 1 & 4 & 2\\\\\n",
       "\tToyota Corolla & 33.9 & 4 &  71.1 &  65 & 4.22 & 1.835 & 19.90 & 1 & 1 & 4 & 1\\\\\n",
       "\tToyota Corona & 21.5 & 4 & 120.1 &  97 & 3.70 & 2.465 & 20.01 & 1 & 0 & 3 & 1\\\\\n",
       "\tDodge Challenger & 15.5 & 8 & 318.0 & 150 & 2.76 & 3.520 & 16.87 & 0 & 0 & 3 & 2\\\\\n",
       "\tAMC Javelin & 15.2 & 8 & 304.0 & 150 & 3.15 & 3.435 & 17.30 & 0 & 0 & 3 & 2\\\\\n",
       "\tCamaro Z28 & 13.3 & 8 & 350.0 & 245 & 3.73 & 3.840 & 15.41 & 0 & 0 & 3 & 4\\\\\n",
       "\tPontiac Firebird & 19.2 & 8 & 400.0 & 175 & 3.08 & 3.845 & 17.05 & 0 & 0 & 3 & 2\\\\\n",
       "\tFiat X1-9 & 27.3 & 4 &  79.0 &  66 & 4.08 & 1.935 & 18.90 & 1 & 1 & 4 & 1\\\\\n",
       "\tPorsche 914-2 & 26.0 & 4 & 120.3 &  91 & 4.43 & 2.140 & 16.70 & 0 & 1 & 5 & 2\\\\\n",
       "\tLotus Europa & 30.4 & 4 &  95.1 & 113 & 3.77 & 1.513 & 16.90 & 1 & 1 & 5 & 2\\\\\n",
       "\tFord Pantera L & 15.8 & 8 & 351.0 & 264 & 4.22 & 3.170 & 14.50 & 0 & 1 & 5 & 4\\\\\n",
       "\tFerrari Dino & 19.7 & 6 & 145.0 & 175 & 3.62 & 2.770 & 15.50 & 0 & 1 & 5 & 6\\\\\n",
       "\tMaserati Bora & 15.0 & 8 & 301.0 & 335 & 3.54 & 3.570 & 14.60 & 0 & 1 & 5 & 8\\\\\n",
       "\tVolvo 142E & 21.4 & 4 & 121.0 & 109 & 4.11 & 2.780 & 18.60 & 1 & 1 & 4 & 2\\\\\n",
       "\\end{tabular}\n"
      ],
      "text/markdown": [
       "\n",
       "A data.frame: 32 × 11\n",
       "\n",
       "| <!--/--> | mpg &lt;dbl&gt; | cyl &lt;dbl&gt; | disp &lt;dbl&gt; | hp &lt;dbl&gt; | drat &lt;dbl&gt; | wt &lt;dbl&gt; | qsec &lt;dbl&gt; | vs &lt;dbl&gt; | am &lt;dbl&gt; | gear &lt;dbl&gt; | carb &lt;dbl&gt; |\n",
       "|---|---|---|---|---|---|---|---|---|---|---|---|\n",
       "| Mazda RX4 | 21.0 | 6 | 160.0 | 110 | 3.90 | 2.620 | 16.46 | 0 | 1 | 4 | 4 |\n",
       "| Mazda RX4 Wag | 21.0 | 6 | 160.0 | 110 | 3.90 | 2.875 | 17.02 | 0 | 1 | 4 | 4 |\n",
       "| Datsun 710 | 22.8 | 4 | 108.0 |  93 | 3.85 | 2.320 | 18.61 | 1 | 1 | 4 | 1 |\n",
       "| Hornet 4 Drive | 21.4 | 6 | 258.0 | 110 | 3.08 | 3.215 | 19.44 | 1 | 0 | 3 | 1 |\n",
       "| Hornet Sportabout | 18.7 | 8 | 360.0 | 175 | 3.15 | 3.440 | 17.02 | 0 | 0 | 3 | 2 |\n",
       "| Valiant | 18.1 | 6 | 225.0 | 105 | 2.76 | 3.460 | 20.22 | 1 | 0 | 3 | 1 |\n",
       "| Duster 360 | 14.3 | 8 | 360.0 | 245 | 3.21 | 3.570 | 15.84 | 0 | 0 | 3 | 4 |\n",
       "| Merc 240D | 24.4 | 4 | 146.7 |  62 | 3.69 | 3.190 | 20.00 | 1 | 0 | 4 | 2 |\n",
       "| Merc 230 | 22.8 | 4 | 140.8 |  95 | 3.92 | 3.150 | 22.90 | 1 | 0 | 4 | 2 |\n",
       "| Merc 280 | 19.2 | 6 | 167.6 | 123 | 3.92 | 3.440 | 18.30 | 1 | 0 | 4 | 4 |\n",
       "| Merc 280C | 17.8 | 6 | 167.6 | 123 | 3.92 | 3.440 | 18.90 | 1 | 0 | 4 | 4 |\n",
       "| Merc 450SE | 16.4 | 8 | 275.8 | 180 | 3.07 | 4.070 | 17.40 | 0 | 0 | 3 | 3 |\n",
       "| Merc 450SL | 17.3 | 8 | 275.8 | 180 | 3.07 | 3.730 | 17.60 | 0 | 0 | 3 | 3 |\n",
       "| Merc 450SLC | 15.2 | 8 | 275.8 | 180 | 3.07 | 3.780 | 18.00 | 0 | 0 | 3 | 3 |\n",
       "| Cadillac Fleetwood | 10.4 | 8 | 472.0 | 205 | 2.93 | 5.250 | 17.98 | 0 | 0 | 3 | 4 |\n",
       "| Lincoln Continental | 10.4 | 8 | 460.0 | 215 | 3.00 | 5.424 | 17.82 | 0 | 0 | 3 | 4 |\n",
       "| Chrysler Imperial | 14.7 | 8 | 440.0 | 230 | 3.23 | 5.345 | 17.42 | 0 | 0 | 3 | 4 |\n",
       "| Fiat 128 | 32.4 | 4 |  78.7 |  66 | 4.08 | 2.200 | 19.47 | 1 | 1 | 4 | 1 |\n",
       "| Honda Civic | 30.4 | 4 |  75.7 |  52 | 4.93 | 1.615 | 18.52 | 1 | 1 | 4 | 2 |\n",
       "| Toyota Corolla | 33.9 | 4 |  71.1 |  65 | 4.22 | 1.835 | 19.90 | 1 | 1 | 4 | 1 |\n",
       "| Toyota Corona | 21.5 | 4 | 120.1 |  97 | 3.70 | 2.465 | 20.01 | 1 | 0 | 3 | 1 |\n",
       "| Dodge Challenger | 15.5 | 8 | 318.0 | 150 | 2.76 | 3.520 | 16.87 | 0 | 0 | 3 | 2 |\n",
       "| AMC Javelin | 15.2 | 8 | 304.0 | 150 | 3.15 | 3.435 | 17.30 | 0 | 0 | 3 | 2 |\n",
       "| Camaro Z28 | 13.3 | 8 | 350.0 | 245 | 3.73 | 3.840 | 15.41 | 0 | 0 | 3 | 4 |\n",
       "| Pontiac Firebird | 19.2 | 8 | 400.0 | 175 | 3.08 | 3.845 | 17.05 | 0 | 0 | 3 | 2 |\n",
       "| Fiat X1-9 | 27.3 | 4 |  79.0 |  66 | 4.08 | 1.935 | 18.90 | 1 | 1 | 4 | 1 |\n",
       "| Porsche 914-2 | 26.0 | 4 | 120.3 |  91 | 4.43 | 2.140 | 16.70 | 0 | 1 | 5 | 2 |\n",
       "| Lotus Europa | 30.4 | 4 |  95.1 | 113 | 3.77 | 1.513 | 16.90 | 1 | 1 | 5 | 2 |\n",
       "| Ford Pantera L | 15.8 | 8 | 351.0 | 264 | 4.22 | 3.170 | 14.50 | 0 | 1 | 5 | 4 |\n",
       "| Ferrari Dino | 19.7 | 6 | 145.0 | 175 | 3.62 | 2.770 | 15.50 | 0 | 1 | 5 | 6 |\n",
       "| Maserati Bora | 15.0 | 8 | 301.0 | 335 | 3.54 | 3.570 | 14.60 | 0 | 1 | 5 | 8 |\n",
       "| Volvo 142E | 21.4 | 4 | 121.0 | 109 | 4.11 | 2.780 | 18.60 | 1 | 1 | 4 | 2 |\n",
       "\n"
      ],
      "text/plain": [
       "                    mpg  cyl disp  hp  drat wt    qsec  vs am gear carb\n",
       "Mazda RX4           21.0 6   160.0 110 3.90 2.620 16.46 0  1  4    4   \n",
       "Mazda RX4 Wag       21.0 6   160.0 110 3.90 2.875 17.02 0  1  4    4   \n",
       "Datsun 710          22.8 4   108.0  93 3.85 2.320 18.61 1  1  4    1   \n",
       "Hornet 4 Drive      21.4 6   258.0 110 3.08 3.215 19.44 1  0  3    1   \n",
       "Hornet Sportabout   18.7 8   360.0 175 3.15 3.440 17.02 0  0  3    2   \n",
       "Valiant             18.1 6   225.0 105 2.76 3.460 20.22 1  0  3    1   \n",
       "Duster 360          14.3 8   360.0 245 3.21 3.570 15.84 0  0  3    4   \n",
       "Merc 240D           24.4 4   146.7  62 3.69 3.190 20.00 1  0  4    2   \n",
       "Merc 230            22.8 4   140.8  95 3.92 3.150 22.90 1  0  4    2   \n",
       "Merc 280            19.2 6   167.6 123 3.92 3.440 18.30 1  0  4    4   \n",
       "Merc 280C           17.8 6   167.6 123 3.92 3.440 18.90 1  0  4    4   \n",
       "Merc 450SE          16.4 8   275.8 180 3.07 4.070 17.40 0  0  3    3   \n",
       "Merc 450SL          17.3 8   275.8 180 3.07 3.730 17.60 0  0  3    3   \n",
       "Merc 450SLC         15.2 8   275.8 180 3.07 3.780 18.00 0  0  3    3   \n",
       "Cadillac Fleetwood  10.4 8   472.0 205 2.93 5.250 17.98 0  0  3    4   \n",
       "Lincoln Continental 10.4 8   460.0 215 3.00 5.424 17.82 0  0  3    4   \n",
       "Chrysler Imperial   14.7 8   440.0 230 3.23 5.345 17.42 0  0  3    4   \n",
       "Fiat 128            32.4 4    78.7  66 4.08 2.200 19.47 1  1  4    1   \n",
       "Honda Civic         30.4 4    75.7  52 4.93 1.615 18.52 1  1  4    2   \n",
       "Toyota Corolla      33.9 4    71.1  65 4.22 1.835 19.90 1  1  4    1   \n",
       "Toyota Corona       21.5 4   120.1  97 3.70 2.465 20.01 1  0  3    1   \n",
       "Dodge Challenger    15.5 8   318.0 150 2.76 3.520 16.87 0  0  3    2   \n",
       "AMC Javelin         15.2 8   304.0 150 3.15 3.435 17.30 0  0  3    2   \n",
       "Camaro Z28          13.3 8   350.0 245 3.73 3.840 15.41 0  0  3    4   \n",
       "Pontiac Firebird    19.2 8   400.0 175 3.08 3.845 17.05 0  0  3    2   \n",
       "Fiat X1-9           27.3 4    79.0  66 4.08 1.935 18.90 1  1  4    1   \n",
       "Porsche 914-2       26.0 4   120.3  91 4.43 2.140 16.70 0  1  5    2   \n",
       "Lotus Europa        30.4 4    95.1 113 3.77 1.513 16.90 1  1  5    2   \n",
       "Ford Pantera L      15.8 8   351.0 264 4.22 3.170 14.50 0  1  5    4   \n",
       "Ferrari Dino        19.7 6   145.0 175 3.62 2.770 15.50 0  1  5    6   \n",
       "Maserati Bora       15.0 8   301.0 335 3.54 3.570 14.60 0  1  5    8   \n",
       "Volvo 142E          21.4 4   121.0 109 4.11 2.780 18.60 1  1  4    2   "
      ]
     },
     "metadata": {},
     "output_type": "display_data"
    }
   ],
   "source": [
    "mtcars"
   ]
  },
  {
   "cell_type": "code",
   "execution_count": 14,
   "metadata": {
    "vscode": {
     "languageId": "r"
    }
   },
   "outputs": [
    {
     "data": {
      "text/html": [
       "<table class=\"dataframe\">\n",
       "<caption>A tibble: 160 × 4</caption>\n",
       "<thead>\n",
       "\t<tr><th scope=col>x</th><th scope=col>node</th><th scope=col>next_x</th><th scope=col>next_node</th></tr>\n",
       "\t<tr><th scope=col>&lt;fct&gt;</th><th scope=col>&lt;dbl&gt;</th><th scope=col>&lt;fct&gt;</th><th scope=col>&lt;dbl&gt;</th></tr>\n",
       "</thead>\n",
       "<tbody>\n",
       "\t<tr><td>cyl </td><td>6</td><td>vs  </td><td> 0</td></tr>\n",
       "\t<tr><td>vs  </td><td>0</td><td>am  </td><td> 1</td></tr>\n",
       "\t<tr><td>am  </td><td>1</td><td>gear</td><td> 4</td></tr>\n",
       "\t<tr><td>gear</td><td>4</td><td>carb</td><td> 4</td></tr>\n",
       "\t<tr><td>carb</td><td>4</td><td>NA  </td><td>NA</td></tr>\n",
       "\t<tr><td>cyl </td><td>6</td><td>vs  </td><td> 0</td></tr>\n",
       "\t<tr><td>vs  </td><td>0</td><td>am  </td><td> 1</td></tr>\n",
       "\t<tr><td>am  </td><td>1</td><td>gear</td><td> 4</td></tr>\n",
       "\t<tr><td>gear</td><td>4</td><td>carb</td><td> 4</td></tr>\n",
       "\t<tr><td>carb</td><td>4</td><td>NA  </td><td>NA</td></tr>\n",
       "\t<tr><td>cyl </td><td>4</td><td>vs  </td><td> 1</td></tr>\n",
       "\t<tr><td>vs  </td><td>1</td><td>am  </td><td> 1</td></tr>\n",
       "\t<tr><td>am  </td><td>1</td><td>gear</td><td> 4</td></tr>\n",
       "\t<tr><td>gear</td><td>4</td><td>carb</td><td> 1</td></tr>\n",
       "\t<tr><td>carb</td><td>1</td><td>NA  </td><td>NA</td></tr>\n",
       "\t<tr><td>cyl </td><td>6</td><td>vs  </td><td> 1</td></tr>\n",
       "\t<tr><td>vs  </td><td>1</td><td>am  </td><td> 0</td></tr>\n",
       "\t<tr><td>am  </td><td>0</td><td>gear</td><td> 3</td></tr>\n",
       "\t<tr><td>gear</td><td>3</td><td>carb</td><td> 1</td></tr>\n",
       "\t<tr><td>carb</td><td>1</td><td>NA  </td><td>NA</td></tr>\n",
       "\t<tr><td>cyl </td><td>8</td><td>vs  </td><td> 0</td></tr>\n",
       "\t<tr><td>vs  </td><td>0</td><td>am  </td><td> 0</td></tr>\n",
       "\t<tr><td>am  </td><td>0</td><td>gear</td><td> 3</td></tr>\n",
       "\t<tr><td>gear</td><td>3</td><td>carb</td><td> 2</td></tr>\n",
       "\t<tr><td>carb</td><td>2</td><td>NA  </td><td>NA</td></tr>\n",
       "\t<tr><td>cyl </td><td>6</td><td>vs  </td><td> 1</td></tr>\n",
       "\t<tr><td>vs  </td><td>1</td><td>am  </td><td> 0</td></tr>\n",
       "\t<tr><td>am  </td><td>0</td><td>gear</td><td> 3</td></tr>\n",
       "\t<tr><td>gear</td><td>3</td><td>carb</td><td> 1</td></tr>\n",
       "\t<tr><td>carb</td><td>1</td><td>NA  </td><td>NA</td></tr>\n",
       "\t<tr><td>⋮</td><td>⋮</td><td>⋮</td><td>⋮</td></tr>\n",
       "\t<tr><td>cyl </td><td>4</td><td>vs  </td><td> 0</td></tr>\n",
       "\t<tr><td>vs  </td><td>0</td><td>am  </td><td> 1</td></tr>\n",
       "\t<tr><td>am  </td><td>1</td><td>gear</td><td> 5</td></tr>\n",
       "\t<tr><td>gear</td><td>5</td><td>carb</td><td> 2</td></tr>\n",
       "\t<tr><td>carb</td><td>2</td><td>NA  </td><td>NA</td></tr>\n",
       "\t<tr><td>cyl </td><td>4</td><td>vs  </td><td> 1</td></tr>\n",
       "\t<tr><td>vs  </td><td>1</td><td>am  </td><td> 1</td></tr>\n",
       "\t<tr><td>am  </td><td>1</td><td>gear</td><td> 5</td></tr>\n",
       "\t<tr><td>gear</td><td>5</td><td>carb</td><td> 2</td></tr>\n",
       "\t<tr><td>carb</td><td>2</td><td>NA  </td><td>NA</td></tr>\n",
       "\t<tr><td>cyl </td><td>8</td><td>vs  </td><td> 0</td></tr>\n",
       "\t<tr><td>vs  </td><td>0</td><td>am  </td><td> 1</td></tr>\n",
       "\t<tr><td>am  </td><td>1</td><td>gear</td><td> 5</td></tr>\n",
       "\t<tr><td>gear</td><td>5</td><td>carb</td><td> 4</td></tr>\n",
       "\t<tr><td>carb</td><td>4</td><td>NA  </td><td>NA</td></tr>\n",
       "\t<tr><td>cyl </td><td>6</td><td>vs  </td><td> 0</td></tr>\n",
       "\t<tr><td>vs  </td><td>0</td><td>am  </td><td> 1</td></tr>\n",
       "\t<tr><td>am  </td><td>1</td><td>gear</td><td> 5</td></tr>\n",
       "\t<tr><td>gear</td><td>5</td><td>carb</td><td> 6</td></tr>\n",
       "\t<tr><td>carb</td><td>6</td><td>NA  </td><td>NA</td></tr>\n",
       "\t<tr><td>cyl </td><td>8</td><td>vs  </td><td> 0</td></tr>\n",
       "\t<tr><td>vs  </td><td>0</td><td>am  </td><td> 1</td></tr>\n",
       "\t<tr><td>am  </td><td>1</td><td>gear</td><td> 5</td></tr>\n",
       "\t<tr><td>gear</td><td>5</td><td>carb</td><td> 8</td></tr>\n",
       "\t<tr><td>carb</td><td>8</td><td>NA  </td><td>NA</td></tr>\n",
       "\t<tr><td>cyl </td><td>4</td><td>vs  </td><td> 1</td></tr>\n",
       "\t<tr><td>vs  </td><td>1</td><td>am  </td><td> 1</td></tr>\n",
       "\t<tr><td>am  </td><td>1</td><td>gear</td><td> 4</td></tr>\n",
       "\t<tr><td>gear</td><td>4</td><td>carb</td><td> 2</td></tr>\n",
       "\t<tr><td>carb</td><td>2</td><td>NA  </td><td>NA</td></tr>\n",
       "</tbody>\n",
       "</table>\n"
      ],
      "text/latex": [
       "A tibble: 160 × 4\n",
       "\\begin{tabular}{llll}\n",
       " x & node & next\\_x & next\\_node\\\\\n",
       " <fct> & <dbl> & <fct> & <dbl>\\\\\n",
       "\\hline\n",
       "\t cyl  & 6 & vs   &  0\\\\\n",
       "\t vs   & 0 & am   &  1\\\\\n",
       "\t am   & 1 & gear &  4\\\\\n",
       "\t gear & 4 & carb &  4\\\\\n",
       "\t carb & 4 & NA   & NA\\\\\n",
       "\t cyl  & 6 & vs   &  0\\\\\n",
       "\t vs   & 0 & am   &  1\\\\\n",
       "\t am   & 1 & gear &  4\\\\\n",
       "\t gear & 4 & carb &  4\\\\\n",
       "\t carb & 4 & NA   & NA\\\\\n",
       "\t cyl  & 4 & vs   &  1\\\\\n",
       "\t vs   & 1 & am   &  1\\\\\n",
       "\t am   & 1 & gear &  4\\\\\n",
       "\t gear & 4 & carb &  1\\\\\n",
       "\t carb & 1 & NA   & NA\\\\\n",
       "\t cyl  & 6 & vs   &  1\\\\\n",
       "\t vs   & 1 & am   &  0\\\\\n",
       "\t am   & 0 & gear &  3\\\\\n",
       "\t gear & 3 & carb &  1\\\\\n",
       "\t carb & 1 & NA   & NA\\\\\n",
       "\t cyl  & 8 & vs   &  0\\\\\n",
       "\t vs   & 0 & am   &  0\\\\\n",
       "\t am   & 0 & gear &  3\\\\\n",
       "\t gear & 3 & carb &  2\\\\\n",
       "\t carb & 2 & NA   & NA\\\\\n",
       "\t cyl  & 6 & vs   &  1\\\\\n",
       "\t vs   & 1 & am   &  0\\\\\n",
       "\t am   & 0 & gear &  3\\\\\n",
       "\t gear & 3 & carb &  1\\\\\n",
       "\t carb & 1 & NA   & NA\\\\\n",
       "\t ⋮ & ⋮ & ⋮ & ⋮\\\\\n",
       "\t cyl  & 4 & vs   &  0\\\\\n",
       "\t vs   & 0 & am   &  1\\\\\n",
       "\t am   & 1 & gear &  5\\\\\n",
       "\t gear & 5 & carb &  2\\\\\n",
       "\t carb & 2 & NA   & NA\\\\\n",
       "\t cyl  & 4 & vs   &  1\\\\\n",
       "\t vs   & 1 & am   &  1\\\\\n",
       "\t am   & 1 & gear &  5\\\\\n",
       "\t gear & 5 & carb &  2\\\\\n",
       "\t carb & 2 & NA   & NA\\\\\n",
       "\t cyl  & 8 & vs   &  0\\\\\n",
       "\t vs   & 0 & am   &  1\\\\\n",
       "\t am   & 1 & gear &  5\\\\\n",
       "\t gear & 5 & carb &  4\\\\\n",
       "\t carb & 4 & NA   & NA\\\\\n",
       "\t cyl  & 6 & vs   &  0\\\\\n",
       "\t vs   & 0 & am   &  1\\\\\n",
       "\t am   & 1 & gear &  5\\\\\n",
       "\t gear & 5 & carb &  6\\\\\n",
       "\t carb & 6 & NA   & NA\\\\\n",
       "\t cyl  & 8 & vs   &  0\\\\\n",
       "\t vs   & 0 & am   &  1\\\\\n",
       "\t am   & 1 & gear &  5\\\\\n",
       "\t gear & 5 & carb &  8\\\\\n",
       "\t carb & 8 & NA   & NA\\\\\n",
       "\t cyl  & 4 & vs   &  1\\\\\n",
       "\t vs   & 1 & am   &  1\\\\\n",
       "\t am   & 1 & gear &  4\\\\\n",
       "\t gear & 4 & carb &  2\\\\\n",
       "\t carb & 2 & NA   & NA\\\\\n",
       "\\end{tabular}\n"
      ],
      "text/markdown": [
       "\n",
       "A tibble: 160 × 4\n",
       "\n",
       "| x &lt;fct&gt; | node &lt;dbl&gt; | next_x &lt;fct&gt; | next_node &lt;dbl&gt; |\n",
       "|---|---|---|---|\n",
       "| cyl  | 6 | vs   |  0 |\n",
       "| vs   | 0 | am   |  1 |\n",
       "| am   | 1 | gear |  4 |\n",
       "| gear | 4 | carb |  4 |\n",
       "| carb | 4 | NA   | NA |\n",
       "| cyl  | 6 | vs   |  0 |\n",
       "| vs   | 0 | am   |  1 |\n",
       "| am   | 1 | gear |  4 |\n",
       "| gear | 4 | carb |  4 |\n",
       "| carb | 4 | NA   | NA |\n",
       "| cyl  | 4 | vs   |  1 |\n",
       "| vs   | 1 | am   |  1 |\n",
       "| am   | 1 | gear |  4 |\n",
       "| gear | 4 | carb |  1 |\n",
       "| carb | 1 | NA   | NA |\n",
       "| cyl  | 6 | vs   |  1 |\n",
       "| vs   | 1 | am   |  0 |\n",
       "| am   | 0 | gear |  3 |\n",
       "| gear | 3 | carb |  1 |\n",
       "| carb | 1 | NA   | NA |\n",
       "| cyl  | 8 | vs   |  0 |\n",
       "| vs   | 0 | am   |  0 |\n",
       "| am   | 0 | gear |  3 |\n",
       "| gear | 3 | carb |  2 |\n",
       "| carb | 2 | NA   | NA |\n",
       "| cyl  | 6 | vs   |  1 |\n",
       "| vs   | 1 | am   |  0 |\n",
       "| am   | 0 | gear |  3 |\n",
       "| gear | 3 | carb |  1 |\n",
       "| carb | 1 | NA   | NA |\n",
       "| ⋮ | ⋮ | ⋮ | ⋮ |\n",
       "| cyl  | 4 | vs   |  0 |\n",
       "| vs   | 0 | am   |  1 |\n",
       "| am   | 1 | gear |  5 |\n",
       "| gear | 5 | carb |  2 |\n",
       "| carb | 2 | NA   | NA |\n",
       "| cyl  | 4 | vs   |  1 |\n",
       "| vs   | 1 | am   |  1 |\n",
       "| am   | 1 | gear |  5 |\n",
       "| gear | 5 | carb |  2 |\n",
       "| carb | 2 | NA   | NA |\n",
       "| cyl  | 8 | vs   |  0 |\n",
       "| vs   | 0 | am   |  1 |\n",
       "| am   | 1 | gear |  5 |\n",
       "| gear | 5 | carb |  4 |\n",
       "| carb | 4 | NA   | NA |\n",
       "| cyl  | 6 | vs   |  0 |\n",
       "| vs   | 0 | am   |  1 |\n",
       "| am   | 1 | gear |  5 |\n",
       "| gear | 5 | carb |  6 |\n",
       "| carb | 6 | NA   | NA |\n",
       "| cyl  | 8 | vs   |  0 |\n",
       "| vs   | 0 | am   |  1 |\n",
       "| am   | 1 | gear |  5 |\n",
       "| gear | 5 | carb |  8 |\n",
       "| carb | 8 | NA   | NA |\n",
       "| cyl  | 4 | vs   |  1 |\n",
       "| vs   | 1 | am   |  1 |\n",
       "| am   | 1 | gear |  4 |\n",
       "| gear | 4 | carb |  2 |\n",
       "| carb | 2 | NA   | NA |\n",
       "\n"
      ],
      "text/plain": [
       "    x    node next_x next_node\n",
       "1   cyl  6    vs      0       \n",
       "2   vs   0    am      1       \n",
       "3   am   1    gear    4       \n",
       "4   gear 4    carb    4       \n",
       "5   carb 4    NA     NA       \n",
       "6   cyl  6    vs      0       \n",
       "7   vs   0    am      1       \n",
       "8   am   1    gear    4       \n",
       "9   gear 4    carb    4       \n",
       "10  carb 4    NA     NA       \n",
       "11  cyl  4    vs      1       \n",
       "12  vs   1    am      1       \n",
       "13  am   1    gear    4       \n",
       "14  gear 4    carb    1       \n",
       "15  carb 1    NA     NA       \n",
       "16  cyl  6    vs      1       \n",
       "17  vs   1    am      0       \n",
       "18  am   0    gear    3       \n",
       "19  gear 3    carb    1       \n",
       "20  carb 1    NA     NA       \n",
       "21  cyl  8    vs      0       \n",
       "22  vs   0    am      0       \n",
       "23  am   0    gear    3       \n",
       "24  gear 3    carb    2       \n",
       "25  carb 2    NA     NA       \n",
       "26  cyl  6    vs      1       \n",
       "27  vs   1    am      0       \n",
       "28  am   0    gear    3       \n",
       "29  gear 3    carb    1       \n",
       "30  carb 1    NA     NA       \n",
       "⋮   ⋮    ⋮    ⋮      ⋮        \n",
       "131 cyl  4    vs      0       \n",
       "132 vs   0    am      1       \n",
       "133 am   1    gear    5       \n",
       "134 gear 5    carb    2       \n",
       "135 carb 2    NA     NA       \n",
       "136 cyl  4    vs      1       \n",
       "137 vs   1    am      1       \n",
       "138 am   1    gear    5       \n",
       "139 gear 5    carb    2       \n",
       "140 carb 2    NA     NA       \n",
       "141 cyl  8    vs      0       \n",
       "142 vs   0    am      1       \n",
       "143 am   1    gear    5       \n",
       "144 gear 5    carb    4       \n",
       "145 carb 4    NA     NA       \n",
       "146 cyl  6    vs      0       \n",
       "147 vs   0    am      1       \n",
       "148 am   1    gear    5       \n",
       "149 gear 5    carb    6       \n",
       "150 carb 6    NA     NA       \n",
       "151 cyl  8    vs      0       \n",
       "152 vs   0    am      1       \n",
       "153 am   1    gear    5       \n",
       "154 gear 5    carb    8       \n",
       "155 carb 8    NA     NA       \n",
       "156 cyl  4    vs      1       \n",
       "157 vs   1    am      1       \n",
       "158 am   1    gear    4       \n",
       "159 gear 4    carb    2       \n",
       "160 carb 2    NA     NA       "
      ]
     },
     "metadata": {},
     "output_type": "display_data"
    }
   ],
   "source": [
    "mtcars %>% make_long(cyl, vs, am, gear, carb)"
   ]
  },
  {
   "cell_type": "code",
   "execution_count": 17,
   "metadata": {
    "vscode": {
     "languageId": "r"
    }
   },
   "outputs": [
    {
     "data": {
      "text/html": [
       "<table class=\"dataframe\">\n",
       "<caption>A data.frame: 112297 × 9</caption>\n",
       "<thead>\n",
       "\t<tr><th scope=col>instant_update</th><th scope=col>update_days</th><th scope=col>downstream_updated_req</th><th scope=col>is_intro</th><th scope=col>is_patch</th><th scope=col>is_neutral</th><th scope=col>downstream_package_id</th><th scope=col>result_category</th><th scope=col>update_type</th></tr>\n",
       "\t<tr><th scope=col>&lt;lgl&gt;</th><th scope=col>&lt;int&gt;</th><th scope=col>&lt;lgl&gt;</th><th scope=col>&lt;lgl&gt;</th><th scope=col>&lt;lgl&gt;</th><th scope=col>&lt;lgl&gt;</th><th scope=col>&lt;int64&gt;</th><th scope=col>&lt;chr&gt;</th><th scope=col>&lt;pq_pdt_t&gt;</th></tr>\n",
       "</thead>\n",
       "<tbody>\n",
       "\t<tr><td>TRUE</td><td>0</td><td>FALSE</td><td>FALSE</td><td>FALSE</td><td>TRUE</td><td>2146078</td><td>Ok</td><td>bug  </td></tr>\n",
       "\t<tr><td>TRUE</td><td>0</td><td>FALSE</td><td>FALSE</td><td>FALSE</td><td>TRUE</td><td>2267449</td><td>Ok</td><td>bug  </td></tr>\n",
       "\t<tr><td>TRUE</td><td>0</td><td>FALSE</td><td>FALSE</td><td>FALSE</td><td>TRUE</td><td>2267468</td><td>Ok</td><td>bug  </td></tr>\n",
       "\t<tr><td>TRUE</td><td>0</td><td>FALSE</td><td>FALSE</td><td>FALSE</td><td>TRUE</td><td>2267466</td><td>Ok</td><td>bug  </td></tr>\n",
       "\t<tr><td>TRUE</td><td>0</td><td>FALSE</td><td>FALSE</td><td>FALSE</td><td>TRUE</td><td>2267475</td><td>Ok</td><td>bug  </td></tr>\n",
       "\t<tr><td>TRUE</td><td>0</td><td>FALSE</td><td>FALSE</td><td>FALSE</td><td>TRUE</td><td>2267468</td><td>Ok</td><td>minor</td></tr>\n",
       "\t<tr><td>TRUE</td><td>0</td><td>FALSE</td><td>FALSE</td><td>FALSE</td><td>TRUE</td><td>2267472</td><td>Ok</td><td>bug  </td></tr>\n",
       "\t<tr><td>TRUE</td><td>0</td><td>FALSE</td><td>FALSE</td><td>FALSE</td><td>TRUE</td><td>2267463</td><td>Ok</td><td>bug  </td></tr>\n",
       "\t<tr><td>TRUE</td><td>0</td><td>FALSE</td><td>FALSE</td><td>FALSE</td><td>TRUE</td><td>2267452</td><td>Ok</td><td>bug  </td></tr>\n",
       "\t<tr><td>TRUE</td><td>0</td><td>FALSE</td><td>FALSE</td><td>FALSE</td><td>TRUE</td><td>2267475</td><td>Ok</td><td>minor</td></tr>\n",
       "\t<tr><td>TRUE</td><td>0</td><td>FALSE</td><td>FALSE</td><td>FALSE</td><td>TRUE</td><td>2267474</td><td>Ok</td><td>minor</td></tr>\n",
       "\t<tr><td>TRUE</td><td>0</td><td>FALSE</td><td>FALSE</td><td>FALSE</td><td>TRUE</td><td>2267472</td><td>Ok</td><td>minor</td></tr>\n",
       "\t<tr><td>TRUE</td><td>0</td><td>FALSE</td><td>FALSE</td><td>FALSE</td><td>TRUE</td><td>2267462</td><td>Ok</td><td>bug  </td></tr>\n",
       "\t<tr><td>TRUE</td><td>0</td><td> TRUE</td><td>FALSE</td><td>FALSE</td><td>TRUE</td><td>2267446</td><td>Ok</td><td>bug  </td></tr>\n",
       "\t<tr><td>TRUE</td><td>0</td><td> TRUE</td><td>FALSE</td><td>FALSE</td><td>TRUE</td><td>2267445</td><td>Ok</td><td>bug  </td></tr>\n",
       "\t<tr><td>TRUE</td><td>0</td><td>FALSE</td><td>FALSE</td><td>FALSE</td><td>TRUE</td><td>2267456</td><td>Ok</td><td>bug  </td></tr>\n",
       "\t<tr><td>TRUE</td><td>0</td><td>FALSE</td><td>FALSE</td><td>FALSE</td><td>TRUE</td><td>1213176</td><td>Ok</td><td>bug  </td></tr>\n",
       "\t<tr><td>TRUE</td><td>0</td><td>FALSE</td><td>FALSE</td><td>FALSE</td><td>TRUE</td><td>1213176</td><td>Ok</td><td>minor</td></tr>\n",
       "\t<tr><td>TRUE</td><td>0</td><td>FALSE</td><td>FALSE</td><td>FALSE</td><td>TRUE</td><td>2267465</td><td>Ok</td><td>bug  </td></tr>\n",
       "\t<tr><td>TRUE</td><td>0</td><td>FALSE</td><td>FALSE</td><td>FALSE</td><td>TRUE</td><td>2267464</td><td>Ok</td><td>bug  </td></tr>\n",
       "\t<tr><td>TRUE</td><td>0</td><td>FALSE</td><td>FALSE</td><td>FALSE</td><td>TRUE</td><td>2267455</td><td>Ok</td><td>bug  </td></tr>\n",
       "\t<tr><td>TRUE</td><td>0</td><td> TRUE</td><td>FALSE</td><td>FALSE</td><td>TRUE</td><td>2267445</td><td>Ok</td><td>minor</td></tr>\n",
       "\t<tr><td>TRUE</td><td>0</td><td>FALSE</td><td>FALSE</td><td>FALSE</td><td>TRUE</td><td>2267467</td><td>Ok</td><td>minor</td></tr>\n",
       "\t<tr><td>TRUE</td><td>0</td><td> TRUE</td><td>FALSE</td><td>FALSE</td><td>TRUE</td><td>2267449</td><td>Ok</td><td>minor</td></tr>\n",
       "\t<tr><td>TRUE</td><td>0</td><td>FALSE</td><td>FALSE</td><td>FALSE</td><td>TRUE</td><td>2267455</td><td>Ok</td><td>minor</td></tr>\n",
       "\t<tr><td>TRUE</td><td>0</td><td>FALSE</td><td>FALSE</td><td>FALSE</td><td>TRUE</td><td>2267461</td><td>Ok</td><td>minor</td></tr>\n",
       "\t<tr><td>TRUE</td><td>0</td><td>FALSE</td><td>FALSE</td><td>FALSE</td><td>TRUE</td><td>2267465</td><td>Ok</td><td>minor</td></tr>\n",
       "\t<tr><td>TRUE</td><td>0</td><td>FALSE</td><td>FALSE</td><td>FALSE</td><td>TRUE</td><td>2267454</td><td>Ok</td><td>minor</td></tr>\n",
       "\t<tr><td>TRUE</td><td>0</td><td>FALSE</td><td>FALSE</td><td>FALSE</td><td>TRUE</td><td>2267462</td><td>Ok</td><td>minor</td></tr>\n",
       "\t<tr><td>TRUE</td><td>0</td><td>FALSE</td><td>FALSE</td><td>FALSE</td><td>TRUE</td><td>2267458</td><td>Ok</td><td>minor</td></tr>\n",
       "\t<tr><td>⋮</td><td>⋮</td><td>⋮</td><td>⋮</td><td>⋮</td><td>⋮</td><td>⋮</td><td>⋮</td><td>⋮</td></tr>\n",
       "\t<tr><td>TRUE</td><td>0</td><td>FALSE</td><td>FALSE</td><td>FALSE</td><td> TRUE</td><td> 157798</td><td>Ok</td><td>bug  </td></tr>\n",
       "\t<tr><td>TRUE</td><td>0</td><td>FALSE</td><td>FALSE</td><td> TRUE</td><td>FALSE</td><td>1672996</td><td>Ok</td><td>bug  </td></tr>\n",
       "\t<tr><td>TRUE</td><td>0</td><td>FALSE</td><td>FALSE</td><td>FALSE</td><td> TRUE</td><td>1697940</td><td>Ok</td><td>minor</td></tr>\n",
       "\t<tr><td>TRUE</td><td>0</td><td>FALSE</td><td>FALSE</td><td>FALSE</td><td> TRUE</td><td> 157799</td><td>Ok</td><td>bug  </td></tr>\n",
       "\t<tr><td>TRUE</td><td>0</td><td>FALSE</td><td>FALSE</td><td>FALSE</td><td> TRUE</td><td>1335843</td><td>Ok</td><td>bug  </td></tr>\n",
       "\t<tr><td>TRUE</td><td>0</td><td>FALSE</td><td>FALSE</td><td>FALSE</td><td> TRUE</td><td>1148032</td><td>Ok</td><td>bug  </td></tr>\n",
       "\t<tr><td>TRUE</td><td>0</td><td>FALSE</td><td>FALSE</td><td>FALSE</td><td> TRUE</td><td>1855018</td><td>Ok</td><td>bug  </td></tr>\n",
       "\t<tr><td>TRUE</td><td>0</td><td>FALSE</td><td>FALSE</td><td>FALSE</td><td> TRUE</td><td>1672996</td><td>Ok</td><td>minor</td></tr>\n",
       "\t<tr><td>TRUE</td><td>0</td><td> TRUE</td><td>FALSE</td><td>FALSE</td><td> TRUE</td><td>1972415</td><td>Ok</td><td>minor</td></tr>\n",
       "\t<tr><td>TRUE</td><td>0</td><td>FALSE</td><td>FALSE</td><td> TRUE</td><td>FALSE</td><td>2460727</td><td>Ok</td><td>bug  </td></tr>\n",
       "\t<tr><td>TRUE</td><td>0</td><td>FALSE</td><td>FALSE</td><td> TRUE</td><td>FALSE</td><td>1171284</td><td>Ok</td><td>bug  </td></tr>\n",
       "\t<tr><td>TRUE</td><td>0</td><td>FALSE</td><td>FALSE</td><td>FALSE</td><td> TRUE</td><td>2245348</td><td>Ok</td><td>bug  </td></tr>\n",
       "\t<tr><td>TRUE</td><td>0</td><td>FALSE</td><td>FALSE</td><td>FALSE</td><td> TRUE</td><td>1362193</td><td>Ok</td><td>bug  </td></tr>\n",
       "\t<tr><td>TRUE</td><td>0</td><td>FALSE</td><td>FALSE</td><td>FALSE</td><td> TRUE</td><td>1958905</td><td>Ok</td><td>minor</td></tr>\n",
       "\t<tr><td>TRUE</td><td>0</td><td>FALSE</td><td>FALSE</td><td>FALSE</td><td> TRUE</td><td>1958905</td><td>Ok</td><td>bug  </td></tr>\n",
       "\t<tr><td>TRUE</td><td>0</td><td>FALSE</td><td>FALSE</td><td>FALSE</td><td> TRUE</td><td>1998320</td><td>Ok</td><td>bug  </td></tr>\n",
       "\t<tr><td>TRUE</td><td>0</td><td>FALSE</td><td>FALSE</td><td>FALSE</td><td> TRUE</td><td>1998320</td><td>Ok</td><td>minor</td></tr>\n",
       "\t<tr><td>TRUE</td><td>0</td><td> TRUE</td><td>FALSE</td><td>FALSE</td><td> TRUE</td><td>1910783</td><td>Ok</td><td>bug  </td></tr>\n",
       "\t<tr><td>TRUE</td><td>0</td><td>FALSE</td><td>FALSE</td><td>FALSE</td><td> TRUE</td><td>1958904</td><td>Ok</td><td>bug  </td></tr>\n",
       "\t<tr><td>TRUE</td><td>0</td><td>FALSE</td><td>FALSE</td><td>FALSE</td><td> TRUE</td><td>1958904</td><td>Ok</td><td>minor</td></tr>\n",
       "\t<tr><td>TRUE</td><td>0</td><td>FALSE</td><td>FALSE</td><td>FALSE</td><td> TRUE</td><td>1958961</td><td>Ok</td><td>minor</td></tr>\n",
       "\t<tr><td>TRUE</td><td>0</td><td>FALSE</td><td>FALSE</td><td>FALSE</td><td> TRUE</td><td>1958961</td><td>Ok</td><td>bug  </td></tr>\n",
       "\t<tr><td>TRUE</td><td>0</td><td>FALSE</td><td>FALSE</td><td>FALSE</td><td> TRUE</td><td>2215444</td><td>Ok</td><td>bug  </td></tr>\n",
       "\t<tr><td>TRUE</td><td>0</td><td>FALSE</td><td>FALSE</td><td>FALSE</td><td> TRUE</td><td>1643058</td><td>Ok</td><td>bug  </td></tr>\n",
       "\t<tr><td>TRUE</td><td>0</td><td>FALSE</td><td>FALSE</td><td>FALSE</td><td> TRUE</td><td>2120506</td><td>Ok</td><td>bug  </td></tr>\n",
       "\t<tr><td>TRUE</td><td>0</td><td>FALSE</td><td>FALSE</td><td>FALSE</td><td> TRUE</td><td>1603821</td><td>Ok</td><td>minor</td></tr>\n",
       "\t<tr><td>TRUE</td><td>0</td><td>FALSE</td><td>FALSE</td><td>FALSE</td><td> TRUE</td><td>1881095</td><td>Ok</td><td>bug  </td></tr>\n",
       "\t<tr><td>TRUE</td><td>0</td><td>FALSE</td><td>FALSE</td><td>FALSE</td><td> TRUE</td><td> 832368</td><td>Ok</td><td>bug  </td></tr>\n",
       "\t<tr><td>TRUE</td><td>0</td><td>FALSE</td><td>FALSE</td><td>FALSE</td><td> TRUE</td><td>1973031</td><td>Ok</td><td>bug  </td></tr>\n",
       "\t<tr><td>TRUE</td><td>0</td><td>FALSE</td><td>FALSE</td><td>FALSE</td><td> TRUE</td><td>2251471</td><td>Ok</td><td>bug  </td></tr>\n",
       "</tbody>\n",
       "</table>\n"
      ],
      "text/latex": [
       "A data.frame: 112297 × 9\n",
       "\\begin{tabular}{lllllllll}\n",
       " instant\\_update & update\\_days & downstream\\_updated\\_req & is\\_intro & is\\_patch & is\\_neutral & downstream\\_package\\_id & result\\_category & update\\_type\\\\\n",
       " <lgl> & <int> & <lgl> & <lgl> & <lgl> & <lgl> & <int64> & <chr> & <pq\\_pdt\\_t>\\\\\n",
       "\\hline\n",
       "\t TRUE & 0 & FALSE & FALSE & FALSE & TRUE & 2146078 & Ok & bug  \\\\\n",
       "\t TRUE & 0 & FALSE & FALSE & FALSE & TRUE & 2267449 & Ok & bug  \\\\\n",
       "\t TRUE & 0 & FALSE & FALSE & FALSE & TRUE & 2267468 & Ok & bug  \\\\\n",
       "\t TRUE & 0 & FALSE & FALSE & FALSE & TRUE & 2267466 & Ok & bug  \\\\\n",
       "\t TRUE & 0 & FALSE & FALSE & FALSE & TRUE & 2267475 & Ok & bug  \\\\\n",
       "\t TRUE & 0 & FALSE & FALSE & FALSE & TRUE & 2267468 & Ok & minor\\\\\n",
       "\t TRUE & 0 & FALSE & FALSE & FALSE & TRUE & 2267472 & Ok & bug  \\\\\n",
       "\t TRUE & 0 & FALSE & FALSE & FALSE & TRUE & 2267463 & Ok & bug  \\\\\n",
       "\t TRUE & 0 & FALSE & FALSE & FALSE & TRUE & 2267452 & Ok & bug  \\\\\n",
       "\t TRUE & 0 & FALSE & FALSE & FALSE & TRUE & 2267475 & Ok & minor\\\\\n",
       "\t TRUE & 0 & FALSE & FALSE & FALSE & TRUE & 2267474 & Ok & minor\\\\\n",
       "\t TRUE & 0 & FALSE & FALSE & FALSE & TRUE & 2267472 & Ok & minor\\\\\n",
       "\t TRUE & 0 & FALSE & FALSE & FALSE & TRUE & 2267462 & Ok & bug  \\\\\n",
       "\t TRUE & 0 &  TRUE & FALSE & FALSE & TRUE & 2267446 & Ok & bug  \\\\\n",
       "\t TRUE & 0 &  TRUE & FALSE & FALSE & TRUE & 2267445 & Ok & bug  \\\\\n",
       "\t TRUE & 0 & FALSE & FALSE & FALSE & TRUE & 2267456 & Ok & bug  \\\\\n",
       "\t TRUE & 0 & FALSE & FALSE & FALSE & TRUE & 1213176 & Ok & bug  \\\\\n",
       "\t TRUE & 0 & FALSE & FALSE & FALSE & TRUE & 1213176 & Ok & minor\\\\\n",
       "\t TRUE & 0 & FALSE & FALSE & FALSE & TRUE & 2267465 & Ok & bug  \\\\\n",
       "\t TRUE & 0 & FALSE & FALSE & FALSE & TRUE & 2267464 & Ok & bug  \\\\\n",
       "\t TRUE & 0 & FALSE & FALSE & FALSE & TRUE & 2267455 & Ok & bug  \\\\\n",
       "\t TRUE & 0 &  TRUE & FALSE & FALSE & TRUE & 2267445 & Ok & minor\\\\\n",
       "\t TRUE & 0 & FALSE & FALSE & FALSE & TRUE & 2267467 & Ok & minor\\\\\n",
       "\t TRUE & 0 &  TRUE & FALSE & FALSE & TRUE & 2267449 & Ok & minor\\\\\n",
       "\t TRUE & 0 & FALSE & FALSE & FALSE & TRUE & 2267455 & Ok & minor\\\\\n",
       "\t TRUE & 0 & FALSE & FALSE & FALSE & TRUE & 2267461 & Ok & minor\\\\\n",
       "\t TRUE & 0 & FALSE & FALSE & FALSE & TRUE & 2267465 & Ok & minor\\\\\n",
       "\t TRUE & 0 & FALSE & FALSE & FALSE & TRUE & 2267454 & Ok & minor\\\\\n",
       "\t TRUE & 0 & FALSE & FALSE & FALSE & TRUE & 2267462 & Ok & minor\\\\\n",
       "\t TRUE & 0 & FALSE & FALSE & FALSE & TRUE & 2267458 & Ok & minor\\\\\n",
       "\t ⋮ & ⋮ & ⋮ & ⋮ & ⋮ & ⋮ & ⋮ & ⋮ & ⋮\\\\\n",
       "\t TRUE & 0 & FALSE & FALSE & FALSE &  TRUE &  157798 & Ok & bug  \\\\\n",
       "\t TRUE & 0 & FALSE & FALSE &  TRUE & FALSE & 1672996 & Ok & bug  \\\\\n",
       "\t TRUE & 0 & FALSE & FALSE & FALSE &  TRUE & 1697940 & Ok & minor\\\\\n",
       "\t TRUE & 0 & FALSE & FALSE & FALSE &  TRUE &  157799 & Ok & bug  \\\\\n",
       "\t TRUE & 0 & FALSE & FALSE & FALSE &  TRUE & 1335843 & Ok & bug  \\\\\n",
       "\t TRUE & 0 & FALSE & FALSE & FALSE &  TRUE & 1148032 & Ok & bug  \\\\\n",
       "\t TRUE & 0 & FALSE & FALSE & FALSE &  TRUE & 1855018 & Ok & bug  \\\\\n",
       "\t TRUE & 0 & FALSE & FALSE & FALSE &  TRUE & 1672996 & Ok & minor\\\\\n",
       "\t TRUE & 0 &  TRUE & FALSE & FALSE &  TRUE & 1972415 & Ok & minor\\\\\n",
       "\t TRUE & 0 & FALSE & FALSE &  TRUE & FALSE & 2460727 & Ok & bug  \\\\\n",
       "\t TRUE & 0 & FALSE & FALSE &  TRUE & FALSE & 1171284 & Ok & bug  \\\\\n",
       "\t TRUE & 0 & FALSE & FALSE & FALSE &  TRUE & 2245348 & Ok & bug  \\\\\n",
       "\t TRUE & 0 & FALSE & FALSE & FALSE &  TRUE & 1362193 & Ok & bug  \\\\\n",
       "\t TRUE & 0 & FALSE & FALSE & FALSE &  TRUE & 1958905 & Ok & minor\\\\\n",
       "\t TRUE & 0 & FALSE & FALSE & FALSE &  TRUE & 1958905 & Ok & bug  \\\\\n",
       "\t TRUE & 0 & FALSE & FALSE & FALSE &  TRUE & 1998320 & Ok & bug  \\\\\n",
       "\t TRUE & 0 & FALSE & FALSE & FALSE &  TRUE & 1998320 & Ok & minor\\\\\n",
       "\t TRUE & 0 &  TRUE & FALSE & FALSE &  TRUE & 1910783 & Ok & bug  \\\\\n",
       "\t TRUE & 0 & FALSE & FALSE & FALSE &  TRUE & 1958904 & Ok & bug  \\\\\n",
       "\t TRUE & 0 & FALSE & FALSE & FALSE &  TRUE & 1958904 & Ok & minor\\\\\n",
       "\t TRUE & 0 & FALSE & FALSE & FALSE &  TRUE & 1958961 & Ok & minor\\\\\n",
       "\t TRUE & 0 & FALSE & FALSE & FALSE &  TRUE & 1958961 & Ok & bug  \\\\\n",
       "\t TRUE & 0 & FALSE & FALSE & FALSE &  TRUE & 2215444 & Ok & bug  \\\\\n",
       "\t TRUE & 0 & FALSE & FALSE & FALSE &  TRUE & 1643058 & Ok & bug  \\\\\n",
       "\t TRUE & 0 & FALSE & FALSE & FALSE &  TRUE & 2120506 & Ok & bug  \\\\\n",
       "\t TRUE & 0 & FALSE & FALSE & FALSE &  TRUE & 1603821 & Ok & minor\\\\\n",
       "\t TRUE & 0 & FALSE & FALSE & FALSE &  TRUE & 1881095 & Ok & bug  \\\\\n",
       "\t TRUE & 0 & FALSE & FALSE & FALSE &  TRUE &  832368 & Ok & bug  \\\\\n",
       "\t TRUE & 0 & FALSE & FALSE & FALSE &  TRUE & 1973031 & Ok & bug  \\\\\n",
       "\t TRUE & 0 & FALSE & FALSE & FALSE &  TRUE & 2251471 & Ok & bug  \\\\\n",
       "\\end{tabular}\n"
      ],
      "text/markdown": [
       "\n",
       "A data.frame: 112297 × 9\n",
       "\n",
       "| instant_update &lt;lgl&gt; | update_days &lt;int&gt; | downstream_updated_req &lt;lgl&gt; | is_intro &lt;lgl&gt; | is_patch &lt;lgl&gt; | is_neutral &lt;lgl&gt; | downstream_package_id &lt;int64&gt; | result_category &lt;chr&gt; | update_type &lt;pq_pdt_t&gt; |\n",
       "|---|---|---|---|---|---|---|---|---|\n",
       "| TRUE | 0 | FALSE | FALSE | FALSE | TRUE | 2146078 | Ok | bug   |\n",
       "| TRUE | 0 | FALSE | FALSE | FALSE | TRUE | 2267449 | Ok | bug   |\n",
       "| TRUE | 0 | FALSE | FALSE | FALSE | TRUE | 2267468 | Ok | bug   |\n",
       "| TRUE | 0 | FALSE | FALSE | FALSE | TRUE | 2267466 | Ok | bug   |\n",
       "| TRUE | 0 | FALSE | FALSE | FALSE | TRUE | 2267475 | Ok | bug   |\n",
       "| TRUE | 0 | FALSE | FALSE | FALSE | TRUE | 2267468 | Ok | minor |\n",
       "| TRUE | 0 | FALSE | FALSE | FALSE | TRUE | 2267472 | Ok | bug   |\n",
       "| TRUE | 0 | FALSE | FALSE | FALSE | TRUE | 2267463 | Ok | bug   |\n",
       "| TRUE | 0 | FALSE | FALSE | FALSE | TRUE | 2267452 | Ok | bug   |\n",
       "| TRUE | 0 | FALSE | FALSE | FALSE | TRUE | 2267475 | Ok | minor |\n",
       "| TRUE | 0 | FALSE | FALSE | FALSE | TRUE | 2267474 | Ok | minor |\n",
       "| TRUE | 0 | FALSE | FALSE | FALSE | TRUE | 2267472 | Ok | minor |\n",
       "| TRUE | 0 | FALSE | FALSE | FALSE | TRUE | 2267462 | Ok | bug   |\n",
       "| TRUE | 0 |  TRUE | FALSE | FALSE | TRUE | 2267446 | Ok | bug   |\n",
       "| TRUE | 0 |  TRUE | FALSE | FALSE | TRUE | 2267445 | Ok | bug   |\n",
       "| TRUE | 0 | FALSE | FALSE | FALSE | TRUE | 2267456 | Ok | bug   |\n",
       "| TRUE | 0 | FALSE | FALSE | FALSE | TRUE | 1213176 | Ok | bug   |\n",
       "| TRUE | 0 | FALSE | FALSE | FALSE | TRUE | 1213176 | Ok | minor |\n",
       "| TRUE | 0 | FALSE | FALSE | FALSE | TRUE | 2267465 | Ok | bug   |\n",
       "| TRUE | 0 | FALSE | FALSE | FALSE | TRUE | 2267464 | Ok | bug   |\n",
       "| TRUE | 0 | FALSE | FALSE | FALSE | TRUE | 2267455 | Ok | bug   |\n",
       "| TRUE | 0 |  TRUE | FALSE | FALSE | TRUE | 2267445 | Ok | minor |\n",
       "| TRUE | 0 | FALSE | FALSE | FALSE | TRUE | 2267467 | Ok | minor |\n",
       "| TRUE | 0 |  TRUE | FALSE | FALSE | TRUE | 2267449 | Ok | minor |\n",
       "| TRUE | 0 | FALSE | FALSE | FALSE | TRUE | 2267455 | Ok | minor |\n",
       "| TRUE | 0 | FALSE | FALSE | FALSE | TRUE | 2267461 | Ok | minor |\n",
       "| TRUE | 0 | FALSE | FALSE | FALSE | TRUE | 2267465 | Ok | minor |\n",
       "| TRUE | 0 | FALSE | FALSE | FALSE | TRUE | 2267454 | Ok | minor |\n",
       "| TRUE | 0 | FALSE | FALSE | FALSE | TRUE | 2267462 | Ok | minor |\n",
       "| TRUE | 0 | FALSE | FALSE | FALSE | TRUE | 2267458 | Ok | minor |\n",
       "| ⋮ | ⋮ | ⋮ | ⋮ | ⋮ | ⋮ | ⋮ | ⋮ | ⋮ |\n",
       "| TRUE | 0 | FALSE | FALSE | FALSE |  TRUE |  157798 | Ok | bug   |\n",
       "| TRUE | 0 | FALSE | FALSE |  TRUE | FALSE | 1672996 | Ok | bug   |\n",
       "| TRUE | 0 | FALSE | FALSE | FALSE |  TRUE | 1697940 | Ok | minor |\n",
       "| TRUE | 0 | FALSE | FALSE | FALSE |  TRUE |  157799 | Ok | bug   |\n",
       "| TRUE | 0 | FALSE | FALSE | FALSE |  TRUE | 1335843 | Ok | bug   |\n",
       "| TRUE | 0 | FALSE | FALSE | FALSE |  TRUE | 1148032 | Ok | bug   |\n",
       "| TRUE | 0 | FALSE | FALSE | FALSE |  TRUE | 1855018 | Ok | bug   |\n",
       "| TRUE | 0 | FALSE | FALSE | FALSE |  TRUE | 1672996 | Ok | minor |\n",
       "| TRUE | 0 |  TRUE | FALSE | FALSE |  TRUE | 1972415 | Ok | minor |\n",
       "| TRUE | 0 | FALSE | FALSE |  TRUE | FALSE | 2460727 | Ok | bug   |\n",
       "| TRUE | 0 | FALSE | FALSE |  TRUE | FALSE | 1171284 | Ok | bug   |\n",
       "| TRUE | 0 | FALSE | FALSE | FALSE |  TRUE | 2245348 | Ok | bug   |\n",
       "| TRUE | 0 | FALSE | FALSE | FALSE |  TRUE | 1362193 | Ok | bug   |\n",
       "| TRUE | 0 | FALSE | FALSE | FALSE |  TRUE | 1958905 | Ok | minor |\n",
       "| TRUE | 0 | FALSE | FALSE | FALSE |  TRUE | 1958905 | Ok | bug   |\n",
       "| TRUE | 0 | FALSE | FALSE | FALSE |  TRUE | 1998320 | Ok | bug   |\n",
       "| TRUE | 0 | FALSE | FALSE | FALSE |  TRUE | 1998320 | Ok | minor |\n",
       "| TRUE | 0 |  TRUE | FALSE | FALSE |  TRUE | 1910783 | Ok | bug   |\n",
       "| TRUE | 0 | FALSE | FALSE | FALSE |  TRUE | 1958904 | Ok | bug   |\n",
       "| TRUE | 0 | FALSE | FALSE | FALSE |  TRUE | 1958904 | Ok | minor |\n",
       "| TRUE | 0 | FALSE | FALSE | FALSE |  TRUE | 1958961 | Ok | minor |\n",
       "| TRUE | 0 | FALSE | FALSE | FALSE |  TRUE | 1958961 | Ok | bug   |\n",
       "| TRUE | 0 | FALSE | FALSE | FALSE |  TRUE | 2215444 | Ok | bug   |\n",
       "| TRUE | 0 | FALSE | FALSE | FALSE |  TRUE | 1643058 | Ok | bug   |\n",
       "| TRUE | 0 | FALSE | FALSE | FALSE |  TRUE | 2120506 | Ok | bug   |\n",
       "| TRUE | 0 | FALSE | FALSE | FALSE |  TRUE | 1603821 | Ok | minor |\n",
       "| TRUE | 0 | FALSE | FALSE | FALSE |  TRUE | 1881095 | Ok | bug   |\n",
       "| TRUE | 0 | FALSE | FALSE | FALSE |  TRUE |  832368 | Ok | bug   |\n",
       "| TRUE | 0 | FALSE | FALSE | FALSE |  TRUE | 1973031 | Ok | bug   |\n",
       "| TRUE | 0 | FALSE | FALSE | FALSE |  TRUE | 2251471 | Ok | bug   |\n",
       "\n"
      ],
      "text/plain": [
       "       instant_update update_days downstream_updated_req is_intro is_patch\n",
       "1      TRUE           0           FALSE                  FALSE    FALSE   \n",
       "2      TRUE           0           FALSE                  FALSE    FALSE   \n",
       "3      TRUE           0           FALSE                  FALSE    FALSE   \n",
       "4      TRUE           0           FALSE                  FALSE    FALSE   \n",
       "5      TRUE           0           FALSE                  FALSE    FALSE   \n",
       "6      TRUE           0           FALSE                  FALSE    FALSE   \n",
       "7      TRUE           0           FALSE                  FALSE    FALSE   \n",
       "8      TRUE           0           FALSE                  FALSE    FALSE   \n",
       "9      TRUE           0           FALSE                  FALSE    FALSE   \n",
       "10     TRUE           0           FALSE                  FALSE    FALSE   \n",
       "11     TRUE           0           FALSE                  FALSE    FALSE   \n",
       "12     TRUE           0           FALSE                  FALSE    FALSE   \n",
       "13     TRUE           0           FALSE                  FALSE    FALSE   \n",
       "14     TRUE           0            TRUE                  FALSE    FALSE   \n",
       "15     TRUE           0            TRUE                  FALSE    FALSE   \n",
       "16     TRUE           0           FALSE                  FALSE    FALSE   \n",
       "17     TRUE           0           FALSE                  FALSE    FALSE   \n",
       "18     TRUE           0           FALSE                  FALSE    FALSE   \n",
       "19     TRUE           0           FALSE                  FALSE    FALSE   \n",
       "20     TRUE           0           FALSE                  FALSE    FALSE   \n",
       "21     TRUE           0           FALSE                  FALSE    FALSE   \n",
       "22     TRUE           0            TRUE                  FALSE    FALSE   \n",
       "23     TRUE           0           FALSE                  FALSE    FALSE   \n",
       "24     TRUE           0            TRUE                  FALSE    FALSE   \n",
       "25     TRUE           0           FALSE                  FALSE    FALSE   \n",
       "26     TRUE           0           FALSE                  FALSE    FALSE   \n",
       "27     TRUE           0           FALSE                  FALSE    FALSE   \n",
       "28     TRUE           0           FALSE                  FALSE    FALSE   \n",
       "29     TRUE           0           FALSE                  FALSE    FALSE   \n",
       "30     TRUE           0           FALSE                  FALSE    FALSE   \n",
       "⋮      ⋮              ⋮           ⋮                      ⋮        ⋮       \n",
       "112268 TRUE           0           FALSE                  FALSE    FALSE   \n",
       "112269 TRUE           0           FALSE                  FALSE     TRUE   \n",
       "112270 TRUE           0           FALSE                  FALSE    FALSE   \n",
       "112271 TRUE           0           FALSE                  FALSE    FALSE   \n",
       "112272 TRUE           0           FALSE                  FALSE    FALSE   \n",
       "112273 TRUE           0           FALSE                  FALSE    FALSE   \n",
       "112274 TRUE           0           FALSE                  FALSE    FALSE   \n",
       "112275 TRUE           0           FALSE                  FALSE    FALSE   \n",
       "112276 TRUE           0            TRUE                  FALSE    FALSE   \n",
       "112277 TRUE           0           FALSE                  FALSE     TRUE   \n",
       "112278 TRUE           0           FALSE                  FALSE     TRUE   \n",
       "112279 TRUE           0           FALSE                  FALSE    FALSE   \n",
       "112280 TRUE           0           FALSE                  FALSE    FALSE   \n",
       "112281 TRUE           0           FALSE                  FALSE    FALSE   \n",
       "112282 TRUE           0           FALSE                  FALSE    FALSE   \n",
       "112283 TRUE           0           FALSE                  FALSE    FALSE   \n",
       "112284 TRUE           0           FALSE                  FALSE    FALSE   \n",
       "112285 TRUE           0            TRUE                  FALSE    FALSE   \n",
       "112286 TRUE           0           FALSE                  FALSE    FALSE   \n",
       "112287 TRUE           0           FALSE                  FALSE    FALSE   \n",
       "112288 TRUE           0           FALSE                  FALSE    FALSE   \n",
       "112289 TRUE           0           FALSE                  FALSE    FALSE   \n",
       "112290 TRUE           0           FALSE                  FALSE    FALSE   \n",
       "112291 TRUE           0           FALSE                  FALSE    FALSE   \n",
       "112292 TRUE           0           FALSE                  FALSE    FALSE   \n",
       "112293 TRUE           0           FALSE                  FALSE    FALSE   \n",
       "112294 TRUE           0           FALSE                  FALSE    FALSE   \n",
       "112295 TRUE           0           FALSE                  FALSE    FALSE   \n",
       "112296 TRUE           0           FALSE                  FALSE    FALSE   \n",
       "112297 TRUE           0           FALSE                  FALSE    FALSE   \n",
       "       is_neutral downstream_package_id result_category update_type\n",
       "1      TRUE       2146078               Ok              bug        \n",
       "2      TRUE       2267449               Ok              bug        \n",
       "3      TRUE       2267468               Ok              bug        \n",
       "4      TRUE       2267466               Ok              bug        \n",
       "5      TRUE       2267475               Ok              bug        \n",
       "6      TRUE       2267468               Ok              minor      \n",
       "7      TRUE       2267472               Ok              bug        \n",
       "8      TRUE       2267463               Ok              bug        \n",
       "9      TRUE       2267452               Ok              bug        \n",
       "10     TRUE       2267475               Ok              minor      \n",
       "11     TRUE       2267474               Ok              minor      \n",
       "12     TRUE       2267472               Ok              minor      \n",
       "13     TRUE       2267462               Ok              bug        \n",
       "14     TRUE       2267446               Ok              bug        \n",
       "15     TRUE       2267445               Ok              bug        \n",
       "16     TRUE       2267456               Ok              bug        \n",
       "17     TRUE       1213176               Ok              bug        \n",
       "18     TRUE       1213176               Ok              minor      \n",
       "19     TRUE       2267465               Ok              bug        \n",
       "20     TRUE       2267464               Ok              bug        \n",
       "21     TRUE       2267455               Ok              bug        \n",
       "22     TRUE       2267445               Ok              minor      \n",
       "23     TRUE       2267467               Ok              minor      \n",
       "24     TRUE       2267449               Ok              minor      \n",
       "25     TRUE       2267455               Ok              minor      \n",
       "26     TRUE       2267461               Ok              minor      \n",
       "27     TRUE       2267465               Ok              minor      \n",
       "28     TRUE       2267454               Ok              minor      \n",
       "29     TRUE       2267462               Ok              minor      \n",
       "30     TRUE       2267458               Ok              minor      \n",
       "⋮      ⋮          ⋮                     ⋮               ⋮          \n",
       "112268  TRUE       157798               Ok              bug        \n",
       "112269 FALSE      1672996               Ok              bug        \n",
       "112270  TRUE      1697940               Ok              minor      \n",
       "112271  TRUE       157799               Ok              bug        \n",
       "112272  TRUE      1335843               Ok              bug        \n",
       "112273  TRUE      1148032               Ok              bug        \n",
       "112274  TRUE      1855018               Ok              bug        \n",
       "112275  TRUE      1672996               Ok              minor      \n",
       "112276  TRUE      1972415               Ok              minor      \n",
       "112277 FALSE      2460727               Ok              bug        \n",
       "112278 FALSE      1171284               Ok              bug        \n",
       "112279  TRUE      2245348               Ok              bug        \n",
       "112280  TRUE      1362193               Ok              bug        \n",
       "112281  TRUE      1958905               Ok              minor      \n",
       "112282  TRUE      1958905               Ok              bug        \n",
       "112283  TRUE      1998320               Ok              bug        \n",
       "112284  TRUE      1998320               Ok              minor      \n",
       "112285  TRUE      1910783               Ok              bug        \n",
       "112286  TRUE      1958904               Ok              bug        \n",
       "112287  TRUE      1958904               Ok              minor      \n",
       "112288  TRUE      1958961               Ok              minor      \n",
       "112289  TRUE      1958961               Ok              bug        \n",
       "112290  TRUE      2215444               Ok              bug        \n",
       "112291  TRUE      1643058               Ok              bug        \n",
       "112292  TRUE      2120506               Ok              bug        \n",
       "112293  TRUE      1603821               Ok              minor      \n",
       "112294  TRUE      1881095               Ok              bug        \n",
       "112295  TRUE       832368               Ok              bug        \n",
       "112296  TRUE      1973031               Ok              bug        \n",
       "112297  TRUE      2251471               Ok              bug        "
      ]
     },
     "metadata": {},
     "output_type": "display_data"
    }
   ],
   "source": [
    "df"
   ]
  },
  {
   "cell_type": "code",
   "execution_count": null,
   "metadata": {
    "vscode": {
     "languageId": "r"
    }
   },
   "outputs": [],
   "source": []
  }
 ],
 "metadata": {
  "kernelspec": {
   "display_name": "R",
   "language": "R",
   "name": "ir"
  },
  "language_info": {
   "codemirror_mode": "r",
   "file_extension": ".r",
   "mimetype": "text/x-r-source",
   "name": "R",
   "pygments_lexer": "r",
   "version": "3.6.3"
  },
  "orig_nbformat": 4,
  "vscode": {
   "interpreter": {
    "hash": "31f2aee4e71d21fbe5cf8b01ff0e069b9275f58929596ceb00d14d90e3e16cd6"
   }
  }
 },
 "nbformat": 4,
 "nbformat_minor": 2
}
