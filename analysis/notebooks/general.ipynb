{
    "cells": [
        {
            "attachments": {},
            "cell_type": "markdown",
            "metadata": {},
            "source": [
                "# Load Libraries"
            ]
        },
        {
            "cell_type": "code",
            "execution_count": 1,
            "metadata": {
                "vscode": {
                    "languageId": "r"
                }
            },
            "outputs": [],
            "source": [
                "# Install RPostgres if needed:\n",
                "#install.packages(\"RPostgres\")\n",
                "#install.packages(\"tidyverse\")"
            ]
        },
        {
            "cell_type": "code",
            "execution_count": 2,
            "metadata": {
                "vscode": {
                    "languageId": "r"
                }
            },
            "outputs": [
                {
                    "name": "stderr",
                    "output_type": "stream",
                    "text": [
                        "── \u001b[1mAttaching packages\u001b[22m ─────────────────────────────────────── tidyverse 1.3.2 ──\n",
                        "\u001b[32m✔\u001b[39m \u001b[34mtibble \u001b[39m 3.1.8      \u001b[32m✔\u001b[39m \u001b[34mdplyr  \u001b[39m 1.0.10\n",
                        "\u001b[32m✔\u001b[39m \u001b[34mtidyr  \u001b[39m 1.2.1      \u001b[32m✔\u001b[39m \u001b[34mstringr\u001b[39m 1.5.0 \n",
                        "\u001b[32m✔\u001b[39m \u001b[34mreadr  \u001b[39m 2.1.3      \u001b[32m✔\u001b[39m \u001b[34mforcats\u001b[39m 0.5.2 \n",
                        "\u001b[32m✔\u001b[39m \u001b[34mpurrr  \u001b[39m 1.0.0      \n",
                        "── \u001b[1mConflicts\u001b[22m ────────────────────────────────────────── tidyverse_conflicts() ──\n",
                        "\u001b[31m✖\u001b[39m \u001b[34mdplyr\u001b[39m::\u001b[32mfilter()\u001b[39m masks \u001b[34mstats\u001b[39m::filter()\n",
                        "\u001b[31m✖\u001b[39m \u001b[34mdplyr\u001b[39m::\u001b[32mlag()\u001b[39m    masks \u001b[34mstats\u001b[39m::lag()\n"
                    ]
                }
            ],
            "source": [
                "library(DBI)\n",
                "library(ggplot2)\n",
                "library(tidyverse)"
            ]
        },
        {
            "cell_type": "code",
            "execution_count": 3,
            "metadata": {
                "vscode": {
                    "languageId": "r"
                }
            },
            "outputs": [],
            "source": [
                "mytheme <- function() {\n",
                "  return(theme_bw() +\n",
                "           theme(\n",
                "             # NOTE: UNCOMMENT WHEN RENDING PLOTS FOR THE PAPER\n",
                "             # (can't get the CM fonts to work in artifact VM...)\n",
                "             text = element_text(family = \"Times\", size=10),\n",
                "              # panel.grid.major = element_blank(),\n",
                "             # panel.grid.minor = element_blank(),\n",
                "             # panel.grid.major = element_line(colour=\"gray\", size=0.1),\n",
                "             # panel.grid.minor =\n",
                "             #  element_line(colour=\"gray\", size=0.1, linetype='dotted'),\n",
                "            #  axis.ticks = element_line(size=0.05),\n",
                "            #  axis.ticks.length=unit(\"-0.05\", \"in\"),\n",
                "            #  axis.text.y = element_text(margin = margin(r = 5)),\n",
                "            #  axis.text.x = element_text(hjust=1),\n",
                "             legend.key = element_rect(colour=NA),\n",
                "             legend.spacing = unit(0.001, \"in\"),\n",
                "             legend.key.size = unit(0.2, \"in\"),\n",
                "             legend.title = element_blank(),\n",
                "             legend.position = c(0.75, .7),\n",
                "             legend.background = element_blank()))\n",
                "}\n",
                "\n",
                "mysave <- function(filename) {\n",
                "  ggsave(filename, width=4, height=3, units=c(\"in\"))\n",
                "}\n"
            ]
        },
        {
            "attachments": {},
            "cell_type": "markdown",
            "metadata": {},
            "source": [
                "# Connect to DB, load data, clean data"
            ]
        },
        {
            "cell_type": "code",
            "execution_count": 4,
            "metadata": {
                "vscode": {
                    "languageId": "r"
                }
            },
            "outputs": [],
            "source": [
                "con <- dbConnect(\n",
                "    RPostgres::Postgres(),\n",
                "    dbname = 'npm_data', \n",
                "    user = 'data_analyzer',\n",
                ")"
            ]
        },
        {
            "cell_type": "code",
            "execution_count": 5,
            "metadata": {
                "vscode": {
                    "languageId": "r"
                }
            },
            "outputs": [],
            "source": [
                "# This takes about 40 seconds to load (when running on the VM!), and takes about 4GB of memory\n",
                "update_times <- dbGetQuery(con, \"\n",
                "    SELECT \n",
                "    package_id,\n",
                "    from_id,\n",
                "    to_id,\n",
                "    EXTRACT(epoch FROM (to_created - from_created)) as dt_secs\n",
                "    FROM metadata_analysis.all_updates\n",
                "    WHERE EXTRACT(year FROM from_created) >= 2010\n",
                "\")"
            ]
        },
        {
            "cell_type": "code",
            "execution_count": 6,
            "metadata": {
                "vscode": {
                    "languageId": "r"
                }
            },
            "outputs": [],
            "source": [
                "update_times <- update_times %>% mutate(dt_days = dt_secs / 60 / 60 / 24)"
            ]
        },
        {
            "cell_type": "code",
            "execution_count": 7,
            "metadata": {
                "vscode": {
                    "languageId": "r"
                }
            },
            "outputs": [],
            "source": [
                "update_times <- update_times %>% mutate(dt_days_int = round(dt_days))"
            ]
        },
        {
            "cell_type": "code",
            "execution_count": 8,
            "metadata": {
                "vscode": {
                    "languageId": "r"
                }
            },
            "outputs": [],
            "source": [
                "update_times_full <- update_times\n",
                "update_times_sample <- update_times %>% sample_n(10000)"
            ]
        },
        {
            "cell_type": "code",
            "execution_count": 9,
            "metadata": {
                "vscode": {
                    "languageId": "r"
                }
            },
            "outputs": [
                {
                    "data": {
                        "text/html": [
                            "1.06133936342414"
                        ],
                        "text/latex": [
                            "1.06133936342414"
                        ],
                        "text/markdown": [
                            "1.06133936342414"
                        ],
                        "text/plain": [
                            "[1] 1.061339"
                        ]
                    },
                    "metadata": {},
                    "output_type": "display_data"
                }
            ],
            "source": [
                "100 * (update_times_full %>% filter(dt_days >= 365) %>% nrow()) / nrow(update_times_full)"
            ]
        },
        {
            "cell_type": "code",
            "execution_count": 10,
            "metadata": {
                "vscode": {
                    "languageId": "r"
                }
            },
            "outputs": [
                {
                    "data": {
                        "text/html": [
                            "<table class=\"dataframe\">\n",
                            "<caption>A data.frame: 9 × 1</caption>\n",
                            "<thead>\n",
                            "\t<tr><th></th><th scope=col>quantile(update_times_full$dt_days, c(0.01, 0.05, 0.1, 0.25, 0.5, 0.75, 0.9, 0.95, 0.99))</th></tr>\n",
                            "\t<tr><th></th><th scope=col>&lt;dbl&gt;</th></tr>\n",
                            "</thead>\n",
                            "<tbody>\n",
                            "\t<tr><th scope=row>1%</th><td>7.184449e-04</td></tr>\n",
                            "\t<tr><th scope=row>5%</th><td>2.303993e-03</td></tr>\n",
                            "\t<tr><th scope=row>10%</th><td>4.783866e-03</td></tr>\n",
                            "\t<tr><th scope=row>25%</th><td>2.768513e-02</td></tr>\n",
                            "\t<tr><th scope=row>50%</th><td>9.462696e-01</td></tr>\n",
                            "\t<tr><th scope=row>75%</th><td>7.779260e+00</td></tr>\n",
                            "\t<tr><th scope=row>90%</th><td>4.012423e+01</td></tr>\n",
                            "\t<tr><th scope=row>95%</th><td>9.801989e+01</td></tr>\n",
                            "\t<tr><th scope=row>99%</th><td>3.775333e+02</td></tr>\n",
                            "</tbody>\n",
                            "</table>\n"
                        ],
                        "text/latex": [
                            "A data.frame: 9 × 1\n",
                            "\\begin{tabular}{r|l}\n",
                            "  & quantile(update\\_times\\_full\\$dt\\_days, c(0.01, 0.05, 0.1, 0.25, 0.5, 0.75, 0.9, 0.95, 0.99))\\\\\n",
                            "  & <dbl>\\\\\n",
                            "\\hline\n",
                            "\t1\\% & 7.184449e-04\\\\\n",
                            "\t5\\% & 2.303993e-03\\\\\n",
                            "\t10\\% & 4.783866e-03\\\\\n",
                            "\t25\\% & 2.768513e-02\\\\\n",
                            "\t50\\% & 9.462696e-01\\\\\n",
                            "\t75\\% & 7.779260e+00\\\\\n",
                            "\t90\\% & 4.012423e+01\\\\\n",
                            "\t95\\% & 9.801989e+01\\\\\n",
                            "\t99\\% & 3.775333e+02\\\\\n",
                            "\\end{tabular}\n"
                        ],
                        "text/markdown": [
                            "\n",
                            "A data.frame: 9 × 1\n",
                            "\n",
                            "| <!--/--> | quantile(update_times_full$dt_days, c(0.01, 0.05, 0.1, 0.25, 0.5, 0.75, 0.9, 0.95, 0.99)) &lt;dbl&gt; |\n",
                            "|---|---|\n",
                            "| 1% | 7.184449e-04 |\n",
                            "| 5% | 2.303993e-03 |\n",
                            "| 10% | 4.783866e-03 |\n",
                            "| 25% | 2.768513e-02 |\n",
                            "| 50% | 9.462696e-01 |\n",
                            "| 75% | 7.779260e+00 |\n",
                            "| 90% | 4.012423e+01 |\n",
                            "| 95% | 9.801989e+01 |\n",
                            "| 99% | 3.775333e+02 |\n",
                            "\n"
                        ],
                        "text/plain": [
                            "    quantile(update_times_full$dt_days, c(0.01, 0.05, 0.1, 0.25, 0.5, 0.75, 0.9, 0.95, 0.99))\n",
                            "1%  7.184449e-04                                                                             \n",
                            "5%  2.303993e-03                                                                             \n",
                            "10% 4.783866e-03                                                                             \n",
                            "25% 2.768513e-02                                                                             \n",
                            "50% 9.462696e-01                                                                             \n",
                            "75% 7.779260e+00                                                                             \n",
                            "90% 4.012423e+01                                                                             \n",
                            "95% 9.801989e+01                                                                             \n",
                            "99% 3.775333e+02                                                                             "
                        ]
                    },
                    "metadata": {},
                    "output_type": "display_data"
                }
            ],
            "source": [
                "as.data.frame(quantile(update_times_full$dt_days, c(0.01, 0.05, 0.1, 0.25, 0.5, 0.75, 0.9, 0.95, 0.99)))"
            ]
        },
        {
            "cell_type": "code",
            "execution_count": 11,
            "metadata": {
                "vscode": {
                    "languageId": "r"
                }
            },
            "outputs": [
                {
                    "data": {
                        "text/html": [
                            "16420617"
                        ],
                        "text/latex": [
                            "16420617"
                        ],
                        "text/markdown": [
                            "16420617"
                        ],
                        "text/plain": [
                            "[1] 16420617"
                        ]
                    },
                    "metadata": {},
                    "output_type": "display_data"
                }
            ],
            "source": [
                "update_times_full %>% filter(dt_days < 365) %>% nrow()"
            ]
        },
        {
            "cell_type": "code",
            "execution_count": 12,
            "metadata": {
                "vscode": {
                    "languageId": "r"
                }
            },
            "outputs": [],
            "source": [
                "days_only <- update_times_full %>% select(dt_days)"
            ]
        },
        {
            "cell_type": "code",
            "execution_count": 13,
            "metadata": {
                "vscode": {
                    "languageId": "r"
                }
            },
            "outputs": [
                {
                    "data": {
                        "image/png": "[encoded data removed]",
                        "text/plain": [
                            "plot without title"
                        ]
                    },
                    "metadata": {
                        "image/png": {
                            "height": 420,
                            "width": 420
                        }
                    },
                    "output_type": "display_data"
                }
            ],
            "source": [
                "ggplot(data=days_only %>% filter(dt_days < 365), aes(x=dt_days)) + \n",
                "    stat_ecdf() +\n",
                "    # scale_x_continuous(labels = scales::percent) +\n",
                "    scale_y_continuous(labels = scales::percent) +\n",
                "    xlab(\"Length of update period in days\") +\n",
                "    ylab(\"Cumulative percent of updates\") +\n",
                "    mytheme()\n",
                "\n",
                "mysave(\"plots/general/update_time_ecdf.png\")"
            ]
        }
    ],
    "metadata": {
        "kernelspec": {
            "display_name": "R",
            "language": "R",
            "name": "ir"
        },
        "language_info": {
            "codemirror_mode": "r",
            "file_extension": ".r",
            "mimetype": "text/x-r-source",
            "name": "R",
            "pygments_lexer": "r",
            "version": "3.6.3"
        },
        "orig_nbformat": 4
    },
    "nbformat": 4,
    "nbformat_minor": 2
}