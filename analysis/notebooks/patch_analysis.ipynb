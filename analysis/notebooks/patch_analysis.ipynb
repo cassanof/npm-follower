{
 "cells": [
  {
   "attachments": {},
   "cell_type": "markdown",
   "metadata": {},
   "source": [
    "# Load Libraries"
   ]
  },
  {
   "cell_type": "code",
   "execution_count": 1,
   "metadata": {
    "vscode": {
     "languageId": "r"
    }
   },
   "outputs": [],
   "source": [
    "# Install RPostgres if needed:\n",
    "#install.packages(\"RPostgres\")\n",
    "#install.packages(\"tidyverse\")"
   ]
  },
  {
   "cell_type": "code",
   "execution_count": 1,
   "metadata": {
    "vscode": {
     "languageId": "r"
    }
   },
   "outputs": [
    {
     "name": "stderr",
     "output_type": "stream",
     "text": [
      "\n",
      "Attaching package: ‘dplyr’\n",
      "\n",
      "\n",
      "The following objects are masked from ‘package:stats’:\n",
      "\n",
      "    filter, lag\n",
      "\n",
      "\n",
      "The following objects are masked from ‘package:base’:\n",
      "\n",
      "    intersect, setdiff, setequal, union\n",
      "\n",
      "\n"
     ]
    }
   ],
   "source": [
    "library(DBI)\n",
    "library(ggplot2)\n",
    "library(dplyr)"
   ]
  },
  {
   "attachments": {},
   "cell_type": "markdown",
   "metadata": {},
   "source": [
    "# Connect to DB, load data, clean data"
   ]
  },
  {
   "cell_type": "code",
   "execution_count": 2,
   "metadata": {
    "vscode": {
     "languageId": "r"
    }
   },
   "outputs": [],
   "source": [
    "con <- dbConnect(\n",
    "    RPostgres::Postgres(),\n",
    "    dbname = 'npm_data', \n",
    "    user = 'data_analyzer',\n",
    ")"
   ]
  },
  {
   "cell_type": "code",
   "execution_count": 12,
   "metadata": {
    "vscode": {
     "languageId": "r"
    }
   },
   "outputs": [],
   "source": [
    "# This takes about 40 seconds to load (when running on the VM!), and takes about 4GB of memory\n",
    "all_patches <- dbGetQuery(con, \"\n",
    "    SELECT \n",
    "        p.package_id, \n",
    "        p.from_id, \n",
    "        p.to_id, \n",
    "        (p.from_semver).major AS from_semver_major, \n",
    "        (p.from_semver).minor AS from_semver_minor, \n",
    "        (p.from_semver).bug AS from_semver_bug,\n",
    "        (p.to_semver).major AS to_semver_major, \n",
    "        (p.to_semver).minor AS to_semver_minor, \n",
    "        (p.to_semver).bug AS to_semver_bug,\n",
    "        p.from_created,\n",
    "        p.to_created,\n",
    "        p.ty,\n",
    "        p.patched_ghsa,\n",
    "        adv.severity,\n",
    "        adv.description,\n",
    "        adv.summary,\n",
    "        adv.published_at,\n",
    "        adv.updated_at,\n",
    "        adv.cvss_score,\n",
    "        adv.cvss_vector,\n",
    "        EXTRACT(EPOCH FROM (p.to_created - adv.published_at)) AS time_to_patch\n",
    "    FROM analysis.vuln_patch_updates p\n",
    "    INNER JOIN ghsa adv\n",
    "    ON p.patched_ghsa = adv.id\n",
    "\")"
   ]
  },
  {
   "cell_type": "code",
   "execution_count": 13,
   "metadata": {
    "vscode": {
     "languageId": "r"
    }
   },
   "outputs": [],
   "source": [
    "all_patches$ty <- sapply(all_patches$ty, as.character)"
   ]
  },
  {
   "cell_type": "code",
   "execution_count": 14,
   "metadata": {
    "vscode": {
     "languageId": "r"
    }
   },
   "outputs": [
    {
     "data": {
      "text/html": [
       "<table class=\"dataframe\">\n",
       "<caption>A data.frame: 6 × 21</caption>\n",
       "<thead>\n",
       "\t<tr><th></th><th scope=col>package_id</th><th scope=col>from_id</th><th scope=col>to_id</th><th scope=col>from_semver_major</th><th scope=col>from_semver_minor</th><th scope=col>from_semver_bug</th><th scope=col>to_semver_major</th><th scope=col>to_semver_minor</th><th scope=col>to_semver_bug</th><th scope=col>from_created</th><th scope=col>⋯</th><th scope=col>ty</th><th scope=col>patched_ghsa</th><th scope=col>severity</th><th scope=col>description</th><th scope=col>summary</th><th scope=col>published_at</th><th scope=col>updated_at</th><th scope=col>cvss_score</th><th scope=col>cvss_vector</th><th scope=col>time_to_patch</th></tr>\n",
       "\t<tr><th></th><th scope=col>&lt;int64&gt;</th><th scope=col>&lt;int64&gt;</th><th scope=col>&lt;int64&gt;</th><th scope=col>&lt;int64&gt;</th><th scope=col>&lt;int64&gt;</th><th scope=col>&lt;int64&gt;</th><th scope=col>&lt;int64&gt;</th><th scope=col>&lt;int64&gt;</th><th scope=col>&lt;int64&gt;</th><th scope=col>&lt;dttm&gt;</th><th scope=col>⋯</th><th scope=col>&lt;chr&gt;</th><th scope=col>&lt;chr&gt;</th><th scope=col>&lt;chr&gt;</th><th scope=col>&lt;chr&gt;</th><th scope=col>&lt;chr&gt;</th><th scope=col>&lt;dttm&gt;</th><th scope=col>&lt;dttm&gt;</th><th scope=col>&lt;dbl&gt;</th><th scope=col>&lt;chr&gt;</th><th scope=col>&lt;dbl&gt;</th></tr>\n",
       "</thead>\n",
       "<tbody>\n",
       "\t<tr><th scope=row>1</th><td>2228162</td><td>17731713</td><td>17731714</td><td>0</td><td> 6</td><td>1</td><td>0</td><td> 6</td><td> 2</td><td>2020-09-24 14:09:31</td><td>⋯</td><td>bug  </td><td>GHSA-6xrf-q977-5vgc</td><td>MODERATE</td><td>A vulnerability, which was classified as critical, has been found in json-pointer. Affected by this issue is the function set of the file index.js. The manipulation leads to improperly controlled modification of object prototype attributes ('prototype pollution'). The attack may be launched remotely. The name of the patch is 859c9984b6c407fc2d5a0a7e47c7274daa681941. It is recommended to apply a patch to fix this issue. VDB-216794 is the identifier assigned to this vulnerability.                                                                                                                     </td><td>json-pointer vulnerable to Prototype Pollution                                                      </td><td>2022-12-26 09:30:25</td><td>2022-12-30 17:21:12</td><td> NA</td><td>NA                                          </td><td> -26937233</td></tr>\n",
       "\t<tr><th scope=row>2</th><td>2137896</td><td>16908340</td><td>16908341</td><td>5</td><td> 0</td><td>0</td><td>5</td><td> 0</td><td> 1</td><td>2019-10-22 05:18:23</td><td>⋯</td><td>bug  </td><td>GHSA-2j2x-2gpw-g8fm</td><td>MODERATE</td><td>flat helps flatten/unflatten nested Javascript objects. A vulnerability, which was classified as critical, was found in hughsk flat up to 5.0.0. This affects the function unflatten of the file index.js. The manipulation leads to improperly controlled modification of object prototype attributes ('prototype pollution'). It is possible to initiate the attack remotely. Upgrading to version 5.0.1 can address this issue. The name of the patch is 20ef0ef55dfa028caddaedbcb33efbdb04d18e13. It is recommended to upgrade the affected component. The identifier VDB-216777 was assigned to this vulnerability.</td><td>flat vulnerable to Prototype Pollution                                                              </td><td>2022-12-25 21:30:22</td><td>2022-12-30 16:27:14</td><td> NA</td><td>NA                                          </td><td> -75276734</td></tr>\n",
       "\t<tr><th scope=row>3</th><td>2266143</td><td>18213532</td><td>18213533</td><td>2</td><td> 2</td><td>1</td><td>3</td><td> 0</td><td> 0</td><td>2014-12-29 14:38:37</td><td>⋯</td><td>major</td><td>GHSA-j5p7-jf4q-742q</td><td>LOW     </td><td>A vulnerability was found in markdown-it up to 2.x. It has been classified as problematic. Affected is an unknown function of the file `lib/common/html_re.js`. The manipulation leads to inefficient regular expression complexity. Upgrading to version 3.0.0 is able to address this issue. The name of the patch is 89c8620157d6e38f9872811620d25138fc9d1b0d. It is recommended to upgrade the affected component. The identifier of this vulnerability is VDB-216852.                                                                                                                                              </td><td>markdown-it vulnerable to Inefficient Regular Expression Complexity                                 </td><td>2022-12-27 09:30:41</td><td>2022-12-30 16:27:09</td><td> NA</td><td>NA                                          </td><td>-251756021</td></tr>\n",
       "\t<tr><th scope=row>4</th><td>2313525</td><td>18808345</td><td>18808346</td><td>1</td><td> 1</td><td>1</td><td>1</td><td> 2</td><td> 0</td><td>2016-10-20 05:03:22</td><td>⋯</td><td>minor</td><td>GHSA-79mp-cxp4-9p6r</td><td>MODERATE</td><td>Json2html is a client side javascript HTML templating library with wrappers for both jQuery and Node.js. A vulnerability was found in moappi Json2html up to 1.1.x and classified as problematic. This issue affects some unknown processing of the file json2html.js. The manipulation leads to cross site scripting. The attack may be initiated remotely. Upgrading to version 1.2.0 can address this issue. The name of the patch is 2d3d24d971b19a8ed1fb823596300b9835d55801. The associated identifier of this vulnerability is VDB-216959.                                                                       </td><td>Json2html vulnerable to cross-site scripting                                                        </td><td>2022-12-28 12:30:50</td><td>2022-12-28 20:35:03</td><td>5.6</td><td>CVSS:3.1/AV:N/AC:H/PR:N/UI:N/S:U/C:L/I:L/A:L</td><td>-154020580</td></tr>\n",
       "\t<tr><th scope=row>5</th><td>1904602</td><td>14220782</td><td>27431397</td><td>3</td><td> 9</td><td>9</td><td>3</td><td> 9</td><td>10</td><td>2022-02-24 21:26:12</td><td>⋯</td><td>bug  </td><td>GHSA-4w2j-2rg4-5mjw</td><td>CRITICAL</td><td>The package vm2 before 3.9.10 is vulnerable to Arbitrary Code Execution due to the usage of prototype lookup for the WeakMap.prototype.set method. Exploiting this vulnerability leads to access to a host object and a sandbox compromise.                                                                                                                                                                                                                                                                                                                                                                             </td><td>vm2 vulnerable to Arbitrary Code Execution                                                          </td><td>2022-12-21 06:30:29</td><td>2022-12-22 03:33:45</td><td>9.8</td><td>CVSS:3.1/AV:N/AC:L/PR:N/UI:N/S:U/C:H/I:H/A:H</td><td> -14579313</td></tr>\n",
       "\t<tr><th scope=row>6</th><td>1769282</td><td>12723028</td><td>26961568</td><td>1</td><td>36</td><td>0</td><td>1</td><td>36</td><td> 1</td><td>2021-12-07 10:49:13</td><td>⋯</td><td>bug  </td><td>GHSA-g662-qq45-ppwm</td><td>MODERATE</td><td>The package smoothie from 1.31.0 and before 1.36.1 are vulnerable to Cross-site Scripting (XSS) due to improper user input sanitization in strokeStyle and tooltipLabel properties. Exploiting this vulnerability is possible when the user can control these properties.                                                                                                                                                                                                                                                                                                                                               </td><td>Smoothie vulnerable to Cross-site Scripting when tooltipLabel or strokeStyle are controlled by users</td><td>2022-12-21 06:30:29</td><td>2022-12-21 18:53:54</td><td>5.4</td><td>CVSS:3.1/AV:N/AC:L/PR:N/UI:R/S:U/C:L/I:L/A:N</td><td> -13462751</td></tr>\n",
       "</tbody>\n",
       "</table>\n"
      ],
      "text/latex": [
       "A data.frame: 6 × 21\n",
       "\\begin{tabular}{r|lllllllllllllllllllll}\n",
       "  & package\\_id & from\\_id & to\\_id & from\\_semver\\_major & from\\_semver\\_minor & from\\_semver\\_bug & to\\_semver\\_major & to\\_semver\\_minor & to\\_semver\\_bug & from\\_created & ⋯ & ty & patched\\_ghsa & severity & description & summary & published\\_at & updated\\_at & cvss\\_score & cvss\\_vector & time\\_to\\_patch\\\\\n",
       "  & <int64> & <int64> & <int64> & <int64> & <int64> & <int64> & <int64> & <int64> & <int64> & <dttm> & ⋯ & <chr> & <chr> & <chr> & <chr> & <chr> & <dttm> & <dttm> & <dbl> & <chr> & <dbl>\\\\\n",
       "\\hline\n",
       "\t1 & 2228162 & 17731713 & 17731714 & 0 &  6 & 1 & 0 &  6 &  2 & 2020-09-24 14:09:31 & ⋯ & bug   & GHSA-6xrf-q977-5vgc & MODERATE & A vulnerability, which was classified as critical, has been found in json-pointer. Affected by this issue is the function set of the file index.js. The manipulation leads to improperly controlled modification of object prototype attributes ('prototype pollution'). The attack may be launched remotely. The name of the patch is 859c9984b6c407fc2d5a0a7e47c7274daa681941. It is recommended to apply a patch to fix this issue. VDB-216794 is the identifier assigned to this vulnerability.                                                                                                                      & json-pointer vulnerable to Prototype Pollution                                                       & 2022-12-26 09:30:25 & 2022-12-30 17:21:12 &  NA & NA                                           &  -26937233\\\\\n",
       "\t2 & 2137896 & 16908340 & 16908341 & 5 &  0 & 0 & 5 &  0 &  1 & 2019-10-22 05:18:23 & ⋯ & bug   & GHSA-2j2x-2gpw-g8fm & MODERATE & flat helps flatten/unflatten nested Javascript objects. A vulnerability, which was classified as critical, was found in hughsk flat up to 5.0.0. This affects the function unflatten of the file index.js. The manipulation leads to improperly controlled modification of object prototype attributes ('prototype pollution'). It is possible to initiate the attack remotely. Upgrading to version 5.0.1 can address this issue. The name of the patch is 20ef0ef55dfa028caddaedbcb33efbdb04d18e13. It is recommended to upgrade the affected component. The identifier VDB-216777 was assigned to this vulnerability. & flat vulnerable to Prototype Pollution                                                               & 2022-12-25 21:30:22 & 2022-12-30 16:27:14 &  NA & NA                                           &  -75276734\\\\\n",
       "\t3 & 2266143 & 18213532 & 18213533 & 2 &  2 & 1 & 3 &  0 &  0 & 2014-12-29 14:38:37 & ⋯ & major & GHSA-j5p7-jf4q-742q & LOW      & A vulnerability was found in markdown-it up to 2.x. It has been classified as problematic. Affected is an unknown function of the file `lib/common/html\\_re.js`. The manipulation leads to inefficient regular expression complexity. Upgrading to version 3.0.0 is able to address this issue. The name of the patch is 89c8620157d6e38f9872811620d25138fc9d1b0d. It is recommended to upgrade the affected component. The identifier of this vulnerability is VDB-216852.                                                                                                                                               & markdown-it vulnerable to Inefficient Regular Expression Complexity                                  & 2022-12-27 09:30:41 & 2022-12-30 16:27:09 &  NA & NA                                           & -251756021\\\\\n",
       "\t4 & 2313525 & 18808345 & 18808346 & 1 &  1 & 1 & 1 &  2 &  0 & 2016-10-20 05:03:22 & ⋯ & minor & GHSA-79mp-cxp4-9p6r & MODERATE & Json2html is a client side javascript HTML templating library with wrappers for both jQuery and Node.js. A vulnerability was found in moappi Json2html up to 1.1.x and classified as problematic. This issue affects some unknown processing of the file json2html.js. The manipulation leads to cross site scripting. The attack may be initiated remotely. Upgrading to version 1.2.0 can address this issue. The name of the patch is 2d3d24d971b19a8ed1fb823596300b9835d55801. The associated identifier of this vulnerability is VDB-216959.                                                                        & Json2html vulnerable to cross-site scripting                                                         & 2022-12-28 12:30:50 & 2022-12-28 20:35:03 & 5.6 & CVSS:3.1/AV:N/AC:H/PR:N/UI:N/S:U/C:L/I:L/A:L & -154020580\\\\\n",
       "\t5 & 1904602 & 14220782 & 27431397 & 3 &  9 & 9 & 3 &  9 & 10 & 2022-02-24 21:26:12 & ⋯ & bug   & GHSA-4w2j-2rg4-5mjw & CRITICAL & The package vm2 before 3.9.10 is vulnerable to Arbitrary Code Execution due to the usage of prototype lookup for the WeakMap.prototype.set method. Exploiting this vulnerability leads to access to a host object and a sandbox compromise.                                                                                                                                                                                                                                                                                                                                                                              & vm2 vulnerable to Arbitrary Code Execution                                                           & 2022-12-21 06:30:29 & 2022-12-22 03:33:45 & 9.8 & CVSS:3.1/AV:N/AC:L/PR:N/UI:N/S:U/C:H/I:H/A:H &  -14579313\\\\\n",
       "\t6 & 1769282 & 12723028 & 26961568 & 1 & 36 & 0 & 1 & 36 &  1 & 2021-12-07 10:49:13 & ⋯ & bug   & GHSA-g662-qq45-ppwm & MODERATE & The package smoothie from 1.31.0 and before 1.36.1 are vulnerable to Cross-site Scripting (XSS) due to improper user input sanitization in strokeStyle and tooltipLabel properties. Exploiting this vulnerability is possible when the user can control these properties.                                                                                                                                                                                                                                                                                                                                                & Smoothie vulnerable to Cross-site Scripting when tooltipLabel or strokeStyle are controlled by users & 2022-12-21 06:30:29 & 2022-12-21 18:53:54 & 5.4 & CVSS:3.1/AV:N/AC:L/PR:N/UI:R/S:U/C:L/I:L/A:N &  -13462751\\\\\n",
       "\\end{tabular}\n"
      ],
      "text/markdown": [
       "\n",
       "A data.frame: 6 × 21\n",
       "\n",
       "| <!--/--> | package_id &lt;int64&gt; | from_id &lt;int64&gt; | to_id &lt;int64&gt; | from_semver_major &lt;int64&gt; | from_semver_minor &lt;int64&gt; | from_semver_bug &lt;int64&gt; | to_semver_major &lt;int64&gt; | to_semver_minor &lt;int64&gt; | to_semver_bug &lt;int64&gt; | from_created &lt;dttm&gt; | ⋯ ⋯ | ty &lt;chr&gt; | patched_ghsa &lt;chr&gt; | severity &lt;chr&gt; | description &lt;chr&gt; | summary &lt;chr&gt; | published_at &lt;dttm&gt; | updated_at &lt;dttm&gt; | cvss_score &lt;dbl&gt; | cvss_vector &lt;chr&gt; | time_to_patch &lt;dbl&gt; |\n",
       "|---|---|---|---|---|---|---|---|---|---|---|---|---|---|---|---|---|---|---|---|---|---|\n",
       "| 1 | 2228162 | 17731713 | 17731714 | 0 |  6 | 1 | 0 |  6 |  2 | 2020-09-24 14:09:31 | ⋯ | bug   | GHSA-6xrf-q977-5vgc | MODERATE | A vulnerability, which was classified as critical, has been found in json-pointer. Affected by this issue is the function set of the file index.js. The manipulation leads to improperly controlled modification of object prototype attributes ('prototype pollution'). The attack may be launched remotely. The name of the patch is 859c9984b6c407fc2d5a0a7e47c7274daa681941. It is recommended to apply a patch to fix this issue. VDB-216794 is the identifier assigned to this vulnerability.                                                                                                                      | json-pointer vulnerable to Prototype Pollution                                                       | 2022-12-26 09:30:25 | 2022-12-30 17:21:12 |  NA | NA                                           |  -26937233 |\n",
       "| 2 | 2137896 | 16908340 | 16908341 | 5 |  0 | 0 | 5 |  0 |  1 | 2019-10-22 05:18:23 | ⋯ | bug   | GHSA-2j2x-2gpw-g8fm | MODERATE | flat helps flatten/unflatten nested Javascript objects. A vulnerability, which was classified as critical, was found in hughsk flat up to 5.0.0. This affects the function unflatten of the file index.js. The manipulation leads to improperly controlled modification of object prototype attributes ('prototype pollution'). It is possible to initiate the attack remotely. Upgrading to version 5.0.1 can address this issue. The name of the patch is 20ef0ef55dfa028caddaedbcb33efbdb04d18e13. It is recommended to upgrade the affected component. The identifier VDB-216777 was assigned to this vulnerability. | flat vulnerable to Prototype Pollution                                                               | 2022-12-25 21:30:22 | 2022-12-30 16:27:14 |  NA | NA                                           |  -75276734 |\n",
       "| 3 | 2266143 | 18213532 | 18213533 | 2 |  2 | 1 | 3 |  0 |  0 | 2014-12-29 14:38:37 | ⋯ | major | GHSA-j5p7-jf4q-742q | LOW      | A vulnerability was found in markdown-it up to 2.x. It has been classified as problematic. Affected is an unknown function of the file `lib/common/html_re.js`. The manipulation leads to inefficient regular expression complexity. Upgrading to version 3.0.0 is able to address this issue. The name of the patch is 89c8620157d6e38f9872811620d25138fc9d1b0d. It is recommended to upgrade the affected component. The identifier of this vulnerability is VDB-216852.                                                                                                                                               | markdown-it vulnerable to Inefficient Regular Expression Complexity                                  | 2022-12-27 09:30:41 | 2022-12-30 16:27:09 |  NA | NA                                           | -251756021 |\n",
       "| 4 | 2313525 | 18808345 | 18808346 | 1 |  1 | 1 | 1 |  2 |  0 | 2016-10-20 05:03:22 | ⋯ | minor | GHSA-79mp-cxp4-9p6r | MODERATE | Json2html is a client side javascript HTML templating library with wrappers for both jQuery and Node.js. A vulnerability was found in moappi Json2html up to 1.1.x and classified as problematic. This issue affects some unknown processing of the file json2html.js. The manipulation leads to cross site scripting. The attack may be initiated remotely. Upgrading to version 1.2.0 can address this issue. The name of the patch is 2d3d24d971b19a8ed1fb823596300b9835d55801. The associated identifier of this vulnerability is VDB-216959.                                                                        | Json2html vulnerable to cross-site scripting                                                         | 2022-12-28 12:30:50 | 2022-12-28 20:35:03 | 5.6 | CVSS:3.1/AV:N/AC:H/PR:N/UI:N/S:U/C:L/I:L/A:L | -154020580 |\n",
       "| 5 | 1904602 | 14220782 | 27431397 | 3 |  9 | 9 | 3 |  9 | 10 | 2022-02-24 21:26:12 | ⋯ | bug   | GHSA-4w2j-2rg4-5mjw | CRITICAL | The package vm2 before 3.9.10 is vulnerable to Arbitrary Code Execution due to the usage of prototype lookup for the WeakMap.prototype.set method. Exploiting this vulnerability leads to access to a host object and a sandbox compromise.                                                                                                                                                                                                                                                                                                                                                                              | vm2 vulnerable to Arbitrary Code Execution                                                           | 2022-12-21 06:30:29 | 2022-12-22 03:33:45 | 9.8 | CVSS:3.1/AV:N/AC:L/PR:N/UI:N/S:U/C:H/I:H/A:H |  -14579313 |\n",
       "| 6 | 1769282 | 12723028 | 26961568 | 1 | 36 | 0 | 1 | 36 |  1 | 2021-12-07 10:49:13 | ⋯ | bug   | GHSA-g662-qq45-ppwm | MODERATE | The package smoothie from 1.31.0 and before 1.36.1 are vulnerable to Cross-site Scripting (XSS) due to improper user input sanitization in strokeStyle and tooltipLabel properties. Exploiting this vulnerability is possible when the user can control these properties.                                                                                                                                                                                                                                                                                                                                                | Smoothie vulnerable to Cross-site Scripting when tooltipLabel or strokeStyle are controlled by users | 2022-12-21 06:30:29 | 2022-12-21 18:53:54 | 5.4 | CVSS:3.1/AV:N/AC:L/PR:N/UI:R/S:U/C:L/I:L/A:N |  -13462751 |\n",
       "\n"
      ],
      "text/plain": [
       "  package_id from_id  to_id    from_semver_major from_semver_minor\n",
       "1 2228162    17731713 17731714 0                  6               \n",
       "2 2137896    16908340 16908341 5                  0               \n",
       "3 2266143    18213532 18213533 2                  2               \n",
       "4 2313525    18808345 18808346 1                  1               \n",
       "5 1904602    14220782 27431397 3                  9               \n",
       "6 1769282    12723028 26961568 1                 36               \n",
       "  from_semver_bug to_semver_major to_semver_minor to_semver_bug\n",
       "1 1               0                6               2           \n",
       "2 0               5                0               1           \n",
       "3 1               3                0               0           \n",
       "4 1               1                2               0           \n",
       "5 9               3                9              10           \n",
       "6 0               1               36               1           \n",
       "  from_created        ⋯ ty    patched_ghsa        severity\n",
       "1 2020-09-24 14:09:31 ⋯ bug   GHSA-6xrf-q977-5vgc MODERATE\n",
       "2 2019-10-22 05:18:23 ⋯ bug   GHSA-2j2x-2gpw-g8fm MODERATE\n",
       "3 2014-12-29 14:38:37 ⋯ major GHSA-j5p7-jf4q-742q LOW     \n",
       "4 2016-10-20 05:03:22 ⋯ minor GHSA-79mp-cxp4-9p6r MODERATE\n",
       "5 2022-02-24 21:26:12 ⋯ bug   GHSA-4w2j-2rg4-5mjw CRITICAL\n",
       "6 2021-12-07 10:49:13 ⋯ bug   GHSA-g662-qq45-ppwm MODERATE\n",
       "  description                                                                                                                                                                                                                                                                                                                                                                                                                                                                                                                                                                                                             \n",
       "1 A vulnerability, which was classified as critical, has been found in json-pointer. Affected by this issue is the function set of the file index.js. The manipulation leads to improperly controlled modification of object prototype attributes ('prototype pollution'). The attack may be launched remotely. The name of the patch is 859c9984b6c407fc2d5a0a7e47c7274daa681941. It is recommended to apply a patch to fix this issue. VDB-216794 is the identifier assigned to this vulnerability.                                                                                                                     \n",
       "2 flat helps flatten/unflatten nested Javascript objects. A vulnerability, which was classified as critical, was found in hughsk flat up to 5.0.0. This affects the function unflatten of the file index.js. The manipulation leads to improperly controlled modification of object prototype attributes ('prototype pollution'). It is possible to initiate the attack remotely. Upgrading to version 5.0.1 can address this issue. The name of the patch is 20ef0ef55dfa028caddaedbcb33efbdb04d18e13. It is recommended to upgrade the affected component. The identifier VDB-216777 was assigned to this vulnerability.\n",
       "3 A vulnerability was found in markdown-it up to 2.x. It has been classified as problematic. Affected is an unknown function of the file `lib/common/html_re.js`. The manipulation leads to inefficient regular expression complexity. Upgrading to version 3.0.0 is able to address this issue. The name of the patch is 89c8620157d6e38f9872811620d25138fc9d1b0d. It is recommended to upgrade the affected component. The identifier of this vulnerability is VDB-216852.                                                                                                                                              \n",
       "4 Json2html is a client side javascript HTML templating library with wrappers for both jQuery and Node.js. A vulnerability was found in moappi Json2html up to 1.1.x and classified as problematic. This issue affects some unknown processing of the file json2html.js. The manipulation leads to cross site scripting. The attack may be initiated remotely. Upgrading to version 1.2.0 can address this issue. The name of the patch is 2d3d24d971b19a8ed1fb823596300b9835d55801. The associated identifier of this vulnerability is VDB-216959.                                                                       \n",
       "5 The package vm2 before 3.9.10 is vulnerable to Arbitrary Code Execution due to the usage of prototype lookup for the WeakMap.prototype.set method. Exploiting this vulnerability leads to access to a host object and a sandbox compromise.                                                                                                                                                                                                                                                                                                                                                                             \n",
       "6 The package smoothie from 1.31.0 and before 1.36.1 are vulnerable to Cross-site Scripting (XSS) due to improper user input sanitization in strokeStyle and tooltipLabel properties. Exploiting this vulnerability is possible when the user can control these properties.                                                                                                                                                                                                                                                                                                                                               \n",
       "  summary                                                                                             \n",
       "1 json-pointer vulnerable to Prototype Pollution                                                      \n",
       "2 flat vulnerable to Prototype Pollution                                                              \n",
       "3 markdown-it vulnerable to Inefficient Regular Expression Complexity                                 \n",
       "4 Json2html vulnerable to cross-site scripting                                                        \n",
       "5 vm2 vulnerable to Arbitrary Code Execution                                                          \n",
       "6 Smoothie vulnerable to Cross-site Scripting when tooltipLabel or strokeStyle are controlled by users\n",
       "  published_at        updated_at          cvss_score\n",
       "1 2022-12-26 09:30:25 2022-12-30 17:21:12  NA       \n",
       "2 2022-12-25 21:30:22 2022-12-30 16:27:14  NA       \n",
       "3 2022-12-27 09:30:41 2022-12-30 16:27:09  NA       \n",
       "4 2022-12-28 12:30:50 2022-12-28 20:35:03 5.6       \n",
       "5 2022-12-21 06:30:29 2022-12-22 03:33:45 9.8       \n",
       "6 2022-12-21 06:30:29 2022-12-21 18:53:54 5.4       \n",
       "  cvss_vector                                  time_to_patch\n",
       "1 NA                                            -26937233   \n",
       "2 NA                                            -75276734   \n",
       "3 NA                                           -251756021   \n",
       "4 CVSS:3.1/AV:N/AC:H/PR:N/UI:N/S:U/C:L/I:L/A:L -154020580   \n",
       "5 CVSS:3.1/AV:N/AC:L/PR:N/UI:N/S:U/C:H/I:H/A:H  -14579313   \n",
       "6 CVSS:3.1/AV:N/AC:L/PR:N/UI:R/S:U/C:L/I:L/A:N  -13462751   "
      ]
     },
     "metadata": {},
     "output_type": "display_data"
    }
   ],
   "source": [
    "head(all_patches)"
   ]
  },
  {
   "attachments": {},
   "cell_type": "markdown",
   "metadata": {},
   "source": [
    "## Histogram of publish-to-patch time"
   ]
  },
  {
   "cell_type": "code",
   "execution_count": 19,
   "metadata": {
    "vscode": {
     "languageId": "r"
    }
   },
   "outputs": [
    {
     "data": {
      "image/png": "[encoded data removed]",
      "text/plain": [
       "plot without title"
      ]
     },
     "metadata": {
      "image/png": {
       "height": 420,
       "width": 420
      }
     },
     "output_type": "display_data"
    }
   ],
   "source": [
    "# Create a histogram of the time_to_patch values\n",
    "# Convert to days, 86400 seconds in a day\n",
    "ggplot(all_patches, aes(x = time_to_patch / 86400)) + \n",
    "    geom_histogram(bins = 100)"
   ]
  },
  {
   "attachments": {},
   "cell_type": "markdown",
   "metadata": {},
   "source": [
    "## How many patches occurr after the vulnerability is published?"
   ]
  },
  {
   "cell_type": "code",
   "execution_count": 27,
   "metadata": {
    "vscode": {
     "languageId": "r"
    }
   },
   "outputs": [
    {
     "data": {
      "text/html": [
       "4.40789473684211"
      ],
      "text/latex": [
       "4.40789473684211"
      ],
      "text/markdown": [
       "4.40789473684211"
      ],
      "text/plain": [
       "[1] 4.407895"
      ]
     },
     "metadata": {},
     "output_type": "display_data"
    }
   ],
   "source": [
    "100 * mean(all_patches$time_to_patch > 0)"
   ]
  },
  {
   "cell_type": "code",
   "execution_count": null,
   "metadata": {
    "vscode": {
     "languageId": "r"
    }
   },
   "outputs": [],
   "source": []
  }
 ],
 "metadata": {
  "kernelspec": {
   "display_name": "R",
   "language": "R",
   "name": "ir"
  },
  "language_info": {
   "codemirror_mode": "r",
   "file_extension": ".r",
   "mimetype": "text/x-r-source",
   "name": "R",
   "pygments_lexer": "r",
   "version": "3.6.3"
  },
  "orig_nbformat": 4
 },
 "nbformat": 4,
 "nbformat_minor": 2
}
