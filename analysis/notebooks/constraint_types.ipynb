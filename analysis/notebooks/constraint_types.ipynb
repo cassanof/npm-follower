{
 "cells": [
  {
   "attachments": {},
   "cell_type": "markdown",
   "metadata": {},
   "source": [
    "# Load Libraries"
   ]
  },
  {
   "cell_type": "code",
   "execution_count": 26,
   "metadata": {
    "vscode": {
     "languageId": "r"
    }
   },
   "outputs": [],
   "source": [
    "# Install RPostgres if needed:\n",
    "#install.packages(\"RPostgres\")\n",
    "#install.packages(\"tidyverse\")"
   ]
  },
  {
   "cell_type": "code",
   "execution_count": 1,
   "metadata": {
    "vscode": {
     "languageId": "r"
    }
   },
   "outputs": [
    {
     "name": "stderr",
     "output_type": "stream",
     "text": [
      "── \u001b[1mAttaching packages\u001b[22m ─────────────────────────────────────── tidyverse 1.3.2 ──\n",
      "\u001b[32m✔\u001b[39m \u001b[34mtibble \u001b[39m 3.1.8      \u001b[32m✔\u001b[39m \u001b[34mdplyr  \u001b[39m 1.0.10\n",
      "\u001b[32m✔\u001b[39m \u001b[34mtidyr  \u001b[39m 1.2.1      \u001b[32m✔\u001b[39m \u001b[34mstringr\u001b[39m 1.5.0 \n",
      "\u001b[32m✔\u001b[39m \u001b[34mreadr  \u001b[39m 2.1.3      \u001b[32m✔\u001b[39m \u001b[34mforcats\u001b[39m 0.5.2 \n",
      "\u001b[32m✔\u001b[39m \u001b[34mpurrr  \u001b[39m 1.0.0      \n",
      "── \u001b[1mConflicts\u001b[22m ────────────────────────────────────────── tidyverse_conflicts() ──\n",
      "\u001b[31m✖\u001b[39m \u001b[34mdplyr\u001b[39m::\u001b[32mfilter()\u001b[39m masks \u001b[34mstats\u001b[39m::filter()\n",
      "\u001b[31m✖\u001b[39m \u001b[34mdplyr\u001b[39m::\u001b[32mlag()\u001b[39m    masks \u001b[34mstats\u001b[39m::lag()\n"
     ]
    }
   ],
   "source": [
    "library(DBI)\n",
    "library(ggplot2)\n",
    "library(tidyverse)"
   ]
  },
  {
   "attachments": {},
   "cell_type": "markdown",
   "metadata": {},
   "source": [
    "# Connect to DB, load data, clean data"
   ]
  },
  {
   "cell_type": "code",
   "execution_count": 2,
   "metadata": {
    "vscode": {
     "languageId": "r"
    }
   },
   "outputs": [],
   "source": [
    "con <- dbConnect(\n",
    "    RPostgres::Postgres(),\n",
    "    dbname = 'npm_data', \n",
    "    user = 'data_analyzer',\n",
    ")"
   ]
  },
  {
   "cell_type": "code",
   "execution_count": 3,
   "metadata": {
    "vscode": {
     "languageId": "r"
    }
   },
   "outputs": [],
   "source": [
    "# This takes about 40 seconds to load (when running on the VM!), and takes about 4GB of memory\n",
    "unique_deps_across_versions <- dbGetQuery(con, \"\n",
    "    SELECT *\n",
    "    FROM analysis.unique_deps_yearly_latest --unique_deps_yearly_latest_depended_on_only, unique_deps_yearly_latest\n",
    "\")"
   ]
  },
  {
   "cell_type": "code",
   "execution_count": 16,
   "metadata": {
    "vscode": {
     "languageId": "r"
    }
   },
   "outputs": [],
   "source": [
    "unique_deps_across_versions$dep_type <- sapply(unique_deps_across_versions$dep_type, as.character)\n",
    "unique_deps_across_versions$dep_typeFact <- as.factor(unique_deps_across_versions$dep_type)\n",
    "unique_deps_across_versions$composite_constraint_type <- sapply(unique_deps_across_versions$composite_constraint_type, as.character)\n",
    "unique_deps_across_versions$composite_constraint_typeFact <- as.factor(unique_deps_across_versions$composite_constraint_type)"
   ]
  },
  {
   "cell_type": "code",
   "execution_count": 17,
   "metadata": {
    "vscode": {
     "languageId": "r"
    }
   },
   "outputs": [],
   "source": [
    "unique_deps_across_versions$composite_constraint_typeFact <- fct_collapse(unique_deps_across_versions$composite_constraint_typeFact,\n",
    "    \"Minor (^1.2.3)\"=\"range-minor\",\n",
    "    \"Exact (=1.2.3)\"=\"range-=\",\n",
    "    \"Bug (~1.2.3)\"=\"range-patch\",\n",
    "    \"Any (*)\"=\"range-major\",\n",
    "    \"Geq (>=1.2.3)\"=\"range->=\",\n",
    "    # Tag=\"tag\",\n",
    "    other_level=\"Other\"\n",
    ")"
   ]
  },
  {
   "cell_type": "code",
   "execution_count": 18,
   "metadata": {
    "vscode": {
     "languageId": "r"
    }
   },
   "outputs": [],
   "source": [
    "unique_deps_across_versions$composite_constraint_typeFact <- factor(\n",
    "    unique_deps_across_versions$composite_constraint_typeFact, levels=c(\"Exact (=1.2.3)\", \"Bug (~1.2.3)\", \"Minor (^1.2.3)\", \"Geq (>=1.2.3)\", \"Any (*)\", \"Other\"))"
   ]
  },
  {
   "cell_type": "code",
   "execution_count": 19,
   "metadata": {
    "vscode": {
     "languageId": "r"
    }
   },
   "outputs": [
    {
     "data": {
      "text/html": [
       "<table class=\"dataframe\">\n",
       "<caption>A data.frame: 6 × 7</caption>\n",
       "<thead>\n",
       "\t<tr><th></th><th scope=col>package_id</th><th scope=col>year</th><th scope=col>dependency_id</th><th scope=col>dep_type</th><th scope=col>composite_constraint_type</th><th scope=col>dep_typeFact</th><th scope=col>composite_constraint_typeFact</th></tr>\n",
       "\t<tr><th></th><th scope=col>&lt;int64&gt;</th><th scope=col>&lt;dbl&gt;</th><th scope=col>&lt;int64&gt;</th><th scope=col>&lt;chr&gt;</th><th scope=col>&lt;chr&gt;</th><th scope=col>&lt;fct&gt;</th><th scope=col>&lt;fct&gt;</th></tr>\n",
       "</thead>\n",
       "<tbody>\n",
       "\t<tr><th scope=row>1</th><td>2096802</td><td>2016</td><td>    3486</td><td>prod</td><td>range-minor</td><td>prod</td><td>Minor (^1.2.3)</td></tr>\n",
       "\t<tr><th scope=row>2</th><td>2458610</td><td>2020</td><td>17122448</td><td>prod</td><td>range-=    </td><td>prod</td><td>Exact (=1.2.3)</td></tr>\n",
       "\t<tr><th scope=row>3</th><td>2011618</td><td>2019</td><td>  454266</td><td>prod</td><td>range-minor</td><td>prod</td><td>Minor (^1.2.3)</td></tr>\n",
       "\t<tr><th scope=row>4</th><td>2469898</td><td>2021</td><td>19674213</td><td>prod</td><td>range-minor</td><td>prod</td><td>Minor (^1.2.3)</td></tr>\n",
       "\t<tr><th scope=row>5</th><td>2477505</td><td>2021</td><td>20825019</td><td>prod</td><td>range-minor</td><td>prod</td><td>Minor (^1.2.3)</td></tr>\n",
       "\t<tr><th scope=row>6</th><td>1850336</td><td>2021</td><td>13588810</td><td>prod</td><td>range-=    </td><td>prod</td><td>Exact (=1.2.3)</td></tr>\n",
       "</tbody>\n",
       "</table>\n"
      ],
      "text/latex": [
       "A data.frame: 6 × 7\n",
       "\\begin{tabular}{r|lllllll}\n",
       "  & package\\_id & year & dependency\\_id & dep\\_type & composite\\_constraint\\_type & dep\\_typeFact & composite\\_constraint\\_typeFact\\\\\n",
       "  & <int64> & <dbl> & <int64> & <chr> & <chr> & <fct> & <fct>\\\\\n",
       "\\hline\n",
       "\t1 & 2096802 & 2016 &     3486 & prod & range-minor & prod & Minor (\\textasciicircum{}1.2.3)\\\\\n",
       "\t2 & 2458610 & 2020 & 17122448 & prod & range-=     & prod & Exact (=1.2.3)\\\\\n",
       "\t3 & 2011618 & 2019 &   454266 & prod & range-minor & prod & Minor (\\textasciicircum{}1.2.3)\\\\\n",
       "\t4 & 2469898 & 2021 & 19674213 & prod & range-minor & prod & Minor (\\textasciicircum{}1.2.3)\\\\\n",
       "\t5 & 2477505 & 2021 & 20825019 & prod & range-minor & prod & Minor (\\textasciicircum{}1.2.3)\\\\\n",
       "\t6 & 1850336 & 2021 & 13588810 & prod & range-=     & prod & Exact (=1.2.3)\\\\\n",
       "\\end{tabular}\n"
      ],
      "text/markdown": [
       "\n",
       "A data.frame: 6 × 7\n",
       "\n",
       "| <!--/--> | package_id &lt;int64&gt; | year &lt;dbl&gt; | dependency_id &lt;int64&gt; | dep_type &lt;chr&gt; | composite_constraint_type &lt;chr&gt; | dep_typeFact &lt;fct&gt; | composite_constraint_typeFact &lt;fct&gt; |\n",
       "|---|---|---|---|---|---|---|---|\n",
       "| 1 | 2096802 | 2016 |     3486 | prod | range-minor | prod | Minor (^1.2.3) |\n",
       "| 2 | 2458610 | 2020 | 17122448 | prod | range-=     | prod | Exact (=1.2.3) |\n",
       "| 3 | 2011618 | 2019 |   454266 | prod | range-minor | prod | Minor (^1.2.3) |\n",
       "| 4 | 2469898 | 2021 | 19674213 | prod | range-minor | prod | Minor (^1.2.3) |\n",
       "| 5 | 2477505 | 2021 | 20825019 | prod | range-minor | prod | Minor (^1.2.3) |\n",
       "| 6 | 1850336 | 2021 | 13588810 | prod | range-=     | prod | Exact (=1.2.3) |\n",
       "\n"
      ],
      "text/plain": [
       "  package_id year dependency_id dep_type composite_constraint_type dep_typeFact\n",
       "1 2096802    2016     3486      prod     range-minor               prod        \n",
       "2 2458610    2020 17122448      prod     range-=                   prod        \n",
       "3 2011618    2019   454266      prod     range-minor               prod        \n",
       "4 2469898    2021 19674213      prod     range-minor               prod        \n",
       "5 2477505    2021 20825019      prod     range-minor               prod        \n",
       "6 1850336    2021 13588810      prod     range-=                   prod        \n",
       "  composite_constraint_typeFact\n",
       "1 Minor (^1.2.3)               \n",
       "2 Exact (=1.2.3)               \n",
       "3 Minor (^1.2.3)               \n",
       "4 Minor (^1.2.3)               \n",
       "5 Minor (^1.2.3)               \n",
       "6 Exact (=1.2.3)               "
      ]
     },
     "metadata": {},
     "output_type": "display_data"
    }
   ],
   "source": [
    "head(unique_deps_across_versions)"
   ]
  },
  {
   "cell_type": "code",
   "execution_count": 20,
   "metadata": {
    "vscode": {
     "languageId": "r"
    }
   },
   "outputs": [],
   "source": [
    "year_sums <- unique_deps_across_versions %>% \n",
    "    group_by(year) %>% \n",
    "    summarise(year_total=n())"
   ]
  },
  {
   "cell_type": "code",
   "execution_count": 21,
   "metadata": {
    "vscode": {
     "languageId": "r"
    }
   },
   "outputs": [
    {
     "name": "stderr",
     "output_type": "stream",
     "text": [
      "\u001b[1m\u001b[22m`summarise()` has grouped output by 'year'. You can override using the\n",
      "`.groups` argument.\n"
     ]
    }
   ],
   "source": [
    "# Get the percentage of each composite_constraint_typeFact within each year\n",
    "\n",
    "\n",
    "\n",
    "dep_by_year_percs <- unique_deps_across_versions %>% \n",
    "    group_by(year, composite_constraint_typeFact) %>% \n",
    "    summarise(count=n()) %>% \n",
    "    inner_join(year_sums, by=\"year\") %>%\n",
    "    mutate(percentage = count / year_total)\n",
    "    # mutate(percentage = count / sum(count)) \n",
    "    # %>% \n",
    "    # ggplot(aes(x=yearFact, y=percentage, fill=composite_constraint_typeFact)) +\n",
    "    #     geom_bar(stat=\"identity\") +\n",
    "    #     theme(axis.text.x = element_text(angle = 90, hjust = 1)) +\n",
    "    #     labs(x=\"Year\", y=\"Percentage of Dependencies\", fill=\"Constraint Type\") +\n",
    "    #     scale_fill_brewer(palette=\"Set1\") +\n",
    "    #     theme(legend.position=\"bottom\")"
   ]
  },
  {
   "cell_type": "code",
   "execution_count": 22,
   "metadata": {
    "vscode": {
     "languageId": "r"
    }
   },
   "outputs": [
    {
     "data": {
      "text/html": [
       "<table class=\"dataframe\">\n",
       "<caption>A grouped_df: 6 × 5</caption>\n",
       "<thead>\n",
       "\t<tr><th scope=col>year</th><th scope=col>composite_constraint_typeFact</th><th scope=col>count</th><th scope=col>year_total</th><th scope=col>percentage</th></tr>\n",
       "\t<tr><th scope=col>&lt;dbl&gt;</th><th scope=col>&lt;fct&gt;</th><th scope=col>&lt;int&gt;</th><th scope=col>&lt;int&gt;</th><th scope=col>&lt;dbl&gt;</th></tr>\n",
       "</thead>\n",
       "<tbody>\n",
       "\t<tr><td>2010</td><td>Exact (=1.2.3)</td><td>  29</td><td>  188</td><td>0.15425532</td></tr>\n",
       "\t<tr><td>2010</td><td>Geq (&gt;=1.2.3) </td><td> 143</td><td><span style=white-space:pre-wrap>  188</span></td><td>0.76063830</td></tr>\n",
       "\t<tr><td>2010</td><td>Any (*)       </td><td>   4</td><td>  188</td><td>0.02127660</td></tr>\n",
       "\t<tr><td>2010</td><td>Other         </td><td>  12</td><td>  188</td><td>0.06382979</td></tr>\n",
       "\t<tr><td>2011</td><td>Exact (=1.2.3)</td><td>3255</td><td>13966</td><td>0.23306602</td></tr>\n",
       "\t<tr><td>2011</td><td>Bug (~1.2.3)  </td><td>2840</td><td>13966</td><td>0.20335100</td></tr>\n",
       "</tbody>\n",
       "</table>\n"
      ],
      "text/latex": [
       "A grouped\\_df: 6 × 5\n",
       "\\begin{tabular}{lllll}\n",
       " year & composite\\_constraint\\_typeFact & count & year\\_total & percentage\\\\\n",
       " <dbl> & <fct> & <int> & <int> & <dbl>\\\\\n",
       "\\hline\n",
       "\t 2010 & Exact (=1.2.3) &   29 &   188 & 0.15425532\\\\\n",
       "\t 2010 & Geq (>=1.2.3)  &  143 &   188 & 0.76063830\\\\\n",
       "\t 2010 & Any (*)        &    4 &   188 & 0.02127660\\\\\n",
       "\t 2010 & Other          &   12 &   188 & 0.06382979\\\\\n",
       "\t 2011 & Exact (=1.2.3) & 3255 & 13966 & 0.23306602\\\\\n",
       "\t 2011 & Bug (\\textasciitilde{}1.2.3)   & 2840 & 13966 & 0.20335100\\\\\n",
       "\\end{tabular}\n"
      ],
      "text/markdown": [
       "\n",
       "A grouped_df: 6 × 5\n",
       "\n",
       "| year &lt;dbl&gt; | composite_constraint_typeFact &lt;fct&gt; | count &lt;int&gt; | year_total &lt;int&gt; | percentage &lt;dbl&gt; |\n",
       "|---|---|---|---|---|\n",
       "| 2010 | Exact (=1.2.3) |   29 |   188 | 0.15425532 |\n",
       "| 2010 | Geq (&gt;=1.2.3)  |  143 |   188 | 0.76063830 |\n",
       "| 2010 | Any (*)        |    4 |   188 | 0.02127660 |\n",
       "| 2010 | Other          |   12 |   188 | 0.06382979 |\n",
       "| 2011 | Exact (=1.2.3) | 3255 | 13966 | 0.23306602 |\n",
       "| 2011 | Bug (~1.2.3)   | 2840 | 13966 | 0.20335100 |\n",
       "\n"
      ],
      "text/plain": [
       "  year composite_constraint_typeFact count year_total percentage\n",
       "1 2010 Exact (=1.2.3)                  29    188      0.15425532\n",
       "2 2010 Geq (>=1.2.3)                  143    188      0.76063830\n",
       "3 2010 Any (*)                          4    188      0.02127660\n",
       "4 2010 Other                           12    188      0.06382979\n",
       "5 2011 Exact (=1.2.3)                3255  13966      0.23306602\n",
       "6 2011 Bug (~1.2.3)                  2840  13966      0.20335100"
      ]
     },
     "metadata": {},
     "output_type": "display_data"
    }
   ],
   "source": [
    "head(dep_by_year_percs)"
   ]
  },
  {
   "cell_type": "code",
   "execution_count": 23,
   "metadata": {
    "vscode": {
     "languageId": "r"
    }
   },
   "outputs": [],
   "source": [
    "dep_by_year_percs$yearFact <- factor(dep_by_year_percs$year)"
   ]
  },
  {
   "cell_type": "code",
   "execution_count": 24,
   "metadata": {
    "vscode": {
     "languageId": "r"
    }
   },
   "outputs": [
    {
     "data": {
      "image/png": "[encoded data removed]",
      "text/plain": [
       "plot without title"
      ]
     },
     "metadata": {
      "image/png": {
       "height": 420,
       "width": 420
      }
     },
     "output_type": "display_data"
    }
   ],
   "source": [
    "# plot a stacked area plot of composite_constraint_typeFact over year\n",
    "ggplot(dep_by_year_percs, aes(x=yearFact, y=percentage, fill=composite_constraint_typeFact)) +\n",
    "    geom_col() +\n",
    "    scale_x_discrete() +\n",
    "    scale_fill_brewer(palette=\"Set1\") +\n",
    "    scale_y_continuous(labels = scales::percent) + \n",
    "    theme_minimal() +\n",
    "    # theme(legend.position=\"bottom\") +\n",
    "    labs(x=\"Year\", y=\"Percentage of dependencies\", fill=\"Constraint type\")"
   ]
  },
  {
   "cell_type": "code",
   "execution_count": null,
   "metadata": {
    "vscode": {
     "languageId": "r"
    }
   },
   "outputs": [],
   "source": []
  },
  {
   "cell_type": "code",
   "execution_count": 23,
   "metadata": {
    "vscode": {
     "languageId": "r"
    }
   },
   "outputs": [
    {
     "data": {
      "text/html": [
       "<table class=\"dataframe\">\n",
       "<caption>A grouped_df: 89 × 5</caption>\n",
       "<thead>\n",
       "\t<tr><th scope=col>year</th><th scope=col>composite_constraint_typeFact</th><th scope=col>count</th><th scope=col>year_total</th><th scope=col>percentage</th></tr>\n",
       "\t<tr><th scope=col>&lt;dbl&gt;</th><th scope=col>&lt;fct&gt;</th><th scope=col>&lt;int&gt;</th><th scope=col>&lt;int&gt;</th><th scope=col>&lt;dbl&gt;</th></tr>\n",
       "</thead>\n",
       "<tbody>\n",
       "\t<tr><td>2010</td><td>exact</td><td>    29</td><td>   188</td><td>0.15425532</td></tr>\n",
       "\t<tr><td>2010</td><td>geq  </td><td>   143</td><td>   188</td><td>0.76063830</td></tr>\n",
       "\t<tr><td>2010</td><td>major</td><td>     4</td><td>   188</td><td>0.02127660</td></tr>\n",
       "\t<tr><td>2010</td><td>tag  </td><td>     4</td><td>   188</td><td>0.02127660</td></tr>\n",
       "\t<tr><td>2010</td><td>other</td><td>     8</td><td>   188</td><td>0.04255319</td></tr>\n",
       "\t<tr><td>2011</td><td>exact</td><td>  3255</td><td> 13966</td><td>0.23306602</td></tr>\n",
       "\t<tr><td>2011</td><td>geq  </td><td>  5501</td><td> 13966</td><td>0.39388515</td></tr>\n",
       "\t<tr><td>2011</td><td>major</td><td>  1340</td><td> 13966</td><td>0.09594730</td></tr>\n",
       "\t<tr><td>2011</td><td>minor</td><td>   233</td><td> 13966</td><td>0.01668337</td></tr>\n",
       "\t<tr><td>2011</td><td>patch</td><td>  2840</td><td> 13966</td><td>0.20335100</td></tr>\n",
       "\t<tr><td>2011</td><td>tag  </td><td>   564</td><td> 13966</td><td>0.04038379</td></tr>\n",
       "\t<tr><td>2011</td><td>other</td><td>   233</td><td> 13966</td><td>0.01668337</td></tr>\n",
       "\t<tr><td>2012</td><td>exact</td><td> 14241</td><td> 60244</td><td>0.23638869</td></tr>\n",
       "\t<tr><td>2012</td><td>geq  </td><td> 10120</td><td> 60244</td><td>0.16798353</td></tr>\n",
       "\t<tr><td>2012</td><td>major</td><td>  8964</td><td> 60244</td><td>0.14879490</td></tr>\n",
       "\t<tr><td>2012</td><td>minor</td><td>  1261</td><td> 60244</td><td>0.02093155</td></tr>\n",
       "\t<tr><td>2012</td><td>patch</td><td> 21816</td><td> 60244</td><td>0.36212735</td></tr>\n",
       "\t<tr><td>2012</td><td>tag  </td><td>  2618</td><td> 60244</td><td>0.04345661</td></tr>\n",
       "\t<tr><td>2012</td><td>other</td><td>  1224</td><td> 60244</td><td>0.02031738</td></tr>\n",
       "\t<tr><td>2013</td><td>exact</td><td> 33442</td><td>203299</td><td>0.16449663</td></tr>\n",
       "\t<tr><td>2013</td><td>geq  </td><td> 11792</td><td>203299</td><td>0.05800324</td></tr>\n",
       "\t<tr><td>2013</td><td>major</td><td> 21664</td><td>203299</td><td>0.10656226</td></tr>\n",
       "\t<tr><td>2013</td><td>minor</td><td>  3415</td><td>203299</td><td>0.01679792</td></tr>\n",
       "\t<tr><td>2013</td><td>patch</td><td>123453</td><td>203299</td><td>0.60724844</td></tr>\n",
       "\t<tr><td>2013</td><td>tag  </td><td>  6116</td><td>203299</td><td>0.03008377</td></tr>\n",
       "\t<tr><td>2013</td><td>other</td><td>  3417</td><td>203299</td><td>0.01680776</td></tr>\n",
       "\t<tr><td>2014</td><td>exact</td><td> 76341</td><td>543821</td><td>0.14037891</td></tr>\n",
       "\t<tr><td>2014</td><td>geq  </td><td> 18356</td><td>543821</td><td>0.03375375</td></tr>\n",
       "\t<tr><td>2014</td><td>major</td><td> 32375</td><td>543821</td><td>0.05953246</td></tr>\n",
       "\t<tr><td>2014</td><td>minor</td><td>203131</td><td>543821</td><td>0.37352548</td></tr>\n",
       "\t<tr><td>⋮</td><td>⋮</td><td>⋮</td><td>⋮</td><td>⋮</td></tr>\n",
       "\t<tr><td>2018</td><td>tag  </td><td>  29100</td><td> 6823470</td><td>0.004264692</td></tr>\n",
       "\t<tr><td>2018</td><td>other</td><td>  46790</td><td> 6823470</td><td>0.006857215</td></tr>\n",
       "\t<tr><td>2019</td><td>exact</td><td>2591437</td><td> 9581882</td><td>0.270451776</td></tr>\n",
       "\t<tr><td>2019</td><td>geq  </td><td>  56035</td><td> 9581882</td><td>0.005848016</td></tr>\n",
       "\t<tr><td>2019</td><td>major</td><td>  41246</td><td> 9581882</td><td>0.004304582</td></tr>\n",
       "\t<tr><td>2019</td><td>minor</td><td>6614996</td><td> 9581882</td><td>0.690365003</td></tr>\n",
       "\t<tr><td>2019</td><td>patch</td><td> 204633</td><td> 9581882</td><td>0.021356243</td></tr>\n",
       "\t<tr><td>2019</td><td>tag  </td><td>  31001</td><td> 9581882</td><td>0.003235377</td></tr>\n",
       "\t<tr><td>2019</td><td>other</td><td>  42534</td><td> 9581882</td><td>0.004439003</td></tr>\n",
       "\t<tr><td>2020</td><td>exact</td><td>4232754</td><td>12619809</td><td>0.335405552</td></tr>\n",
       "\t<tr><td>2020</td><td>geq  </td><td>  73727</td><td>12619809</td><td>0.005842164</td></tr>\n",
       "\t<tr><td>2020</td><td>major</td><td>  39002</td><td>12619809</td><td>0.003090538</td></tr>\n",
       "\t<tr><td>2020</td><td>minor</td><td>7959811</td><td>12619809</td><td>0.630739419</td></tr>\n",
       "\t<tr><td>2020</td><td>patch</td><td> 235071</td><td>12619809</td><td>0.018627144</td></tr>\n",
       "\t<tr><td>2020</td><td>tag  </td><td>  36905</td><td>12619809</td><td>0.002924371</td></tr>\n",
       "\t<tr><td>2020</td><td>other</td><td>  42539</td><td>12619809</td><td>0.003370812</td></tr>\n",
       "\t<tr><td>2021</td><td>exact</td><td>5804034</td><td>15532388</td><td>0.373672999</td></tr>\n",
       "\t<tr><td>2021</td><td>geq  </td><td>  92691</td><td>15532388</td><td>0.005967595</td></tr>\n",
       "\t<tr><td>2021</td><td>major</td><td>  43624</td><td>15532388</td><td>0.002808583</td></tr>\n",
       "\t<tr><td>2021</td><td>minor</td><td>9257841</td><td>15532388</td><td>0.596034621</td></tr>\n",
       "\t<tr><td>2021</td><td>patch</td><td> 229596</td><td>15532388</td><td>0.014781758</td></tr>\n",
       "\t<tr><td>2021</td><td>tag  </td><td>  32223</td><td>15532388</td><td>0.002074568</td></tr>\n",
       "\t<tr><td>2021</td><td>other</td><td>  72379</td><td>15532388</td><td>0.004659876</td></tr>\n",
       "\t<tr><td>2022</td><td>exact</td><td>6923402</td><td>16464567</td><td>0.420503133</td></tr>\n",
       "\t<tr><td>2022</td><td>geq  </td><td> 112569</td><td>16464567</td><td>0.006837046</td></tr>\n",
       "\t<tr><td>2022</td><td>major</td><td>  50699</td><td>16464567</td><td>0.003079279</td></tr>\n",
       "\t<tr><td>2022</td><td>minor</td><td>9017679</td><td>16464567</td><td>0.547702166</td></tr>\n",
       "\t<tr><td>2022</td><td>patch</td><td> 240559</td><td>16464567</td><td>0.014610709</td></tr>\n",
       "\t<tr><td>2022</td><td>tag  </td><td>  32369</td><td>16464567</td><td>0.001965979</td></tr>\n",
       "\t<tr><td>2022</td><td>other</td><td>  87290</td><td>16464567</td><td>0.005301688</td></tr>\n",
       "</tbody>\n",
       "</table>\n"
      ],
      "text/latex": [
       "A grouped\\_df: 89 × 5\n",
       "\\begin{tabular}{lllll}\n",
       " year & composite\\_constraint\\_typeFact & count & year\\_total & percentage\\\\\n",
       " <dbl> & <fct> & <int> & <int> & <dbl>\\\\\n",
       "\\hline\n",
       "\t 2010 & exact &     29 &    188 & 0.15425532\\\\\n",
       "\t 2010 & geq   &    143 &    188 & 0.76063830\\\\\n",
       "\t 2010 & major &      4 &    188 & 0.02127660\\\\\n",
       "\t 2010 & tag   &      4 &    188 & 0.02127660\\\\\n",
       "\t 2010 & other &      8 &    188 & 0.04255319\\\\\n",
       "\t 2011 & exact &   3255 &  13966 & 0.23306602\\\\\n",
       "\t 2011 & geq   &   5501 &  13966 & 0.39388515\\\\\n",
       "\t 2011 & major &   1340 &  13966 & 0.09594730\\\\\n",
       "\t 2011 & minor &    233 &  13966 & 0.01668337\\\\\n",
       "\t 2011 & patch &   2840 &  13966 & 0.20335100\\\\\n",
       "\t 2011 & tag   &    564 &  13966 & 0.04038379\\\\\n",
       "\t 2011 & other &    233 &  13966 & 0.01668337\\\\\n",
       "\t 2012 & exact &  14241 &  60244 & 0.23638869\\\\\n",
       "\t 2012 & geq   &  10120 &  60244 & 0.16798353\\\\\n",
       "\t 2012 & major &   8964 &  60244 & 0.14879490\\\\\n",
       "\t 2012 & minor &   1261 &  60244 & 0.02093155\\\\\n",
       "\t 2012 & patch &  21816 &  60244 & 0.36212735\\\\\n",
       "\t 2012 & tag   &   2618 &  60244 & 0.04345661\\\\\n",
       "\t 2012 & other &   1224 &  60244 & 0.02031738\\\\\n",
       "\t 2013 & exact &  33442 & 203299 & 0.16449663\\\\\n",
       "\t 2013 & geq   &  11792 & 203299 & 0.05800324\\\\\n",
       "\t 2013 & major &  21664 & 203299 & 0.10656226\\\\\n",
       "\t 2013 & minor &   3415 & 203299 & 0.01679792\\\\\n",
       "\t 2013 & patch & 123453 & 203299 & 0.60724844\\\\\n",
       "\t 2013 & tag   &   6116 & 203299 & 0.03008377\\\\\n",
       "\t 2013 & other &   3417 & 203299 & 0.01680776\\\\\n",
       "\t 2014 & exact &  76341 & 543821 & 0.14037891\\\\\n",
       "\t 2014 & geq   &  18356 & 543821 & 0.03375375\\\\\n",
       "\t 2014 & major &  32375 & 543821 & 0.05953246\\\\\n",
       "\t 2014 & minor & 203131 & 543821 & 0.37352548\\\\\n",
       "\t ⋮ & ⋮ & ⋮ & ⋮ & ⋮\\\\\n",
       "\t 2018 & tag   &   29100 &  6823470 & 0.004264692\\\\\n",
       "\t 2018 & other &   46790 &  6823470 & 0.006857215\\\\\n",
       "\t 2019 & exact & 2591437 &  9581882 & 0.270451776\\\\\n",
       "\t 2019 & geq   &   56035 &  9581882 & 0.005848016\\\\\n",
       "\t 2019 & major &   41246 &  9581882 & 0.004304582\\\\\n",
       "\t 2019 & minor & 6614996 &  9581882 & 0.690365003\\\\\n",
       "\t 2019 & patch &  204633 &  9581882 & 0.021356243\\\\\n",
       "\t 2019 & tag   &   31001 &  9581882 & 0.003235377\\\\\n",
       "\t 2019 & other &   42534 &  9581882 & 0.004439003\\\\\n",
       "\t 2020 & exact & 4232754 & 12619809 & 0.335405552\\\\\n",
       "\t 2020 & geq   &   73727 & 12619809 & 0.005842164\\\\\n",
       "\t 2020 & major &   39002 & 12619809 & 0.003090538\\\\\n",
       "\t 2020 & minor & 7959811 & 12619809 & 0.630739419\\\\\n",
       "\t 2020 & patch &  235071 & 12619809 & 0.018627144\\\\\n",
       "\t 2020 & tag   &   36905 & 12619809 & 0.002924371\\\\\n",
       "\t 2020 & other &   42539 & 12619809 & 0.003370812\\\\\n",
       "\t 2021 & exact & 5804034 & 15532388 & 0.373672999\\\\\n",
       "\t 2021 & geq   &   92691 & 15532388 & 0.005967595\\\\\n",
       "\t 2021 & major &   43624 & 15532388 & 0.002808583\\\\\n",
       "\t 2021 & minor & 9257841 & 15532388 & 0.596034621\\\\\n",
       "\t 2021 & patch &  229596 & 15532388 & 0.014781758\\\\\n",
       "\t 2021 & tag   &   32223 & 15532388 & 0.002074568\\\\\n",
       "\t 2021 & other &   72379 & 15532388 & 0.004659876\\\\\n",
       "\t 2022 & exact & 6923402 & 16464567 & 0.420503133\\\\\n",
       "\t 2022 & geq   &  112569 & 16464567 & 0.006837046\\\\\n",
       "\t 2022 & major &   50699 & 16464567 & 0.003079279\\\\\n",
       "\t 2022 & minor & 9017679 & 16464567 & 0.547702166\\\\\n",
       "\t 2022 & patch &  240559 & 16464567 & 0.014610709\\\\\n",
       "\t 2022 & tag   &   32369 & 16464567 & 0.001965979\\\\\n",
       "\t 2022 & other &   87290 & 16464567 & 0.005301688\\\\\n",
       "\\end{tabular}\n"
      ],
      "text/markdown": [
       "\n",
       "A grouped_df: 89 × 5\n",
       "\n",
       "| year &lt;dbl&gt; | composite_constraint_typeFact &lt;fct&gt; | count &lt;int&gt; | year_total &lt;int&gt; | percentage &lt;dbl&gt; |\n",
       "|---|---|---|---|---|\n",
       "| 2010 | exact |     29 |    188 | 0.15425532 |\n",
       "| 2010 | geq   |    143 |    188 | 0.76063830 |\n",
       "| 2010 | major |      4 |    188 | 0.02127660 |\n",
       "| 2010 | tag   |      4 |    188 | 0.02127660 |\n",
       "| 2010 | other |      8 |    188 | 0.04255319 |\n",
       "| 2011 | exact |   3255 |  13966 | 0.23306602 |\n",
       "| 2011 | geq   |   5501 |  13966 | 0.39388515 |\n",
       "| 2011 | major |   1340 |  13966 | 0.09594730 |\n",
       "| 2011 | minor |    233 |  13966 | 0.01668337 |\n",
       "| 2011 | patch |   2840 |  13966 | 0.20335100 |\n",
       "| 2011 | tag   |    564 |  13966 | 0.04038379 |\n",
       "| 2011 | other |    233 |  13966 | 0.01668337 |\n",
       "| 2012 | exact |  14241 |  60244 | 0.23638869 |\n",
       "| 2012 | geq   |  10120 |  60244 | 0.16798353 |\n",
       "| 2012 | major |   8964 |  60244 | 0.14879490 |\n",
       "| 2012 | minor |   1261 |  60244 | 0.02093155 |\n",
       "| 2012 | patch |  21816 |  60244 | 0.36212735 |\n",
       "| 2012 | tag   |   2618 |  60244 | 0.04345661 |\n",
       "| 2012 | other |   1224 |  60244 | 0.02031738 |\n",
       "| 2013 | exact |  33442 | 203299 | 0.16449663 |\n",
       "| 2013 | geq   |  11792 | 203299 | 0.05800324 |\n",
       "| 2013 | major |  21664 | 203299 | 0.10656226 |\n",
       "| 2013 | minor |   3415 | 203299 | 0.01679792 |\n",
       "| 2013 | patch | 123453 | 203299 | 0.60724844 |\n",
       "| 2013 | tag   |   6116 | 203299 | 0.03008377 |\n",
       "| 2013 | other |   3417 | 203299 | 0.01680776 |\n",
       "| 2014 | exact |  76341 | 543821 | 0.14037891 |\n",
       "| 2014 | geq   |  18356 | 543821 | 0.03375375 |\n",
       "| 2014 | major |  32375 | 543821 | 0.05953246 |\n",
       "| 2014 | minor | 203131 | 543821 | 0.37352548 |\n",
       "| ⋮ | ⋮ | ⋮ | ⋮ | ⋮ |\n",
       "| 2018 | tag   |   29100 |  6823470 | 0.004264692 |\n",
       "| 2018 | other |   46790 |  6823470 | 0.006857215 |\n",
       "| 2019 | exact | 2591437 |  9581882 | 0.270451776 |\n",
       "| 2019 | geq   |   56035 |  9581882 | 0.005848016 |\n",
       "| 2019 | major |   41246 |  9581882 | 0.004304582 |\n",
       "| 2019 | minor | 6614996 |  9581882 | 0.690365003 |\n",
       "| 2019 | patch |  204633 |  9581882 | 0.021356243 |\n",
       "| 2019 | tag   |   31001 |  9581882 | 0.003235377 |\n",
       "| 2019 | other |   42534 |  9581882 | 0.004439003 |\n",
       "| 2020 | exact | 4232754 | 12619809 | 0.335405552 |\n",
       "| 2020 | geq   |   73727 | 12619809 | 0.005842164 |\n",
       "| 2020 | major |   39002 | 12619809 | 0.003090538 |\n",
       "| 2020 | minor | 7959811 | 12619809 | 0.630739419 |\n",
       "| 2020 | patch |  235071 | 12619809 | 0.018627144 |\n",
       "| 2020 | tag   |   36905 | 12619809 | 0.002924371 |\n",
       "| 2020 | other |   42539 | 12619809 | 0.003370812 |\n",
       "| 2021 | exact | 5804034 | 15532388 | 0.373672999 |\n",
       "| 2021 | geq   |   92691 | 15532388 | 0.005967595 |\n",
       "| 2021 | major |   43624 | 15532388 | 0.002808583 |\n",
       "| 2021 | minor | 9257841 | 15532388 | 0.596034621 |\n",
       "| 2021 | patch |  229596 | 15532388 | 0.014781758 |\n",
       "| 2021 | tag   |   32223 | 15532388 | 0.002074568 |\n",
       "| 2021 | other |   72379 | 15532388 | 0.004659876 |\n",
       "| 2022 | exact | 6923402 | 16464567 | 0.420503133 |\n",
       "| 2022 | geq   |  112569 | 16464567 | 0.006837046 |\n",
       "| 2022 | major |   50699 | 16464567 | 0.003079279 |\n",
       "| 2022 | minor | 9017679 | 16464567 | 0.547702166 |\n",
       "| 2022 | patch |  240559 | 16464567 | 0.014610709 |\n",
       "| 2022 | tag   |   32369 | 16464567 | 0.001965979 |\n",
       "| 2022 | other |   87290 | 16464567 | 0.005301688 |\n",
       "\n"
      ],
      "text/plain": [
       "   year composite_constraint_typeFact count   year_total percentage \n",
       "1  2010 exact                             29     188     0.15425532 \n",
       "2  2010 geq                              143     188     0.76063830 \n",
       "3  2010 major                              4     188     0.02127660 \n",
       "4  2010 tag                                4     188     0.02127660 \n",
       "5  2010 other                              8     188     0.04255319 \n",
       "6  2011 exact                           3255   13966     0.23306602 \n",
       "7  2011 geq                             5501   13966     0.39388515 \n",
       "8  2011 major                           1340   13966     0.09594730 \n",
       "9  2011 minor                            233   13966     0.01668337 \n",
       "10 2011 patch                           2840   13966     0.20335100 \n",
       "11 2011 tag                              564   13966     0.04038379 \n",
       "12 2011 other                            233   13966     0.01668337 \n",
       "13 2012 exact                          14241   60244     0.23638869 \n",
       "14 2012 geq                            10120   60244     0.16798353 \n",
       "15 2012 major                           8964   60244     0.14879490 \n",
       "16 2012 minor                           1261   60244     0.02093155 \n",
       "17 2012 patch                          21816   60244     0.36212735 \n",
       "18 2012 tag                             2618   60244     0.04345661 \n",
       "19 2012 other                           1224   60244     0.02031738 \n",
       "20 2013 exact                          33442  203299     0.16449663 \n",
       "21 2013 geq                            11792  203299     0.05800324 \n",
       "22 2013 major                          21664  203299     0.10656226 \n",
       "23 2013 minor                           3415  203299     0.01679792 \n",
       "24 2013 patch                         123453  203299     0.60724844 \n",
       "25 2013 tag                             6116  203299     0.03008377 \n",
       "26 2013 other                           3417  203299     0.01680776 \n",
       "27 2014 exact                          76341  543821     0.14037891 \n",
       "28 2014 geq                            18356  543821     0.03375375 \n",
       "29 2014 major                          32375  543821     0.05953246 \n",
       "30 2014 minor                         203131  543821     0.37352548 \n",
       "⋮  ⋮    ⋮                             ⋮       ⋮          ⋮          \n",
       "60 2018 tag                             29100  6823470   0.004264692\n",
       "61 2018 other                           46790  6823470   0.006857215\n",
       "62 2019 exact                         2591437  9581882   0.270451776\n",
       "63 2019 geq                             56035  9581882   0.005848016\n",
       "64 2019 major                           41246  9581882   0.004304582\n",
       "65 2019 minor                         6614996  9581882   0.690365003\n",
       "66 2019 patch                          204633  9581882   0.021356243\n",
       "67 2019 tag                             31001  9581882   0.003235377\n",
       "68 2019 other                           42534  9581882   0.004439003\n",
       "69 2020 exact                         4232754 12619809   0.335405552\n",
       "70 2020 geq                             73727 12619809   0.005842164\n",
       "71 2020 major                           39002 12619809   0.003090538\n",
       "72 2020 minor                         7959811 12619809   0.630739419\n",
       "73 2020 patch                          235071 12619809   0.018627144\n",
       "74 2020 tag                             36905 12619809   0.002924371\n",
       "75 2020 other                           42539 12619809   0.003370812\n",
       "76 2021 exact                         5804034 15532388   0.373672999\n",
       "77 2021 geq                             92691 15532388   0.005967595\n",
       "78 2021 major                           43624 15532388   0.002808583\n",
       "79 2021 minor                         9257841 15532388   0.596034621\n",
       "80 2021 patch                          229596 15532388   0.014781758\n",
       "81 2021 tag                             32223 15532388   0.002074568\n",
       "82 2021 other                           72379 15532388   0.004659876\n",
       "83 2022 exact                         6923402 16464567   0.420503133\n",
       "84 2022 geq                            112569 16464567   0.006837046\n",
       "85 2022 major                           50699 16464567   0.003079279\n",
       "86 2022 minor                         9017679 16464567   0.547702166\n",
       "87 2022 patch                          240559 16464567   0.014610709\n",
       "88 2022 tag                             32369 16464567   0.001965979\n",
       "89 2022 other                           87290 16464567   0.005301688"
      ]
     },
     "metadata": {},
     "output_type": "display_data"
    }
   ],
   "source": [
    "dep_by_year_percs"
   ]
  },
  {
   "cell_type": "code",
   "execution_count": 32,
   "metadata": {
    "vscode": {
     "languageId": "r"
    }
   },
   "outputs": [
    {
     "name": "stderr",
     "output_type": "stream",
     "text": [
      "ERROR while rich displaying an object: \u001b[1m\u001b[33mError\u001b[39m in `geom_area()`:\u001b[22m\n",
      "\u001b[1m\u001b[22m\u001b[33m!\u001b[39m Problem while computing stat.\n",
      "\u001b[36mℹ\u001b[39m Error occurred in the 1st layer.\n",
      "\u001b[1mCaused by error in `compute_layer()`:\u001b[22m\n",
      "\u001b[1m\u001b[22m\u001b[33m!\u001b[39m `stat_align()` requires the following missing aesthetics: \u001b[32my\u001b[39m\n",
      "\n",
      "Traceback:\n",
      "1. tryCatch(withCallingHandlers({\n",
      " .     if (!mime %in% names(repr::mime2repr)) \n",
      " .         stop(\"No repr_* for mimetype \", mime, \" in repr::mime2repr\")\n",
      " .     rpr <- repr::mime2repr[[mime]](obj)\n",
      " .     if (is.null(rpr)) \n",
      " .         return(NULL)\n",
      " .     prepare_content(is.raw(rpr), rpr)\n",
      " . }, error = error_handler), error = outer_handler)\n",
      "2. tryCatchList(expr, classes, parentenv, handlers)\n",
      "3. tryCatchOne(expr, names, parentenv, handlers[[1L]])\n",
      "4. doTryCatch(return(expr), name, parentenv, handler)\n",
      "5. withCallingHandlers({\n",
      " .     if (!mime %in% names(repr::mime2repr)) \n",
      " .         stop(\"No repr_* for mimetype \", mime, \" in repr::mime2repr\")\n",
      " .     rpr <- repr::mime2repr[[mime]](obj)\n",
      " .     if (is.null(rpr)) \n",
      " .         return(NULL)\n",
      " .     prepare_content(is.raw(rpr), rpr)\n",
      " . }, error = error_handler)\n",
      "6. repr::mime2repr[[mime]](obj)\n",
      "7. repr_text.default(obj)\n",
      "8. paste(capture.output(print(obj)), collapse = \"\\n\")\n",
      "9. capture.output(print(obj))\n",
      "10. evalVis(expr)\n",
      "11. withVisible(eval(expr, pf))\n",
      "12. eval(expr, pf)\n",
      "13. eval(expr, pf)\n",
      "14. print(obj)\n",
      "15. print.ggplot(obj)\n",
      "16. ggplot_build(x)\n",
      "17. ggplot_build.ggplot(x)\n",
      "18. by_layer(function(l, d) l$compute_statistic(d, layout), layers, \n",
      "  .     data, \"computing stat\")\n",
      "19. try_fetch(for (i in seq_along(data)) {\n",
      "  .     out[[i]] <- f(l = layers[[i]], d = data[[i]])\n",
      "  . }, error = function(cnd) {\n",
      "  .     cli::cli_abort(c(\"Problem while {step}.\", i = \"Error occurred in the {ordinal(i)} layer.\"), \n",
      "  .         call = layers[[i]]$constructor, parent = cnd)\n",
      "  . })\n",
      "20. tryCatch(withCallingHandlers(expr, error = function(cnd) {\n",
      "  .     {\n",
      "  .         .__handler_frame__. <- TRUE\n",
      "  .         .__setup_frame__. <- frame\n",
      "  .     }\n",
      "  .     out <- handlers[[1L]](cnd)\n",
      "  .     if (!inherits(out, \"rlang_zap\")) \n",
      "  .         throw(out)\n",
      "  . }), stackOverflowError = handlers[[1L]])\n",
      "21. tryCatchList(expr, classes, parentenv, handlers)\n",
      "22. tryCatchOne(expr, names, parentenv, handlers[[1L]])\n",
      "23. doTryCatch(return(expr), name, parentenv, handler)\n",
      "24. withCallingHandlers(expr, error = function(cnd) {\n",
      "  .     {\n",
      "  .         .__handler_frame__. <- TRUE\n",
      "  .         .__setup_frame__. <- frame\n",
      "  .     }\n",
      "  .     out <- handlers[[1L]](cnd)\n",
      "  .     if (!inherits(out, \"rlang_zap\")) \n",
      "  .         throw(out)\n",
      "  . })\n",
      "25. f(l = layers[[i]], d = data[[i]])\n",
      "26. l$compute_statistic(d, layout)\n",
      "27. compute_statistic(..., self = self)\n",
      "28. self$stat$compute_layer(data, self$computed_stat_params, layout)\n",
      "29. compute_layer(..., self = self)\n",
      "30. check_required_aesthetics(self$required_aes, c(names(data), names(params)), \n",
      "  .     snake_class(self))\n",
      "31. cli::cli_abort(message, call = call)\n",
      "32. rlang::abort(message, ..., call = call, use_cli_format = TRUE, \n",
      "  .     .frame = .frame)\n",
      "33. signal_abort(cnd, .file)\n",
      "34. signalCondition(cnd)\n",
      "35. (function (cnd) \n",
      "  . {\n",
      "  .     {\n",
      "  .         .__handler_frame__. <- TRUE\n",
      "  .         .__setup_frame__. <- frame\n",
      "  .     }\n",
      "  .     out <- handlers[[1L]](cnd)\n",
      "  .     if (!inherits(out, \"rlang_zap\")) \n",
      "  .         throw(out)\n",
      "  . })(structure(list(message = \"`stat_align()` requires the following missing aesthetics: \\033[32my\\033[39m\", \n",
      "  .     trace = structure(list(call = list(IRkernel::main(), kernel$run(), \n",
      "  .         handle_shell(), executor$execute(msg), tryCatch(evaluate(request$content$code, \n",
      "  .             envir = .GlobalEnv, output_handler = oh, stop_on_error = 1L), \n",
      "  .             interrupt = function(cond) {\n",
      "  .                 log_debug(\"Interrupt during execution\")\n",
      "  .                 interrupted <<- TRUE\n",
      "  .             }, error = .self$handle_error), tryCatchList(expr, \n",
      "  .             classes, parentenv, handlers), tryCatchOne(tryCatchList(expr, \n",
      "  .             names[-nh], parentenv, handlers[-nh]), names[nh], \n",
      "  .             parentenv, handlers[[nh]]), doTryCatch(return(expr), \n",
      "  .             name, parentenv, handler), tryCatchList(expr, names[-nh], \n",
      "  .             parentenv, handlers[-nh]), tryCatchOne(expr, names, \n",
      "  .             parentenv, handlers[[1L]]), doTryCatch(return(expr), \n",
      "  .             name, parentenv, handler), evaluate(request$content$code, \n",
      "  .             envir = .GlobalEnv, output_handler = oh, stop_on_error = 1L), \n",
      "  .         evaluate_call(expr, parsed$src[[i]], envir = envir, enclos = enclos, \n",
      "  .             debug = debug, last = i == length(out), use_try = stop_on_error != \n",
      "  .                 2L, keep_warning = keep_warning, keep_message = keep_message, \n",
      "  .             output_handler = output_handler, include_timing = include_timing), \n",
      "  .         handle(pv <- withCallingHandlers(withVisible(value_fun(ev$value, \n",
      "  .             ev$visible)), warning = wHandler, error = eHandler, \n",
      "  .             message = mHandler)), try(f, silent = TRUE), tryCatch(expr, \n",
      "  .             error = function(e) {\n",
      "  .                 call <- conditionCall(e)\n",
      "  .                 if (!is.null(call)) {\n",
      "  .                   if (identical(call[[1L]], quote(doTryCatch))) \n",
      "  .                     call <- sys.call(-4L)\n",
      "  .                   dcall <- deparse(call)[1L]\n",
      "  .                   prefix <- paste(\"Error in\", dcall, \": \")\n",
      "  .                   LONG <- 75L\n",
      "  .                   sm <- strsplit(conditionMessage(e), \"\\n\")[[1L]]\n",
      "  .                   w <- 14L + nchar(dcall, type = \"w\") + nchar(sm[1L], \n",
      "  .                     type = \"w\")\n",
      "  .                   if (is.na(w)) \n",
      "  .                     w <- 14L + nchar(dcall, type = \"b\") + nchar(sm[1L], \n",
      "  .                       type = \"b\")\n",
      "  .                   if (w > LONG) \n",
      "  .                     prefix <- paste0(prefix, \"\\n  \")\n",
      "  .                 }\n",
      "  .                 else prefix <- \"Error : \"\n",
      "  .                 msg <- paste0(prefix, conditionMessage(e), \"\\n\")\n",
      "  .                 .Internal(seterrmessage(msg[1L]))\n",
      "  .                 if (!silent && isTRUE(getOption(\"show.error.messages\"))) {\n",
      "  .                   cat(msg, file = outFile)\n",
      "  .                   .Internal(printDeferredWarnings())\n",
      "  .                 }\n",
      "  .                 invisible(structure(msg, class = \"try-error\", \n",
      "  .                   condition = e))\n",
      "  .             }), tryCatchList(expr, classes, parentenv, handlers), \n",
      "  .         tryCatchOne(expr, names, parentenv, handlers[[1L]]), \n",
      "  .         doTryCatch(return(expr), name, parentenv, handler), withCallingHandlers(withVisible(value_fun(ev$value, \n",
      "  .             ev$visible)), warning = wHandler, error = eHandler, \n",
      "  .             message = mHandler), withVisible(value_fun(ev$value, \n",
      "  .             ev$visible)), value_fun(ev$value, ev$visible), prepare_mimebundle_kernel(obj, \n",
      "  .             .self$handle_display_error), prepare_mimebundle(obj, \n",
      "  .             \"text/plain\", error_handler = handle_display_error), \n",
      "  .         filter_map(mimetypes, function(mime) {\n",
      "  .             tryCatch(withCallingHandlers({\n",
      "  .                 if (!mime %in% names(repr::mime2repr)) \n",
      "  .                   stop(\"No repr_* for mimetype \", mime, \" in repr::mime2repr\")\n",
      "  .                 rpr <- repr::mime2repr[[mime]](obj)\n",
      "  .                 if (is.null(rpr)) \n",
      "  .                   return(NULL)\n",
      "  .                 prepare_content(is.raw(rpr), rpr)\n",
      "  .             }, error = error_handler), error = outer_handler)\n",
      "  .         }), Filter(Negate(is.null), sapply(x, f, simplify = simplify)), \n",
      "  .         unlist(lapply(x, f)), lapply(x, f), sapply(x, f, simplify = simplify), \n",
      "  .         lapply(X = X, FUN = FUN, ...), FUN(X[[i]], ...), tryCatch(withCallingHandlers({\n",
      "  .             if (!mime %in% names(repr::mime2repr)) \n",
      "  .                 stop(\"No repr_* for mimetype \", mime, \" in repr::mime2repr\")\n",
      "  .             rpr <- repr::mime2repr[[mime]](obj)\n",
      "  .             if (is.null(rpr)) \n",
      "  .                 return(NULL)\n",
      "  .             prepare_content(is.raw(rpr), rpr)\n",
      "  .         }, error = error_handler), error = outer_handler), tryCatchList(expr, \n",
      "  .             classes, parentenv, handlers), tryCatchOne(expr, \n",
      "  .             names, parentenv, handlers[[1L]]), doTryCatch(return(expr), \n",
      "  .             name, parentenv, handler), withCallingHandlers({\n",
      "  .             if (!mime %in% names(repr::mime2repr)) \n",
      "  .                 stop(\"No repr_* for mimetype \", mime, \" in repr::mime2repr\")\n",
      "  .             rpr <- repr::mime2repr[[mime]](obj)\n",
      "  .             if (is.null(rpr)) \n",
      "  .                 return(NULL)\n",
      "  .             prepare_content(is.raw(rpr), rpr)\n",
      "  .         }, error = error_handler), repr::mime2repr[[mime]](obj), \n",
      "  .         repr_text.default(obj), paste(capture.output(print(obj)), \n",
      "  .             collapse = \"\\n\"), capture.output(print(obj)), evalVis(expr), \n",
      "  .         withVisible(eval(expr, pf)), eval(expr, pf), eval(expr, \n",
      "  .             pf), print(obj), print.ggplot(obj), ggplot_build(x), \n",
      "  .         ggplot_build.ggplot(x), by_layer(function(l, d) l$compute_statistic(d, \n",
      "  .             layout), layers, data, \"computing stat\"), try_fetch(for (i in seq_along(data)) {\n",
      "  .             out[[i]] <- f(l = layers[[i]], d = data[[i]])\n",
      "  .         }, error = function(cnd) {\n",
      "  .             cli::cli_abort(c(\"Problem while {step}.\", i = \"Error occurred in the {ordinal(i)} layer.\"), \n",
      "  .                 call = layers[[i]]$constructor, parent = cnd)\n",
      "  .         }), tryCatch(withCallingHandlers(expr, error = function(cnd) {\n",
      "  .             {\n",
      "  .                 .__handler_frame__. <- TRUE\n",
      "  .                 .__setup_frame__. <- frame\n",
      "  .             }\n",
      "  .             out <- handlers[[1L]](cnd)\n",
      "  .             if (!inherits(out, \"rlang_zap\")) \n",
      "  .                 throw(out)\n",
      "  .         }), stackOverflowError = handlers[[1L]]), tryCatchList(expr, \n",
      "  .             classes, parentenv, handlers), tryCatchOne(expr, \n",
      "  .             names, parentenv, handlers[[1L]]), doTryCatch(return(expr), \n",
      "  .             name, parentenv, handler), withCallingHandlers(expr, \n",
      "  .             error = function(cnd) {\n",
      "  .                 {\n",
      "  .                   .__handler_frame__. <- TRUE\n",
      "  .                   .__setup_frame__. <- frame\n",
      "  .                 }\n",
      "  .                 out <- handlers[[1L]](cnd)\n",
      "  .                 if (!inherits(out, \"rlang_zap\")) \n",
      "  .                   throw(out)\n",
      "  .             }), f(l = layers[[i]], d = data[[i]]), l$compute_statistic(d, \n",
      "  .             layout), compute_statistic(..., self = self), self$stat$compute_layer(data, \n",
      "  .             self$computed_stat_params, layout), compute_layer(..., \n",
      "  .             self = self), check_required_aesthetics(self$required_aes, \n",
      "  .             c(names(data), names(params)), snake_class(self)), \n",
      "  .         cli::cli_abort(message, call = call), rlang::abort(message, \n",
      "  .             ..., call = call, use_cli_format = TRUE, .frame = .frame)), \n",
      "  .         parent = c(0L, 1L, 2L, 3L, 4L, 5L, 6L, 7L, 6L, 9L, 10L, \n",
      "  .         4L, 12L, 13L, 14L, 15L, 16L, 17L, 18L, 13L, 13L, 13L, \n",
      "  .         22L, 23L, 24L, 25L, 26L, 26L, 25L, 29L, 30L, 31L, 32L, \n",
      "  .         33L, 34L, 31L, 31L, 31L, 38L, 38L, 40L, 41L, 41L, 43L, \n",
      "  .         38L, 38L, 46L, 46L, 48L, 49L, 50L, 51L, 52L, 53L, 50L, \n",
      "  .         49L, 56L, 57L, 58L, 59L, 60L, 61L, 62L), visible = c(TRUE, \n",
      "  .         TRUE, TRUE, TRUE, TRUE, TRUE, TRUE, TRUE, TRUE, TRUE, \n",
      "  .         TRUE, TRUE, TRUE, TRUE, TRUE, TRUE, TRUE, TRUE, TRUE, \n",
      "  .         TRUE, TRUE, TRUE, TRUE, TRUE, TRUE, TRUE, TRUE, TRUE, \n",
      "  .         TRUE, TRUE, TRUE, TRUE, TRUE, TRUE, TRUE, TRUE, TRUE, \n",
      "  .         TRUE, TRUE, TRUE, TRUE, TRUE, TRUE, TRUE, TRUE, TRUE, \n",
      "  .         TRUE, TRUE, TRUE, TRUE, TRUE, TRUE, TRUE, TRUE, TRUE, \n",
      "  .         TRUE, TRUE, TRUE, TRUE, TRUE, FALSE, FALSE, FALSE), namespace = c(\"IRkernel\", \n",
      "  .         NA, \"IRkernel\", NA, \"base\", \"base\", \"base\", \"base\", \"base\", \n",
      "  .         \"base\", \"base\", \"evaluate\", \"evaluate\", \"evaluate\", \"base\", \n",
      "  .         \"base\", \"base\", \"base\", \"base\", \"base\", \"base\", \"IRkernel\", \n",
      "  .         \"IRkernel\", \"IRdisplay\", \"IRdisplay\", \"base\", \"base\", \n",
      "  .         \"base\", \"base\", \"base\", \"IRdisplay\", \"base\", \"base\", \n",
      "  .         \"base\", \"base\", \"base\", NA, \"repr\", \"base\", \"utils\", \n",
      "  .         \"utils\", \"base\", \"base\", \"base\", \"base\", \"ggplot2\", \"ggplot2\", \n",
      "  .         \"ggplot2\", \"ggplot2\", \"rlang\", \"base\", \"base\", \"base\", \n",
      "  .         \"base\", \"base\", \"ggplot2\", NA, \"ggplot2\", NA, \"ggplot2\", \n",
      "  .         \"ggplot2\", \"cli\", \"rlang\"), scope = c(\"::\", NA, \"local\", \n",
      "  .         NA, \"::\", \"local\", \"local\", \"local\", \"local\", \"local\", \n",
      "  .         \"local\", \"::\", \":::\", \"local\", \"::\", \"::\", \"local\", \"local\", \n",
      "  .         \"local\", \"::\", \"::\", \"local\", \":::\", \"::\", \":::\", \"::\", \n",
      "  .         \"::\", \"::\", \"::\", \"::\", \"local\", \"::\", \"local\", \"local\", \n",
      "  .         \"local\", \"::\", NA, \":::\", \"::\", \"::\", \"local\", \"::\", \n",
      "  .         \"::\", \"::\", \"::\", \":::\", \"::\", \":::\", \":::\", \"::\", \"::\", \n",
      "  .         \"local\", \"local\", \"local\", \"::\", \"local\", NA, \"local\", \n",
      "  .         NA, \"local\", \":::\", \"::\", \"::\"), error_frame = c(FALSE, \n",
      "  .         FALSE, FALSE, FALSE, FALSE, FALSE, FALSE, FALSE, FALSE, \n",
      "  .         FALSE, FALSE, FALSE, FALSE, FALSE, FALSE, FALSE, FALSE, \n",
      "  .         FALSE, FALSE, FALSE, FALSE, FALSE, FALSE, FALSE, FALSE, \n",
      "  .         FALSE, FALSE, FALSE, FALSE, FALSE, FALSE, FALSE, FALSE, \n",
      "  .         FALSE, FALSE, FALSE, FALSE, FALSE, FALSE, FALSE, FALSE, \n",
      "  .         FALSE, FALSE, FALSE, FALSE, FALSE, FALSE, FALSE, FALSE, \n",
      "  .         FALSE, FALSE, FALSE, FALSE, FALSE, FALSE, FALSE, FALSE, \n",
      "  .         FALSE, FALSE, TRUE, FALSE, FALSE, FALSE)), row.names = c(NA, \n",
      "  .     -63L), version = 2L, class = c(\"rlang_trace\", \"rlib_trace\", \n",
      "  .     \"tbl\", \"data.frame\")), parent = NULL, call = compute_layer(..., \n",
      "  .         self = self), use_cli_format = TRUE), class = c(\"rlang_error\", \n",
      "  . \"error\", \"condition\")))\n",
      "36. handlers[[1L]](cnd)\n",
      "37. cli::cli_abort(c(\"Problem while {step}.\", i = \"Error occurred in the {ordinal(i)} layer.\"), \n",
      "  .     call = layers[[i]]$constructor, parent = cnd)\n",
      "38. rlang::abort(message, ..., call = call, use_cli_format = TRUE, \n",
      "  .     .frame = .frame)\n",
      "39. signal_abort(cnd, .file)\n"
     ]
    }
   ],
   "source": [
    "ggplot(data = head(unique_deps_across_versions, 1000), aes(x = year)) +\n",
    "    geom_area(aes(fill = composite_constraint_typeFact), position=\"fill\") +\n",
    "    scale_x_discrete()"
   ]
  },
  {
   "attachments": {},
   "cell_type": "markdown",
   "metadata": {},
   "source": [
    "# Make plots!"
   ]
  },
  {
   "cell_type": "code",
   "execution_count": 8,
   "metadata": {
    "vscode": {
     "languageId": "r"
    }
   },
   "outputs": [
    {
     "data": {
      "image/png": "[encoded data removed]",
      "text/plain": [
       "plot without title"
      ]
     },
     "metadata": {
      "image/png": {
       "height": 420,
       "width": 420
      }
     },
     "output_type": "display_data"
    }
   ],
   "source": [
    "# Takes about 20 seconds\n",
    "ggplot(data = unique_deps_across_versions, aes(x = composite_constraint_typeFact, fill=dep_type)) +\n",
    "    geom_bar()"
   ]
  },
  {
   "attachments": {},
   "cell_type": "markdown",
   "metadata": {},
   "source": [
    "### What proportion of each package's dependency are each type?"
   ]
  },
  {
   "cell_type": "code",
   "execution_count": 9,
   "metadata": {
    "vscode": {
     "languageId": "r"
    }
   },
   "outputs": [
    {
     "name": "stderr",
     "output_type": "stream",
     "text": [
      "\u001b[1m\u001b[22m`summarise()` has grouped output by 'package_id'. You can override using the\n",
      "`.groups` argument.\n"
     ]
    }
   ],
   "source": [
    "# creates a data frame with one row per package, and columns for count of each update type\n",
    "# constraintCountsByPackage <- \n",
    "total_unqiue_deps <- unique_deps_across_versions %>%\n",
    "    group_by(package_id,composite_constraint_typeFact) %>%\n",
    "    summarise(\n",
    "        count = n()\n",
    "    ) %>%\n",
    "    group_by(package_id) %>%\n",
    "    summarise(\n",
    "        total = sum(count),\n",
    "    )\n"
   ]
  },
  {
   "cell_type": "code",
   "execution_count": 10,
   "metadata": {
    "vscode": {
     "languageId": "r"
    }
   },
   "outputs": [
    {
     "data": {
      "text/html": [
       "<table class=\"dataframe\">\n",
       "<caption>A tibble: 6 × 2</caption>\n",
       "<thead>\n",
       "\t<tr><th scope=col>package_id</th><th scope=col>total</th></tr>\n",
       "\t<tr><th scope=col>&lt;int64&gt;</th><th scope=col>&lt;int&gt;</th></tr>\n",
       "</thead>\n",
       "<tbody>\n",
       "\t<tr><td>335</td><td> 53</td></tr>\n",
       "\t<tr><td>336</td><td> 33</td></tr>\n",
       "\t<tr><td>337</td><td>  6</td></tr>\n",
       "\t<tr><td>339</td><td>106</td></tr>\n",
       "\t<tr><td>340</td><td>134</td></tr>\n",
       "\t<tr><td>341</td><td> 98</td></tr>\n",
       "</tbody>\n",
       "</table>\n"
      ],
      "text/latex": [
       "A tibble: 6 × 2\n",
       "\\begin{tabular}{ll}\n",
       " package\\_id & total\\\\\n",
       " <int64> & <int>\\\\\n",
       "\\hline\n",
       "\t 335 &  53\\\\\n",
       "\t 336 &  33\\\\\n",
       "\t 337 &   6\\\\\n",
       "\t 339 & 106\\\\\n",
       "\t 340 & 134\\\\\n",
       "\t 341 &  98\\\\\n",
       "\\end{tabular}\n"
      ],
      "text/markdown": [
       "\n",
       "A tibble: 6 × 2\n",
       "\n",
       "| package_id &lt;int64&gt; | total &lt;int&gt; |\n",
       "|---|---|\n",
       "| 335 |  53 |\n",
       "| 336 |  33 |\n",
       "| 337 |   6 |\n",
       "| 339 | 106 |\n",
       "| 340 | 134 |\n",
       "| 341 |  98 |\n",
       "\n"
      ],
      "text/plain": [
       "  package_id total\n",
       "1 335         53  \n",
       "2 336         33  \n",
       "3 337          6  \n",
       "4 339        106  \n",
       "5 340        134  \n",
       "6 341         98  "
      ]
     },
     "metadata": {},
     "output_type": "display_data"
    }
   ],
   "source": [
    "head(total_unqiue_deps)"
   ]
  },
  {
   "cell_type": "code",
   "execution_count": 11,
   "metadata": {
    "vscode": {
     "languageId": "r"
    }
   },
   "outputs": [
    {
     "name": "stderr",
     "output_type": "stream",
     "text": [
      "\u001b[1m\u001b[22m`summarise()` has grouped output by 'package_id'. You can override using the\n",
      "`.groups` argument.\n"
     ]
    }
   ],
   "source": [
    "constraintCountsByPackageAndDepType <- unique_deps_across_versions %>%\n",
    "    group_by(package_id,composite_constraint_typeFact) %>%\n",
    "    summarise(\n",
    "        count = n()\n",
    "    ) %>%\n",
    "    inner_join(total_unqiue_deps, by=c('package_id')) %>%\n",
    "    mutate(pct = count / total) %>%\n",
    "    pivot_wider(names_from = composite_constraint_typeFact, values_from = c(count, pct), values_fill=0)\n"
   ]
  },
  {
   "cell_type": "code",
   "execution_count": 13,
   "metadata": {
    "vscode": {
     "languageId": "r"
    }
   },
   "outputs": [
    {
     "data": {
      "image/png": "[encoded data removed]",
      "text/plain": [
       "plot without title"
      ]
     },
     "metadata": {
      "image/png": {
       "height": 420,
       "width": 420
      }
     },
     "output_type": "display_data"
    }
   ],
   "source": [
    "# box plots of the percentage of updates that are each type\n",
    "ggplot(data = constraintCountsByPackageAndDepType %>% pivot_longer(cols=starts_with(\"pct\"), names_to=\"constraint_type\", values_to=\"val\"), aes(x = constraint_type, y = val)) +\n",
    "    geom_boxplot() +\n",
    "    #sets the labels for the x-axis:\n",
    "    # scale_x_discrete(labels=c(\"bug\", \"major\", \"minor\", \"zero\")) +\n",
    "    # scale_y_continuous(labels = scales::percent) + \n",
    "    #sets the title of the plot\n",
    "    labs(title = \"Percentage of updates that are each type\")"
   ]
  },
  {
   "cell_type": "code",
   "execution_count": null,
   "metadata": {
    "vscode": {
     "languageId": "r"
    }
   },
   "outputs": [
    {
     "data": {
      "text/html": [
       "<table class=\"dataframe\">\n",
       "<caption>A tibble: 6 × 10</caption>\n",
       "<thead>\n",
       "\t<tr><th scope=col>package_id</th><th scope=col>major</th><th scope=col>minor</th><th scope=col>bug</th><th scope=col>none</th><th scope=col>total</th><th scope=col>majorPct</th><th scope=col>minorPct</th><th scope=col>bugPct</th><th scope=col>nonePct</th></tr>\n",
       "\t<tr><th scope=col>&lt;int64&gt;</th><th scope=col>&lt;int&gt;</th><th scope=col>&lt;int&gt;</th><th scope=col>&lt;int&gt;</th><th scope=col>&lt;int&gt;</th><th scope=col>&lt;int&gt;</th><th scope=col>&lt;dbl&gt;</th><th scope=col>&lt;dbl&gt;</th><th scope=col>&lt;dbl&gt;</th><th scope=col>&lt;dbl&gt;</th></tr>\n",
       "</thead>\n",
       "<tbody>\n",
       "\t<tr><td> 335</td><td>12</td><td>182</td><td>150</td><td>0</td><td>344</td><td>0.03488372</td><td>0.5290698</td><td>0.4360465</td><td>0</td></tr>\n",
       "\t<tr><td> 336</td><td> 0</td><td>  0</td><td>  2</td><td>0</td><td>  3</td><td>0.00000000</td><td>0.0000000</td><td>0.6666667</td><td>0</td></tr>\n",
       "\t<tr><td> 337</td><td> 0</td><td>  0</td><td>  1</td><td>0</td><td>  1</td><td>0.00000000</td><td>0.0000000</td><td>1.0000000</td><td>0</td></tr>\n",
       "\t<tr><td> 341</td><td>18</td><td>233</td><td>384</td><td>0</td><td>635</td><td>0.02834646</td><td>0.3669291</td><td>0.6047244</td><td>0</td></tr>\n",
       "\t<tr><td> 488</td><td> 1</td><td>  0</td><td>  1</td><td>0</td><td>  2</td><td>0.50000000</td><td>0.0000000</td><td>0.5000000</td><td>0</td></tr>\n",
       "\t<tr><td>2580</td><td> 0</td><td>  1</td><td>  2</td><td>0</td><td>  3</td><td>0.00000000</td><td>0.3333333</td><td>0.6666667</td><td>0</td></tr>\n",
       "</tbody>\n",
       "</table>\n"
      ],
      "text/latex": [
       "A tibble: 6 × 10\n",
       "\\begin{tabular}{llllllllll}\n",
       " package\\_id & major & minor & bug & none & total & majorPct & minorPct & bugPct & nonePct\\\\\n",
       " <int64> & <int> & <int> & <int> & <int> & <int> & <dbl> & <dbl> & <dbl> & <dbl>\\\\\n",
       "\\hline\n",
       "\t  335 & 12 & 182 & 150 & 0 & 344 & 0.03488372 & 0.5290698 & 0.4360465 & 0\\\\\n",
       "\t  336 &  0 &   0 &   2 & 0 &   3 & 0.00000000 & 0.0000000 & 0.6666667 & 0\\\\\n",
       "\t  337 &  0 &   0 &   1 & 0 &   1 & 0.00000000 & 0.0000000 & 1.0000000 & 0\\\\\n",
       "\t  341 & 18 & 233 & 384 & 0 & 635 & 0.02834646 & 0.3669291 & 0.6047244 & 0\\\\\n",
       "\t  488 &  1 &   0 &   1 & 0 &   2 & 0.50000000 & 0.0000000 & 0.5000000 & 0\\\\\n",
       "\t 2580 &  0 &   1 &   2 & 0 &   3 & 0.00000000 & 0.3333333 & 0.6666667 & 0\\\\\n",
       "\\end{tabular}\n"
      ],
      "text/markdown": [
       "\n",
       "A tibble: 6 × 10\n",
       "\n",
       "| package_id &lt;int64&gt; | major &lt;int&gt; | minor &lt;int&gt; | bug &lt;int&gt; | none &lt;int&gt; | total &lt;int&gt; | majorPct &lt;dbl&gt; | minorPct &lt;dbl&gt; | bugPct &lt;dbl&gt; | nonePct &lt;dbl&gt; |\n",
       "|---|---|---|---|---|---|---|---|---|---|\n",
       "|  335 | 12 | 182 | 150 | 0 | 344 | 0.03488372 | 0.5290698 | 0.4360465 | 0 |\n",
       "|  336 |  0 |   0 |   2 | 0 |   3 | 0.00000000 | 0.0000000 | 0.6666667 | 0 |\n",
       "|  337 |  0 |   0 |   1 | 0 |   1 | 0.00000000 | 0.0000000 | 1.0000000 | 0 |\n",
       "|  341 | 18 | 233 | 384 | 0 | 635 | 0.02834646 | 0.3669291 | 0.6047244 | 0 |\n",
       "|  488 |  1 |   0 |   1 | 0 |   2 | 0.50000000 | 0.0000000 | 0.5000000 | 0 |\n",
       "| 2580 |  0 |   1 |   2 | 0 |   3 | 0.00000000 | 0.3333333 | 0.6666667 | 0 |\n",
       "\n"
      ],
      "text/plain": [
       "  package_id major minor bug none total majorPct   minorPct  bugPct    nonePct\n",
       "1  335       12    182   150 0    344   0.03488372 0.5290698 0.4360465 0      \n",
       "2  336        0      0     2 0      3   0.00000000 0.0000000 0.6666667 0      \n",
       "3  337        0      0     1 0      1   0.00000000 0.0000000 1.0000000 0      \n",
       "4  341       18    233   384 0    635   0.02834646 0.3669291 0.6047244 0      \n",
       "5  488        1      0     1 0      2   0.50000000 0.0000000 0.5000000 0      \n",
       "6 2580        0      1     2 0      3   0.00000000 0.3333333 0.6666667 0      "
      ]
     },
     "metadata": {},
     "output_type": "display_data"
    }
   ],
   "source": []
  },
  {
   "cell_type": "code",
   "execution_count": null,
   "metadata": {
    "vscode": {
     "languageId": "r"
    }
   },
   "outputs": [],
   "source": []
  }
 ],
 "metadata": {
  "kernelspec": {
   "display_name": "R",
   "language": "R",
   "name": "ir"
  },
  "language_info": {
   "codemirror_mode": "r",
   "file_extension": ".r",
   "mimetype": "text/x-r-source",
   "name": "R",
   "pygments_lexer": "r",
   "version": "3.6.3"
  },
  "orig_nbformat": 4
 },
 "nbformat": 4,
 "nbformat_minor": 2
}
