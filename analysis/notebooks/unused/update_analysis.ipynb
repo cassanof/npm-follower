{
 "cells": [
  {
   "attachments": {},
   "cell_type": "markdown",
   "metadata": {},
   "source": [
    "# Load Libraries"
   ]
  },
  {
   "cell_type": "code",
   "execution_count": 1,
   "metadata": {
    "vscode": {
     "languageId": "r"
    }
   },
   "outputs": [],
   "source": [
    "# Install RPostgres if needed:\n",
    "#install.packages(\"RPostgres\")\n",
    "#install.packages(\"tidyverse\")"
   ]
  },
  {
   "cell_type": "code",
   "execution_count": 2,
   "metadata": {
    "vscode": {
     "languageId": "r"
    }
   },
   "outputs": [
    {
     "name": "stderr",
     "output_type": "stream",
     "text": [
      "\n",
      "Attaching package: ‘dplyr’\n",
      "\n",
      "\n",
      "The following objects are masked from ‘package:stats’:\n",
      "\n",
      "    filter, lag\n",
      "\n",
      "\n",
      "The following objects are masked from ‘package:base’:\n",
      "\n",
      "    intersect, setdiff, setequal, union\n",
      "\n",
      "\n"
     ]
    }
   ],
   "source": [
    "library(DBI)\n",
    "library(ggplot2)\n",
    "library(dplyr)"
   ]
  },
  {
   "attachments": {},
   "cell_type": "markdown",
   "metadata": {},
   "source": [
    "# Connect to DB, load data, clean data"
   ]
  },
  {
   "cell_type": "code",
   "execution_count": 7,
   "metadata": {
    "vscode": {
     "languageId": "r"
    }
   },
   "outputs": [],
   "source": [
    "con <- dbConnect(\n",
    "    RPostgres::Postgres(),\n",
    "    dbname = 'npm_data', \n",
    "    user = 'data_analyzer',\n",
    ")"
   ]
  },
  {
   "cell_type": "code",
   "execution_count": 8,
   "metadata": {
    "vscode": {
     "languageId": "r"
    }
   },
   "outputs": [],
   "source": [
    "# This takes about 40 seconds to load (when running on the VM!), and takes about 4GB of memory\n",
    "all_updates <- dbGetQuery(con, \"\n",
    "    SELECT \n",
    "        package_id, \n",
    "        from_id, \n",
    "        to_id, \n",
    "        (from_semver).major AS from_semver_major, \n",
    "        (from_semver).minor AS from_semver_minor, \n",
    "        (from_semver).bug AS from_semver_bug,\n",
    "        (to_semver).major AS to_semver_major, \n",
    "        (to_semver).minor AS to_semver_minor, \n",
    "        (to_semver).bug AS to_semver_bug,\n",
    "        from_created,\n",
    "        to_created,\n",
    "        ty\n",
    "    FROM analysis.all_updates\n",
    "\")"
   ]
  },
  {
   "cell_type": "code",
   "execution_count": 9,
   "metadata": {
    "vscode": {
     "languageId": "r"
    }
   },
   "outputs": [],
   "source": [
    "all_updates$ty <- sapply(all_updates$ty, as.character)"
   ]
  },
  {
   "cell_type": "code",
   "execution_count": 12,
   "metadata": {
    "vscode": {
     "languageId": "r"
    }
   },
   "outputs": [
    {
     "data": {
      "text/html": [
       "<table class=\"dataframe\">\n",
       "<caption>A data.frame: 6 × 12</caption>\n",
       "<thead>\n",
       "\t<tr><th></th><th scope=col>package_id</th><th scope=col>from_id</th><th scope=col>to_id</th><th scope=col>from_semver_major</th><th scope=col>from_semver_minor</th><th scope=col>from_semver_bug</th><th scope=col>to_semver_major</th><th scope=col>to_semver_minor</th><th scope=col>to_semver_bug</th><th scope=col>from_created</th><th scope=col>to_created</th><th scope=col>ty</th></tr>\n",
       "\t<tr><th></th><th scope=col>&lt;int64&gt;</th><th scope=col>&lt;int64&gt;</th><th scope=col>&lt;int64&gt;</th><th scope=col>&lt;int64&gt;</th><th scope=col>&lt;int64&gt;</th><th scope=col>&lt;int64&gt;</th><th scope=col>&lt;int64&gt;</th><th scope=col>&lt;int64&gt;</th><th scope=col>&lt;int64&gt;</th><th scope=col>&lt;dttm&gt;</th><th scope=col>&lt;dttm&gt;</th><th scope=col>&lt;chr&gt;</th></tr>\n",
       "</thead>\n",
       "<tbody>\n",
       "\t<tr><th scope=row>1</th><td>335</td><td>1</td><td>2</td><td>1</td><td>0</td><td>2</td><td>1</td><td>2</td><td>0</td><td>2016-12-10 03:59:44</td><td>2016-12-10 06:28:00</td><td>minor</td></tr>\n",
       "\t<tr><th scope=row>2</th><td>335</td><td>2</td><td>3</td><td>1</td><td>2</td><td>0</td><td>1</td><td>2</td><td>1</td><td>2016-12-10 06:28:00</td><td>2016-12-10 16:48:25</td><td>bug  </td></tr>\n",
       "\t<tr><th scope=row>3</th><td>335</td><td>3</td><td>4</td><td>1</td><td>2</td><td>1</td><td>1</td><td>2</td><td>2</td><td>2016-12-10 16:48:25</td><td>2016-12-10 16:50:43</td><td>bug  </td></tr>\n",
       "\t<tr><th scope=row>4</th><td>335</td><td>4</td><td>5</td><td>1</td><td>2</td><td>2</td><td>1</td><td>2</td><td>3</td><td>2016-12-10 16:50:43</td><td>2016-12-10 17:03:01</td><td>bug  </td></tr>\n",
       "\t<tr><th scope=row>5</th><td>335</td><td>5</td><td>6</td><td>1</td><td>2</td><td>3</td><td>1</td><td>3</td><td>0</td><td>2016-12-10 17:03:01</td><td>2016-12-10 19:07:46</td><td>minor</td></tr>\n",
       "\t<tr><th scope=row>6</th><td>335</td><td>6</td><td>7</td><td>1</td><td>3</td><td>0</td><td>1</td><td>4</td><td>0</td><td>2016-12-10 19:07:46</td><td>2016-12-10 19:59:41</td><td>minor</td></tr>\n",
       "</tbody>\n",
       "</table>\n"
      ],
      "text/latex": [
       "A data.frame: 6 × 12\n",
       "\\begin{tabular}{r|llllllllllll}\n",
       "  & package\\_id & from\\_id & to\\_id & from\\_semver\\_major & from\\_semver\\_minor & from\\_semver\\_bug & to\\_semver\\_major & to\\_semver\\_minor & to\\_semver\\_bug & from\\_created & to\\_created & ty\\\\\n",
       "  & <int64> & <int64> & <int64> & <int64> & <int64> & <int64> & <int64> & <int64> & <int64> & <dttm> & <dttm> & <chr>\\\\\n",
       "\\hline\n",
       "\t1 & 335 & 1 & 2 & 1 & 0 & 2 & 1 & 2 & 0 & 2016-12-10 03:59:44 & 2016-12-10 06:28:00 & minor\\\\\n",
       "\t2 & 335 & 2 & 3 & 1 & 2 & 0 & 1 & 2 & 1 & 2016-12-10 06:28:00 & 2016-12-10 16:48:25 & bug  \\\\\n",
       "\t3 & 335 & 3 & 4 & 1 & 2 & 1 & 1 & 2 & 2 & 2016-12-10 16:48:25 & 2016-12-10 16:50:43 & bug  \\\\\n",
       "\t4 & 335 & 4 & 5 & 1 & 2 & 2 & 1 & 2 & 3 & 2016-12-10 16:50:43 & 2016-12-10 17:03:01 & bug  \\\\\n",
       "\t5 & 335 & 5 & 6 & 1 & 2 & 3 & 1 & 3 & 0 & 2016-12-10 17:03:01 & 2016-12-10 19:07:46 & minor\\\\\n",
       "\t6 & 335 & 6 & 7 & 1 & 3 & 0 & 1 & 4 & 0 & 2016-12-10 19:07:46 & 2016-12-10 19:59:41 & minor\\\\\n",
       "\\end{tabular}\n"
      ],
      "text/markdown": [
       "\n",
       "A data.frame: 6 × 12\n",
       "\n",
       "| <!--/--> | package_id &lt;int64&gt; | from_id &lt;int64&gt; | to_id &lt;int64&gt; | from_semver_major &lt;int64&gt; | from_semver_minor &lt;int64&gt; | from_semver_bug &lt;int64&gt; | to_semver_major &lt;int64&gt; | to_semver_minor &lt;int64&gt; | to_semver_bug &lt;int64&gt; | from_created &lt;dttm&gt; | to_created &lt;dttm&gt; | ty &lt;chr&gt; |\n",
       "|---|---|---|---|---|---|---|---|---|---|---|---|---|\n",
       "| 1 | 335 | 1 | 2 | 1 | 0 | 2 | 1 | 2 | 0 | 2016-12-10 03:59:44 | 2016-12-10 06:28:00 | minor |\n",
       "| 2 | 335 | 2 | 3 | 1 | 2 | 0 | 1 | 2 | 1 | 2016-12-10 06:28:00 | 2016-12-10 16:48:25 | bug   |\n",
       "| 3 | 335 | 3 | 4 | 1 | 2 | 1 | 1 | 2 | 2 | 2016-12-10 16:48:25 | 2016-12-10 16:50:43 | bug   |\n",
       "| 4 | 335 | 4 | 5 | 1 | 2 | 2 | 1 | 2 | 3 | 2016-12-10 16:50:43 | 2016-12-10 17:03:01 | bug   |\n",
       "| 5 | 335 | 5 | 6 | 1 | 2 | 3 | 1 | 3 | 0 | 2016-12-10 17:03:01 | 2016-12-10 19:07:46 | minor |\n",
       "| 6 | 335 | 6 | 7 | 1 | 3 | 0 | 1 | 4 | 0 | 2016-12-10 19:07:46 | 2016-12-10 19:59:41 | minor |\n",
       "\n"
      ],
      "text/plain": [
       "  package_id from_id to_id from_semver_major from_semver_minor from_semver_bug\n",
       "1 335        1       2     1                 0                 2              \n",
       "2 335        2       3     1                 2                 0              \n",
       "3 335        3       4     1                 2                 1              \n",
       "4 335        4       5     1                 2                 2              \n",
       "5 335        5       6     1                 2                 3              \n",
       "6 335        6       7     1                 3                 0              \n",
       "  to_semver_major to_semver_minor to_semver_bug from_created       \n",
       "1 1               2               0             2016-12-10 03:59:44\n",
       "2 1               2               1             2016-12-10 06:28:00\n",
       "3 1               2               2             2016-12-10 16:48:25\n",
       "4 1               2               3             2016-12-10 16:50:43\n",
       "5 1               3               0             2016-12-10 17:03:01\n",
       "6 1               4               0             2016-12-10 19:07:46\n",
       "  to_created          ty   \n",
       "1 2016-12-10 06:28:00 minor\n",
       "2 2016-12-10 16:48:25 bug  \n",
       "3 2016-12-10 16:50:43 bug  \n",
       "4 2016-12-10 17:03:01 bug  \n",
       "5 2016-12-10 19:07:46 minor\n",
       "6 2016-12-10 19:59:41 minor"
      ]
     },
     "metadata": {},
     "output_type": "display_data"
    }
   ],
   "source": [
    "head(all_updates)"
   ]
  },
  {
   "attachments": {},
   "cell_type": "markdown",
   "metadata": {},
   "source": [
    "# Make plots!"
   ]
  },
  {
   "cell_type": "code",
   "execution_count": 11,
   "metadata": {
    "vscode": {
     "languageId": "r"
    }
   },
   "outputs": [
    {
     "data": {
      "image/png": "[encoded data removed]",
      "text/plain": [
       "plot without title"
      ]
     },
     "metadata": {
      "image/png": {
       "height": 420,
       "width": 420
      }
     },
     "output_type": "display_data"
    }
   ],
   "source": [
    "# Takes about 20 seconds\n",
    "ggplot(data = all_updates, aes(x = ty)) +\n",
    "    geom_bar()"
   ]
  },
  {
   "cell_type": "code",
   "execution_count": null,
   "metadata": {
    "vscode": {
     "languageId": "r"
    }
   },
   "outputs": [],
   "source": []
  }
 ],
 "metadata": {
  "kernelspec": {
   "display_name": "R",
   "language": "R",
   "name": "ir"
  },
  "language_info": {
   "codemirror_mode": "r",
   "file_extension": ".r",
   "mimetype": "text/x-r-source",
   "name": "R",
   "pygments_lexer": "r",
   "version": "3.6.3"
  },
  "orig_nbformat": 4
 },
 "nbformat": 4,
 "nbformat_minor": 2
}
