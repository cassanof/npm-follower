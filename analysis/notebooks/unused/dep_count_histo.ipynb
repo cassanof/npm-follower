{
 "cells": [
  {
   "cell_type": "markdown",
   "metadata": {},
   "source": [
    "# Load Libraries"
   ]
  },
  {
   "cell_type": "code",
   "execution_count": 2,
   "metadata": {
    "vscode": {
     "languageId": "r"
    }
   },
   "outputs": [
    {
     "name": "stderr",
     "output_type": "stream",
     "text": [
      "Installing package into ‘/home/elleven/R/x86_64-pc-linux-gnu-library/4.2’\n",
      "(as ‘lib’ is unspecified)\n",
      "\n",
      "Installing package into ‘/home/elleven/R/x86_64-pc-linux-gnu-library/4.2’\n",
      "(as ‘lib’ is unspecified)\n",
      "\n",
      "also installing the dependencies ‘tinytex’, ‘rmarkdown’, ‘reprex’\n",
      "\n",
      "\n"
     ]
    }
   ],
   "source": [
    "# Install RPostgres if needed:\n",
    "#install.packages(\"RPostgres\")\n",
    "#install.packages(\"tidyverse\")"
   ]
  },
  {
   "cell_type": "code",
   "execution_count": 1,
   "metadata": {
    "vscode": {
     "languageId": "r"
    }
   },
   "outputs": [
    {
     "name": "stderr",
     "output_type": "stream",
     "text": [
      "\n",
      "Attaching package: ‘dplyr’\n",
      "\n",
      "\n",
      "The following objects are masked from ‘package:stats’:\n",
      "\n",
      "    filter, lag\n",
      "\n",
      "\n",
      "The following objects are masked from ‘package:base’:\n",
      "\n",
      "    intersect, setdiff, setequal, union\n",
      "\n",
      "\n"
     ]
    }
   ],
   "source": [
    "library(DBI)\n",
    "library(ggplot2)\n",
    "library(dplyr)"
   ]
  },
  {
   "cell_type": "markdown",
   "metadata": {},
   "source": [
    "# Connect to DB, load data, clean data"
   ]
  },
  {
   "cell_type": "code",
   "execution_count": 2,
   "metadata": {
    "vscode": {
     "languageId": "r"
    }
   },
   "outputs": [],
   "source": [
    "con <- dbConnect(\n",
    "    RPostgres::Postgres(),\n",
    "    dbname = 'npm_data', \n",
    "    user = 'federico',\n",
    "    host = '127.0.0.1'\n",
    ")"
   ]
  },
  {
   "cell_type": "code",
   "execution_count": 70,
   "metadata": {
    "vscode": {
     "languageId": "r"
    }
   },
   "outputs": [],
   "source": [
    "num_direct_runtime_deps <- dbGetQuery(con, \"\n",
    "select x from analysis.all_dep_counts where count_type = 'num_direct_runtime_deps'\n",
    "\")"
   ]
  },
  {
   "cell_type": "code",
   "execution_count": 71,
   "metadata": {},
   "outputs": [],
   "source": [
    "num_direct_runtime_deps <- num_direct_runtime_deps$x"
   ]
  },
  {
   "cell_type": "code",
   "execution_count": 72,
   "metadata": {},
   "outputs": [],
   "source": [
    "num_direct_runtime_deps <- table(num_direct_runtime_deps)\n",
    "# cut it off at 200 values\n",
    "num_direct_runtime_deps <- num_direct_runtime_deps[1:200]"
   ]
  },
  {
   "cell_type": "code",
   "execution_count": 73,
   "metadata": {},
   "outputs": [
    {
     "data": {
      "text/plain": [
       "num_direct_runtime_deps\n",
       "      0       1       2       3       4       5       6       7       8       9 \n",
       "1154803  358991  245857  200006  142424   99373   75053   61364   50939   38263 \n",
       "     10      11      12      13      14      15      16      17      18      19 \n",
       "  29758   26297   24246   18839   15368   13051   10868    9105    7697    6731 \n",
       "     20      21      22      23      24      25      26      27      28      29 \n",
       "   6096    5336    4662    4226    3588    3450    2960    2598    2367    2159 \n",
       "     30      31      32      33      34      35      36      37      38      39 \n",
       "   2067    1835    1726    1946    1775    1399    1298    1318    1186    1195 \n",
       "     40      41      42      43      44      45      46      47      48      49 \n",
       "    956     923     820     914     797     684     693     711     778     647 \n",
       "     50      51      52      53      54      55      56      57      58      59 \n",
       "    662     546     521     624     630     554     518     467     375     394 \n",
       "     60      61      62      63      64      65      66      67      68      69 \n",
       "    399     324     322     308     255     260     264     328     227     189 \n",
       "     70      71      72      73      74      75      76      77      78      79 \n",
       "    220     215     194     223     131     155     127     119     102      98 \n",
       "     80      81      82      83      84      85      86      87      88      89 \n",
       "    101     109     132     126      98     103      85      95      78      71 \n",
       "     90      91      92      93      94      95      96      97      98      99 \n",
       "     71      66      56      67      67      59      65      52      51      45 \n",
       "    100     101     102     103     104     105     106     107     108     109 \n",
       "     44      47      35      55      31      41      27      32      24      27 \n",
       "    110     111     112     113     114     115     116     117     118     119 \n",
       "     35      23      21      22      23      27      21      15      20      20 \n",
       "    120     121     122     123     124     125     126     127     128     129 \n",
       "     16      19      28      23      12      18      19      13      16      13 \n",
       "    130     131     132     133     134     135     136     137     138     139 \n",
       "     12      15      10      16      19      10       8       8       9      12 \n",
       "    140     141     142     143     144     145     146     147     148     150 \n",
       "      4       7      12       9       9       4       6      15       4       5 \n",
       "    151     152     153     154     155     156     157     158     159     160 \n",
       "      3       7       6       8       7       9       2       5       7       5 \n",
       "    161     162     163     164     165     166     167     168     169     170 \n",
       "      1       9       4       8       5       5       3       2       4       4 \n",
       "    171     172     173     174     175     176     177     178     179     180 \n",
       "      5       7       2       1       6       2       3       3       7       1 \n",
       "    181     182     183     184     185     186     187     188     189     190 \n",
       "      5       3       4       3       8       1       3       6       7       2 \n",
       "    191     192     193     194     195     196     197     198     199     200 \n",
       "      3       5       6       1       3       5       3       6       1       2 "
      ]
     },
     "metadata": {},
     "output_type": "display_data"
    }
   ],
   "source": [
    "num_direct_runtime_deps[1:200]"
   ]
  },
  {
   "cell_type": "code",
   "execution_count": 74,
   "metadata": {},
   "outputs": [],
   "source": [
    "num_direct_runtime_deps <- as.data.frame(num_direct_runtime_deps)\n",
    "\n",
    "# rename the columns\n",
    "names(num_direct_runtime_deps) <- c('num_direct_runtime_deps', 'count')"
   ]
  },
  {
   "cell_type": "code",
   "execution_count": 75,
   "metadata": {},
   "outputs": [
    {
     "data": {
      "text/html": [
       "<table class=\"dataframe\">\n",
       "<caption>A data.frame: 200 × 2</caption>\n",
       "<thead>\n",
       "\t<tr><th scope=col>num_direct_runtime_deps</th><th scope=col>count</th></tr>\n",
       "\t<tr><th scope=col>&lt;fct&gt;</th><th scope=col>&lt;int&gt;</th></tr>\n",
       "</thead>\n",
       "<tbody>\n",
       "\t<tr><td>0 </td><td>1154803</td></tr>\n",
       "\t<tr><td>1 </td><td> 358991</td></tr>\n",
       "\t<tr><td>2 </td><td> 245857</td></tr>\n",
       "\t<tr><td>3 </td><td> 200006</td></tr>\n",
       "\t<tr><td>4 </td><td> 142424</td></tr>\n",
       "\t<tr><td>5 </td><td>  99373</td></tr>\n",
       "\t<tr><td>6 </td><td>  75053</td></tr>\n",
       "\t<tr><td>7 </td><td>  61364</td></tr>\n",
       "\t<tr><td>8 </td><td>  50939</td></tr>\n",
       "\t<tr><td>9 </td><td>  38263</td></tr>\n",
       "\t<tr><td>10</td><td>  29758</td></tr>\n",
       "\t<tr><td>11</td><td>  26297</td></tr>\n",
       "\t<tr><td>12</td><td>  24246</td></tr>\n",
       "\t<tr><td>13</td><td>  18839</td></tr>\n",
       "\t<tr><td>14</td><td>  15368</td></tr>\n",
       "\t<tr><td>15</td><td>  13051</td></tr>\n",
       "\t<tr><td>16</td><td>  10868</td></tr>\n",
       "\t<tr><td>17</td><td>   9105</td></tr>\n",
       "\t<tr><td>18</td><td>   7697</td></tr>\n",
       "\t<tr><td>19</td><td>   6731</td></tr>\n",
       "\t<tr><td>20</td><td>   6096</td></tr>\n",
       "\t<tr><td>21</td><td>   5336</td></tr>\n",
       "\t<tr><td>22</td><td>   4662</td></tr>\n",
       "\t<tr><td>23</td><td>   4226</td></tr>\n",
       "\t<tr><td>24</td><td>   3588</td></tr>\n",
       "\t<tr><td>25</td><td>   3450</td></tr>\n",
       "\t<tr><td>26</td><td>   2960</td></tr>\n",
       "\t<tr><td>27</td><td>   2598</td></tr>\n",
       "\t<tr><td>28</td><td>   2367</td></tr>\n",
       "\t<tr><td>29</td><td>   2159</td></tr>\n",
       "\t<tr><td>⋮</td><td>⋮</td></tr>\n",
       "\t<tr><td>171</td><td>5</td></tr>\n",
       "\t<tr><td>172</td><td>7</td></tr>\n",
       "\t<tr><td>173</td><td>2</td></tr>\n",
       "\t<tr><td>174</td><td>1</td></tr>\n",
       "\t<tr><td>175</td><td>6</td></tr>\n",
       "\t<tr><td>176</td><td>2</td></tr>\n",
       "\t<tr><td>177</td><td>3</td></tr>\n",
       "\t<tr><td>178</td><td>3</td></tr>\n",
       "\t<tr><td>179</td><td>7</td></tr>\n",
       "\t<tr><td>180</td><td>1</td></tr>\n",
       "\t<tr><td>181</td><td>5</td></tr>\n",
       "\t<tr><td>182</td><td>3</td></tr>\n",
       "\t<tr><td>183</td><td>4</td></tr>\n",
       "\t<tr><td>184</td><td>3</td></tr>\n",
       "\t<tr><td>185</td><td>8</td></tr>\n",
       "\t<tr><td>186</td><td>1</td></tr>\n",
       "\t<tr><td>187</td><td>3</td></tr>\n",
       "\t<tr><td>188</td><td>6</td></tr>\n",
       "\t<tr><td>189</td><td>7</td></tr>\n",
       "\t<tr><td>190</td><td>2</td></tr>\n",
       "\t<tr><td>191</td><td>3</td></tr>\n",
       "\t<tr><td>192</td><td>5</td></tr>\n",
       "\t<tr><td>193</td><td>6</td></tr>\n",
       "\t<tr><td>194</td><td>1</td></tr>\n",
       "\t<tr><td>195</td><td>3</td></tr>\n",
       "\t<tr><td>196</td><td>5</td></tr>\n",
       "\t<tr><td>197</td><td>3</td></tr>\n",
       "\t<tr><td>198</td><td>6</td></tr>\n",
       "\t<tr><td>199</td><td>1</td></tr>\n",
       "\t<tr><td>200</td><td>2</td></tr>\n",
       "</tbody>\n",
       "</table>\n"
      ],
      "text/latex": [
       "A data.frame: 200 × 2\n",
       "\\begin{tabular}{ll}\n",
       " num\\_direct\\_runtime\\_deps & count\\\\\n",
       " <fct> & <int>\\\\\n",
       "\\hline\n",
       "\t 0  & 1154803\\\\\n",
       "\t 1  &  358991\\\\\n",
       "\t 2  &  245857\\\\\n",
       "\t 3  &  200006\\\\\n",
       "\t 4  &  142424\\\\\n",
       "\t 5  &   99373\\\\\n",
       "\t 6  &   75053\\\\\n",
       "\t 7  &   61364\\\\\n",
       "\t 8  &   50939\\\\\n",
       "\t 9  &   38263\\\\\n",
       "\t 10 &   29758\\\\\n",
       "\t 11 &   26297\\\\\n",
       "\t 12 &   24246\\\\\n",
       "\t 13 &   18839\\\\\n",
       "\t 14 &   15368\\\\\n",
       "\t 15 &   13051\\\\\n",
       "\t 16 &   10868\\\\\n",
       "\t 17 &    9105\\\\\n",
       "\t 18 &    7697\\\\\n",
       "\t 19 &    6731\\\\\n",
       "\t 20 &    6096\\\\\n",
       "\t 21 &    5336\\\\\n",
       "\t 22 &    4662\\\\\n",
       "\t 23 &    4226\\\\\n",
       "\t 24 &    3588\\\\\n",
       "\t 25 &    3450\\\\\n",
       "\t 26 &    2960\\\\\n",
       "\t 27 &    2598\\\\\n",
       "\t 28 &    2367\\\\\n",
       "\t 29 &    2159\\\\\n",
       "\t ⋮ & ⋮\\\\\n",
       "\t 171 & 5\\\\\n",
       "\t 172 & 7\\\\\n",
       "\t 173 & 2\\\\\n",
       "\t 174 & 1\\\\\n",
       "\t 175 & 6\\\\\n",
       "\t 176 & 2\\\\\n",
       "\t 177 & 3\\\\\n",
       "\t 178 & 3\\\\\n",
       "\t 179 & 7\\\\\n",
       "\t 180 & 1\\\\\n",
       "\t 181 & 5\\\\\n",
       "\t 182 & 3\\\\\n",
       "\t 183 & 4\\\\\n",
       "\t 184 & 3\\\\\n",
       "\t 185 & 8\\\\\n",
       "\t 186 & 1\\\\\n",
       "\t 187 & 3\\\\\n",
       "\t 188 & 6\\\\\n",
       "\t 189 & 7\\\\\n",
       "\t 190 & 2\\\\\n",
       "\t 191 & 3\\\\\n",
       "\t 192 & 5\\\\\n",
       "\t 193 & 6\\\\\n",
       "\t 194 & 1\\\\\n",
       "\t 195 & 3\\\\\n",
       "\t 196 & 5\\\\\n",
       "\t 197 & 3\\\\\n",
       "\t 198 & 6\\\\\n",
       "\t 199 & 1\\\\\n",
       "\t 200 & 2\\\\\n",
       "\\end{tabular}\n"
      ],
      "text/markdown": [
       "\n",
       "A data.frame: 200 × 2\n",
       "\n",
       "| num_direct_runtime_deps &lt;fct&gt; | count &lt;int&gt; |\n",
       "|---|---|\n",
       "| 0  | 1154803 |\n",
       "| 1  |  358991 |\n",
       "| 2  |  245857 |\n",
       "| 3  |  200006 |\n",
       "| 4  |  142424 |\n",
       "| 5  |   99373 |\n",
       "| 6  |   75053 |\n",
       "| 7  |   61364 |\n",
       "| 8  |   50939 |\n",
       "| 9  |   38263 |\n",
       "| 10 |   29758 |\n",
       "| 11 |   26297 |\n",
       "| 12 |   24246 |\n",
       "| 13 |   18839 |\n",
       "| 14 |   15368 |\n",
       "| 15 |   13051 |\n",
       "| 16 |   10868 |\n",
       "| 17 |    9105 |\n",
       "| 18 |    7697 |\n",
       "| 19 |    6731 |\n",
       "| 20 |    6096 |\n",
       "| 21 |    5336 |\n",
       "| 22 |    4662 |\n",
       "| 23 |    4226 |\n",
       "| 24 |    3588 |\n",
       "| 25 |    3450 |\n",
       "| 26 |    2960 |\n",
       "| 27 |    2598 |\n",
       "| 28 |    2367 |\n",
       "| 29 |    2159 |\n",
       "| ⋮ | ⋮ |\n",
       "| 171 | 5 |\n",
       "| 172 | 7 |\n",
       "| 173 | 2 |\n",
       "| 174 | 1 |\n",
       "| 175 | 6 |\n",
       "| 176 | 2 |\n",
       "| 177 | 3 |\n",
       "| 178 | 3 |\n",
       "| 179 | 7 |\n",
       "| 180 | 1 |\n",
       "| 181 | 5 |\n",
       "| 182 | 3 |\n",
       "| 183 | 4 |\n",
       "| 184 | 3 |\n",
       "| 185 | 8 |\n",
       "| 186 | 1 |\n",
       "| 187 | 3 |\n",
       "| 188 | 6 |\n",
       "| 189 | 7 |\n",
       "| 190 | 2 |\n",
       "| 191 | 3 |\n",
       "| 192 | 5 |\n",
       "| 193 | 6 |\n",
       "| 194 | 1 |\n",
       "| 195 | 3 |\n",
       "| 196 | 5 |\n",
       "| 197 | 3 |\n",
       "| 198 | 6 |\n",
       "| 199 | 1 |\n",
       "| 200 | 2 |\n",
       "\n"
      ],
      "text/plain": [
       "    num_direct_runtime_deps count  \n",
       "1   0                       1154803\n",
       "2   1                        358991\n",
       "3   2                        245857\n",
       "4   3                        200006\n",
       "5   4                        142424\n",
       "6   5                         99373\n",
       "7   6                         75053\n",
       "8   7                         61364\n",
       "9   8                         50939\n",
       "10  9                         38263\n",
       "11  10                        29758\n",
       "12  11                        26297\n",
       "13  12                        24246\n",
       "14  13                        18839\n",
       "15  14                        15368\n",
       "16  15                        13051\n",
       "17  16                        10868\n",
       "18  17                         9105\n",
       "19  18                         7697\n",
       "20  19                         6731\n",
       "21  20                         6096\n",
       "22  21                         5336\n",
       "23  22                         4662\n",
       "24  23                         4226\n",
       "25  24                         3588\n",
       "26  25                         3450\n",
       "27  26                         2960\n",
       "28  27                         2598\n",
       "29  28                         2367\n",
       "30  29                         2159\n",
       "⋮   ⋮                       ⋮      \n",
       "171 171                     5      \n",
       "172 172                     7      \n",
       "173 173                     2      \n",
       "174 174                     1      \n",
       "175 175                     6      \n",
       "176 176                     2      \n",
       "177 177                     3      \n",
       "178 178                     3      \n",
       "179 179                     7      \n",
       "180 180                     1      \n",
       "181 181                     5      \n",
       "182 182                     3      \n",
       "183 183                     4      \n",
       "184 184                     3      \n",
       "185 185                     8      \n",
       "186 186                     1      \n",
       "187 187                     3      \n",
       "188 188                     6      \n",
       "189 189                     7      \n",
       "190 190                     2      \n",
       "191 191                     3      \n",
       "192 192                     5      \n",
       "193 193                     6      \n",
       "194 194                     1      \n",
       "195 195                     3      \n",
       "196 196                     5      \n",
       "197 197                     3      \n",
       "198 198                     6      \n",
       "199 199                     1      \n",
       "200 200                     2      "
      ]
     },
     "metadata": {},
     "output_type": "display_data"
    }
   ],
   "source": [
    "num_direct_runtime_deps"
   ]
  },
  {
   "cell_type": "code",
   "execution_count": 76,
   "metadata": {},
   "outputs": [
    {
     "data": {
      "image/png": "[encoded data removed]",
      "text/plain": [
       "plot without title"
      ]
     },
     "metadata": {
      "image/png": {
       "height": 420,
       "width": 420
      }
     },
     "output_type": "display_data"
    }
   ],
   "source": [
    "ggplot(num_direct_runtime_deps, aes(x = num_direct_runtime_deps, y = count)) +\n",
    "    geom_bar(stat = 'identity') +\n",
    "    labs(x = 'Number of Direct Runtime Dependencies', y = 'Number of Packages') +\n",
    "    theme_bw() +\n",
    "    theme(\n",
    "        axis.text.x = element_text(angle = 90, hjust = 1)\n",
    "    )\n",
    "\n"
   ]
  }
 ],
 "metadata": {
  "kernelspec": {
   "display_name": "R",
   "language": "R",
   "name": "ir"
  },
  "language_info": {
   "codemirror_mode": "r",
   "file_extension": ".r",
   "mimetype": "text/x-r-source",
   "name": "R",
   "pygments_lexer": "r",
   "version": "4.2.2"
  }
 },
 "nbformat": 4,
 "nbformat_minor": 2
}
