{
    "cells": [
        {
            "cell_type": "markdown",
            "metadata": {},
            "source": [
                "# Load Libraries"
            ]
        },
        {
            "cell_type": "code",
            "execution_count": 2,
            "metadata": {
                "vscode": {
                    "languageId": "r"
                }
            },
            "outputs": [
                {
                    "name": "stderr",
                    "output_type": "stream",
                    "text": [
                        "Installing package into ‘/home/elleven/R/x86_64-pc-linux-gnu-library/4.2’\n",
                        "(as ‘lib’ is unspecified)\n",
                        "\n",
                        "Installing package into ‘/home/elleven/R/x86_64-pc-linux-gnu-library/4.2’\n",
                        "(as ‘lib’ is unspecified)\n",
                        "\n",
                        "also installing the dependencies ‘tinytex’, ‘rmarkdown’, ‘reprex’\n",
                        "\n",
                        "\n"
                    ]
                }
            ],
            "source": [
                "# Install RPostgres if needed:\n",
                "#install.packages(\"RPostgres\")\n",
                "#install.packages(\"tidyverse\")"
            ]
        },
        {
            "cell_type": "code",
            "execution_count": 1,
            "metadata": {
                "vscode": {
                    "languageId": "r"
                }
            },
            "outputs": [
                {
                    "name": "stderr",
                    "output_type": "stream",
                    "text": [
                        "\n",
                        "Attaching package: ‘dplyr’\n",
                        "\n",
                        "\n",
                        "The following objects are masked from ‘package:stats’:\n",
                        "\n",
                        "    filter, lag\n",
                        "\n",
                        "\n",
                        "The following objects are masked from ‘package:base’:\n",
                        "\n",
                        "    intersect, setdiff, setequal, union\n",
                        "\n",
                        "\n"
                    ]
                }
            ],
            "source": [
                "library(DBI)\n",
                "library(ggplot2)\n",
                "library(dplyr)"
            ]
        },
        {
            "cell_type": "markdown",
            "metadata": {},
            "source": [
                "# Connect to DB, load data, clean data"
            ]
        },
        {
            "cell_type": "code",
            "execution_count": 2,
            "metadata": {
                "vscode": {
                    "languageId": "r"
                }
            },
            "outputs": [],
            "source": [
                "con <- dbConnect(\n",
                "    RPostgres::Postgres(),\n",
                "    dbname = 'npm_data', \n",
                "    user = 'federico',\n",
                "    host = '127.0.0.1'\n",
                ")"
            ]
        },
        {
            "cell_type": "code",
            "execution_count": 3,
            "metadata": {
                "vscode": {
                    "languageId": "r"
                }
            },
            "outputs": [],
            "source": [
                "bug_type_count <- dbGetQuery(con, \"\n",
                "    select count(*) from metadata_analysis.all_updates where ty = 'bug'\n",
                "\")\n",
                "minor_type_count <- dbGetQuery(con, \"\n",
                "    select count(*) from metadata_analysis.all_updates where ty = 'minor'\n",
                "\")\n",
                "major_type_count <- dbGetQuery(con, \"\n",
                "    select count(*) from metadata_analysis.all_updates where ty = 'major'\n",
                "\")"
            ]
        },
        {
            "cell_type": "code",
            "execution_count": 6,
            "metadata": {},
            "outputs": [
                {
                    "data": {
                        "text/plain": [
                            "integer64\n",
                            "[1] 13435294"
                        ]
                    },
                    "metadata": {},
                    "output_type": "display_data"
                },
                {
                    "data": {
                        "text/plain": [
                            "integer64\n",
                            "[1] 2622485"
                        ]
                    },
                    "metadata": {},
                    "output_type": "display_data"
                },
                {
                    "data": {
                        "text/plain": [
                            "integer64\n",
                            "[1] 489874"
                        ]
                    },
                    "metadata": {},
                    "output_type": "display_data"
                }
            ],
            "source": [
                "bug_type_count <- bug_type_count[[1]]\n",
                "minor_type_count <- minor_type_count[[1]]\n",
                "major_type_count <- major_type_count[[1]]\n",
                "total_count <- bug_type_count + minor_type_count + major_type_count\n",
                "\n",
                "bug_type_count\n",
                "minor_type_count\n",
                "major_type_count"
            ]
        },
        {
            "cell_type": "code",
            "execution_count": 7,
            "metadata": {},
            "outputs": [],
            "source": [
                "bug_type_freq <- bug_type_count / total_count\n",
                "minor_type_freq <- minor_type_count / total_count\n",
                "major_type_freq <- major_type_count / total_count\n",
                "\n",
                "df <- data.frame(\n",
                "    type = c('bug', 'minor', 'major'),\n",
                "    freq = c(bug_type_freq, minor_type_freq, major_type_freq)\n",
                ")"
            ]
        },
        {
            "cell_type": "code",
            "execution_count": 8,
            "metadata": {},
            "outputs": [
                {
                    "data": {
                        "image/png": "[encoded data removed]",
                        "text/plain": [
                            "plot without title"
                        ]
                    },
                    "metadata": {
                        "image/png": {
                            "height": 420,
                            "width": 420
                        }
                    },
                    "output_type": "display_data"
                }
            ],
            "source": [
                "ggplot(df, aes(x = type, y = freq)) +\n",
                "    geom_bar(stat = 'identity') +\n",
                "    labs(\n",
                "        title = 'Frequency of update types',\n",
                "        x = 'Update type',\n",
                "        y = 'Frequency'\n",
                "    )\n"
            ]
        }
    ],
    "metadata": {
        "kernelspec": {
            "display_name": "R",
            "language": "R",
            "name": "ir"
        },
        "language_info": {
            "codemirror_mode": "r",
            "file_extension": ".r",
            "mimetype": "text/x-r-source",
            "name": "R",
            "pygments_lexer": "r",
            "version": "4.2.2"
        }
    },
    "nbformat": 4,
    "nbformat_minor": 2
}